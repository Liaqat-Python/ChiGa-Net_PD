{
 "cells": [
  {
   "cell_type": "code",
   "execution_count": 1,
   "metadata": {
    "executionInfo": {
     "elapsed": 1396,
     "status": "ok",
     "timestamp": 1683888345620,
     "user": {
      "displayName": "Liaqat Ali",
      "userId": "05679016512873117773"
     },
     "user_tz": -300
    },
    "id": "NUBs6pCzH6M2"
   },
   "outputs": [],
   "source": [
    "#Compare Algorithms\n",
    "#from sklearnex import patch_sklearn\n",
    "#patch_sklearn()\n",
    "\n",
    "import numpy\n",
    "import pandas as pd\n",
    "import matplotlib.pyplot as plt\n",
    "from sklearn import model_selection\n",
    "from sklearn.linear_model import LogisticRegression\n",
    "from sklearn.tree import DecisionTreeClassifier\n",
    "from sklearn.neighbors import KNeighborsClassifier\n",
    "from sklearn.discriminant_analysis import LinearDiscriminantAnalysis \n",
    "from sklearn.naive_bayes import GaussianNB\n",
    "from sklearn.svm import SVC\n",
    "from sklearn.ensemble import RandomForestClassifier\n",
    "from sklearn.ensemble import ExtraTreesClassifier\n",
    "from sklearn.svm import LinearSVC\n",
    "from sklearn.metrics import confusion_matrix\n",
    "from sklearn.neural_network import MLPClassifier\n",
    "from sklearn.ensemble import AdaBoostClassifier\n",
    "from sklearn.feature_selection import SelectFromModel\n",
    "from sklearn.metrics import accuracy_score\n",
    "from sklearn.feature_selection import SelectKBest\n",
    "from sklearn.feature_selection import chi2\n",
    "from imblearn.under_sampling import RandomUnderSampler\n",
    "from imblearn.over_sampling import SMOTE # doctest: +NORMALIZE_WHITESPACE\n",
    "# fix random seed for reproducibility\n",
    "import itertools\n",
    "from sklearn.model_selection import KFold\n",
    "import numpy as np\n",
    "\n",
    "from sklearn.metrics import confusion_matrix, ConfusionMatrixDisplay\n",
    "import seaborn as sns\n",
    "from sklearn_genetic import GASearchCV\n",
    "from sklearn_genetic.space import Continuous, Categorical, Integer\n",
    "from sklearn_genetic.plots import plot_fitness_evolution, plot_search_space\n",
    "from sklearn.model_selection import cross_val_score\n",
    "from sklearn.metrics import matthews_corrcoef\n",
    "\n",
    "import warnings\n",
    "warnings.filterwarnings(\"ignore\")\n",
    "numpy.random.seed(7)"
   ]
  },
  {
   "cell_type": "code",
   "execution_count": 2,
   "metadata": {
    "colab": {
     "base_uri": "https://localhost:8080/",
     "height": 73
    },
    "executionInfo": {
     "elapsed": 28545,
     "status": "ok",
     "timestamp": 1683888445018,
     "user": {
      "displayName": "Liaqat Ali",
      "userId": "05679016512873117773"
     },
     "user_tz": -300
    },
    "id": "RbJ5J9DmIoTh",
    "outputId": "ad316612-02ab-45c7-a141-091ce12da4e5"
   },
   "outputs": [],
   "source": [
    "df_Meander = pd.read_csv('C:/Users/Liaqat Ali/Documents/ChiGaNet/NewMeander.csv')\n",
    "df_spiral = pd.read_csv('C:/Users/Liaqat Ali/Documents/ChiGaNet/NewSpiral.csv')"
   ]
  },
  {
   "cell_type": "code",
   "execution_count": 3,
   "metadata": {
    "colab": {
     "base_uri": "https://localhost:8080/"
    },
    "executionInfo": {
     "elapsed": 26,
     "status": "ok",
     "timestamp": 1683888471531,
     "user": {
      "displayName": "Liaqat Ali",
      "userId": "05679016512873117773"
     },
     "user_tz": -300
    },
    "id": "cJTFxOkLH6M9",
    "outputId": "e4507afd-8034-426d-e4a6-676c52ad4c4d",
    "scrolled": true
   },
   "outputs": [
    {
     "name": "stdout",
     "output_type": "stream",
     "text": [
      "Index(['_ID_EXAM', 'IMAGE_NAME', 'ID_PATIENT', 'CLASS_TYPE', 'GENDER',\n",
      "       'RIGH/LEFT-HANDED', 'AGE', 'RMS', 'MAX_BETWEEN_ET_HT',\n",
      "       'MIN_BETWEEN_ET_HT', 'STD_DEVIATION_ET_HT', 'MRT', 'MAX_HT', 'MIN_HT',\n",
      "       'STD_HT', 'CHANGES_FROM_NEGATIVE_TO_POSITIVE_BETWEEN_ET_HT'],\n",
      "      dtype='object')\n",
      "Index(['_ID_EXAM', 'IMAGE_NAME', 'ID_PATIENT', 'CLASS_TYPE', 'GENDER',\n",
      "       'RIGH/LEFT-HANDED', 'AGE', 'RMS', 'MAX_BETWEEN_ET_HT',\n",
      "       'MIN_BETWEEN_ET_HT', 'STD_DEVIATION_ET_HT', 'MRT', 'MAX_HT', 'MIN_HT',\n",
      "       'STD_HT', 'CHANGES_FROM_NEGATIVE_TO_POSITIVE_BETWEEN_ET_HT'],\n",
      "      dtype='object')\n",
      "(264, 16)\n",
      "(264, 16)\n"
     ]
    }
   ],
   "source": [
    "print(df_spiral.columns)\n",
    "print(df_Meander.columns)\n",
    "print(df_spiral.shape)\n",
    "print(df_Meander.shape)"
   ]
  },
  {
   "cell_type": "code",
   "execution_count": 4,
   "metadata": {
    "colab": {
     "base_uri": "https://localhost:8080/"
    },
    "executionInfo": {
     "elapsed": 4,
     "status": "ok",
     "timestamp": 1683888472105,
     "user": {
      "displayName": "Liaqat Ali",
      "userId": "05679016512873117773"
     },
     "user_tz": -300
    },
    "id": "uLnlDN_GH6NA",
    "outputId": "f4464c50-8da8-4eeb-9e3f-9bfba5c69fb4"
   },
   "outputs": [
    {
     "name": "stdout",
     "output_type": "stream",
     "text": [
      "0      1\n",
      "1      1\n",
      "2      1\n",
      "3      1\n",
      "4      1\n",
      "      ..\n",
      "259    2\n",
      "260    2\n",
      "261    2\n",
      "262    2\n",
      "263    2\n",
      "Name: CLASS_TYPE, Length: 264, dtype: int64\n",
      "0      0\n",
      "1      0\n",
      "2      0\n",
      "3      0\n",
      "4      0\n",
      "      ..\n",
      "259    1\n",
      "260    1\n",
      "261    1\n",
      "262    1\n",
      "263    1\n",
      "Name: CLASS_TYPE, Length: 264, dtype: int64\n",
      "0      0\n",
      "1      0\n",
      "2      0\n",
      "3      0\n",
      "4      0\n",
      "      ..\n",
      "259    1\n",
      "260    1\n",
      "261    1\n",
      "262    1\n",
      "263    1\n",
      "Name: CLASS_TYPE, Length: 264, dtype: int64\n"
     ]
    }
   ],
   "source": [
    "Y_df_S = df_spiral.iloc[:,3]\n",
    "Y_df_M = df_Meander.iloc[:,3]\n",
    "print(Y_df_S)\n",
    "Y_df_S = Y_df_S.replace(1, 0)    #We need to replace the 1 value by 0 as there are two values 1 (healthy), 2(patient)\n",
    "Y_df_M = Y_df_M.replace(1, 0)\n",
    "\n",
    "Y_df_S = Y_df_S.replace(2, 1)   #We need to replace the 2 value by 1\n",
    "Y_df_M = Y_df_M.replace(2, 1)\n",
    "print(Y_df_S)\n",
    "print(Y_df_M)"
   ]
  },
  {
   "cell_type": "code",
   "execution_count": 5,
   "metadata": {
    "colab": {
     "base_uri": "https://localhost:8080/"
    },
    "executionInfo": {
     "elapsed": 5,
     "status": "ok",
     "timestamp": 1683888473355,
     "user": {
      "displayName": "Liaqat Ali",
      "userId": "05679016512873117773"
     },
     "user_tz": -300
    },
    "id": "kLGWhgCxH6NC",
    "outputId": "56afceb3-9d3c-467d-a02d-343f12bd2da9"
   },
   "outputs": [
    {
     "name": "stdout",
     "output_type": "stream",
     "text": [
      "Index(['RMS', 'MAX_BETWEEN_ET_HT', 'MIN_BETWEEN_ET_HT', 'STD_DEVIATION_ET_HT',\n",
      "       'MRT', 'MAX_HT', 'MIN_HT', 'STD_HT',\n",
      "       'CHANGES_FROM_NEGATIVE_TO_POSITIVE_BETWEEN_ET_HT'],\n",
      "      dtype='object')\n",
      "Index(['RMS', 'MAX_BETWEEN_ET_HT', 'MIN_BETWEEN_ET_HT', 'STD_DEVIATION_ET_HT',\n",
      "       'MRT', 'MAX_HT', 'MIN_HT', 'STD_HT',\n",
      "       'CHANGES_FROM_NEGATIVE_TO_POSITIVE_BETWEEN_ET_HT'],\n",
      "      dtype='object')\n",
      "(264, 9)\n",
      "(264, 9)\n",
      "(264,)\n",
      "(264,)\n"
     ]
    }
   ],
   "source": [
    "#df_spiral = df_spiral.drop('_ID_EXAM', 1) \n",
    "X_df_S = df_spiral.iloc[:, 7:16]\n",
    "X_df_M = df_Meander.iloc[:, 7:16]\n",
    "print(X_df_S.columns)\n",
    "print(X_df_M.columns)\n",
    "print(X_df_S.shape)\n",
    "print(X_df_M.shape)\n",
    "print(Y_df_S.shape)\n",
    "print(Y_df_M.shape)"
   ]
  },
  {
   "cell_type": "code",
   "execution_count": 6,
   "metadata": {
    "colab": {
     "base_uri": "https://localhost:8080/"
    },
    "executionInfo": {
     "elapsed": 17,
     "status": "ok",
     "timestamp": 1683888474692,
     "user": {
      "displayName": "Liaqat Ali",
      "userId": "05679016512873117773"
     },
     "user_tz": -300
    },
    "id": "N_J8OXbbH6ND",
    "outputId": "5a0d97f1-bb21-4b94-991b-8321e6a5b48d"
   },
   "outputs": [
    {
     "name": "stdout",
     "output_type": "stream",
     "text": [
      "(264, 9)\n",
      "(264, 9)\n",
      "(264,)\n",
      "(264,)\n",
      "[0 0 0 0 0 0 0 0 0 0 0 0 0 0 0 0 0 0 0 0 0 0 0 0 0 0 0 0 0 0 0 0 0 0 0 0 0\n",
      " 0 0 0 0 0 0 0 0 0 0 0 0 0 0 0 0 0 0 0 0 0 0 0 0 0 0 0 0 0 0 0 0 0 0 0 0 0\n",
      " 0 0 0 0 0 0 0 0 0 0 0 0 0 0 0 0 0 0 0 0 0 0 0 0 0 0 0 0 0 0 0 0 0 0 0 0 0\n",
      " 0 0 0 0 0 0 0 0 0 0 0 0 0 0 0 0 0 0 0 0 0 0 0 0 0 0 0 0 0 1 1 1 1 1 1 1 1\n",
      " 1 1 1 1 1 1 1 1 1 1 1 1 1 1 1 1 1 1 1 1 1 1 1 1 1 1 1 1 1 1 1 1 1 1 1 1 1\n",
      " 1 1 1 1 1 1 1 1 1 1 1 1 1 1 1 1 1 1 1 1 1 1 1 1 1 1 1 1 1 1 1 1 1 1 1 1 1\n",
      " 1 1 1 1 1 1 1 1 1 1 1 1 1 1 1 1 1 1 1 1 1 1 1 1 1 1 1 1 1 1 1 1 1 1 1 1 1\n",
      " 1 1 1 1 1]\n"
     ]
    }
   ],
   "source": [
    "X_S = numpy.array(X_df_S)\n",
    "X_M = numpy.array(X_df_M)\n",
    "Y_S = numpy.array(Y_df_S)\n",
    "Y_M = numpy.array(Y_df_M)\n",
    "\n",
    "print(X_S.shape)\n",
    "print(X_M.shape)\n",
    "print(Y_S.shape)\n",
    "print(Y_M.shape)\n",
    "print(Y_S)"
   ]
  },
  {
   "cell_type": "markdown",
   "metadata": {
    "id": "JP86D9ZtH6NE"
   },
   "source": [
    "# ChiGa-Net Spiral Drawings "
   ]
  },
  {
   "cell_type": "code",
   "execution_count": 7,
   "metadata": {},
   "outputs": [],
   "source": [
    "global opt_rslt_nn\n",
    "global opt_alpha \n",
    "global opt_n1 \n",
    "global opt_n2 \n",
    "global opt_k_nn\n",
    "\n",
    "opt_rslt_nn = 0\n",
    "opt_alpha = 0\n",
    "opt_n1 = 0\n",
    "opt_n2 = 0\n",
    "opt_k_nn = 0\n",
    "\n",
    "def mig_net(x_tr, y_tr, k):\n",
    "\t# create model\n",
    "  global opt_rslt_nn\n",
    "  global opt_alpha \n",
    "  global opt_n1 \n",
    "  global opt_n2 \n",
    "  global opt_k_nn\n",
    "    \n",
    "  clf = MLPClassifier( random_state=42)\n",
    "  x = range(1,31)\n",
    "  #param_grid= {'gamma': Continuous(0.0001, 1000, distribution='log-uniform'),'C': Continuous(0.0001, 1000, distribution='log-uniform')}\n",
    "  param_grid = {\n",
    "        \"hidden_layer_sizes\": Categorical(list(itertools.combinations(x, 2))),\n",
    "        \"alpha\": Categorical([1e-5, 1e-4, 1e-3, 1e-2, 1e-1]),\n",
    "        \"solver\": Categorical(['lbfgs'])\n",
    "    }\n",
    "  cv = KFold(n_splits=66)\n",
    "\n",
    "  evolved_estimator = GASearchCV(estimator=clf,\n",
    "                               cv=cv,\n",
    "                               scoring='accuracy',\n",
    "                               population_size=30,\n",
    "                               generations=25,\n",
    "                               tournament_size=3,\n",
    "                               elitism=True,\n",
    "                               crossover_probability=0.8,\n",
    "                               mutation_probability=0.1,\n",
    "                               param_grid=param_grid,\n",
    "                               criteria='max',\n",
    "                               algorithm='eaMuPlusLambda',\n",
    "                               n_jobs=-1,\n",
    "                               verbose=False,\n",
    "                               keep_top_k=4)\n",
    "    \n",
    "    \n",
    "  evolved_estimator.fit(x_tr, y_tr)  # Make sure x_tr and y_tr passed to the function are already balanced\n",
    "  if evolved_estimator.best_score_ >= opt_rslt_nn:\n",
    "    opt_rslt_nn = evolved_estimator.best_score_\n",
    "    best_params = evolved_estimator.best_params_\n",
    "    opt_n1, opt_n2 = best_params['hidden_layer_sizes']\n",
    "    opt_alpha = best_params['alpha']\n",
    "    #opt_gamma = opt_para[0][0] #Optimal HP is recorded, we can use it later in next stage to evaluate testing results\n",
    "    #opt_c_rbf = opt_para[0][1]     #Optimal HP is recorded, we can use it later in next stage to evaluate testing results\n",
    "    print(opt_n1, opt_n2)\n",
    "    print(opt_alpha)\n",
    "    opt_k_nn = k  #Optimal Subset of Features is recorded, we can use it later in next stage to evaluate testing results\n",
    "  return evolved_estimator.best_params_"
   ]
  },
  {
   "cell_type": "code",
   "execution_count": 8,
   "metadata": {},
   "outputs": [
    {
     "name": "stdout",
     "output_type": "stream",
     "text": [
      "[ True False False False False False False False False]\n",
      "7 17\n",
      "0.001\n",
      "[ True False False False False False False  True False]\n",
      "[ True  True False False False False False  True False]\n",
      "14 23\n",
      "0.01\n",
      "[ True  True False False  True False False  True False]\n",
      "[ True  True False  True  True False False  True False]\n",
      "[ True  True  True  True  True False False  True False]\n",
      "[ True  True  True  True  True False  True  True False]\n",
      "[ True  True  True  True  True  True  True  True False]\n",
      "[ True  True  True  True  True  True  True  True  True]\n"
     ]
    }
   ],
   "source": [
    "opt_hyp = []\n",
    "K = range(1, 10)\n",
    "for k in K:\n",
    "    model_FS = SelectKBest(chi2, k=k)\n",
    "    model_FS.fit(X_S, Y_S)\n",
    "    X_S_FS = model_FS.transform(X_S)\n",
    "    #X_Test_bal_new = model_FS.transform(X_Testing_features_flatten_all)\n",
    "    S1=model_FS.get_support()\n",
    "    print(S1)\n",
    "    \n",
    "    \n",
    "    hyp = mig_net(X_S_FS, Y_S, k)\n",
    "    opt_hyp.append(hyp)\n",
    "    #print(\"Values in the opt_hyp list are = \", opt_hyp)\n"
   ]
  },
  {
   "cell_type": "code",
   "execution_count": 9,
   "metadata": {},
   "outputs": [
    {
     "name": "stdout",
     "output_type": "stream",
     "text": [
      "Done\n"
     ]
    }
   ],
   "source": [
    "print('Done')"
   ]
  },
  {
   "cell_type": "code",
   "execution_count": 10,
   "metadata": {},
   "outputs": [
    {
     "name": "stdout",
     "output_type": "stream",
     "text": [
      "14 23\n",
      "0.01\n",
      "3\n"
     ]
    }
   ],
   "source": [
    "print(opt_n1, opt_n2)\n",
    "print(opt_alpha)\n",
    "print(opt_k_nn)"
   ]
  },
  {
   "cell_type": "code",
   "execution_count": 11,
   "metadata": {
    "colab": {
     "background_save": true,
     "base_uri": "https://localhost:8080/"
    },
    "id": "UeOMwdzcH6NH"
   },
   "outputs": [
    {
     "name": "stdout",
     "output_type": "stream",
     "text": [
      "[ True  True False False False False False  True False]\n",
      "Size of Selected Features = (264, 3)\n",
      "Best Sub Acc ================ 100.0\n",
      "Avg folds or samples Acc = 1.0\n",
      "Sen = 100.0\n",
      "Spec = 100.0\n",
      "Alpha = 0.01 N1 = 14 N2 = 23\n",
      "Features Size = (264, 3)\n"
     ]
    }
   ],
   "source": [
    "#K_list = range(1, 10)\n",
    "#for K in K_list:\n",
    "model_FS = SelectKBest(chi2, k=opt_k_nn)\n",
    "model_FS.fit(X_S,Y_S)\n",
    "X_FS = model_FS.transform(X_S)\n",
    "S1=model_FS.get_support()\n",
    "print(S1)\n",
    "print(\"Size of Selected Features =\", X_FS.shape)\n",
    "    \n",
    "    \n",
    "Best_Acc=0\n",
    "TP=0\n",
    "TN=0\n",
    "FP=0\n",
    "FN=0\n",
    "j=1\n",
    "lb=0\n",
    "ub=4\n",
    "cor_class=0\n",
    "Net_folds_Acc = 0\n",
    "while j<=66:\n",
    "\n",
    "    Y_test = Y_S[range(lb,ub)]\n",
    "    Y_train = numpy.delete(Y_S, range(lb,ub), 0)\n",
    "\n",
    "    X_test = X_FS[range(lb,ub)]\n",
    "    X_train = numpy.delete(X_FS, range(lb,ub), 0)\n",
    "\n",
    "\n",
    "    model =  MLPClassifier(solver='lbfgs', alpha=opt_alpha, hidden_layer_sizes=(opt_n1, opt_n2, ), random_state=42)\n",
    "   \n",
    "\n",
    "    model.fit(X_train, Y_train)\n",
    "    Y_pred = model.predict(X_test)\n",
    "    scores = accuracy_score(Y_test, Y_pred)\n",
    "    Net_folds_Acc = Net_folds_Acc+scores\n",
    "    #Below condition for negative class\n",
    "    if Y_test.sum()==0:\n",
    "        if scores>=0.5:\n",
    "            cor_class = cor_class+1\n",
    "            TN=TN+1\n",
    "    #Below condition for postiive class\n",
    "    if Y_test.sum() != 0:\n",
    "        if scores>0.5:\n",
    "            cor_class = cor_class+1\n",
    "            TP=TP+1\n",
    "    \n",
    "    lb = lb+4\n",
    "    ub = ub+4\n",
    "    j=j+1\n",
    "LOSO_Sub_Acc = (cor_class*100)/66\n",
    "FN = 31-TP\n",
    "FP = 35-TN\n",
    "if (LOSO_Sub_Acc>=Best_Acc):\n",
    "    Best_Acc = LOSO_Sub_Acc\n",
    "    print(\"Best Sub Acc ================\", Best_Acc)\n",
    "    print(\"Avg folds or samples Acc =\", Net_folds_Acc/66)\n",
    "    print(\"Sen =\", (TP/31)*100)\n",
    "    print(\"Spec =\", (TN/35)*100)\n",
    "    print(\"Alpha =\", opt_alpha, \"N1 =\", opt_n1, \"N2 =\", opt_n2)\n",
    "    print(\"Features Size =\", X_FS.shape)\n",
    "    "
   ]
  },
  {
   "cell_type": "code",
   "execution_count": 12,
   "metadata": {
    "id": "qi_SZeH-H6NK",
    "outputId": "fc9f6348-3d5a-4bbf-d7d9-07a00be643b6"
   },
   "outputs": [
    {
     "name": "stdout",
     "output_type": "stream",
     "text": [
      "Done\n"
     ]
    }
   ],
   "source": [
    "print(\"Done\")"
   ]
  },
  {
   "cell_type": "markdown",
   "metadata": {},
   "source": [
    "# External Validation Spirals"
   ]
  },
  {
   "cell_type": "code",
   "execution_count": 13,
   "metadata": {},
   "outputs": [],
   "source": [
    "df_Meander_hout = pd.read_csv('C:/Users/Liaqat Ali/Documents/ChiGaNet/Meander_HandPD.csv')\n",
    "df_spiral_hout = pd.read_csv('C:/Users/Liaqat Ali/Documents/ChiGaNet/Spiral_HandPD.csv')"
   ]
  },
  {
   "cell_type": "code",
   "execution_count": 14,
   "metadata": {},
   "outputs": [
    {
     "name": "stdout",
     "output_type": "stream",
     "text": [
      "0      1\n",
      "1      1\n",
      "2      1\n",
      "3      1\n",
      "4      1\n",
      "      ..\n",
      "363    2\n",
      "364    2\n",
      "365    2\n",
      "366    2\n",
      "367    2\n",
      "Name: CLASS_TYPE, Length: 368, dtype: int64\n",
      "0      0\n",
      "1      0\n",
      "2      0\n",
      "3      0\n",
      "4      0\n",
      "      ..\n",
      "363    1\n",
      "364    1\n",
      "365    1\n",
      "366    1\n",
      "367    1\n",
      "Name: CLASS_TYPE, Length: 368, dtype: int64\n"
     ]
    }
   ],
   "source": [
    "Y_df_S_hout = df_spiral_hout.iloc[:,3]\n",
    "Y_df_M_hout = df_Meander_hout.iloc[:,3]\n",
    "print(Y_df_S_hout)\n",
    "Y_df_S_hout = Y_df_S_hout.replace(1, 0)\n",
    "Y_df_M_hout = Y_df_M_hout.replace(1, 0)\n",
    "\n",
    "Y_df_S_hout = Y_df_S_hout.replace(2, 1)\n",
    "Y_df_M_hout = Y_df_M_hout.replace(2, 1)\n",
    "print(Y_df_S_hout)"
   ]
  },
  {
   "cell_type": "code",
   "execution_count": 15,
   "metadata": {},
   "outputs": [
    {
     "name": "stdout",
     "output_type": "stream",
     "text": [
      "Index(['RMS', 'MAX_BETWEEN_ET_HT', 'MIN_BETWEEN_ET_HT', 'STD_DEVIATION_ET_HT',\n",
      "       'MRT', 'MAX_HT', 'MIN_HT', 'STD_HT',\n",
      "       'CHANGES_FROM_NEGATIVE_TO_POSITIVE_BETWEEN_ET_HT'],\n",
      "      dtype='object')\n",
      "Index(['RMS', 'MAX_BETWEEN_ST_HT', 'MIN_BETWEEN_ST_HT', 'STD_DEVIATION_ST_HT',\n",
      "       'MRT', 'MAX_HT', 'MIN_HT', 'STD_HT',\n",
      "       'CHANGES_FROM_NEGATIVE_TO_POSITIVE_BETWEEN_ST_HT'],\n",
      "      dtype='object')\n",
      "(368, 9)\n",
      "(368, 9)\n",
      "(368,)\n",
      "(368,)\n"
     ]
    }
   ],
   "source": [
    "#df_spiral = df_spiral.drop('_ID_EXAM', 1) \n",
    "X_df_S_hout = df_spiral_hout.iloc[:, 7:16]\n",
    "X_df_M_hout = df_Meander_hout.iloc[:, 7:16]\n",
    "print(X_df_S_hout.columns)\n",
    "print(X_df_M_hout.columns)\n",
    "print(X_df_S_hout.shape)\n",
    "print(X_df_M_hout.shape)\n",
    "print(Y_df_S_hout.shape)\n",
    "print(Y_df_M_hout.shape)"
   ]
  },
  {
   "cell_type": "code",
   "execution_count": 16,
   "metadata": {},
   "outputs": [
    {
     "name": "stdout",
     "output_type": "stream",
     "text": [
      "(368, 9)\n",
      "(368, 9)\n",
      "(368,)\n",
      "(368,)\n",
      "[0 0 0 0 0 0 0 0 0 0 0 0 0 0 0 0 0 0 0 0 0 0 0 0 0 0 0 0 0 0 0 0 0 0 0 0 0\n",
      " 0 0 0 0 0 0 0 0 0 0 0 0 0 0 0 0 0 0 0 0 0 0 0 0 0 0 0 0 0 0 0 0 0 0 0 0 0\n",
      " 0 0 0 0 0 0 0 0 0 0 0 0 0 0 0 0 0 0 0 0 0 0 0 0 0 0 0 0 0 0 0 0 0 0 0 0 0\n",
      " 0 0 0 0 0 0 0 0 0 0 0 0 0 0 0 0 0 0 0 0 0 0 0 0 0 0 0 0 0 1 1 1 1 1 1 1 1\n",
      " 1 1 1 1 1 1 1 1 1 1 1 1 1 1 1 1 1 1 1 1 1 1 1 1 1 1 1 1 1 1 1 1 1 1 1 1 1\n",
      " 1 1 1 1 1 1 1 1 1 1 1 1 1 1 1 1 1 1 1 1 1 1 1 1 1 1 1 1 1 1 1 1 1 1 1 1 1\n",
      " 1 1 1 1 1 1 1 1 1 1 1 1 1 1 1 1 1 1 1 1 1 1 1 1 1 1 1 1 1 1 1 1 1 1 1 1 1\n",
      " 1 1 1 1 1]\n",
      "[0 0 0 0 0 0 0 0 0 0 0 0 0 0 0 0 0 0 0 0 0 0 0 0 0 0 0 0 0 0 0 0 0 0 0 0 0\n",
      " 0 0 0 0 0 0 0 0 0 0 0 0 0 0 0 0 0 0 0 0 0 0 0 0 0 0 0 0 0 0 0 0 0 0 0 1 1\n",
      " 1 1 1 1 1 1 1 1 1 1 1 1 1 1 1 1 1 1 1 1 1 1 1 1 1 1 1 1 1 1 1 1 1 1 1 1 1\n",
      " 1 1 1 1 1 1 1 1 1 1 1 1 1 1 1 1 1 1 1 1 1 1 1 1 1 1 1 1 1 1 1 1 1 1 1 1 1\n",
      " 1 1 1 1 1 1 1 1 1 1 1 1 1 1 1 1 1 1 1 1 1 1 1 1 1 1 1 1 1 1 1 1 1 1 1 1 1\n",
      " 1 1 1 1 1 1 1 1 1 1 1 1 1 1 1 1 1 1 1 1 1 1 1 1 1 1 1 1 1 1 1 1 1 1 1 1 1\n",
      " 1 1 1 1 1 1 1 1 1 1 1 1 1 1 1 1 1 1 1 1 1 1 1 1 1 1 1 1 1 1 1 1 1 1 1 1 1\n",
      " 1 1 1 1 1 1 1 1 1 1 1 1 1 1 1 1 1 1 1 1 1 1 1 1 1 1 1 1 1 1 1 1 1 1 1 1 1\n",
      " 1 1 1 1 1 1 1 1 1 1 1 1 1 1 1 1 1 1 1 1 1 1 1 1 1 1 1 1 1 1 1 1 1 1 1 1 1\n",
      " 1 1 1 1 1 1 1 1 1 1 1 1 1 1 1 1 1 1 1 1 1 1 1 1 1 1 1 1 1 1 1 1 1 1 1]\n"
     ]
    }
   ],
   "source": [
    "X_S_hout = numpy.array(X_df_S_hout)\n",
    "X_M_hout = numpy.array(X_df_M_hout)\n",
    "Y_S_hout = numpy.array(Y_df_S_hout)\n",
    "Y_M_hout = numpy.array(Y_df_M_hout)\n",
    "\n",
    "print(X_S_hout.shape)\n",
    "print(X_M_hout.shape)\n",
    "print(Y_S_hout.shape)\n",
    "print(Y_M_hout.shape)\n",
    "print(Y_M)\n",
    "print(Y_M_hout)"
   ]
  },
  {
   "cell_type": "code",
   "execution_count": 17,
   "metadata": {},
   "outputs": [
    {
     "name": "stdout",
     "output_type": "stream",
     "text": [
      "[ True  True False False False False False  True False]\n",
      "Size of Selected Features = (368, 3)\n",
      "LOSO Ubjects Acc ================ 19.565217391304348\n",
      "Bal Acc ================ 50.0\n",
      "Sen = 0.0\n",
      "Spec = 100.0\n",
      "Features Size = (264, 3)\n"
     ]
    }
   ],
   "source": [
    "#K_list = range(1, 10)\n",
    "#for K in K_list:\n",
    "model_FS = SelectKBest(chi2, k=opt_k_nn)\n",
    "model_FS.fit(X_S,Y_S) #Fit the FS using the main dataset\n",
    "X_FS_S = model_FS.transform(X_S) #Use the fitted model to select opt FSs in in the main data, bcoz will use it to train the mdel\n",
    "X_FS_S_hout = model_FS.transform(X_S_hout) #Use the fitted model to select the same FSs in holdout data as well\n",
    "S1=model_FS.get_support()\n",
    "print(S1)\n",
    "print(\"Size of Selected Features =\", X_FS_S_hout.shape)\n",
    "\n",
    "\n",
    "\n",
    "Sen=0\n",
    "Spec=0\n",
    "TP=0\n",
    "TN=0\n",
    "cor_class=0    \n",
    "Best_Acc=0\n",
    "j=1\n",
    "lb=0\n",
    "ub=4\n",
    "Net_Acc=0\n",
    "while j<=92:\n",
    "\n",
    "    Y_test = Y_S_hout[range(lb,ub)]              #For testing, subject selection from holdout data\n",
    "                                                 #For training, use whole main dataset\n",
    "\n",
    "    X_test = X_FS_S_hout[range(lb,ub)]           #For testing, subject selection from holdout data\n",
    "                                                 #For training, use whole main dataset\n",
    "\n",
    "\n",
    "    #model =  MLPClassifier(solver='lbfgs', alpha=1e-5, hidden_layer_sizes=(node1, node2, ), random_state=1)\n",
    "    model= MLPClassifier(solver='lbfgs', alpha=opt_alpha, hidden_layer_sizes=(opt_n1, opt_n2, ), random_state=42)\n",
    "\n",
    "\n",
    "\n",
    "\n",
    "    model.fit(X_FS_S, Y_S)   #Considing selected features and labels of HandPD dataset\n",
    "    Y_pred = model.predict(X_test)\n",
    "    scores = accuracy_score(Y_test, Y_pred)\n",
    "\n",
    "    #Below condition for negative class\n",
    "    if Y_test.sum()==0:\n",
    "        if scores>=0.5:\n",
    "            cor_class = cor_class+1\n",
    "            TN = TN+1\n",
    "    #Below condition for postiive class\n",
    "    if Y_test.sum() != 0:\n",
    "        if scores>0.5:\n",
    "            cor_class = cor_class+1\n",
    "            TP = TP+1\n",
    "    \n",
    "    lb = lb+4\n",
    "    ub = ub+4\n",
    "    j=j+1\n",
    "LOSO_Sub_Acc = (cor_class*100)/92\n",
    "\n",
    "Sen = (TP/74)*100\n",
    "Spec = (TN/18)*100\n",
    "Best_Acc = LOSO_Sub_Acc\n",
    "print(\"LOSO Ubjects Acc ================\", LOSO_Sub_Acc)\n",
    "print(\"Bal Acc ================\", (Sen+Spec)/2)\n",
    "print(\"Sen =\", Sen)\n",
    "print(\"Spec =\", Spec)\n",
    "print(\"Features Size =\", X_FS_S.shape)\n",
    "    "
   ]
  },
  {
   "cell_type": "code",
   "execution_count": 18,
   "metadata": {},
   "outputs": [
    {
     "name": "stdout",
     "output_type": "stream",
     "text": [
      "[ True  True False False False False False  True False]\n",
      "Size of Selected Features = (368, 3)\n"
     ]
    }
   ],
   "source": [
    "model_FS = SelectKBest(chi2, k=opt_k_nn)\n",
    "model_FS.fit(X_S,Y_S) #Fit the FS using the main dataset\n",
    "X_FS_S = model_FS.transform(X_S) #Use the fitted model to select opt FSs in in the main data, bcoz will use it to train the mdel\n",
    "X_FS_S_hout = model_FS.transform(X_S_hout) #Use the fitted model to select the same FSs in holdout data as well\n",
    "S1=model_FS.get_support()\n",
    "print(S1)\n",
    "print(\"Size of Selected Features =\", X_FS_S_hout.shape)"
   ]
  },
  {
   "cell_type": "markdown",
   "metadata": {},
   "source": [
    "# Subjectwise Confusion Matrix Spirals Data"
   ]
  },
  {
   "cell_type": "code",
   "execution_count": 19,
   "metadata": {},
   "outputs": [
    {
     "data": {
      "image/png": "[encoded data removed]",
      "text/plain": [
       "<Figure size 800x600 with 2 Axes>"
      ]
     },
     "metadata": {},
     "output_type": "display_data"
    }
   ],
   "source": [
    "from sklearn.metrics import confusion_matrix\n",
    "import seaborn as sns\n",
    "import matplotlib.pyplot as plt\n",
    "import numpy as np\n",
    "from sklearn.neural_network import MLPClassifier\n",
    "\n",
    "# Assuming X_FS_M is the data and Y_M are the labels for 66 subjects, each with 4 samples per subject\n",
    "subjects = 66  # Number of subjects\n",
    "samples_per_subject = 4  # Number of samples per subject\n",
    "\n",
    "# Initialize lists to store true and predicted labels for each subject\n",
    "Y_true_subjects = []\n",
    "Y_pred_subjects = []\n",
    "\n",
    "# Loop over each subject (LOSO Cross-Validation)\n",
    "for i in range(subjects):\n",
    "    # Get the indices for the test subject (the ith subject)\n",
    "    test_indices = list(range(i * samples_per_subject, (i + 1) * samples_per_subject))\n",
    "    \n",
    "    # Get the training indices (all other subjects except the ith subject)\n",
    "    train_indices = list(set(range(subjects * samples_per_subject)) - set(test_indices))\n",
    "    \n",
    "    # Split the data into training and testing sets\n",
    "    X_train, X_test = X_FS_S[train_indices], X_FS_S[test_indices]\n",
    "    Y_train, Y_test = Y_S[train_indices], Y_S[test_indices]\n",
    "    \n",
    "    # Train the model on the training set\n",
    "    model = MLPClassifier(solver='lbfgs', alpha=opt_alpha, hidden_layer_sizes=(opt_n1, opt_n2, ), random_state=42)\n",
    "    model.fit(X_train, Y_train)\n",
    "    \n",
    "    # Predict the labels for the test set (left-out subject)\n",
    "    Y_test_pred = model.predict(X_test)\n",
    "    \n",
    "    # Aggregate the test labels for the subject-level prediction\n",
    "    true_label = np.bincount(Y_test).argmax()  # Majority class for subject (true labels)\n",
    "    correct_classifications = np.sum(Y_test == Y_test_pred)  # Count correct predictions\n",
    "    \n",
    "    # Apply different rules based on the true class\n",
    "    if true_label == 0:\n",
    "        # For class 0: Correct if half or more of the samples are correctly classified\n",
    "        if correct_classifications >= samples_per_subject // 2:\n",
    "            predicted_label = true_label  # Subject is correctly classified\n",
    "        else:\n",
    "            predicted_label = 1 - true_label  # Subject is incorrectly classified (flip the label)\n",
    "    else:\n",
    "        # For class 1: Correct if more than half of the samples are correctly classified\n",
    "        if correct_classifications > samples_per_subject // 2:\n",
    "            predicted_label = true_label  # Subject is correctly classified\n",
    "        else:\n",
    "            predicted_label = 1 - true_label  # Subject is incorrectly classified (flip the label)\n",
    "    \n",
    "    # Store the true and predicted labels for this subject\n",
    "    Y_true_subjects.append(true_label)\n",
    "    Y_pred_subjects.append(predicted_label)\n",
    "\n",
    "# Step 2: Generate the confusion matrix for subjects based on the aggregated predictions\n",
    "cm = confusion_matrix(Y_true_subjects, Y_pred_subjects)\n",
    "\n",
    "# Step 3: Plot the confusion matrix using Seaborn\n",
    "plt.figure(figsize=(8, 6))\n",
    "\n",
    "# Customize the colormap: You can choose any of the following\n",
    "# cmap = 'Blues', 'Greens', 'Reds', 'coolwarm', 'inferno', 'plasma', 'magma', 'viridis', 'cividis'\n",
    "sns.heatmap(cm, annot=True, fmt='g', cmap='Pastel1', cbar=True, \n",
    "            xticklabels=['Predicted Class 0', 'Predicted Class 1'], \n",
    "            yticklabels=['Actual Class 0', 'Actual Class 1'], \n",
    "            linewidths=0.5, linecolor='black', annot_kws={\"size\": 26, \"color\": \"blue\"})\n",
    "\n",
    "# Customize labels and title\n",
    "#plt.title('Confusion Matrix (LOSO CV: Main Dataset Meanders)', fontsize=16)\n",
    "plt.ylabel('Actual Label', fontsize=14)\n",
    "plt.xlabel('Predicted Label', fontsize=14)\n",
    "\n",
    "# Show the plot\n",
    "plt.tight_layout(pad=1.5)  # Adjusts the plot to ensure everything fits without overlap\n",
    "# Save the figure as .eps file with proper bounding box\n",
    "plt.savefig('cm_maindata_spirals.eps', format='eps', dpi=300, bbox_inches='tight')  # Save with tight bounding box\n",
    "\n",
    "# Save the figure as .jpg file\n",
    "plt.savefig('cm_maindata_spirals.jpg', format='jpg', dpi=300, bbox_inches='tight')  # Save as JPG\n",
    "# Show the plot (optional, since we're saving the file)\n",
    "plt.show()\n"
   ]
  },
  {
   "cell_type": "code",
   "execution_count": 20,
   "metadata": {},
   "outputs": [
    {
     "data": {
      "image/png": "[encoded data removed]",
      "text/plain": [
       "<Figure size 1000x800 with 2 Axes>"
      ]
     },
     "metadata": {},
     "output_type": "display_data"
    }
   ],
   "source": [
    "from sklearn.metrics import confusion_matrix\n",
    "import seaborn as sns\n",
    "import matplotlib.pyplot as plt\n",
    "import numpy as np\n",
    "from sklearn.neural_network import MLPClassifier\n",
    "\n",
    "# Train the model\n",
    "model = MLPClassifier(solver='lbfgs', alpha=opt_alpha, hidden_layer_sizes=(opt_n1, opt_n2, ), random_state=42)\n",
    "model.fit(X_FS_S, Y_S)\n",
    "\n",
    "# Make predictions on the test set for all samples\n",
    "Y_df_S_hout_pred_samples = model.predict(X_FS_S_hout)\n",
    "\n",
    "# Assuming `Y_df_M_hout` and `Y_df_M_hout_pred_samples` contain the true and predicted labels for each sample, \n",
    "# and that each subject has 4 samples.\n",
    "subjects = len(Y_df_S_hout) // 4  # Assuming each subject has 4 samples\n",
    "samples_per_subject = 4\n",
    "\n",
    "# Step 1: Aggregate predictions for each subject\n",
    "Y_true_subjects = []  # Ground truth for each subject\n",
    "Y_pred_subjects = []  # Aggregated prediction for each subject\n",
    "\n",
    "for i in range(subjects):\n",
    "    # Get the true labels and predicted labels for the current subject's samples\n",
    "    true_labels = Y_df_S_hout[i * samples_per_subject:(i + 1) * samples_per_subject]\n",
    "    pred_labels = Y_df_S_hout_pred_samples[i * samples_per_subject:(i + 1) * samples_per_subject]\n",
    "    \n",
    "    # Get the majority true label for the subject\n",
    "    true_label = np.bincount(true_labels).argmax()  # Majority class for subject (true labels)\n",
    "    Y_true_subjects.append(true_label)\n",
    "    \n",
    "    # Count the number of correct predictions for this subject\n",
    "    correct_classifications = np.sum(true_labels == pred_labels)\n",
    "    \n",
    "    # Apply different rules based on the true class\n",
    "    if true_label == 0:\n",
    "        # For class 0: Correct if half or more of the samples are correctly classified\n",
    "        if correct_classifications >= samples_per_subject // 2:\n",
    "            predicted_label = true_label  # Subject is correctly classified\n",
    "        else:\n",
    "            predicted_label = 1 - true_label  # Subject is incorrectly classified (flip the label)\n",
    "    else:\n",
    "        # For class 1: Correct if more than half of the samples are correctly classified\n",
    "        if correct_classifications > samples_per_subject // 2:\n",
    "            predicted_label = true_label  # Subject is correctly classified\n",
    "        else:\n",
    "            predicted_label = 1 - true_label  # Subject is incorrectly classified (flip the label)\n",
    "    \n",
    "    Y_pred_subjects.append(predicted_label)\n",
    "\n",
    "# Step 2: Generate the confusion matrix for subjects\n",
    "cm = confusion_matrix(Y_true_subjects, Y_pred_subjects)\n",
    "\n",
    "# Step 3: Plot the confusion matrix using Seaborn\n",
    "plt.figure(figsize=(10, 8))\n",
    "\n",
    "# Customize the colormap: You can choose any of the following\n",
    "# cmap = 'Blues', 'Greens', 'Reds', 'coolwarm', 'inferno', 'plasma', 'magma', 'viridis', 'cividis'\n",
    "sns.heatmap(cm, annot=True, fmt='g', cmap='Pastel1', cbar=True, \n",
    "            xticklabels=['Predicted 0', 'Predicted 1'], yticklabels=['Actual 0', 'Actual 1'], \n",
    "            linewidths=0.5, linecolor='black', annot_kws={\"size\": 26, \"color\": \"blue\"})\n",
    "\n",
    "# Customize labels and title\n",
    "#plt.title('Confusion Matrix for New Dataset Meanders', fontsize=14)\n",
    "plt.ylabel('Actual Label', fontsize=14)\n",
    "plt.xlabel('Predicted Label', fontsize=14)\n",
    "\n",
    "# Show the plot\n",
    "plt.tight_layout(pad=1.5)  # Adjusts the plot to ensure everything fits without overlap\n",
    "# Save the figure as .eps file with proper bounding box\n",
    "plt.savefig('cm_houtdata_spirals.eps', format='eps', dpi=300, bbox_inches='tight')  # Save with tight bounding box\n",
    "\n",
    "# Save the figure as .jpg file\n",
    "plt.savefig('cm_houtdata_spirals.jpg', format='jpg', dpi=300, bbox_inches='tight')  # Save as JPG\n",
    "# Show the plot (optional, since we're saving the file)\n",
    "plt.show()"
   ]
  },
  {
   "cell_type": "markdown",
   "metadata": {
    "id": "oaPsPM3JH6NS"
   },
   "source": [
    "# MIGNET for Meanders"
   ]
  },
  {
   "cell_type": "code",
   "execution_count": 21,
   "metadata": {
    "id": "73cNlubyH6NT",
    "outputId": "ce6e03bb-9033-419d-c0f7-8cd0d5ef92f7"
   },
   "outputs": [],
   "source": [
    "global opt_rslt_nn\n",
    "global opt_alpha \n",
    "global opt_n1 \n",
    "global opt_n2 \n",
    "global opt_k_nn\n",
    "\n",
    "opt_rslt_nn = 0\n",
    "opt_alpha = 0\n",
    "opt_n1 = 0\n",
    "opt_n2 = 0\n",
    "opt_k_nn = 0\n",
    "\n",
    "def mig_net(x_tr, y_tr, k):\n",
    "\t# create model\n",
    "  global opt_rslt_nn\n",
    "  global opt_alpha \n",
    "  global opt_n1 \n",
    "  global opt_n2 \n",
    "  global opt_k_nn\n",
    "    \n",
    "  clf = MLPClassifier( random_state=42)\n",
    "  x = range(1,31)\n",
    "  #param_grid= {'gamma': Continuous(0.0001, 1000, distribution='log-uniform'),'C': Continuous(0.0001, 1000, distribution='log-uniform')}\n",
    "  param_grid = {\n",
    "        \"hidden_layer_sizes\": Categorical(list(itertools.combinations(x, 2))),\n",
    "        \"alpha\": Categorical([1e-5, 1e-4, 1e-3, 1e-2, 1e-1]),\n",
    "        \"solver\": Categorical(['lbfgs'])\n",
    "    }\n",
    "  cv = KFold(n_splits=66)\n",
    "\n",
    "  evolved_estimator = GASearchCV(estimator=clf,\n",
    "                               cv=cv,\n",
    "                               scoring='accuracy',\n",
    "                               population_size=30,\n",
    "                               generations=25,\n",
    "                               tournament_size=3,\n",
    "                               elitism=True,\n",
    "                               crossover_probability=0.8,\n",
    "                               mutation_probability=0.1,\n",
    "                               param_grid=param_grid,\n",
    "                               criteria='max',\n",
    "                               algorithm='eaMuPlusLambda',\n",
    "                               n_jobs=-1,\n",
    "                               verbose=False,\n",
    "                               keep_top_k=4)\n",
    "    \n",
    "    \n",
    "  evolved_estimator.fit(x_tr, y_tr)  # Make sure x_tr and y_tr passed to the function are already balanced\n",
    "  if evolved_estimator.best_score_ >= opt_rslt_nn:\n",
    "    opt_rslt_nn = evolved_estimator.best_score_\n",
    "    best_params = evolved_estimator.best_params_\n",
    "    opt_n1, opt_n2 = best_params['hidden_layer_sizes']\n",
    "    opt_alpha = best_params['alpha']\n",
    "    #opt_gamma = opt_para[0][0] #Optimal HP is recorded, we can use it later in next stage to evaluate testing results\n",
    "    #opt_c_rbf = opt_para[0][1]     #Optimal HP is recorded, we can use it later in next stage to evaluate testing results\n",
    "    print(opt_n1, opt_n2)\n",
    "    print(opt_alpha)\n",
    "    opt_k_nn = k  #Optimal Subset of Features is recorded, we can use it later in next stage to evaluate testing results\n",
    "  return evolved_estimator.best_params_"
   ]
  },
  {
   "cell_type": "code",
   "execution_count": 22,
   "metadata": {
    "id": "VMYVoK1MH6NU"
   },
   "outputs": [
    {
     "name": "stdout",
     "output_type": "stream",
     "text": [
      "[False False False False False False False  True False]\n",
      "8 18\n",
      "0.01\n",
      "[False False  True False False False False  True False]\n",
      "[ True False  True False False False False  True False]\n",
      "[ True  True  True False False False False  True False]\n",
      "[ True  True  True False  True False False  True False]\n",
      "[ True  True  True False  True False  True  True False]\n",
      "[ True  True  True False  True  True  True  True False]\n",
      "[ True  True  True  True  True  True  True  True False]\n",
      "[ True  True  True  True  True  True  True  True  True]\n"
     ]
    }
   ],
   "source": [
    "opt_hyp = []\n",
    "K = range(1, 10)\n",
    "for k in K:\n",
    "    model_FS = SelectKBest(chi2, k=k)\n",
    "    model_FS.fit(X_M, Y_M)\n",
    "    X_M_FS = model_FS.transform(X_M)\n",
    "    #X_Test_bal_new = model_FS.transform(X_Testing_features_flatten_all)\n",
    "    S1=model_FS.get_support()\n",
    "    print(S1)\n",
    "    \n",
    "    hyp = mig_net(X_M_FS, Y_M, k)\n",
    "    opt_hyp.append(hyp)\n",
    "    #print(\"Values in the opt_hyp list are = \", opt_hyp)\n"
   ]
  },
  {
   "cell_type": "code",
   "execution_count": 23,
   "metadata": {},
   "outputs": [
    {
     "name": "stdout",
     "output_type": "stream",
     "text": [
      "[False False False False False False False  True False]\n",
      "Size of Selected Features = (264, 1)\n",
      "Best Sub Acc ================ 84.84848484848484\n",
      "Sen = 67.74193548387096\n",
      "Spec = 100.0\n",
      "Avg folds or samples Acc = 0.8295454545454546\n",
      "Alpha = 0.01 N1 = 8 N2 = 18\n",
      "Features Size = (264, 1)\n"
     ]
    }
   ],
   "source": [
    "#K_list = range(1, 10)\n",
    "#for K in K_list:\n",
    "model_FS = SelectKBest(chi2, k=opt_k_nn)\n",
    "model_FS.fit(X_M,Y_M)\n",
    "X_FS_M = model_FS.transform(X_M)\n",
    "S1=model_FS.get_support()\n",
    "print(S1)\n",
    "print(\"Size of Selected Features =\", X_FS_M.shape)\n",
    "    \n",
    "    \n",
    "Best_Acc=0\n",
    "TP=0\n",
    "TN=0\n",
    "FP=0\n",
    "FN=0\n",
    "j=1\n",
    "lb=0\n",
    "ub=4\n",
    "cor_class=0\n",
    "Net_folds_Acc = 0\n",
    "while j<=66:\n",
    "\n",
    "    Y_test = Y_M[range(lb,ub)]\n",
    "    Y_train = numpy.delete(Y_M, range(lb,ub), 0)\n",
    "\n",
    "    X_test = X_FS_M[range(lb,ub)]\n",
    "    X_train = numpy.delete(X_FS_M, range(lb,ub), 0)\n",
    "\n",
    "\n",
    "    model =  MLPClassifier(solver='lbfgs', alpha=opt_alpha, hidden_layer_sizes=(opt_n1, opt_n2, ), random_state=42)\n",
    "   \n",
    "\n",
    "    model.fit(X_train, Y_train)\n",
    "    Y_pred = model.predict(X_test)\n",
    "    scores = accuracy_score(Y_test, Y_pred)\n",
    "    Net_folds_Acc = Net_folds_Acc+scores\n",
    "    #Below condition for negative class\n",
    "    if Y_test.sum()==0:\n",
    "        if scores>=0.5:\n",
    "            cor_class = cor_class+1\n",
    "            TN=TN+1\n",
    "    #Below condition for postiive class\n",
    "    if Y_test.sum() != 0:\n",
    "        if scores>0.5:\n",
    "            cor_class = cor_class+1\n",
    "            TP=TP+1\n",
    "    \n",
    "    lb = lb+4\n",
    "    ub = ub+4\n",
    "    j=j+1\n",
    "LOSO_Sub_Acc = (cor_class*100)/66\n",
    "FN = 31-TP\n",
    "FP = 35-TN\n",
    "if (LOSO_Sub_Acc>=Best_Acc):\n",
    "    Best_Acc = LOSO_Sub_Acc\n",
    "    print(\"Best Sub Acc ================\", Best_Acc)\n",
    "    print(\"Sen =\", (TP/31)*100)\n",
    "    print(\"Spec =\", (TN/35)*100)\n",
    "    print(\"Avg folds or samples Acc =\", Net_folds_Acc/66)\n",
    "    print(\"Alpha =\", opt_alpha, \"N1 =\", opt_n1, \"N2 =\", opt_n2)\n",
    "    print(\"Features Size =\", X_FS_M.shape)\n",
    "    "
   ]
  },
  {
   "cell_type": "markdown",
   "metadata": {},
   "source": [
    "# External Validation Meanders"
   ]
  },
  {
   "cell_type": "code",
   "execution_count": 24,
   "metadata": {},
   "outputs": [
    {
     "name": "stdout",
     "output_type": "stream",
     "text": [
      "[False False False False False False False  True False]\n",
      "Size of Selected Features = (368, 1)\n",
      "LOSO Ubjects Acc ================ 19.565217391304348\n",
      "Bal Acc ================ 50.0\n",
      "Sen = 0.0\n",
      "Spec = 100.0\n",
      "Features Size = (264, 1)\n"
     ]
    }
   ],
   "source": [
    "#K_list = range(1, 10)\n",
    "#for K in K_list:\n",
    "model_FS = SelectKBest(chi2, k=opt_k_nn)\n",
    "model_FS.fit(X_M,Y_M) #Fit the FS using the main dataset\n",
    "X_FS_M = model_FS.transform(X_M) #Use the fitted model to select opt FSs in in the main data, bcoz will use it to train the mdel\n",
    "X_FS_M_hout = model_FS.transform(X_S_hout) #Use the fitted model to select the same FSs in holdout data as well\n",
    "S1=model_FS.get_support()\n",
    "print(S1)\n",
    "print(\"Size of Selected Features =\", X_FS_M_hout.shape)\n",
    "\n",
    "\n",
    "\n",
    "Sen=0\n",
    "Spec=0\n",
    "TP=0\n",
    "TN=0\n",
    "cor_class=0    \n",
    "Best_Acc=0\n",
    "j=1\n",
    "lb=0\n",
    "ub=4\n",
    "Net_Acc=0\n",
    "while j<=92:\n",
    "\n",
    "    Y_test = Y_M_hout[range(lb,ub)]              #For testing, subject selection from holdout data\n",
    "                                                 #For training, use whole main dataset\n",
    "\n",
    "    X_test = X_FS_M_hout[range(lb,ub)]           #For testing, subject selection from holdout data\n",
    "                                                 #For training, use whole main dataset\n",
    "\n",
    "\n",
    "    #model =  MLPClassifier(solver='lbfgs', alpha=1e-5, hidden_layer_sizes=(node1, node2, ), random_state=1)\n",
    "    model= MLPClassifier(solver='lbfgs', alpha=opt_alpha, hidden_layer_sizes=(opt_n1, opt_n2, ), random_state=42)\n",
    "\n",
    "\n",
    "\n",
    "\n",
    "    model.fit(X_FS_M, Y_M)   #Considing selected features and labels of HandPD dataset\n",
    "    Y_pred = model.predict(X_test)\n",
    "    scores = accuracy_score(Y_test, Y_pred)\n",
    "\n",
    "    #Below condition for negative class\n",
    "    if Y_test.sum()==0:\n",
    "        if scores>=0.5:\n",
    "            cor_class = cor_class+1\n",
    "            TN = TN+1\n",
    "    #Below condition for postiive class\n",
    "    if Y_test.sum() != 0:\n",
    "        if scores>0.5:\n",
    "            cor_class = cor_class+1\n",
    "            TP = TP+1\n",
    "    \n",
    "    lb = lb+4\n",
    "    ub = ub+4\n",
    "    j=j+1\n",
    "LOSO_Sub_Acc = (cor_class*100)/92\n",
    "\n",
    "Sen = (TP/74)*100\n",
    "Spec = (TN/18)*100\n",
    "print(\"LOSO Ubjects Acc ================\", LOSO_Sub_Acc)\n",
    "print(\"Bal Acc ================\", (Sen+Spec)/2)\n",
    "print(\"Sen =\", Sen)\n",
    "print(\"Spec =\", Spec)\n",
    "print(\"Features Size =\", X_FS_M.shape)\n",
    "    "
   ]
  },
  {
   "cell_type": "code",
   "execution_count": 25,
   "metadata": {},
   "outputs": [
    {
     "name": "stdout",
     "output_type": "stream",
     "text": [
      "Alpha = 0.01 N1 = 8 N2 = 18\n"
     ]
    }
   ],
   "source": [
    "print(\"Alpha =\", opt_alpha, \"N1 =\", opt_n1, \"N2 =\", opt_n2)"
   ]
  },
  {
   "cell_type": "code",
   "execution_count": 26,
   "metadata": {},
   "outputs": [
    {
     "name": "stdout",
     "output_type": "stream",
     "text": [
      "[False False False False False False False  True False]\n",
      "Size of Selected Features = (368, 1)\n"
     ]
    }
   ],
   "source": [
    "model_FS = SelectKBest(chi2, k=opt_k_nn)\n",
    "model_FS.fit(X_M,Y_M) #Fit the FS using the main dataset\n",
    "X_FS_M = model_FS.transform(X_M) #Use the fitted model to select opt FSs in in the main data, bcoz will use it to train the mdel\n",
    "X_FS_M_hout = model_FS.transform(X_S_hout) #Use the fitted model to select the same FSs in holdout data as well\n",
    "S1=model_FS.get_support()\n",
    "print(S1)\n",
    "print(\"Size of Selected Features =\", X_FS_M_hout.shape)"
   ]
  },
  {
   "cell_type": "markdown",
   "metadata": {},
   "source": [
    "# Subjects wise Confusion Matrix"
   ]
  },
  {
   "cell_type": "code",
   "execution_count": 27,
   "metadata": {},
   "outputs": [
    {
     "data": {
      "image/png": "[encoded data removed]",
      "text/plain": [
       "<Figure size 800x600 with 2 Axes>"
      ]
     },
     "metadata": {},
     "output_type": "display_data"
    }
   ],
   "source": [
    "from sklearn.metrics import confusion_matrix\n",
    "import seaborn as sns\n",
    "import matplotlib.pyplot as plt\n",
    "import numpy as np\n",
    "from sklearn.neural_network import MLPClassifier\n",
    "\n",
    "# Assuming X_FS_M is the data and Y_M are the labels for 66 subjects, each with 4 samples per subject\n",
    "subjects = 66  # Number of subjects\n",
    "samples_per_subject = 4  # Number of samples per subject\n",
    "\n",
    "# Initialize lists to store true and predicted labels for each subject\n",
    "Y_true_subjects = []\n",
    "Y_pred_subjects = []\n",
    "\n",
    "# Loop over each subject (LOSO Cross-Validation)\n",
    "for i in range(subjects):\n",
    "    # Get the indices for the test subject (the ith subject)\n",
    "    test_indices = list(range(i * samples_per_subject, (i + 1) * samples_per_subject))\n",
    "    \n",
    "    # Get the training indices (all other subjects except the ith subject)\n",
    "    train_indices = list(set(range(subjects * samples_per_subject)) - set(test_indices))\n",
    "    \n",
    "    # Split the data into training and testing sets\n",
    "    X_train, X_test = X_FS_M[train_indices], X_FS_M[test_indices]\n",
    "    Y_train, Y_test = Y_M[train_indices], Y_M[test_indices]\n",
    "    \n",
    "    # Train the model on the training set\n",
    "    model = MLPClassifier(solver='lbfgs', alpha=opt_alpha, hidden_layer_sizes=(opt_n1, opt_n2, ), random_state=42)\n",
    "    model.fit(X_train, Y_train)\n",
    "    \n",
    "    # Predict the labels for the test set (left-out subject)\n",
    "    Y_test_pred = model.predict(X_test)\n",
    "    \n",
    "    # Aggregate the test labels for the subject-level prediction\n",
    "    true_label = np.bincount(Y_test).argmax()  # Majority class for subject (true labels)\n",
    "    correct_classifications = np.sum(Y_test == Y_test_pred)  # Count correct predictions\n",
    "    \n",
    "    # Apply different rules based on the true class\n",
    "    if true_label == 0:\n",
    "        # For class 0: Correct if half or more of the samples are correctly classified\n",
    "        if correct_classifications >= samples_per_subject // 2:\n",
    "            predicted_label = true_label  # Subject is correctly classified\n",
    "        else:\n",
    "            predicted_label = 1 - true_label  # Subject is incorrectly classified (flip the label)\n",
    "    else:\n",
    "        # For class 1: Correct if more than half of the samples are correctly classified\n",
    "        if correct_classifications > samples_per_subject // 2:\n",
    "            predicted_label = true_label  # Subject is correctly classified\n",
    "        else:\n",
    "            predicted_label = 1 - true_label  # Subject is incorrectly classified (flip the label)\n",
    "    \n",
    "    # Store the true and predicted labels for this subject\n",
    "    Y_true_subjects.append(true_label)\n",
    "    Y_pred_subjects.append(predicted_label)\n",
    "\n",
    "# Step 2: Generate the confusion matrix for subjects based on the aggregated predictions\n",
    "cm = confusion_matrix(Y_true_subjects, Y_pred_subjects)\n",
    "\n",
    "# Step 3: Plot the confusion matrix using Seaborn\n",
    "plt.figure(figsize=(8, 6))\n",
    "\n",
    "# Customize the colormap: You can choose any of the following\n",
    "# cmap = 'Blues', 'Greens', 'Reds', 'coolwarm', 'inferno', 'plasma', 'magma', 'viridis', 'cividis'\n",
    "sns.heatmap(cm, annot=True, fmt='g', cmap='Pastel1', cbar=True, \n",
    "            xticklabels=['Predicted Class 0', 'Predicted Class 1'], \n",
    "            yticklabels=['Actual Class 0', 'Actual Class 1'], \n",
    "            linewidths=0.5, linecolor='black', annot_kws={\"size\": 26, \"color\": \"blue\"})\n",
    "\n",
    "# Customize labels and title\n",
    "#plt.title('Confusion Matrix (LOSO CV: Main Dataset Meanders)', fontsize=16)\n",
    "plt.ylabel('Actual Label', fontsize=14)\n",
    "plt.xlabel('Predicted Label', fontsize=14)\n",
    "\n",
    "# Show the plot\n",
    "plt.tight_layout(pad=1.5)  # Adjusts the plot to ensure everything fits without overlap\n",
    "# Save the figure as .eps file with proper bounding box\n",
    "plt.savefig('cm_maindata_manders.eps', format='eps', dpi=300, bbox_inches='tight')  # Save with tight bounding box\n",
    "\n",
    "# Save the figure as .jpg file\n",
    "plt.savefig('cm_maindata_manders.jpg', format='jpg', dpi=300, bbox_inches='tight')  # Save as JPG\n",
    "# Show the plot (optional, since we're saving the file)\n",
    "plt.show()\n"
   ]
  },
  {
   "cell_type": "code",
   "execution_count": 28,
   "metadata": {},
   "outputs": [
    {
     "data": {
      "image/png": "[encoded data removed]",
      "text/plain": [
       "<Figure size 1000x800 with 2 Axes>"
      ]
     },
     "metadata": {},
     "output_type": "display_data"
    }
   ],
   "source": [
    "from sklearn.metrics import confusion_matrix\n",
    "import seaborn as sns\n",
    "import matplotlib.pyplot as plt\n",
    "import numpy as np\n",
    "from sklearn.neural_network import MLPClassifier\n",
    "\n",
    "# Train the model\n",
    "model = MLPClassifier(solver='lbfgs', alpha=opt_alpha, hidden_layer_sizes=(opt_n1, opt_n2, ), random_state=42)\n",
    "model.fit(X_FS_M, Y_M)\n",
    "\n",
    "# Make predictions on the test set for all samples\n",
    "Y_df_M_hout_pred_samples = model.predict(X_FS_M_hout)\n",
    "\n",
    "# Assuming `Y_df_M_hout` and `Y_df_M_hout_pred_samples` contain the true and predicted labels for each sample, \n",
    "# and that each subject has 4 samples.\n",
    "subjects = len(Y_df_M_hout) // 4  # Assuming each subject has 4 samples\n",
    "samples_per_subject = 4\n",
    "\n",
    "# Step 1: Aggregate predictions for each subject\n",
    "Y_true_subjects = []  # Ground truth for each subject\n",
    "Y_pred_subjects = []  # Aggregated prediction for each subject\n",
    "\n",
    "for i in range(subjects):\n",
    "    # Get the true labels and predicted labels for the current subject's samples\n",
    "    true_labels = Y_df_M_hout[i * samples_per_subject:(i + 1) * samples_per_subject]\n",
    "    pred_labels = Y_df_M_hout_pred_samples[i * samples_per_subject:(i + 1) * samples_per_subject]\n",
    "    \n",
    "    # Get the majority true label for the subject\n",
    "    true_label = np.bincount(true_labels).argmax()  # Majority class for subject (true labels)\n",
    "    Y_true_subjects.append(true_label)\n",
    "    \n",
    "    # Count the number of correct predictions for this subject\n",
    "    correct_classifications = np.sum(true_labels == pred_labels)\n",
    "    \n",
    "    # Apply different rules based on the true class\n",
    "    if true_label == 0:\n",
    "        # For class 0: Correct if half or more of the samples are correctly classified\n",
    "        if correct_classifications >= samples_per_subject // 2:\n",
    "            predicted_label = true_label  # Subject is correctly classified\n",
    "        else:\n",
    "            predicted_label = 1 - true_label  # Subject is incorrectly classified (flip the label)\n",
    "    else:\n",
    "        # For class 1: Correct if more than half of the samples are correctly classified\n",
    "        if correct_classifications > samples_per_subject // 2:\n",
    "            predicted_label = true_label  # Subject is correctly classified\n",
    "        else:\n",
    "            predicted_label = 1 - true_label  # Subject is incorrectly classified (flip the label)\n",
    "    \n",
    "    Y_pred_subjects.append(predicted_label)\n",
    "\n",
    "# Step 2: Generate the confusion matrix for subjects\n",
    "cm = confusion_matrix(Y_true_subjects, Y_pred_subjects)\n",
    "\n",
    "# Step 3: Plot the confusion matrix using Seaborn\n",
    "plt.figure(figsize=(10, 8))\n",
    "\n",
    "# Customize the colormap: You can choose any of the following\n",
    "# cmap = 'Blues', 'Greens', 'Reds', 'coolwarm', 'inferno', 'plasma', 'magma', 'viridis', 'cividis'\n",
    "sns.heatmap(cm, annot=True, fmt='g', cmap='Pastel1', cbar=True, \n",
    "            xticklabels=['Predicted 0', 'Predicted 1'], yticklabels=['Actual 0', 'Actual 1'], \n",
    "            linewidths=0.5, linecolor='black', annot_kws={\"size\": 26, \"color\": \"blue\"})  \n",
    "\n",
    "# Customize labels and title\n",
    "#plt.title('Confusion Matrix for New Dataset Meanders', fontsize=14)\n",
    "plt.ylabel('Actual Label', fontsize=14)\n",
    "plt.xlabel('Predicted Label', fontsize=14)\n",
    "\n",
    "# Show the plot\n",
    "plt.tight_layout(pad=1.5)  # Adjusts the plot to ensure everything fits without overlap\n",
    "# Save the figure as .eps file with proper bounding box\n",
    "plt.savefig('cm_houtdata_manders.eps', format='eps', dpi=300, bbox_inches='tight')  # Save with tight bounding box\n",
    "\n",
    "# Save the figure as .jpg file\n",
    "plt.savefig('cm_houtdata_manders.jpg', format='jpg', dpi=300, bbox_inches='tight')  # Save as JPG\n",
    "# Show the plot (optional, since we're saving the file)\n",
    "plt.show()"
   ]
  },
  {
   "cell_type": "code",
   "execution_count": null,
   "metadata": {},
   "outputs": [],
   "source": []
  }
 ],
 "metadata": {
  "anaconda-cloud": {},
  "colab": {
   "name": "",
   "version": ""
  },
  "kernelspec": {
   "display_name": "Python (base)",
   "language": "python",
   "name": "base"
  },
  "language_info": {
   "codemirror_mode": {
    "name": "ipython",
    "version": 3
   },
   "file_extension": ".py",
   "mimetype": "text/x-python",
   "name": "python",
   "nbconvert_exporter": "python",
   "pygments_lexer": "ipython3",
   "version": "3.12.3"
  }
 },
 "nbformat": 4,
 "nbformat_minor": 4
}
