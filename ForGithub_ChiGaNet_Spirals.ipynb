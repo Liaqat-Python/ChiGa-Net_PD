{
 "cells": [
  {
   "cell_type": "code",
   "execution_count": 1,
   "metadata": {
    "executionInfo": {
     "elapsed": 15702,
     "status": "ok",
     "timestamp": 1723310605595,
     "user": {
      "displayName": "Liaqat Ali",
      "userId": "05679016512873117773"
     },
     "user_tz": -300
    },
    "id": "M5v0L30-JUXh"
   },
   "outputs": [],
   "source": [
    "import os\n",
    "import numpy as np\n",
    "import pandas as pd\n",
    "import matplotlib.pyplot as plt;\n",
    "from sklearn.feature_selection import SelectKBest\n",
    "from sklearn.feature_selection import chi2\n",
    "# Importing sklearn libraries\n",
    "from sklearn.model_selection import GridSearchCV\n",
    "from sklearn.linear_model import LogisticRegression\n",
    "from sklearn.metrics import confusion_matrix, accuracy_score\n",
    "from sklearn.neighbors import NearestCentroid\n",
    "\n",
    "\n",
    "# Importing Keras libraries\n",
    "#from keras.utils import np_utils              It was older statement. Gave error. Changed by below. In below code need to change np_utils by utils\n",
    "from keras import utils\n",
    "from keras.models import Sequential\n",
    "from keras.applications import VGG16\n",
    "from keras.applications import imagenet_utils\n",
    "from keras.callbacks import ModelCheckpoint\n",
    "#from keras.preprocessing.image import load_img\n",
    "from tensorflow.keras.utils import load_img\n",
    "#from keras.preprocessing.image import img_to_array\n",
    "from tensorflow.keras.utils import img_to_array\n",
    "from keras.layers import Dense, Conv2D, MaxPooling2D\n",
    "from keras.layers import Dropout, Flatten, GlobalAveragePooling2D\n",
    "\n",
    "from sklearn.metrics import confusion_matrix, ConfusionMatrixDisplay\n",
    "import seaborn as sns\n",
    "import itertools\n",
    "from sklearn.model_selection import KFold\n",
    "import numpy as np\n",
    "from sklearn_genetic import GASearchCV\n",
    "from sklearn_genetic.space import Continuous, Categorical, Integer\n",
    "from sklearn_genetic.plots import plot_fitness_evolution, plot_search_space\n",
    "from sklearn.model_selection import cross_val_score\n",
    "from sklearn.metrics import matthews_corrcoef\n",
    "\n",
    "import warnings\n",
    "warnings.filterwarnings('ignore')"
   ]
  },
  {
   "cell_type": "code",
   "execution_count": 2,
   "metadata": {
    "executionInfo": {
     "elapsed": 23,
     "status": "ok",
     "timestamp": 1723310605596,
     "user": {
      "displayName": "Liaqat Ali",
      "userId": "05679016512873117773"
     },
     "user_tz": -300
    },
    "id": "nZp664twJf8_"
   },
   "outputs": [],
   "source": [
    "from sklearn.model_selection import KFold\n",
    "import numpy\n",
    "\n",
    "import matplotlib.pyplot as plt\n",
    "\n",
    "from scipy.stats import zscore\n",
    "from sklearn import metrics\n",
    "from sklearn.model_selection import KFold\n",
    "\n",
    "from sklearn.metrics import accuracy_score\n",
    "\n",
    "import math\n",
    "\n",
    "from sklearn.linear_model import LogisticRegression\n",
    "from sklearn.tree import DecisionTreeClassifier\n",
    "from sklearn.neighbors import KNeighborsClassifier\n",
    "from sklearn.discriminant_analysis import LinearDiscriminantAnalysis\n",
    "from sklearn.naive_bayes import GaussianNB\n",
    "from sklearn.svm import SVC\n",
    "from sklearn.ensemble import RandomForestClassifier\n",
    "from sklearn.svm import LinearSVC\n",
    "from sklearn.neural_network import MLPClassifier\n",
    "from sklearn.ensemble import AdaBoostClassifier\n",
    "\n",
    "\n",
    "from sklearn.feature_selection import SelectKBest\n",
    "from sklearn.feature_selection import f_classif\n",
    "from sklearn.model_selection import KFold\n",
    "from sklearn.neural_network import MLPClassifier\n",
    "from sklearn.svm import LinearSVC"
   ]
  },
  {
   "cell_type": "code",
   "execution_count": 3,
   "metadata": {
    "executionInfo": {
     "elapsed": 2152,
     "status": "ok",
     "timestamp": 1723310662657,
     "user": {
      "displayName": "Liaqat Ali",
      "userId": "05679016512873117773"
     },
     "user_tz": -300
    },
    "id": "0f_dkr7JJnJ7"
   },
   "outputs": [],
   "source": [
    "#Loading Data of Main Database\n",
    "\n",
    "X_H_All = [os.path.join(\"C:/Users/Liaqat Ali/Documents/ChiGaNet/NewHandPDImgs/HealthySpiral/HealthySpiral\",img) for img in os.listdir(\"C:/Users/Liaqat Ali/Documents/ChiGaNet/NewHandPDImgs/HealthySpiral/HealthySpiral\")]\n",
    "X_PD_All = [os.path.join(\"C:/Users/Liaqat Ali/Documents/ChiGaNet/NewHandPDImgs/PatientSpiral/PatientSpiral\",img) for img in os.listdir(\"C:/Users/Liaqat Ali/Documents/ChiGaNet/NewHandPDImgs/PatientSpiral/PatientSpiral\")]"
   ]
  },
  {
   "cell_type": "code",
   "execution_count": 4,
   "metadata": {},
   "outputs": [
    {
     "name": "stdout",
     "output_type": "stream",
     "text": [
      "['C:/Users/Liaqat Ali/Documents/ChiGaNet/NewHandPDImgs/HealthySpiral/HealthySpiral\\\\sp1-H1.jpg', 'C:/Users/Liaqat Ali/Documents/ChiGaNet/NewHandPDImgs/HealthySpiral/HealthySpiral\\\\sp1-H10.jpg', 'C:/Users/Liaqat Ali/Documents/ChiGaNet/NewHandPDImgs/HealthySpiral/HealthySpiral\\\\sp1-H11.jpg', 'C:/Users/Liaqat Ali/Documents/ChiGaNet/NewHandPDImgs/HealthySpiral/HealthySpiral\\\\sp1-H12.jpg', 'C:/Users/Liaqat Ali/Documents/ChiGaNet/NewHandPDImgs/HealthySpiral/HealthySpiral\\\\sp1-H13.jpg', 'C:/Users/Liaqat Ali/Documents/ChiGaNet/NewHandPDImgs/HealthySpiral/HealthySpiral\\\\sp1-H14.jpg', 'C:/Users/Liaqat Ali/Documents/ChiGaNet/NewHandPDImgs/HealthySpiral/HealthySpiral\\\\sp1-H16.jpg', 'C:/Users/Liaqat Ali/Documents/ChiGaNet/NewHandPDImgs/HealthySpiral/HealthySpiral\\\\sp1-H17.jpg', 'C:/Users/Liaqat Ali/Documents/ChiGaNet/NewHandPDImgs/HealthySpiral/HealthySpiral\\\\sp1-H18.jpg', 'C:/Users/Liaqat Ali/Documents/ChiGaNet/NewHandPDImgs/HealthySpiral/HealthySpiral\\\\sp1-H19.jpg', 'C:/Users/Liaqat Ali/Documents/ChiGaNet/NewHandPDImgs/HealthySpiral/HealthySpiral\\\\sp1-H2.jpg', 'C:/Users/Liaqat Ali/Documents/ChiGaNet/NewHandPDImgs/HealthySpiral/HealthySpiral\\\\sp1-H20.jpg', 'C:/Users/Liaqat Ali/Documents/ChiGaNet/NewHandPDImgs/HealthySpiral/HealthySpiral\\\\sp1-H21.jpg', 'C:/Users/Liaqat Ali/Documents/ChiGaNet/NewHandPDImgs/HealthySpiral/HealthySpiral\\\\sp1-H22.jpg', 'C:/Users/Liaqat Ali/Documents/ChiGaNet/NewHandPDImgs/HealthySpiral/HealthySpiral\\\\sp1-H23.jpg', 'C:/Users/Liaqat Ali/Documents/ChiGaNet/NewHandPDImgs/HealthySpiral/HealthySpiral\\\\sp1-H24.jpg', 'C:/Users/Liaqat Ali/Documents/ChiGaNet/NewHandPDImgs/HealthySpiral/HealthySpiral\\\\sp1-H26.jpg', 'C:/Users/Liaqat Ali/Documents/ChiGaNet/NewHandPDImgs/HealthySpiral/HealthySpiral\\\\sp1-H27.jpg', 'C:/Users/Liaqat Ali/Documents/ChiGaNet/NewHandPDImgs/HealthySpiral/HealthySpiral\\\\sp1-H28.jpg', 'C:/Users/Liaqat Ali/Documents/ChiGaNet/NewHandPDImgs/HealthySpiral/HealthySpiral\\\\sp1-H29.jpg', 'C:/Users/Liaqat Ali/Documents/ChiGaNet/NewHandPDImgs/HealthySpiral/HealthySpiral\\\\sp1-H3.jpg', 'C:/Users/Liaqat Ali/Documents/ChiGaNet/NewHandPDImgs/HealthySpiral/HealthySpiral\\\\sp1-H30.jpg', 'C:/Users/Liaqat Ali/Documents/ChiGaNet/NewHandPDImgs/HealthySpiral/HealthySpiral\\\\sp1-H31.jpg', 'C:/Users/Liaqat Ali/Documents/ChiGaNet/NewHandPDImgs/HealthySpiral/HealthySpiral\\\\sp1-H32.jpg', 'C:/Users/Liaqat Ali/Documents/ChiGaNet/NewHandPDImgs/HealthySpiral/HealthySpiral\\\\sp1-H33.jpg', 'C:/Users/Liaqat Ali/Documents/ChiGaNet/NewHandPDImgs/HealthySpiral/HealthySpiral\\\\sp1-H34.jpg', 'C:/Users/Liaqat Ali/Documents/ChiGaNet/NewHandPDImgs/HealthySpiral/HealthySpiral\\\\sp1-H35.jpg', 'C:/Users/Liaqat Ali/Documents/ChiGaNet/NewHandPDImgs/HealthySpiral/HealthySpiral\\\\sp1-H36.jpg', 'C:/Users/Liaqat Ali/Documents/ChiGaNet/NewHandPDImgs/HealthySpiral/HealthySpiral\\\\sp1-H37.jpg', 'C:/Users/Liaqat Ali/Documents/ChiGaNet/NewHandPDImgs/HealthySpiral/HealthySpiral\\\\sp1-H38.jpg', 'C:/Users/Liaqat Ali/Documents/ChiGaNet/NewHandPDImgs/HealthySpiral/HealthySpiral\\\\sp1-H4.jpg', 'C:/Users/Liaqat Ali/Documents/ChiGaNet/NewHandPDImgs/HealthySpiral/HealthySpiral\\\\sp1-H5.jpg', 'C:/Users/Liaqat Ali/Documents/ChiGaNet/NewHandPDImgs/HealthySpiral/HealthySpiral\\\\sp1-H7.jpg', 'C:/Users/Liaqat Ali/Documents/ChiGaNet/NewHandPDImgs/HealthySpiral/HealthySpiral\\\\sp1-H8.jpg', 'C:/Users/Liaqat Ali/Documents/ChiGaNet/NewHandPDImgs/HealthySpiral/HealthySpiral\\\\sp1-H9.jpg', 'C:/Users/Liaqat Ali/Documents/ChiGaNet/NewHandPDImgs/HealthySpiral/HealthySpiral\\\\sp2-H1.jpg', 'C:/Users/Liaqat Ali/Documents/ChiGaNet/NewHandPDImgs/HealthySpiral/HealthySpiral\\\\sp2-H10.jpg', 'C:/Users/Liaqat Ali/Documents/ChiGaNet/NewHandPDImgs/HealthySpiral/HealthySpiral\\\\sp2-H11.jpg', 'C:/Users/Liaqat Ali/Documents/ChiGaNet/NewHandPDImgs/HealthySpiral/HealthySpiral\\\\sp2-H12.jpg', 'C:/Users/Liaqat Ali/Documents/ChiGaNet/NewHandPDImgs/HealthySpiral/HealthySpiral\\\\sp2-H13.jpg', 'C:/Users/Liaqat Ali/Documents/ChiGaNet/NewHandPDImgs/HealthySpiral/HealthySpiral\\\\sp2-H14.jpg', 'C:/Users/Liaqat Ali/Documents/ChiGaNet/NewHandPDImgs/HealthySpiral/HealthySpiral\\\\sp2-H16.jpg', 'C:/Users/Liaqat Ali/Documents/ChiGaNet/NewHandPDImgs/HealthySpiral/HealthySpiral\\\\sp2-H17.jpg', 'C:/Users/Liaqat Ali/Documents/ChiGaNet/NewHandPDImgs/HealthySpiral/HealthySpiral\\\\sp2-H18.jpg', 'C:/Users/Liaqat Ali/Documents/ChiGaNet/NewHandPDImgs/HealthySpiral/HealthySpiral\\\\sp2-H19.jpg', 'C:/Users/Liaqat Ali/Documents/ChiGaNet/NewHandPDImgs/HealthySpiral/HealthySpiral\\\\sp2-H2.jpg', 'C:/Users/Liaqat Ali/Documents/ChiGaNet/NewHandPDImgs/HealthySpiral/HealthySpiral\\\\sp2-H20.jpg', 'C:/Users/Liaqat Ali/Documents/ChiGaNet/NewHandPDImgs/HealthySpiral/HealthySpiral\\\\sp2-H21.jpg', 'C:/Users/Liaqat Ali/Documents/ChiGaNet/NewHandPDImgs/HealthySpiral/HealthySpiral\\\\sp2-H22.jpg', 'C:/Users/Liaqat Ali/Documents/ChiGaNet/NewHandPDImgs/HealthySpiral/HealthySpiral\\\\sp2-H23.jpg', 'C:/Users/Liaqat Ali/Documents/ChiGaNet/NewHandPDImgs/HealthySpiral/HealthySpiral\\\\sp2-H24.jpg', 'C:/Users/Liaqat Ali/Documents/ChiGaNet/NewHandPDImgs/HealthySpiral/HealthySpiral\\\\sp2-H26.jpg', 'C:/Users/Liaqat Ali/Documents/ChiGaNet/NewHandPDImgs/HealthySpiral/HealthySpiral\\\\sp2-H27.jpg', 'C:/Users/Liaqat Ali/Documents/ChiGaNet/NewHandPDImgs/HealthySpiral/HealthySpiral\\\\sp2-H28.jpg', 'C:/Users/Liaqat Ali/Documents/ChiGaNet/NewHandPDImgs/HealthySpiral/HealthySpiral\\\\sp2-H29.jpg', 'C:/Users/Liaqat Ali/Documents/ChiGaNet/NewHandPDImgs/HealthySpiral/HealthySpiral\\\\sp2-H3.jpg', 'C:/Users/Liaqat Ali/Documents/ChiGaNet/NewHandPDImgs/HealthySpiral/HealthySpiral\\\\sp2-H30.jpg', 'C:/Users/Liaqat Ali/Documents/ChiGaNet/NewHandPDImgs/HealthySpiral/HealthySpiral\\\\sp2-H31.jpg', 'C:/Users/Liaqat Ali/Documents/ChiGaNet/NewHandPDImgs/HealthySpiral/HealthySpiral\\\\sp2-H32.jpg', 'C:/Users/Liaqat Ali/Documents/ChiGaNet/NewHandPDImgs/HealthySpiral/HealthySpiral\\\\sp2-H33.jpg', 'C:/Users/Liaqat Ali/Documents/ChiGaNet/NewHandPDImgs/HealthySpiral/HealthySpiral\\\\sp2-H34.jpg', 'C:/Users/Liaqat Ali/Documents/ChiGaNet/NewHandPDImgs/HealthySpiral/HealthySpiral\\\\sp2-H35.jpg', 'C:/Users/Liaqat Ali/Documents/ChiGaNet/NewHandPDImgs/HealthySpiral/HealthySpiral\\\\sp2-H36.jpg', 'C:/Users/Liaqat Ali/Documents/ChiGaNet/NewHandPDImgs/HealthySpiral/HealthySpiral\\\\sp2-H37.jpg', 'C:/Users/Liaqat Ali/Documents/ChiGaNet/NewHandPDImgs/HealthySpiral/HealthySpiral\\\\sp2-H38.jpg', 'C:/Users/Liaqat Ali/Documents/ChiGaNet/NewHandPDImgs/HealthySpiral/HealthySpiral\\\\sp2-H4.jpg', 'C:/Users/Liaqat Ali/Documents/ChiGaNet/NewHandPDImgs/HealthySpiral/HealthySpiral\\\\sp2-H5.jpg', 'C:/Users/Liaqat Ali/Documents/ChiGaNet/NewHandPDImgs/HealthySpiral/HealthySpiral\\\\sp2-H7.jpg', 'C:/Users/Liaqat Ali/Documents/ChiGaNet/NewHandPDImgs/HealthySpiral/HealthySpiral\\\\sp2-H8.jpg', 'C:/Users/Liaqat Ali/Documents/ChiGaNet/NewHandPDImgs/HealthySpiral/HealthySpiral\\\\sp2-H9.jpg', 'C:/Users/Liaqat Ali/Documents/ChiGaNet/NewHandPDImgs/HealthySpiral/HealthySpiral\\\\sp3-H1.jpg', 'C:/Users/Liaqat Ali/Documents/ChiGaNet/NewHandPDImgs/HealthySpiral/HealthySpiral\\\\sp3-H10.jpg', 'C:/Users/Liaqat Ali/Documents/ChiGaNet/NewHandPDImgs/HealthySpiral/HealthySpiral\\\\sp3-H11.jpg', 'C:/Users/Liaqat Ali/Documents/ChiGaNet/NewHandPDImgs/HealthySpiral/HealthySpiral\\\\sp3-H12.jpg', 'C:/Users/Liaqat Ali/Documents/ChiGaNet/NewHandPDImgs/HealthySpiral/HealthySpiral\\\\sp3-H13.jpg', 'C:/Users/Liaqat Ali/Documents/ChiGaNet/NewHandPDImgs/HealthySpiral/HealthySpiral\\\\sp3-H14.jpg', 'C:/Users/Liaqat Ali/Documents/ChiGaNet/NewHandPDImgs/HealthySpiral/HealthySpiral\\\\sp3-H16.jpg', 'C:/Users/Liaqat Ali/Documents/ChiGaNet/NewHandPDImgs/HealthySpiral/HealthySpiral\\\\sp3-H17.jpg', 'C:/Users/Liaqat Ali/Documents/ChiGaNet/NewHandPDImgs/HealthySpiral/HealthySpiral\\\\sp3-H18.jpg', 'C:/Users/Liaqat Ali/Documents/ChiGaNet/NewHandPDImgs/HealthySpiral/HealthySpiral\\\\sp3-H19.jpg', 'C:/Users/Liaqat Ali/Documents/ChiGaNet/NewHandPDImgs/HealthySpiral/HealthySpiral\\\\sp3-H2.jpg', 'C:/Users/Liaqat Ali/Documents/ChiGaNet/NewHandPDImgs/HealthySpiral/HealthySpiral\\\\sp3-H20.jpg', 'C:/Users/Liaqat Ali/Documents/ChiGaNet/NewHandPDImgs/HealthySpiral/HealthySpiral\\\\sp3-H21.jpg', 'C:/Users/Liaqat Ali/Documents/ChiGaNet/NewHandPDImgs/HealthySpiral/HealthySpiral\\\\sp3-H22.jpg', 'C:/Users/Liaqat Ali/Documents/ChiGaNet/NewHandPDImgs/HealthySpiral/HealthySpiral\\\\sp3-H23.jpg', 'C:/Users/Liaqat Ali/Documents/ChiGaNet/NewHandPDImgs/HealthySpiral/HealthySpiral\\\\sp3-H24.jpg', 'C:/Users/Liaqat Ali/Documents/ChiGaNet/NewHandPDImgs/HealthySpiral/HealthySpiral\\\\sp3-H26.jpg', 'C:/Users/Liaqat Ali/Documents/ChiGaNet/NewHandPDImgs/HealthySpiral/HealthySpiral\\\\sp3-H27.jpg', 'C:/Users/Liaqat Ali/Documents/ChiGaNet/NewHandPDImgs/HealthySpiral/HealthySpiral\\\\sp3-H28.jpg', 'C:/Users/Liaqat Ali/Documents/ChiGaNet/NewHandPDImgs/HealthySpiral/HealthySpiral\\\\sp3-H29.jpg', 'C:/Users/Liaqat Ali/Documents/ChiGaNet/NewHandPDImgs/HealthySpiral/HealthySpiral\\\\sp3-H3.jpg', 'C:/Users/Liaqat Ali/Documents/ChiGaNet/NewHandPDImgs/HealthySpiral/HealthySpiral\\\\sp3-H30.jpg', 'C:/Users/Liaqat Ali/Documents/ChiGaNet/NewHandPDImgs/HealthySpiral/HealthySpiral\\\\sp3-H31.jpg', 'C:/Users/Liaqat Ali/Documents/ChiGaNet/NewHandPDImgs/HealthySpiral/HealthySpiral\\\\sp3-H32.jpg', 'C:/Users/Liaqat Ali/Documents/ChiGaNet/NewHandPDImgs/HealthySpiral/HealthySpiral\\\\sp3-H33.jpg', 'C:/Users/Liaqat Ali/Documents/ChiGaNet/NewHandPDImgs/HealthySpiral/HealthySpiral\\\\sp3-H34.jpg', 'C:/Users/Liaqat Ali/Documents/ChiGaNet/NewHandPDImgs/HealthySpiral/HealthySpiral\\\\sp3-H35.jpg', 'C:/Users/Liaqat Ali/Documents/ChiGaNet/NewHandPDImgs/HealthySpiral/HealthySpiral\\\\sp3-H36.jpg', 'C:/Users/Liaqat Ali/Documents/ChiGaNet/NewHandPDImgs/HealthySpiral/HealthySpiral\\\\sp3-H37.jpg', 'C:/Users/Liaqat Ali/Documents/ChiGaNet/NewHandPDImgs/HealthySpiral/HealthySpiral\\\\sp3-H38.jpg', 'C:/Users/Liaqat Ali/Documents/ChiGaNet/NewHandPDImgs/HealthySpiral/HealthySpiral\\\\sp3-H4.jpg', 'C:/Users/Liaqat Ali/Documents/ChiGaNet/NewHandPDImgs/HealthySpiral/HealthySpiral\\\\sp3-H5.jpg', 'C:/Users/Liaqat Ali/Documents/ChiGaNet/NewHandPDImgs/HealthySpiral/HealthySpiral\\\\sp3-H7.jpg', 'C:/Users/Liaqat Ali/Documents/ChiGaNet/NewHandPDImgs/HealthySpiral/HealthySpiral\\\\sp3-H8.jpg', 'C:/Users/Liaqat Ali/Documents/ChiGaNet/NewHandPDImgs/HealthySpiral/HealthySpiral\\\\sp3-H9.jpg', 'C:/Users/Liaqat Ali/Documents/ChiGaNet/NewHandPDImgs/HealthySpiral/HealthySpiral\\\\sp4-H1.jpg', 'C:/Users/Liaqat Ali/Documents/ChiGaNet/NewHandPDImgs/HealthySpiral/HealthySpiral\\\\sp4-H10.jpg', 'C:/Users/Liaqat Ali/Documents/ChiGaNet/NewHandPDImgs/HealthySpiral/HealthySpiral\\\\sp4-H11.jpg', 'C:/Users/Liaqat Ali/Documents/ChiGaNet/NewHandPDImgs/HealthySpiral/HealthySpiral\\\\sp4-H12.jpg', 'C:/Users/Liaqat Ali/Documents/ChiGaNet/NewHandPDImgs/HealthySpiral/HealthySpiral\\\\sp4-H13.jpg', 'C:/Users/Liaqat Ali/Documents/ChiGaNet/NewHandPDImgs/HealthySpiral/HealthySpiral\\\\sp4-H14.jpg', 'C:/Users/Liaqat Ali/Documents/ChiGaNet/NewHandPDImgs/HealthySpiral/HealthySpiral\\\\sp4-H16.jpg', 'C:/Users/Liaqat Ali/Documents/ChiGaNet/NewHandPDImgs/HealthySpiral/HealthySpiral\\\\sp4-H17.jpg', 'C:/Users/Liaqat Ali/Documents/ChiGaNet/NewHandPDImgs/HealthySpiral/HealthySpiral\\\\sp4-H18.jpg', 'C:/Users/Liaqat Ali/Documents/ChiGaNet/NewHandPDImgs/HealthySpiral/HealthySpiral\\\\sp4-H19.jpg', 'C:/Users/Liaqat Ali/Documents/ChiGaNet/NewHandPDImgs/HealthySpiral/HealthySpiral\\\\sp4-H2.jpg', 'C:/Users/Liaqat Ali/Documents/ChiGaNet/NewHandPDImgs/HealthySpiral/HealthySpiral\\\\sp4-H20.jpg', 'C:/Users/Liaqat Ali/Documents/ChiGaNet/NewHandPDImgs/HealthySpiral/HealthySpiral\\\\sp4-H21.jpg', 'C:/Users/Liaqat Ali/Documents/ChiGaNet/NewHandPDImgs/HealthySpiral/HealthySpiral\\\\sp4-H22.jpg', 'C:/Users/Liaqat Ali/Documents/ChiGaNet/NewHandPDImgs/HealthySpiral/HealthySpiral\\\\sp4-H23.jpg', 'C:/Users/Liaqat Ali/Documents/ChiGaNet/NewHandPDImgs/HealthySpiral/HealthySpiral\\\\sp4-H24.jpg', 'C:/Users/Liaqat Ali/Documents/ChiGaNet/NewHandPDImgs/HealthySpiral/HealthySpiral\\\\sp4-H26.jpg', 'C:/Users/Liaqat Ali/Documents/ChiGaNet/NewHandPDImgs/HealthySpiral/HealthySpiral\\\\sp4-H27.jpg', 'C:/Users/Liaqat Ali/Documents/ChiGaNet/NewHandPDImgs/HealthySpiral/HealthySpiral\\\\sp4-H28.jpg', 'C:/Users/Liaqat Ali/Documents/ChiGaNet/NewHandPDImgs/HealthySpiral/HealthySpiral\\\\sp4-H29.jpg', 'C:/Users/Liaqat Ali/Documents/ChiGaNet/NewHandPDImgs/HealthySpiral/HealthySpiral\\\\sp4-H3.jpg', 'C:/Users/Liaqat Ali/Documents/ChiGaNet/NewHandPDImgs/HealthySpiral/HealthySpiral\\\\sp4-H30.jpg', 'C:/Users/Liaqat Ali/Documents/ChiGaNet/NewHandPDImgs/HealthySpiral/HealthySpiral\\\\sp4-H31.jpg', 'C:/Users/Liaqat Ali/Documents/ChiGaNet/NewHandPDImgs/HealthySpiral/HealthySpiral\\\\sp4-H32.jpg', 'C:/Users/Liaqat Ali/Documents/ChiGaNet/NewHandPDImgs/HealthySpiral/HealthySpiral\\\\sp4-H33.jpg', 'C:/Users/Liaqat Ali/Documents/ChiGaNet/NewHandPDImgs/HealthySpiral/HealthySpiral\\\\sp4-H34.jpg', 'C:/Users/Liaqat Ali/Documents/ChiGaNet/NewHandPDImgs/HealthySpiral/HealthySpiral\\\\sp4-H35.jpg', 'C:/Users/Liaqat Ali/Documents/ChiGaNet/NewHandPDImgs/HealthySpiral/HealthySpiral\\\\sp4-H36.jpg', 'C:/Users/Liaqat Ali/Documents/ChiGaNet/NewHandPDImgs/HealthySpiral/HealthySpiral\\\\sp4-H37.jpg', 'C:/Users/Liaqat Ali/Documents/ChiGaNet/NewHandPDImgs/HealthySpiral/HealthySpiral\\\\sp4-H38.jpg', 'C:/Users/Liaqat Ali/Documents/ChiGaNet/NewHandPDImgs/HealthySpiral/HealthySpiral\\\\sp4-H4.jpg', 'C:/Users/Liaqat Ali/Documents/ChiGaNet/NewHandPDImgs/HealthySpiral/HealthySpiral\\\\sp4-H5.jpg', 'C:/Users/Liaqat Ali/Documents/ChiGaNet/NewHandPDImgs/HealthySpiral/HealthySpiral\\\\sp4-H7.jpg', 'C:/Users/Liaqat Ali/Documents/ChiGaNet/NewHandPDImgs/HealthySpiral/HealthySpiral\\\\sp4-H8.jpg', 'C:/Users/Liaqat Ali/Documents/ChiGaNet/NewHandPDImgs/HealthySpiral/HealthySpiral\\\\sp4-H9.jpg']\n"
     ]
    }
   ],
   "source": [
    "import natsort\n",
    "#print(natsort.natsorted(X_PD_All,reverse=False))\n",
    "#X_PD_All = natsort.natsorted(X_PD_All,reverse=False)\n",
    "print(X_H_All)"
   ]
  },
  {
   "cell_type": "code",
   "execution_count": 5,
   "metadata": {
    "colab": {
     "base_uri": "https://localhost:8080/"
    },
    "executionInfo": {
     "elapsed": 22,
     "status": "ok",
     "timestamp": 1723310662658,
     "user": {
      "displayName": "Liaqat Ali",
      "userId": "05679016512873117773"
     },
     "user_tz": -300
    },
    "id": "5KPRmTopJ--m",
    "outputId": "c0c2b968-68ed-43f6-eb95-99312924f329"
   },
   "outputs": [
    {
     "name": "stdout",
     "output_type": "stream",
     "text": [
      "['C:/Users/Liaqat Ali/Documents/ChiGaNet/NewHandPDImgs/PatientSpiral/PatientSpiral\\\\sp1-P1.jpg', 'C:/Users/Liaqat Ali/Documents/ChiGaNet/NewHandPDImgs/PatientSpiral/PatientSpiral\\\\sp1-P10.jpg', 'C:/Users/Liaqat Ali/Documents/ChiGaNet/NewHandPDImgs/PatientSpiral/PatientSpiral\\\\sp1-P11.jpg', 'C:/Users/Liaqat Ali/Documents/ChiGaNet/NewHandPDImgs/PatientSpiral/PatientSpiral\\\\sp1-P12.jpg', 'C:/Users/Liaqat Ali/Documents/ChiGaNet/NewHandPDImgs/PatientSpiral/PatientSpiral\\\\sp1-P13.jpg', 'C:/Users/Liaqat Ali/Documents/ChiGaNet/NewHandPDImgs/PatientSpiral/PatientSpiral\\\\sp1-P14.jpg', 'C:/Users/Liaqat Ali/Documents/ChiGaNet/NewHandPDImgs/PatientSpiral/PatientSpiral\\\\sp1-P15.jpg', 'C:/Users/Liaqat Ali/Documents/ChiGaNet/NewHandPDImgs/PatientSpiral/PatientSpiral\\\\sp1-P16.jpg', 'C:/Users/Liaqat Ali/Documents/ChiGaNet/NewHandPDImgs/PatientSpiral/PatientSpiral\\\\sp1-P17.jpg', 'C:/Users/Liaqat Ali/Documents/ChiGaNet/NewHandPDImgs/PatientSpiral/PatientSpiral\\\\sp1-P18.jpg', 'C:/Users/Liaqat Ali/Documents/ChiGaNet/NewHandPDImgs/PatientSpiral/PatientSpiral\\\\sp1-P19.jpg', 'C:/Users/Liaqat Ali/Documents/ChiGaNet/NewHandPDImgs/PatientSpiral/PatientSpiral\\\\sp1-P2.jpg', 'C:/Users/Liaqat Ali/Documents/ChiGaNet/NewHandPDImgs/PatientSpiral/PatientSpiral\\\\sp1-P20.jpg', 'C:/Users/Liaqat Ali/Documents/ChiGaNet/NewHandPDImgs/PatientSpiral/PatientSpiral\\\\sp1-P21.jpg', 'C:/Users/Liaqat Ali/Documents/ChiGaNet/NewHandPDImgs/PatientSpiral/PatientSpiral\\\\sp1-P22.jpg', 'C:/Users/Liaqat Ali/Documents/ChiGaNet/NewHandPDImgs/PatientSpiral/PatientSpiral\\\\sp1-P23.jpg', 'C:/Users/Liaqat Ali/Documents/ChiGaNet/NewHandPDImgs/PatientSpiral/PatientSpiral\\\\sp1-P24.jpg', 'C:/Users/Liaqat Ali/Documents/ChiGaNet/NewHandPDImgs/PatientSpiral/PatientSpiral\\\\sp1-P25.jpg', 'C:/Users/Liaqat Ali/Documents/ChiGaNet/NewHandPDImgs/PatientSpiral/PatientSpiral\\\\sp1-P26.jpg', 'C:/Users/Liaqat Ali/Documents/ChiGaNet/NewHandPDImgs/PatientSpiral/PatientSpiral\\\\sp1-P27.jpg', 'C:/Users/Liaqat Ali/Documents/ChiGaNet/NewHandPDImgs/PatientSpiral/PatientSpiral\\\\sp1-P28.jpg', 'C:/Users/Liaqat Ali/Documents/ChiGaNet/NewHandPDImgs/PatientSpiral/PatientSpiral\\\\sp1-P29.jpg', 'C:/Users/Liaqat Ali/Documents/ChiGaNet/NewHandPDImgs/PatientSpiral/PatientSpiral\\\\sp1-P3.jpg', 'C:/Users/Liaqat Ali/Documents/ChiGaNet/NewHandPDImgs/PatientSpiral/PatientSpiral\\\\sp1-P30.jpg', 'C:/Users/Liaqat Ali/Documents/ChiGaNet/NewHandPDImgs/PatientSpiral/PatientSpiral\\\\sp1-P31.jpg', 'C:/Users/Liaqat Ali/Documents/ChiGaNet/NewHandPDImgs/PatientSpiral/PatientSpiral\\\\sp1-P32.jpg', 'C:/Users/Liaqat Ali/Documents/ChiGaNet/NewHandPDImgs/PatientSpiral/PatientSpiral\\\\sp1-P4.jpg', 'C:/Users/Liaqat Ali/Documents/ChiGaNet/NewHandPDImgs/PatientSpiral/PatientSpiral\\\\sp1-P6.jpg', 'C:/Users/Liaqat Ali/Documents/ChiGaNet/NewHandPDImgs/PatientSpiral/PatientSpiral\\\\sp1-P7.jpg', 'C:/Users/Liaqat Ali/Documents/ChiGaNet/NewHandPDImgs/PatientSpiral/PatientSpiral\\\\sp1-P8.jpg', 'C:/Users/Liaqat Ali/Documents/ChiGaNet/NewHandPDImgs/PatientSpiral/PatientSpiral\\\\sp1-P9.jpg', 'C:/Users/Liaqat Ali/Documents/ChiGaNet/NewHandPDImgs/PatientSpiral/PatientSpiral\\\\sp2-P1.jpg', 'C:/Users/Liaqat Ali/Documents/ChiGaNet/NewHandPDImgs/PatientSpiral/PatientSpiral\\\\sp2-P10.jpg', 'C:/Users/Liaqat Ali/Documents/ChiGaNet/NewHandPDImgs/PatientSpiral/PatientSpiral\\\\sp2-P11.jpg', 'C:/Users/Liaqat Ali/Documents/ChiGaNet/NewHandPDImgs/PatientSpiral/PatientSpiral\\\\sp2-P12.jpg', 'C:/Users/Liaqat Ali/Documents/ChiGaNet/NewHandPDImgs/PatientSpiral/PatientSpiral\\\\sp2-P13.jpg', 'C:/Users/Liaqat Ali/Documents/ChiGaNet/NewHandPDImgs/PatientSpiral/PatientSpiral\\\\sp2-P14.jpg', 'C:/Users/Liaqat Ali/Documents/ChiGaNet/NewHandPDImgs/PatientSpiral/PatientSpiral\\\\sp2-P15.jpg', 'C:/Users/Liaqat Ali/Documents/ChiGaNet/NewHandPDImgs/PatientSpiral/PatientSpiral\\\\sp2-P16.jpg', 'C:/Users/Liaqat Ali/Documents/ChiGaNet/NewHandPDImgs/PatientSpiral/PatientSpiral\\\\sp2-P17.jpg', 'C:/Users/Liaqat Ali/Documents/ChiGaNet/NewHandPDImgs/PatientSpiral/PatientSpiral\\\\sp2-P18.jpg', 'C:/Users/Liaqat Ali/Documents/ChiGaNet/NewHandPDImgs/PatientSpiral/PatientSpiral\\\\sp2-P19.jpg', 'C:/Users/Liaqat Ali/Documents/ChiGaNet/NewHandPDImgs/PatientSpiral/PatientSpiral\\\\sp2-P2.jpg', 'C:/Users/Liaqat Ali/Documents/ChiGaNet/NewHandPDImgs/PatientSpiral/PatientSpiral\\\\sp2-P20.jpg', 'C:/Users/Liaqat Ali/Documents/ChiGaNet/NewHandPDImgs/PatientSpiral/PatientSpiral\\\\sp2-P21.jpg', 'C:/Users/Liaqat Ali/Documents/ChiGaNet/NewHandPDImgs/PatientSpiral/PatientSpiral\\\\sp2-P22.jpg', 'C:/Users/Liaqat Ali/Documents/ChiGaNet/NewHandPDImgs/PatientSpiral/PatientSpiral\\\\sp2-P23.jpg', 'C:/Users/Liaqat Ali/Documents/ChiGaNet/NewHandPDImgs/PatientSpiral/PatientSpiral\\\\sp2-P24.jpg', 'C:/Users/Liaqat Ali/Documents/ChiGaNet/NewHandPDImgs/PatientSpiral/PatientSpiral\\\\sp2-P25.jpg', 'C:/Users/Liaqat Ali/Documents/ChiGaNet/NewHandPDImgs/PatientSpiral/PatientSpiral\\\\sp2-P26.jpg', 'C:/Users/Liaqat Ali/Documents/ChiGaNet/NewHandPDImgs/PatientSpiral/PatientSpiral\\\\sp2-P27.jpg', 'C:/Users/Liaqat Ali/Documents/ChiGaNet/NewHandPDImgs/PatientSpiral/PatientSpiral\\\\sp2-P28.jpg', 'C:/Users/Liaqat Ali/Documents/ChiGaNet/NewHandPDImgs/PatientSpiral/PatientSpiral\\\\sp2-P29.jpg', 'C:/Users/Liaqat Ali/Documents/ChiGaNet/NewHandPDImgs/PatientSpiral/PatientSpiral\\\\sp2-P3.jpg', 'C:/Users/Liaqat Ali/Documents/ChiGaNet/NewHandPDImgs/PatientSpiral/PatientSpiral\\\\sp2-P30.jpg', 'C:/Users/Liaqat Ali/Documents/ChiGaNet/NewHandPDImgs/PatientSpiral/PatientSpiral\\\\sp2-P31.jpg', 'C:/Users/Liaqat Ali/Documents/ChiGaNet/NewHandPDImgs/PatientSpiral/PatientSpiral\\\\sp2-P32.jpg', 'C:/Users/Liaqat Ali/Documents/ChiGaNet/NewHandPDImgs/PatientSpiral/PatientSpiral\\\\sp2-P4.jpg', 'C:/Users/Liaqat Ali/Documents/ChiGaNet/NewHandPDImgs/PatientSpiral/PatientSpiral\\\\sp2-P6.jpg', 'C:/Users/Liaqat Ali/Documents/ChiGaNet/NewHandPDImgs/PatientSpiral/PatientSpiral\\\\sp2-P7.jpg', 'C:/Users/Liaqat Ali/Documents/ChiGaNet/NewHandPDImgs/PatientSpiral/PatientSpiral\\\\sp2-P8.jpg', 'C:/Users/Liaqat Ali/Documents/ChiGaNet/NewHandPDImgs/PatientSpiral/PatientSpiral\\\\sp2-P9.jpg', 'C:/Users/Liaqat Ali/Documents/ChiGaNet/NewHandPDImgs/PatientSpiral/PatientSpiral\\\\sp3-P1.jpg', 'C:/Users/Liaqat Ali/Documents/ChiGaNet/NewHandPDImgs/PatientSpiral/PatientSpiral\\\\sp3-P10.jpg', 'C:/Users/Liaqat Ali/Documents/ChiGaNet/NewHandPDImgs/PatientSpiral/PatientSpiral\\\\sp3-P11.jpg', 'C:/Users/Liaqat Ali/Documents/ChiGaNet/NewHandPDImgs/PatientSpiral/PatientSpiral\\\\sp3-P12.jpg', 'C:/Users/Liaqat Ali/Documents/ChiGaNet/NewHandPDImgs/PatientSpiral/PatientSpiral\\\\sp3-P13.jpg', 'C:/Users/Liaqat Ali/Documents/ChiGaNet/NewHandPDImgs/PatientSpiral/PatientSpiral\\\\sp3-P14.jpg', 'C:/Users/Liaqat Ali/Documents/ChiGaNet/NewHandPDImgs/PatientSpiral/PatientSpiral\\\\sp3-P15.jpg', 'C:/Users/Liaqat Ali/Documents/ChiGaNet/NewHandPDImgs/PatientSpiral/PatientSpiral\\\\sp3-P16.jpg', 'C:/Users/Liaqat Ali/Documents/ChiGaNet/NewHandPDImgs/PatientSpiral/PatientSpiral\\\\sp3-P17.jpg', 'C:/Users/Liaqat Ali/Documents/ChiGaNet/NewHandPDImgs/PatientSpiral/PatientSpiral\\\\sp3-P18.jpg', 'C:/Users/Liaqat Ali/Documents/ChiGaNet/NewHandPDImgs/PatientSpiral/PatientSpiral\\\\sp3-P19.jpg', 'C:/Users/Liaqat Ali/Documents/ChiGaNet/NewHandPDImgs/PatientSpiral/PatientSpiral\\\\sp3-P2.jpg', 'C:/Users/Liaqat Ali/Documents/ChiGaNet/NewHandPDImgs/PatientSpiral/PatientSpiral\\\\sp3-P20.jpg', 'C:/Users/Liaqat Ali/Documents/ChiGaNet/NewHandPDImgs/PatientSpiral/PatientSpiral\\\\sp3-P21.jpg', 'C:/Users/Liaqat Ali/Documents/ChiGaNet/NewHandPDImgs/PatientSpiral/PatientSpiral\\\\sp3-P22.jpg', 'C:/Users/Liaqat Ali/Documents/ChiGaNet/NewHandPDImgs/PatientSpiral/PatientSpiral\\\\sp3-P23.jpg', 'C:/Users/Liaqat Ali/Documents/ChiGaNet/NewHandPDImgs/PatientSpiral/PatientSpiral\\\\sp3-P24.jpg', 'C:/Users/Liaqat Ali/Documents/ChiGaNet/NewHandPDImgs/PatientSpiral/PatientSpiral\\\\sp3-P25.jpg', 'C:/Users/Liaqat Ali/Documents/ChiGaNet/NewHandPDImgs/PatientSpiral/PatientSpiral\\\\sp3-P26.jpg', 'C:/Users/Liaqat Ali/Documents/ChiGaNet/NewHandPDImgs/PatientSpiral/PatientSpiral\\\\sp3-P27.jpg', 'C:/Users/Liaqat Ali/Documents/ChiGaNet/NewHandPDImgs/PatientSpiral/PatientSpiral\\\\sp3-P28.jpg', 'C:/Users/Liaqat Ali/Documents/ChiGaNet/NewHandPDImgs/PatientSpiral/PatientSpiral\\\\sp3-P29.jpg', 'C:/Users/Liaqat Ali/Documents/ChiGaNet/NewHandPDImgs/PatientSpiral/PatientSpiral\\\\sp3-P3.jpg', 'C:/Users/Liaqat Ali/Documents/ChiGaNet/NewHandPDImgs/PatientSpiral/PatientSpiral\\\\sp3-P30.jpg', 'C:/Users/Liaqat Ali/Documents/ChiGaNet/NewHandPDImgs/PatientSpiral/PatientSpiral\\\\sp3-P31.jpg', 'C:/Users/Liaqat Ali/Documents/ChiGaNet/NewHandPDImgs/PatientSpiral/PatientSpiral\\\\sp3-P32.jpg', 'C:/Users/Liaqat Ali/Documents/ChiGaNet/NewHandPDImgs/PatientSpiral/PatientSpiral\\\\sp3-P4.jpg', 'C:/Users/Liaqat Ali/Documents/ChiGaNet/NewHandPDImgs/PatientSpiral/PatientSpiral\\\\sp3-P6.jpg', 'C:/Users/Liaqat Ali/Documents/ChiGaNet/NewHandPDImgs/PatientSpiral/PatientSpiral\\\\sp3-P7.jpg', 'C:/Users/Liaqat Ali/Documents/ChiGaNet/NewHandPDImgs/PatientSpiral/PatientSpiral\\\\sp3-P8.jpg', 'C:/Users/Liaqat Ali/Documents/ChiGaNet/NewHandPDImgs/PatientSpiral/PatientSpiral\\\\sp3-P9.jpg', 'C:/Users/Liaqat Ali/Documents/ChiGaNet/NewHandPDImgs/PatientSpiral/PatientSpiral\\\\sp4-P1.jpg', 'C:/Users/Liaqat Ali/Documents/ChiGaNet/NewHandPDImgs/PatientSpiral/PatientSpiral\\\\sp4-P10.jpg', 'C:/Users/Liaqat Ali/Documents/ChiGaNet/NewHandPDImgs/PatientSpiral/PatientSpiral\\\\sp4-P11.jpg', 'C:/Users/Liaqat Ali/Documents/ChiGaNet/NewHandPDImgs/PatientSpiral/PatientSpiral\\\\sp4-P12.jpg', 'C:/Users/Liaqat Ali/Documents/ChiGaNet/NewHandPDImgs/PatientSpiral/PatientSpiral\\\\sp4-P13.jpg', 'C:/Users/Liaqat Ali/Documents/ChiGaNet/NewHandPDImgs/PatientSpiral/PatientSpiral\\\\sp4-P14.jpg', 'C:/Users/Liaqat Ali/Documents/ChiGaNet/NewHandPDImgs/PatientSpiral/PatientSpiral\\\\sp4-P15.jpg', 'C:/Users/Liaqat Ali/Documents/ChiGaNet/NewHandPDImgs/PatientSpiral/PatientSpiral\\\\sp4-P16.jpg', 'C:/Users/Liaqat Ali/Documents/ChiGaNet/NewHandPDImgs/PatientSpiral/PatientSpiral\\\\sp4-P17.jpg', 'C:/Users/Liaqat Ali/Documents/ChiGaNet/NewHandPDImgs/PatientSpiral/PatientSpiral\\\\sp4-P18.jpg', 'C:/Users/Liaqat Ali/Documents/ChiGaNet/NewHandPDImgs/PatientSpiral/PatientSpiral\\\\sp4-P19.jpg', 'C:/Users/Liaqat Ali/Documents/ChiGaNet/NewHandPDImgs/PatientSpiral/PatientSpiral\\\\sp4-P2.jpg', 'C:/Users/Liaqat Ali/Documents/ChiGaNet/NewHandPDImgs/PatientSpiral/PatientSpiral\\\\sp4-P20.jpg', 'C:/Users/Liaqat Ali/Documents/ChiGaNet/NewHandPDImgs/PatientSpiral/PatientSpiral\\\\sp4-P21.jpg', 'C:/Users/Liaqat Ali/Documents/ChiGaNet/NewHandPDImgs/PatientSpiral/PatientSpiral\\\\sp4-P22.jpg', 'C:/Users/Liaqat Ali/Documents/ChiGaNet/NewHandPDImgs/PatientSpiral/PatientSpiral\\\\sp4-P23.jpg', 'C:/Users/Liaqat Ali/Documents/ChiGaNet/NewHandPDImgs/PatientSpiral/PatientSpiral\\\\sp4-P24.jpg', 'C:/Users/Liaqat Ali/Documents/ChiGaNet/NewHandPDImgs/PatientSpiral/PatientSpiral\\\\sp4-P25.jpg', 'C:/Users/Liaqat Ali/Documents/ChiGaNet/NewHandPDImgs/PatientSpiral/PatientSpiral\\\\sp4-P26.jpg', 'C:/Users/Liaqat Ali/Documents/ChiGaNet/NewHandPDImgs/PatientSpiral/PatientSpiral\\\\sp4-P27.jpg', 'C:/Users/Liaqat Ali/Documents/ChiGaNet/NewHandPDImgs/PatientSpiral/PatientSpiral\\\\sp4-P28.jpg', 'C:/Users/Liaqat Ali/Documents/ChiGaNet/NewHandPDImgs/PatientSpiral/PatientSpiral\\\\sp4-P29.jpg', 'C:/Users/Liaqat Ali/Documents/ChiGaNet/NewHandPDImgs/PatientSpiral/PatientSpiral\\\\sp4-P3.jpg', 'C:/Users/Liaqat Ali/Documents/ChiGaNet/NewHandPDImgs/PatientSpiral/PatientSpiral\\\\sp4-P30.jpg', 'C:/Users/Liaqat Ali/Documents/ChiGaNet/NewHandPDImgs/PatientSpiral/PatientSpiral\\\\sp4-P31.jpg', 'C:/Users/Liaqat Ali/Documents/ChiGaNet/NewHandPDImgs/PatientSpiral/PatientSpiral\\\\sp4-P32.jpg', 'C:/Users/Liaqat Ali/Documents/ChiGaNet/NewHandPDImgs/PatientSpiral/PatientSpiral\\\\sp4-P4.jpg', 'C:/Users/Liaqat Ali/Documents/ChiGaNet/NewHandPDImgs/PatientSpiral/PatientSpiral\\\\sp4-P6.jpg', 'C:/Users/Liaqat Ali/Documents/ChiGaNet/NewHandPDImgs/PatientSpiral/PatientSpiral\\\\sp4-P7.jpg', 'C:/Users/Liaqat Ali/Documents/ChiGaNet/NewHandPDImgs/PatientSpiral/PatientSpiral\\\\sp4-P8.jpg', 'C:/Users/Liaqat Ali/Documents/ChiGaNet/NewHandPDImgs/PatientSpiral/PatientSpiral\\\\sp4-P9.jpg']\n"
     ]
    }
   ],
   "source": [
    "print(X_PD_All)"
   ]
  },
  {
   "cell_type": "code",
   "execution_count": 6,
   "metadata": {},
   "outputs": [
    {
     "name": "stdout",
     "output_type": "stream",
     "text": [
      "['C:/Users/Liaqat Ali/Documents/ChiGaNet/NewHandPDImgs/PatientSpiral/PatientSpiral\\\\sp1-P1.jpg', 'C:/Users/Liaqat Ali/Documents/ChiGaNet/NewHandPDImgs/PatientSpiral/PatientSpiral\\\\sp1-P10.jpg', 'C:/Users/Liaqat Ali/Documents/ChiGaNet/NewHandPDImgs/PatientSpiral/PatientSpiral\\\\sp1-P11.jpg', 'C:/Users/Liaqat Ali/Documents/ChiGaNet/NewHandPDImgs/PatientSpiral/PatientSpiral\\\\sp1-P12.jpg', 'C:/Users/Liaqat Ali/Documents/ChiGaNet/NewHandPDImgs/PatientSpiral/PatientSpiral\\\\sp1-P13.jpg', 'C:/Users/Liaqat Ali/Documents/ChiGaNet/NewHandPDImgs/PatientSpiral/PatientSpiral\\\\sp1-P14.jpg', 'C:/Users/Liaqat Ali/Documents/ChiGaNet/NewHandPDImgs/PatientSpiral/PatientSpiral\\\\sp1-P15.jpg', 'C:/Users/Liaqat Ali/Documents/ChiGaNet/NewHandPDImgs/PatientSpiral/PatientSpiral\\\\sp1-P16.jpg', 'C:/Users/Liaqat Ali/Documents/ChiGaNet/NewHandPDImgs/PatientSpiral/PatientSpiral\\\\sp1-P17.jpg', 'C:/Users/Liaqat Ali/Documents/ChiGaNet/NewHandPDImgs/PatientSpiral/PatientSpiral\\\\sp1-P18.jpg', 'C:/Users/Liaqat Ali/Documents/ChiGaNet/NewHandPDImgs/PatientSpiral/PatientSpiral\\\\sp1-P19.jpg', 'C:/Users/Liaqat Ali/Documents/ChiGaNet/NewHandPDImgs/PatientSpiral/PatientSpiral\\\\sp1-P2.jpg', 'C:/Users/Liaqat Ali/Documents/ChiGaNet/NewHandPDImgs/PatientSpiral/PatientSpiral\\\\sp1-P20.jpg', 'C:/Users/Liaqat Ali/Documents/ChiGaNet/NewHandPDImgs/PatientSpiral/PatientSpiral\\\\sp1-P21.jpg', 'C:/Users/Liaqat Ali/Documents/ChiGaNet/NewHandPDImgs/PatientSpiral/PatientSpiral\\\\sp1-P22.jpg', 'C:/Users/Liaqat Ali/Documents/ChiGaNet/NewHandPDImgs/PatientSpiral/PatientSpiral\\\\sp1-P23.jpg', 'C:/Users/Liaqat Ali/Documents/ChiGaNet/NewHandPDImgs/PatientSpiral/PatientSpiral\\\\sp1-P24.jpg', 'C:/Users/Liaqat Ali/Documents/ChiGaNet/NewHandPDImgs/PatientSpiral/PatientSpiral\\\\sp1-P25.jpg', 'C:/Users/Liaqat Ali/Documents/ChiGaNet/NewHandPDImgs/PatientSpiral/PatientSpiral\\\\sp1-P26.jpg', 'C:/Users/Liaqat Ali/Documents/ChiGaNet/NewHandPDImgs/PatientSpiral/PatientSpiral\\\\sp1-P27.jpg', 'C:/Users/Liaqat Ali/Documents/ChiGaNet/NewHandPDImgs/PatientSpiral/PatientSpiral\\\\sp1-P28.jpg', 'C:/Users/Liaqat Ali/Documents/ChiGaNet/NewHandPDImgs/PatientSpiral/PatientSpiral\\\\sp1-P29.jpg', 'C:/Users/Liaqat Ali/Documents/ChiGaNet/NewHandPDImgs/PatientSpiral/PatientSpiral\\\\sp1-P3.jpg', 'C:/Users/Liaqat Ali/Documents/ChiGaNet/NewHandPDImgs/PatientSpiral/PatientSpiral\\\\sp1-P30.jpg', 'C:/Users/Liaqat Ali/Documents/ChiGaNet/NewHandPDImgs/PatientSpiral/PatientSpiral\\\\sp1-P31.jpg', 'C:/Users/Liaqat Ali/Documents/ChiGaNet/NewHandPDImgs/PatientSpiral/PatientSpiral\\\\sp1-P32.jpg', 'C:/Users/Liaqat Ali/Documents/ChiGaNet/NewHandPDImgs/PatientSpiral/PatientSpiral\\\\sp1-P4.jpg', 'C:/Users/Liaqat Ali/Documents/ChiGaNet/NewHandPDImgs/PatientSpiral/PatientSpiral\\\\sp1-P6.jpg', 'C:/Users/Liaqat Ali/Documents/ChiGaNet/NewHandPDImgs/PatientSpiral/PatientSpiral\\\\sp1-P7.jpg', 'C:/Users/Liaqat Ali/Documents/ChiGaNet/NewHandPDImgs/PatientSpiral/PatientSpiral\\\\sp1-P8.jpg', 'C:/Users/Liaqat Ali/Documents/ChiGaNet/NewHandPDImgs/PatientSpiral/PatientSpiral\\\\sp1-P9.jpg', 'C:/Users/Liaqat Ali/Documents/ChiGaNet/NewHandPDImgs/PatientSpiral/PatientSpiral\\\\sp2-P1.jpg', 'C:/Users/Liaqat Ali/Documents/ChiGaNet/NewHandPDImgs/PatientSpiral/PatientSpiral\\\\sp2-P10.jpg', 'C:/Users/Liaqat Ali/Documents/ChiGaNet/NewHandPDImgs/PatientSpiral/PatientSpiral\\\\sp2-P11.jpg', 'C:/Users/Liaqat Ali/Documents/ChiGaNet/NewHandPDImgs/PatientSpiral/PatientSpiral\\\\sp2-P12.jpg', 'C:/Users/Liaqat Ali/Documents/ChiGaNet/NewHandPDImgs/PatientSpiral/PatientSpiral\\\\sp2-P13.jpg', 'C:/Users/Liaqat Ali/Documents/ChiGaNet/NewHandPDImgs/PatientSpiral/PatientSpiral\\\\sp2-P14.jpg', 'C:/Users/Liaqat Ali/Documents/ChiGaNet/NewHandPDImgs/PatientSpiral/PatientSpiral\\\\sp2-P15.jpg', 'C:/Users/Liaqat Ali/Documents/ChiGaNet/NewHandPDImgs/PatientSpiral/PatientSpiral\\\\sp2-P16.jpg', 'C:/Users/Liaqat Ali/Documents/ChiGaNet/NewHandPDImgs/PatientSpiral/PatientSpiral\\\\sp2-P17.jpg', 'C:/Users/Liaqat Ali/Documents/ChiGaNet/NewHandPDImgs/PatientSpiral/PatientSpiral\\\\sp2-P18.jpg', 'C:/Users/Liaqat Ali/Documents/ChiGaNet/NewHandPDImgs/PatientSpiral/PatientSpiral\\\\sp2-P19.jpg', 'C:/Users/Liaqat Ali/Documents/ChiGaNet/NewHandPDImgs/PatientSpiral/PatientSpiral\\\\sp2-P2.jpg', 'C:/Users/Liaqat Ali/Documents/ChiGaNet/NewHandPDImgs/PatientSpiral/PatientSpiral\\\\sp2-P20.jpg', 'C:/Users/Liaqat Ali/Documents/ChiGaNet/NewHandPDImgs/PatientSpiral/PatientSpiral\\\\sp2-P21.jpg', 'C:/Users/Liaqat Ali/Documents/ChiGaNet/NewHandPDImgs/PatientSpiral/PatientSpiral\\\\sp2-P22.jpg', 'C:/Users/Liaqat Ali/Documents/ChiGaNet/NewHandPDImgs/PatientSpiral/PatientSpiral\\\\sp2-P23.jpg', 'C:/Users/Liaqat Ali/Documents/ChiGaNet/NewHandPDImgs/PatientSpiral/PatientSpiral\\\\sp2-P24.jpg', 'C:/Users/Liaqat Ali/Documents/ChiGaNet/NewHandPDImgs/PatientSpiral/PatientSpiral\\\\sp2-P25.jpg', 'C:/Users/Liaqat Ali/Documents/ChiGaNet/NewHandPDImgs/PatientSpiral/PatientSpiral\\\\sp2-P26.jpg', 'C:/Users/Liaqat Ali/Documents/ChiGaNet/NewHandPDImgs/PatientSpiral/PatientSpiral\\\\sp2-P27.jpg', 'C:/Users/Liaqat Ali/Documents/ChiGaNet/NewHandPDImgs/PatientSpiral/PatientSpiral\\\\sp2-P28.jpg', 'C:/Users/Liaqat Ali/Documents/ChiGaNet/NewHandPDImgs/PatientSpiral/PatientSpiral\\\\sp2-P29.jpg', 'C:/Users/Liaqat Ali/Documents/ChiGaNet/NewHandPDImgs/PatientSpiral/PatientSpiral\\\\sp2-P3.jpg', 'C:/Users/Liaqat Ali/Documents/ChiGaNet/NewHandPDImgs/PatientSpiral/PatientSpiral\\\\sp2-P30.jpg', 'C:/Users/Liaqat Ali/Documents/ChiGaNet/NewHandPDImgs/PatientSpiral/PatientSpiral\\\\sp2-P31.jpg', 'C:/Users/Liaqat Ali/Documents/ChiGaNet/NewHandPDImgs/PatientSpiral/PatientSpiral\\\\sp2-P32.jpg', 'C:/Users/Liaqat Ali/Documents/ChiGaNet/NewHandPDImgs/PatientSpiral/PatientSpiral\\\\sp2-P4.jpg', 'C:/Users/Liaqat Ali/Documents/ChiGaNet/NewHandPDImgs/PatientSpiral/PatientSpiral\\\\sp2-P6.jpg', 'C:/Users/Liaqat Ali/Documents/ChiGaNet/NewHandPDImgs/PatientSpiral/PatientSpiral\\\\sp2-P7.jpg', 'C:/Users/Liaqat Ali/Documents/ChiGaNet/NewHandPDImgs/PatientSpiral/PatientSpiral\\\\sp2-P8.jpg', 'C:/Users/Liaqat Ali/Documents/ChiGaNet/NewHandPDImgs/PatientSpiral/PatientSpiral\\\\sp2-P9.jpg', 'C:/Users/Liaqat Ali/Documents/ChiGaNet/NewHandPDImgs/PatientSpiral/PatientSpiral\\\\sp3-P1.jpg', 'C:/Users/Liaqat Ali/Documents/ChiGaNet/NewHandPDImgs/PatientSpiral/PatientSpiral\\\\sp3-P10.jpg', 'C:/Users/Liaqat Ali/Documents/ChiGaNet/NewHandPDImgs/PatientSpiral/PatientSpiral\\\\sp3-P11.jpg', 'C:/Users/Liaqat Ali/Documents/ChiGaNet/NewHandPDImgs/PatientSpiral/PatientSpiral\\\\sp3-P12.jpg', 'C:/Users/Liaqat Ali/Documents/ChiGaNet/NewHandPDImgs/PatientSpiral/PatientSpiral\\\\sp3-P13.jpg', 'C:/Users/Liaqat Ali/Documents/ChiGaNet/NewHandPDImgs/PatientSpiral/PatientSpiral\\\\sp3-P14.jpg', 'C:/Users/Liaqat Ali/Documents/ChiGaNet/NewHandPDImgs/PatientSpiral/PatientSpiral\\\\sp3-P15.jpg', 'C:/Users/Liaqat Ali/Documents/ChiGaNet/NewHandPDImgs/PatientSpiral/PatientSpiral\\\\sp3-P16.jpg', 'C:/Users/Liaqat Ali/Documents/ChiGaNet/NewHandPDImgs/PatientSpiral/PatientSpiral\\\\sp3-P17.jpg', 'C:/Users/Liaqat Ali/Documents/ChiGaNet/NewHandPDImgs/PatientSpiral/PatientSpiral\\\\sp3-P18.jpg', 'C:/Users/Liaqat Ali/Documents/ChiGaNet/NewHandPDImgs/PatientSpiral/PatientSpiral\\\\sp3-P19.jpg', 'C:/Users/Liaqat Ali/Documents/ChiGaNet/NewHandPDImgs/PatientSpiral/PatientSpiral\\\\sp3-P2.jpg', 'C:/Users/Liaqat Ali/Documents/ChiGaNet/NewHandPDImgs/PatientSpiral/PatientSpiral\\\\sp3-P20.jpg', 'C:/Users/Liaqat Ali/Documents/ChiGaNet/NewHandPDImgs/PatientSpiral/PatientSpiral\\\\sp3-P21.jpg', 'C:/Users/Liaqat Ali/Documents/ChiGaNet/NewHandPDImgs/PatientSpiral/PatientSpiral\\\\sp3-P22.jpg', 'C:/Users/Liaqat Ali/Documents/ChiGaNet/NewHandPDImgs/PatientSpiral/PatientSpiral\\\\sp3-P23.jpg', 'C:/Users/Liaqat Ali/Documents/ChiGaNet/NewHandPDImgs/PatientSpiral/PatientSpiral\\\\sp3-P24.jpg', 'C:/Users/Liaqat Ali/Documents/ChiGaNet/NewHandPDImgs/PatientSpiral/PatientSpiral\\\\sp3-P25.jpg', 'C:/Users/Liaqat Ali/Documents/ChiGaNet/NewHandPDImgs/PatientSpiral/PatientSpiral\\\\sp3-P26.jpg', 'C:/Users/Liaqat Ali/Documents/ChiGaNet/NewHandPDImgs/PatientSpiral/PatientSpiral\\\\sp3-P27.jpg', 'C:/Users/Liaqat Ali/Documents/ChiGaNet/NewHandPDImgs/PatientSpiral/PatientSpiral\\\\sp3-P28.jpg', 'C:/Users/Liaqat Ali/Documents/ChiGaNet/NewHandPDImgs/PatientSpiral/PatientSpiral\\\\sp3-P29.jpg', 'C:/Users/Liaqat Ali/Documents/ChiGaNet/NewHandPDImgs/PatientSpiral/PatientSpiral\\\\sp3-P3.jpg', 'C:/Users/Liaqat Ali/Documents/ChiGaNet/NewHandPDImgs/PatientSpiral/PatientSpiral\\\\sp3-P30.jpg', 'C:/Users/Liaqat Ali/Documents/ChiGaNet/NewHandPDImgs/PatientSpiral/PatientSpiral\\\\sp3-P31.jpg', 'C:/Users/Liaqat Ali/Documents/ChiGaNet/NewHandPDImgs/PatientSpiral/PatientSpiral\\\\sp3-P32.jpg', 'C:/Users/Liaqat Ali/Documents/ChiGaNet/NewHandPDImgs/PatientSpiral/PatientSpiral\\\\sp3-P4.jpg', 'C:/Users/Liaqat Ali/Documents/ChiGaNet/NewHandPDImgs/PatientSpiral/PatientSpiral\\\\sp3-P6.jpg', 'C:/Users/Liaqat Ali/Documents/ChiGaNet/NewHandPDImgs/PatientSpiral/PatientSpiral\\\\sp3-P7.jpg', 'C:/Users/Liaqat Ali/Documents/ChiGaNet/NewHandPDImgs/PatientSpiral/PatientSpiral\\\\sp3-P8.jpg', 'C:/Users/Liaqat Ali/Documents/ChiGaNet/NewHandPDImgs/PatientSpiral/PatientSpiral\\\\sp3-P9.jpg', 'C:/Users/Liaqat Ali/Documents/ChiGaNet/NewHandPDImgs/PatientSpiral/PatientSpiral\\\\sp4-P1.jpg', 'C:/Users/Liaqat Ali/Documents/ChiGaNet/NewHandPDImgs/PatientSpiral/PatientSpiral\\\\sp4-P10.jpg', 'C:/Users/Liaqat Ali/Documents/ChiGaNet/NewHandPDImgs/PatientSpiral/PatientSpiral\\\\sp4-P11.jpg', 'C:/Users/Liaqat Ali/Documents/ChiGaNet/NewHandPDImgs/PatientSpiral/PatientSpiral\\\\sp4-P12.jpg', 'C:/Users/Liaqat Ali/Documents/ChiGaNet/NewHandPDImgs/PatientSpiral/PatientSpiral\\\\sp4-P13.jpg', 'C:/Users/Liaqat Ali/Documents/ChiGaNet/NewHandPDImgs/PatientSpiral/PatientSpiral\\\\sp4-P14.jpg', 'C:/Users/Liaqat Ali/Documents/ChiGaNet/NewHandPDImgs/PatientSpiral/PatientSpiral\\\\sp4-P15.jpg', 'C:/Users/Liaqat Ali/Documents/ChiGaNet/NewHandPDImgs/PatientSpiral/PatientSpiral\\\\sp4-P16.jpg', 'C:/Users/Liaqat Ali/Documents/ChiGaNet/NewHandPDImgs/PatientSpiral/PatientSpiral\\\\sp4-P17.jpg', 'C:/Users/Liaqat Ali/Documents/ChiGaNet/NewHandPDImgs/PatientSpiral/PatientSpiral\\\\sp4-P18.jpg', 'C:/Users/Liaqat Ali/Documents/ChiGaNet/NewHandPDImgs/PatientSpiral/PatientSpiral\\\\sp4-P19.jpg', 'C:/Users/Liaqat Ali/Documents/ChiGaNet/NewHandPDImgs/PatientSpiral/PatientSpiral\\\\sp4-P2.jpg', 'C:/Users/Liaqat Ali/Documents/ChiGaNet/NewHandPDImgs/PatientSpiral/PatientSpiral\\\\sp4-P20.jpg', 'C:/Users/Liaqat Ali/Documents/ChiGaNet/NewHandPDImgs/PatientSpiral/PatientSpiral\\\\sp4-P21.jpg', 'C:/Users/Liaqat Ali/Documents/ChiGaNet/NewHandPDImgs/PatientSpiral/PatientSpiral\\\\sp4-P22.jpg', 'C:/Users/Liaqat Ali/Documents/ChiGaNet/NewHandPDImgs/PatientSpiral/PatientSpiral\\\\sp4-P23.jpg', 'C:/Users/Liaqat Ali/Documents/ChiGaNet/NewHandPDImgs/PatientSpiral/PatientSpiral\\\\sp4-P24.jpg', 'C:/Users/Liaqat Ali/Documents/ChiGaNet/NewHandPDImgs/PatientSpiral/PatientSpiral\\\\sp4-P25.jpg', 'C:/Users/Liaqat Ali/Documents/ChiGaNet/NewHandPDImgs/PatientSpiral/PatientSpiral\\\\sp4-P26.jpg', 'C:/Users/Liaqat Ali/Documents/ChiGaNet/NewHandPDImgs/PatientSpiral/PatientSpiral\\\\sp4-P27.jpg', 'C:/Users/Liaqat Ali/Documents/ChiGaNet/NewHandPDImgs/PatientSpiral/PatientSpiral\\\\sp4-P28.jpg', 'C:/Users/Liaqat Ali/Documents/ChiGaNet/NewHandPDImgs/PatientSpiral/PatientSpiral\\\\sp4-P29.jpg', 'C:/Users/Liaqat Ali/Documents/ChiGaNet/NewHandPDImgs/PatientSpiral/PatientSpiral\\\\sp4-P3.jpg', 'C:/Users/Liaqat Ali/Documents/ChiGaNet/NewHandPDImgs/PatientSpiral/PatientSpiral\\\\sp4-P30.jpg', 'C:/Users/Liaqat Ali/Documents/ChiGaNet/NewHandPDImgs/PatientSpiral/PatientSpiral\\\\sp4-P31.jpg', 'C:/Users/Liaqat Ali/Documents/ChiGaNet/NewHandPDImgs/PatientSpiral/PatientSpiral\\\\sp4-P32.jpg', 'C:/Users/Liaqat Ali/Documents/ChiGaNet/NewHandPDImgs/PatientSpiral/PatientSpiral\\\\sp4-P4.jpg', 'C:/Users/Liaqat Ali/Documents/ChiGaNet/NewHandPDImgs/PatientSpiral/PatientSpiral\\\\sp4-P6.jpg', 'C:/Users/Liaqat Ali/Documents/ChiGaNet/NewHandPDImgs/PatientSpiral/PatientSpiral\\\\sp4-P7.jpg', 'C:/Users/Liaqat Ali/Documents/ChiGaNet/NewHandPDImgs/PatientSpiral/PatientSpiral\\\\sp4-P8.jpg', 'C:/Users/Liaqat Ali/Documents/ChiGaNet/NewHandPDImgs/PatientSpiral/PatientSpiral\\\\sp4-P9.jpg']\n"
     ]
    }
   ],
   "source": [
    "import re\n",
    "\n",
    "def custom_sort_key(path):\n",
    "    # Extract the filename from the path\n",
    "    filename = path.split('\\\\')[-1]  # Use '\\\\' for Windows paths\n",
    "\n",
    "    # Use regex to extract the prefix and suffix numbers\n",
    "    match = re.match(r'mea(\\d+)-P(\\d+)\\.jpg$', filename)\n",
    "    \n",
    "    if match:\n",
    "        mea_number = int(match.group(1))  # Extract number after 'mea'\n",
    "        p_number = int(match.group(2))    # Extract number after 'P'\n",
    "        return (p_number, mea_number)\n",
    "    else:\n",
    "        # Return a high default value or handle non-matching cases\n",
    "        return (float('inf'), float('inf'))\n",
    "\n",
    "# Filter out non-image files if necessary\n",
    "X_PD_All_filtered = [path for path in X_PD_All if path.endswith('.jpg')]\n",
    "\n",
    "# Sort the list using the custom key\n",
    "X_PD_All_sorted = sorted(X_PD_All_filtered, key=custom_sort_key)\n",
    "\n",
    "print(X_PD_All_sorted)\n"
   ]
  },
  {
   "cell_type": "code",
   "execution_count": 7,
   "metadata": {},
   "outputs": [
    {
     "name": "stdout",
     "output_type": "stream",
     "text": [
      "C:/Users/Liaqat Ali/Documents/ChiGaNet/NewHandPDImgs/PatientSpiral/PatientSpiral\\sp1-P1.jpg\n",
      "C:/Users/Liaqat Ali/Documents/ChiGaNet/NewHandPDImgs/PatientSpiral/PatientSpiral\\sp1-P10.jpg\n",
      "C:/Users/Liaqat Ali/Documents/ChiGaNet/NewHandPDImgs/PatientSpiral/PatientSpiral\\sp1-P11.jpg\n",
      "C:/Users/Liaqat Ali/Documents/ChiGaNet/NewHandPDImgs/PatientSpiral/PatientSpiral\\sp1-P12.jpg\n",
      "C:/Users/Liaqat Ali/Documents/ChiGaNet/NewHandPDImgs/PatientSpiral/PatientSpiral\\sp1-P13.jpg\n",
      "C:/Users/Liaqat Ali/Documents/ChiGaNet/NewHandPDImgs/PatientSpiral/PatientSpiral\\sp1-P14.jpg\n",
      "C:/Users/Liaqat Ali/Documents/ChiGaNet/NewHandPDImgs/PatientSpiral/PatientSpiral\\sp1-P15.jpg\n",
      "C:/Users/Liaqat Ali/Documents/ChiGaNet/NewHandPDImgs/PatientSpiral/PatientSpiral\\sp1-P16.jpg\n",
      "C:/Users/Liaqat Ali/Documents/ChiGaNet/NewHandPDImgs/PatientSpiral/PatientSpiral\\sp1-P17.jpg\n",
      "C:/Users/Liaqat Ali/Documents/ChiGaNet/NewHandPDImgs/PatientSpiral/PatientSpiral\\sp1-P18.jpg\n",
      "C:/Users/Liaqat Ali/Documents/ChiGaNet/NewHandPDImgs/PatientSpiral/PatientSpiral\\sp1-P19.jpg\n",
      "C:/Users/Liaqat Ali/Documents/ChiGaNet/NewHandPDImgs/PatientSpiral/PatientSpiral\\sp1-P2.jpg\n",
      "C:/Users/Liaqat Ali/Documents/ChiGaNet/NewHandPDImgs/PatientSpiral/PatientSpiral\\sp1-P20.jpg\n",
      "C:/Users/Liaqat Ali/Documents/ChiGaNet/NewHandPDImgs/PatientSpiral/PatientSpiral\\sp1-P21.jpg\n",
      "C:/Users/Liaqat Ali/Documents/ChiGaNet/NewHandPDImgs/PatientSpiral/PatientSpiral\\sp1-P22.jpg\n",
      "C:/Users/Liaqat Ali/Documents/ChiGaNet/NewHandPDImgs/PatientSpiral/PatientSpiral\\sp1-P23.jpg\n",
      "C:/Users/Liaqat Ali/Documents/ChiGaNet/NewHandPDImgs/PatientSpiral/PatientSpiral\\sp1-P24.jpg\n",
      "C:/Users/Liaqat Ali/Documents/ChiGaNet/NewHandPDImgs/PatientSpiral/PatientSpiral\\sp1-P25.jpg\n",
      "C:/Users/Liaqat Ali/Documents/ChiGaNet/NewHandPDImgs/PatientSpiral/PatientSpiral\\sp1-P26.jpg\n",
      "C:/Users/Liaqat Ali/Documents/ChiGaNet/NewHandPDImgs/PatientSpiral/PatientSpiral\\sp1-P27.jpg\n",
      "C:/Users/Liaqat Ali/Documents/ChiGaNet/NewHandPDImgs/PatientSpiral/PatientSpiral\\sp1-P28.jpg\n",
      "C:/Users/Liaqat Ali/Documents/ChiGaNet/NewHandPDImgs/PatientSpiral/PatientSpiral\\sp1-P29.jpg\n",
      "C:/Users/Liaqat Ali/Documents/ChiGaNet/NewHandPDImgs/PatientSpiral/PatientSpiral\\sp1-P3.jpg\n",
      "C:/Users/Liaqat Ali/Documents/ChiGaNet/NewHandPDImgs/PatientSpiral/PatientSpiral\\sp1-P30.jpg\n",
      "C:/Users/Liaqat Ali/Documents/ChiGaNet/NewHandPDImgs/PatientSpiral/PatientSpiral\\sp1-P31.jpg\n",
      "C:/Users/Liaqat Ali/Documents/ChiGaNet/NewHandPDImgs/PatientSpiral/PatientSpiral\\sp1-P32.jpg\n",
      "C:/Users/Liaqat Ali/Documents/ChiGaNet/NewHandPDImgs/PatientSpiral/PatientSpiral\\sp1-P4.jpg\n",
      "C:/Users/Liaqat Ali/Documents/ChiGaNet/NewHandPDImgs/PatientSpiral/PatientSpiral\\sp1-P6.jpg\n",
      "C:/Users/Liaqat Ali/Documents/ChiGaNet/NewHandPDImgs/PatientSpiral/PatientSpiral\\sp1-P7.jpg\n",
      "C:/Users/Liaqat Ali/Documents/ChiGaNet/NewHandPDImgs/PatientSpiral/PatientSpiral\\sp1-P8.jpg\n",
      "C:/Users/Liaqat Ali/Documents/ChiGaNet/NewHandPDImgs/PatientSpiral/PatientSpiral\\sp1-P9.jpg\n",
      "C:/Users/Liaqat Ali/Documents/ChiGaNet/NewHandPDImgs/PatientSpiral/PatientSpiral\\sp2-P1.jpg\n",
      "C:/Users/Liaqat Ali/Documents/ChiGaNet/NewHandPDImgs/PatientSpiral/PatientSpiral\\sp2-P10.jpg\n",
      "C:/Users/Liaqat Ali/Documents/ChiGaNet/NewHandPDImgs/PatientSpiral/PatientSpiral\\sp2-P11.jpg\n",
      "C:/Users/Liaqat Ali/Documents/ChiGaNet/NewHandPDImgs/PatientSpiral/PatientSpiral\\sp2-P12.jpg\n",
      "C:/Users/Liaqat Ali/Documents/ChiGaNet/NewHandPDImgs/PatientSpiral/PatientSpiral\\sp2-P13.jpg\n",
      "C:/Users/Liaqat Ali/Documents/ChiGaNet/NewHandPDImgs/PatientSpiral/PatientSpiral\\sp2-P14.jpg\n",
      "C:/Users/Liaqat Ali/Documents/ChiGaNet/NewHandPDImgs/PatientSpiral/PatientSpiral\\sp2-P15.jpg\n",
      "C:/Users/Liaqat Ali/Documents/ChiGaNet/NewHandPDImgs/PatientSpiral/PatientSpiral\\sp2-P16.jpg\n",
      "C:/Users/Liaqat Ali/Documents/ChiGaNet/NewHandPDImgs/PatientSpiral/PatientSpiral\\sp2-P17.jpg\n",
      "C:/Users/Liaqat Ali/Documents/ChiGaNet/NewHandPDImgs/PatientSpiral/PatientSpiral\\sp2-P18.jpg\n",
      "C:/Users/Liaqat Ali/Documents/ChiGaNet/NewHandPDImgs/PatientSpiral/PatientSpiral\\sp2-P19.jpg\n",
      "C:/Users/Liaqat Ali/Documents/ChiGaNet/NewHandPDImgs/PatientSpiral/PatientSpiral\\sp2-P2.jpg\n",
      "C:/Users/Liaqat Ali/Documents/ChiGaNet/NewHandPDImgs/PatientSpiral/PatientSpiral\\sp2-P20.jpg\n",
      "C:/Users/Liaqat Ali/Documents/ChiGaNet/NewHandPDImgs/PatientSpiral/PatientSpiral\\sp2-P21.jpg\n",
      "C:/Users/Liaqat Ali/Documents/ChiGaNet/NewHandPDImgs/PatientSpiral/PatientSpiral\\sp2-P22.jpg\n",
      "C:/Users/Liaqat Ali/Documents/ChiGaNet/NewHandPDImgs/PatientSpiral/PatientSpiral\\sp2-P23.jpg\n",
      "C:/Users/Liaqat Ali/Documents/ChiGaNet/NewHandPDImgs/PatientSpiral/PatientSpiral\\sp2-P24.jpg\n",
      "C:/Users/Liaqat Ali/Documents/ChiGaNet/NewHandPDImgs/PatientSpiral/PatientSpiral\\sp2-P25.jpg\n",
      "C:/Users/Liaqat Ali/Documents/ChiGaNet/NewHandPDImgs/PatientSpiral/PatientSpiral\\sp2-P26.jpg\n",
      "C:/Users/Liaqat Ali/Documents/ChiGaNet/NewHandPDImgs/PatientSpiral/PatientSpiral\\sp2-P27.jpg\n",
      "C:/Users/Liaqat Ali/Documents/ChiGaNet/NewHandPDImgs/PatientSpiral/PatientSpiral\\sp2-P28.jpg\n",
      "C:/Users/Liaqat Ali/Documents/ChiGaNet/NewHandPDImgs/PatientSpiral/PatientSpiral\\sp2-P29.jpg\n",
      "C:/Users/Liaqat Ali/Documents/ChiGaNet/NewHandPDImgs/PatientSpiral/PatientSpiral\\sp2-P3.jpg\n",
      "C:/Users/Liaqat Ali/Documents/ChiGaNet/NewHandPDImgs/PatientSpiral/PatientSpiral\\sp2-P30.jpg\n",
      "C:/Users/Liaqat Ali/Documents/ChiGaNet/NewHandPDImgs/PatientSpiral/PatientSpiral\\sp2-P31.jpg\n",
      "C:/Users/Liaqat Ali/Documents/ChiGaNet/NewHandPDImgs/PatientSpiral/PatientSpiral\\sp2-P32.jpg\n",
      "C:/Users/Liaqat Ali/Documents/ChiGaNet/NewHandPDImgs/PatientSpiral/PatientSpiral\\sp2-P4.jpg\n",
      "C:/Users/Liaqat Ali/Documents/ChiGaNet/NewHandPDImgs/PatientSpiral/PatientSpiral\\sp2-P6.jpg\n",
      "C:/Users/Liaqat Ali/Documents/ChiGaNet/NewHandPDImgs/PatientSpiral/PatientSpiral\\sp2-P7.jpg\n",
      "C:/Users/Liaqat Ali/Documents/ChiGaNet/NewHandPDImgs/PatientSpiral/PatientSpiral\\sp2-P8.jpg\n",
      "C:/Users/Liaqat Ali/Documents/ChiGaNet/NewHandPDImgs/PatientSpiral/PatientSpiral\\sp2-P9.jpg\n",
      "C:/Users/Liaqat Ali/Documents/ChiGaNet/NewHandPDImgs/PatientSpiral/PatientSpiral\\sp3-P1.jpg\n",
      "C:/Users/Liaqat Ali/Documents/ChiGaNet/NewHandPDImgs/PatientSpiral/PatientSpiral\\sp3-P10.jpg\n",
      "C:/Users/Liaqat Ali/Documents/ChiGaNet/NewHandPDImgs/PatientSpiral/PatientSpiral\\sp3-P11.jpg\n",
      "C:/Users/Liaqat Ali/Documents/ChiGaNet/NewHandPDImgs/PatientSpiral/PatientSpiral\\sp3-P12.jpg\n",
      "C:/Users/Liaqat Ali/Documents/ChiGaNet/NewHandPDImgs/PatientSpiral/PatientSpiral\\sp3-P13.jpg\n",
      "C:/Users/Liaqat Ali/Documents/ChiGaNet/NewHandPDImgs/PatientSpiral/PatientSpiral\\sp3-P14.jpg\n",
      "C:/Users/Liaqat Ali/Documents/ChiGaNet/NewHandPDImgs/PatientSpiral/PatientSpiral\\sp3-P15.jpg\n",
      "C:/Users/Liaqat Ali/Documents/ChiGaNet/NewHandPDImgs/PatientSpiral/PatientSpiral\\sp3-P16.jpg\n",
      "C:/Users/Liaqat Ali/Documents/ChiGaNet/NewHandPDImgs/PatientSpiral/PatientSpiral\\sp3-P17.jpg\n",
      "C:/Users/Liaqat Ali/Documents/ChiGaNet/NewHandPDImgs/PatientSpiral/PatientSpiral\\sp3-P18.jpg\n",
      "C:/Users/Liaqat Ali/Documents/ChiGaNet/NewHandPDImgs/PatientSpiral/PatientSpiral\\sp3-P19.jpg\n",
      "C:/Users/Liaqat Ali/Documents/ChiGaNet/NewHandPDImgs/PatientSpiral/PatientSpiral\\sp3-P2.jpg\n",
      "C:/Users/Liaqat Ali/Documents/ChiGaNet/NewHandPDImgs/PatientSpiral/PatientSpiral\\sp3-P20.jpg\n",
      "C:/Users/Liaqat Ali/Documents/ChiGaNet/NewHandPDImgs/PatientSpiral/PatientSpiral\\sp3-P21.jpg\n",
      "C:/Users/Liaqat Ali/Documents/ChiGaNet/NewHandPDImgs/PatientSpiral/PatientSpiral\\sp3-P22.jpg\n",
      "C:/Users/Liaqat Ali/Documents/ChiGaNet/NewHandPDImgs/PatientSpiral/PatientSpiral\\sp3-P23.jpg\n",
      "C:/Users/Liaqat Ali/Documents/ChiGaNet/NewHandPDImgs/PatientSpiral/PatientSpiral\\sp3-P24.jpg\n",
      "C:/Users/Liaqat Ali/Documents/ChiGaNet/NewHandPDImgs/PatientSpiral/PatientSpiral\\sp3-P25.jpg\n",
      "C:/Users/Liaqat Ali/Documents/ChiGaNet/NewHandPDImgs/PatientSpiral/PatientSpiral\\sp3-P26.jpg\n",
      "C:/Users/Liaqat Ali/Documents/ChiGaNet/NewHandPDImgs/PatientSpiral/PatientSpiral\\sp3-P27.jpg\n",
      "C:/Users/Liaqat Ali/Documents/ChiGaNet/NewHandPDImgs/PatientSpiral/PatientSpiral\\sp3-P28.jpg\n",
      "C:/Users/Liaqat Ali/Documents/ChiGaNet/NewHandPDImgs/PatientSpiral/PatientSpiral\\sp3-P29.jpg\n",
      "C:/Users/Liaqat Ali/Documents/ChiGaNet/NewHandPDImgs/PatientSpiral/PatientSpiral\\sp3-P3.jpg\n",
      "C:/Users/Liaqat Ali/Documents/ChiGaNet/NewHandPDImgs/PatientSpiral/PatientSpiral\\sp3-P30.jpg\n",
      "C:/Users/Liaqat Ali/Documents/ChiGaNet/NewHandPDImgs/PatientSpiral/PatientSpiral\\sp3-P31.jpg\n",
      "C:/Users/Liaqat Ali/Documents/ChiGaNet/NewHandPDImgs/PatientSpiral/PatientSpiral\\sp3-P32.jpg\n",
      "C:/Users/Liaqat Ali/Documents/ChiGaNet/NewHandPDImgs/PatientSpiral/PatientSpiral\\sp3-P4.jpg\n",
      "C:/Users/Liaqat Ali/Documents/ChiGaNet/NewHandPDImgs/PatientSpiral/PatientSpiral\\sp3-P6.jpg\n",
      "C:/Users/Liaqat Ali/Documents/ChiGaNet/NewHandPDImgs/PatientSpiral/PatientSpiral\\sp3-P7.jpg\n",
      "C:/Users/Liaqat Ali/Documents/ChiGaNet/NewHandPDImgs/PatientSpiral/PatientSpiral\\sp3-P8.jpg\n",
      "C:/Users/Liaqat Ali/Documents/ChiGaNet/NewHandPDImgs/PatientSpiral/PatientSpiral\\sp3-P9.jpg\n",
      "C:/Users/Liaqat Ali/Documents/ChiGaNet/NewHandPDImgs/PatientSpiral/PatientSpiral\\sp4-P1.jpg\n",
      "C:/Users/Liaqat Ali/Documents/ChiGaNet/NewHandPDImgs/PatientSpiral/PatientSpiral\\sp4-P10.jpg\n",
      "C:/Users/Liaqat Ali/Documents/ChiGaNet/NewHandPDImgs/PatientSpiral/PatientSpiral\\sp4-P11.jpg\n",
      "C:/Users/Liaqat Ali/Documents/ChiGaNet/NewHandPDImgs/PatientSpiral/PatientSpiral\\sp4-P12.jpg\n",
      "C:/Users/Liaqat Ali/Documents/ChiGaNet/NewHandPDImgs/PatientSpiral/PatientSpiral\\sp4-P13.jpg\n",
      "C:/Users/Liaqat Ali/Documents/ChiGaNet/NewHandPDImgs/PatientSpiral/PatientSpiral\\sp4-P14.jpg\n",
      "C:/Users/Liaqat Ali/Documents/ChiGaNet/NewHandPDImgs/PatientSpiral/PatientSpiral\\sp4-P15.jpg\n",
      "C:/Users/Liaqat Ali/Documents/ChiGaNet/NewHandPDImgs/PatientSpiral/PatientSpiral\\sp4-P16.jpg\n",
      "C:/Users/Liaqat Ali/Documents/ChiGaNet/NewHandPDImgs/PatientSpiral/PatientSpiral\\sp4-P17.jpg\n",
      "C:/Users/Liaqat Ali/Documents/ChiGaNet/NewHandPDImgs/PatientSpiral/PatientSpiral\\sp4-P18.jpg\n",
      "C:/Users/Liaqat Ali/Documents/ChiGaNet/NewHandPDImgs/PatientSpiral/PatientSpiral\\sp4-P19.jpg\n",
      "C:/Users/Liaqat Ali/Documents/ChiGaNet/NewHandPDImgs/PatientSpiral/PatientSpiral\\sp4-P2.jpg\n",
      "C:/Users/Liaqat Ali/Documents/ChiGaNet/NewHandPDImgs/PatientSpiral/PatientSpiral\\sp4-P20.jpg\n",
      "C:/Users/Liaqat Ali/Documents/ChiGaNet/NewHandPDImgs/PatientSpiral/PatientSpiral\\sp4-P21.jpg\n",
      "C:/Users/Liaqat Ali/Documents/ChiGaNet/NewHandPDImgs/PatientSpiral/PatientSpiral\\sp4-P22.jpg\n",
      "C:/Users/Liaqat Ali/Documents/ChiGaNet/NewHandPDImgs/PatientSpiral/PatientSpiral\\sp4-P23.jpg\n",
      "C:/Users/Liaqat Ali/Documents/ChiGaNet/NewHandPDImgs/PatientSpiral/PatientSpiral\\sp4-P24.jpg\n",
      "C:/Users/Liaqat Ali/Documents/ChiGaNet/NewHandPDImgs/PatientSpiral/PatientSpiral\\sp4-P25.jpg\n",
      "C:/Users/Liaqat Ali/Documents/ChiGaNet/NewHandPDImgs/PatientSpiral/PatientSpiral\\sp4-P26.jpg\n",
      "C:/Users/Liaqat Ali/Documents/ChiGaNet/NewHandPDImgs/PatientSpiral/PatientSpiral\\sp4-P27.jpg\n",
      "C:/Users/Liaqat Ali/Documents/ChiGaNet/NewHandPDImgs/PatientSpiral/PatientSpiral\\sp4-P28.jpg\n",
      "C:/Users/Liaqat Ali/Documents/ChiGaNet/NewHandPDImgs/PatientSpiral/PatientSpiral\\sp4-P29.jpg\n",
      "C:/Users/Liaqat Ali/Documents/ChiGaNet/NewHandPDImgs/PatientSpiral/PatientSpiral\\sp4-P3.jpg\n",
      "C:/Users/Liaqat Ali/Documents/ChiGaNet/NewHandPDImgs/PatientSpiral/PatientSpiral\\sp4-P30.jpg\n",
      "C:/Users/Liaqat Ali/Documents/ChiGaNet/NewHandPDImgs/PatientSpiral/PatientSpiral\\sp4-P31.jpg\n",
      "C:/Users/Liaqat Ali/Documents/ChiGaNet/NewHandPDImgs/PatientSpiral/PatientSpiral\\sp4-P32.jpg\n",
      "C:/Users/Liaqat Ali/Documents/ChiGaNet/NewHandPDImgs/PatientSpiral/PatientSpiral\\sp4-P4.jpg\n",
      "C:/Users/Liaqat Ali/Documents/ChiGaNet/NewHandPDImgs/PatientSpiral/PatientSpiral\\sp4-P6.jpg\n",
      "C:/Users/Liaqat Ali/Documents/ChiGaNet/NewHandPDImgs/PatientSpiral/PatientSpiral\\sp4-P7.jpg\n",
      "C:/Users/Liaqat Ali/Documents/ChiGaNet/NewHandPDImgs/PatientSpiral/PatientSpiral\\sp4-P8.jpg\n",
      "C:/Users/Liaqat Ali/Documents/ChiGaNet/NewHandPDImgs/PatientSpiral/PatientSpiral\\sp4-P9.jpg\n"
     ]
    }
   ],
   "source": [
    "# Print sorted paths\n",
    "for path in X_PD_All_sorted:\n",
    "    print(path)"
   ]
  },
  {
   "cell_type": "code",
   "execution_count": 8,
   "metadata": {
    "colab": {
     "base_uri": "https://localhost:8080/"
    },
    "executionInfo": {
     "elapsed": 14,
     "status": "ok",
     "timestamp": 1723310662658,
     "user": {
      "displayName": "Liaqat Ali",
      "userId": "05679016512873117773"
     },
     "user_tz": -300
    },
    "id": "jQQ40a4-KCyj",
    "outputId": "b0c8d3f9-1912-44b6-8c8a-d1737db62e02"
   },
   "outputs": [
    {
     "name": "stdout",
     "output_type": "stream",
     "text": [
      "['C:/Users/Liaqat Ali/Documents/ChiGaNet/NewHandPDImgs/HealthySpiral/HealthySpiral\\\\sp1-H1.jpg', 'C:/Users/Liaqat Ali/Documents/ChiGaNet/NewHandPDImgs/HealthySpiral/HealthySpiral\\\\sp1-H10.jpg', 'C:/Users/Liaqat Ali/Documents/ChiGaNet/NewHandPDImgs/HealthySpiral/HealthySpiral\\\\sp1-H11.jpg', 'C:/Users/Liaqat Ali/Documents/ChiGaNet/NewHandPDImgs/HealthySpiral/HealthySpiral\\\\sp1-H12.jpg', 'C:/Users/Liaqat Ali/Documents/ChiGaNet/NewHandPDImgs/HealthySpiral/HealthySpiral\\\\sp1-H13.jpg', 'C:/Users/Liaqat Ali/Documents/ChiGaNet/NewHandPDImgs/HealthySpiral/HealthySpiral\\\\sp1-H14.jpg', 'C:/Users/Liaqat Ali/Documents/ChiGaNet/NewHandPDImgs/HealthySpiral/HealthySpiral\\\\sp1-H16.jpg', 'C:/Users/Liaqat Ali/Documents/ChiGaNet/NewHandPDImgs/HealthySpiral/HealthySpiral\\\\sp1-H17.jpg', 'C:/Users/Liaqat Ali/Documents/ChiGaNet/NewHandPDImgs/HealthySpiral/HealthySpiral\\\\sp1-H18.jpg', 'C:/Users/Liaqat Ali/Documents/ChiGaNet/NewHandPDImgs/HealthySpiral/HealthySpiral\\\\sp1-H19.jpg', 'C:/Users/Liaqat Ali/Documents/ChiGaNet/NewHandPDImgs/HealthySpiral/HealthySpiral\\\\sp1-H2.jpg', 'C:/Users/Liaqat Ali/Documents/ChiGaNet/NewHandPDImgs/HealthySpiral/HealthySpiral\\\\sp1-H20.jpg', 'C:/Users/Liaqat Ali/Documents/ChiGaNet/NewHandPDImgs/HealthySpiral/HealthySpiral\\\\sp1-H21.jpg', 'C:/Users/Liaqat Ali/Documents/ChiGaNet/NewHandPDImgs/HealthySpiral/HealthySpiral\\\\sp1-H22.jpg', 'C:/Users/Liaqat Ali/Documents/ChiGaNet/NewHandPDImgs/HealthySpiral/HealthySpiral\\\\sp1-H23.jpg', 'C:/Users/Liaqat Ali/Documents/ChiGaNet/NewHandPDImgs/HealthySpiral/HealthySpiral\\\\sp1-H24.jpg', 'C:/Users/Liaqat Ali/Documents/ChiGaNet/NewHandPDImgs/HealthySpiral/HealthySpiral\\\\sp1-H26.jpg', 'C:/Users/Liaqat Ali/Documents/ChiGaNet/NewHandPDImgs/HealthySpiral/HealthySpiral\\\\sp1-H27.jpg', 'C:/Users/Liaqat Ali/Documents/ChiGaNet/NewHandPDImgs/HealthySpiral/HealthySpiral\\\\sp1-H28.jpg', 'C:/Users/Liaqat Ali/Documents/ChiGaNet/NewHandPDImgs/HealthySpiral/HealthySpiral\\\\sp1-H29.jpg', 'C:/Users/Liaqat Ali/Documents/ChiGaNet/NewHandPDImgs/HealthySpiral/HealthySpiral\\\\sp1-H3.jpg', 'C:/Users/Liaqat Ali/Documents/ChiGaNet/NewHandPDImgs/HealthySpiral/HealthySpiral\\\\sp1-H30.jpg', 'C:/Users/Liaqat Ali/Documents/ChiGaNet/NewHandPDImgs/HealthySpiral/HealthySpiral\\\\sp1-H31.jpg', 'C:/Users/Liaqat Ali/Documents/ChiGaNet/NewHandPDImgs/HealthySpiral/HealthySpiral\\\\sp1-H32.jpg', 'C:/Users/Liaqat Ali/Documents/ChiGaNet/NewHandPDImgs/HealthySpiral/HealthySpiral\\\\sp1-H33.jpg', 'C:/Users/Liaqat Ali/Documents/ChiGaNet/NewHandPDImgs/HealthySpiral/HealthySpiral\\\\sp1-H34.jpg', 'C:/Users/Liaqat Ali/Documents/ChiGaNet/NewHandPDImgs/HealthySpiral/HealthySpiral\\\\sp1-H35.jpg', 'C:/Users/Liaqat Ali/Documents/ChiGaNet/NewHandPDImgs/HealthySpiral/HealthySpiral\\\\sp1-H36.jpg', 'C:/Users/Liaqat Ali/Documents/ChiGaNet/NewHandPDImgs/HealthySpiral/HealthySpiral\\\\sp1-H37.jpg', 'C:/Users/Liaqat Ali/Documents/ChiGaNet/NewHandPDImgs/HealthySpiral/HealthySpiral\\\\sp1-H38.jpg', 'C:/Users/Liaqat Ali/Documents/ChiGaNet/NewHandPDImgs/HealthySpiral/HealthySpiral\\\\sp1-H4.jpg', 'C:/Users/Liaqat Ali/Documents/ChiGaNet/NewHandPDImgs/HealthySpiral/HealthySpiral\\\\sp1-H5.jpg', 'C:/Users/Liaqat Ali/Documents/ChiGaNet/NewHandPDImgs/HealthySpiral/HealthySpiral\\\\sp1-H7.jpg', 'C:/Users/Liaqat Ali/Documents/ChiGaNet/NewHandPDImgs/HealthySpiral/HealthySpiral\\\\sp1-H8.jpg', 'C:/Users/Liaqat Ali/Documents/ChiGaNet/NewHandPDImgs/HealthySpiral/HealthySpiral\\\\sp1-H9.jpg', 'C:/Users/Liaqat Ali/Documents/ChiGaNet/NewHandPDImgs/HealthySpiral/HealthySpiral\\\\sp2-H1.jpg', 'C:/Users/Liaqat Ali/Documents/ChiGaNet/NewHandPDImgs/HealthySpiral/HealthySpiral\\\\sp2-H10.jpg', 'C:/Users/Liaqat Ali/Documents/ChiGaNet/NewHandPDImgs/HealthySpiral/HealthySpiral\\\\sp2-H11.jpg', 'C:/Users/Liaqat Ali/Documents/ChiGaNet/NewHandPDImgs/HealthySpiral/HealthySpiral\\\\sp2-H12.jpg', 'C:/Users/Liaqat Ali/Documents/ChiGaNet/NewHandPDImgs/HealthySpiral/HealthySpiral\\\\sp2-H13.jpg', 'C:/Users/Liaqat Ali/Documents/ChiGaNet/NewHandPDImgs/HealthySpiral/HealthySpiral\\\\sp2-H14.jpg', 'C:/Users/Liaqat Ali/Documents/ChiGaNet/NewHandPDImgs/HealthySpiral/HealthySpiral\\\\sp2-H16.jpg', 'C:/Users/Liaqat Ali/Documents/ChiGaNet/NewHandPDImgs/HealthySpiral/HealthySpiral\\\\sp2-H17.jpg', 'C:/Users/Liaqat Ali/Documents/ChiGaNet/NewHandPDImgs/HealthySpiral/HealthySpiral\\\\sp2-H18.jpg', 'C:/Users/Liaqat Ali/Documents/ChiGaNet/NewHandPDImgs/HealthySpiral/HealthySpiral\\\\sp2-H19.jpg', 'C:/Users/Liaqat Ali/Documents/ChiGaNet/NewHandPDImgs/HealthySpiral/HealthySpiral\\\\sp2-H2.jpg', 'C:/Users/Liaqat Ali/Documents/ChiGaNet/NewHandPDImgs/HealthySpiral/HealthySpiral\\\\sp2-H20.jpg', 'C:/Users/Liaqat Ali/Documents/ChiGaNet/NewHandPDImgs/HealthySpiral/HealthySpiral\\\\sp2-H21.jpg', 'C:/Users/Liaqat Ali/Documents/ChiGaNet/NewHandPDImgs/HealthySpiral/HealthySpiral\\\\sp2-H22.jpg', 'C:/Users/Liaqat Ali/Documents/ChiGaNet/NewHandPDImgs/HealthySpiral/HealthySpiral\\\\sp2-H23.jpg', 'C:/Users/Liaqat Ali/Documents/ChiGaNet/NewHandPDImgs/HealthySpiral/HealthySpiral\\\\sp2-H24.jpg', 'C:/Users/Liaqat Ali/Documents/ChiGaNet/NewHandPDImgs/HealthySpiral/HealthySpiral\\\\sp2-H26.jpg', 'C:/Users/Liaqat Ali/Documents/ChiGaNet/NewHandPDImgs/HealthySpiral/HealthySpiral\\\\sp2-H27.jpg', 'C:/Users/Liaqat Ali/Documents/ChiGaNet/NewHandPDImgs/HealthySpiral/HealthySpiral\\\\sp2-H28.jpg', 'C:/Users/Liaqat Ali/Documents/ChiGaNet/NewHandPDImgs/HealthySpiral/HealthySpiral\\\\sp2-H29.jpg', 'C:/Users/Liaqat Ali/Documents/ChiGaNet/NewHandPDImgs/HealthySpiral/HealthySpiral\\\\sp2-H3.jpg', 'C:/Users/Liaqat Ali/Documents/ChiGaNet/NewHandPDImgs/HealthySpiral/HealthySpiral\\\\sp2-H30.jpg', 'C:/Users/Liaqat Ali/Documents/ChiGaNet/NewHandPDImgs/HealthySpiral/HealthySpiral\\\\sp2-H31.jpg', 'C:/Users/Liaqat Ali/Documents/ChiGaNet/NewHandPDImgs/HealthySpiral/HealthySpiral\\\\sp2-H32.jpg', 'C:/Users/Liaqat Ali/Documents/ChiGaNet/NewHandPDImgs/HealthySpiral/HealthySpiral\\\\sp2-H33.jpg', 'C:/Users/Liaqat Ali/Documents/ChiGaNet/NewHandPDImgs/HealthySpiral/HealthySpiral\\\\sp2-H34.jpg', 'C:/Users/Liaqat Ali/Documents/ChiGaNet/NewHandPDImgs/HealthySpiral/HealthySpiral\\\\sp2-H35.jpg', 'C:/Users/Liaqat Ali/Documents/ChiGaNet/NewHandPDImgs/HealthySpiral/HealthySpiral\\\\sp2-H36.jpg', 'C:/Users/Liaqat Ali/Documents/ChiGaNet/NewHandPDImgs/HealthySpiral/HealthySpiral\\\\sp2-H37.jpg', 'C:/Users/Liaqat Ali/Documents/ChiGaNet/NewHandPDImgs/HealthySpiral/HealthySpiral\\\\sp2-H38.jpg', 'C:/Users/Liaqat Ali/Documents/ChiGaNet/NewHandPDImgs/HealthySpiral/HealthySpiral\\\\sp2-H4.jpg', 'C:/Users/Liaqat Ali/Documents/ChiGaNet/NewHandPDImgs/HealthySpiral/HealthySpiral\\\\sp2-H5.jpg', 'C:/Users/Liaqat Ali/Documents/ChiGaNet/NewHandPDImgs/HealthySpiral/HealthySpiral\\\\sp2-H7.jpg', 'C:/Users/Liaqat Ali/Documents/ChiGaNet/NewHandPDImgs/HealthySpiral/HealthySpiral\\\\sp2-H8.jpg', 'C:/Users/Liaqat Ali/Documents/ChiGaNet/NewHandPDImgs/HealthySpiral/HealthySpiral\\\\sp2-H9.jpg', 'C:/Users/Liaqat Ali/Documents/ChiGaNet/NewHandPDImgs/HealthySpiral/HealthySpiral\\\\sp3-H1.jpg', 'C:/Users/Liaqat Ali/Documents/ChiGaNet/NewHandPDImgs/HealthySpiral/HealthySpiral\\\\sp3-H10.jpg', 'C:/Users/Liaqat Ali/Documents/ChiGaNet/NewHandPDImgs/HealthySpiral/HealthySpiral\\\\sp3-H11.jpg', 'C:/Users/Liaqat Ali/Documents/ChiGaNet/NewHandPDImgs/HealthySpiral/HealthySpiral\\\\sp3-H12.jpg', 'C:/Users/Liaqat Ali/Documents/ChiGaNet/NewHandPDImgs/HealthySpiral/HealthySpiral\\\\sp3-H13.jpg', 'C:/Users/Liaqat Ali/Documents/ChiGaNet/NewHandPDImgs/HealthySpiral/HealthySpiral\\\\sp3-H14.jpg', 'C:/Users/Liaqat Ali/Documents/ChiGaNet/NewHandPDImgs/HealthySpiral/HealthySpiral\\\\sp3-H16.jpg', 'C:/Users/Liaqat Ali/Documents/ChiGaNet/NewHandPDImgs/HealthySpiral/HealthySpiral\\\\sp3-H17.jpg', 'C:/Users/Liaqat Ali/Documents/ChiGaNet/NewHandPDImgs/HealthySpiral/HealthySpiral\\\\sp3-H18.jpg', 'C:/Users/Liaqat Ali/Documents/ChiGaNet/NewHandPDImgs/HealthySpiral/HealthySpiral\\\\sp3-H19.jpg', 'C:/Users/Liaqat Ali/Documents/ChiGaNet/NewHandPDImgs/HealthySpiral/HealthySpiral\\\\sp3-H2.jpg', 'C:/Users/Liaqat Ali/Documents/ChiGaNet/NewHandPDImgs/HealthySpiral/HealthySpiral\\\\sp3-H20.jpg', 'C:/Users/Liaqat Ali/Documents/ChiGaNet/NewHandPDImgs/HealthySpiral/HealthySpiral\\\\sp3-H21.jpg', 'C:/Users/Liaqat Ali/Documents/ChiGaNet/NewHandPDImgs/HealthySpiral/HealthySpiral\\\\sp3-H22.jpg', 'C:/Users/Liaqat Ali/Documents/ChiGaNet/NewHandPDImgs/HealthySpiral/HealthySpiral\\\\sp3-H23.jpg', 'C:/Users/Liaqat Ali/Documents/ChiGaNet/NewHandPDImgs/HealthySpiral/HealthySpiral\\\\sp3-H24.jpg', 'C:/Users/Liaqat Ali/Documents/ChiGaNet/NewHandPDImgs/HealthySpiral/HealthySpiral\\\\sp3-H26.jpg', 'C:/Users/Liaqat Ali/Documents/ChiGaNet/NewHandPDImgs/HealthySpiral/HealthySpiral\\\\sp3-H27.jpg', 'C:/Users/Liaqat Ali/Documents/ChiGaNet/NewHandPDImgs/HealthySpiral/HealthySpiral\\\\sp3-H28.jpg', 'C:/Users/Liaqat Ali/Documents/ChiGaNet/NewHandPDImgs/HealthySpiral/HealthySpiral\\\\sp3-H29.jpg', 'C:/Users/Liaqat Ali/Documents/ChiGaNet/NewHandPDImgs/HealthySpiral/HealthySpiral\\\\sp3-H3.jpg', 'C:/Users/Liaqat Ali/Documents/ChiGaNet/NewHandPDImgs/HealthySpiral/HealthySpiral\\\\sp3-H30.jpg', 'C:/Users/Liaqat Ali/Documents/ChiGaNet/NewHandPDImgs/HealthySpiral/HealthySpiral\\\\sp3-H31.jpg', 'C:/Users/Liaqat Ali/Documents/ChiGaNet/NewHandPDImgs/HealthySpiral/HealthySpiral\\\\sp3-H32.jpg', 'C:/Users/Liaqat Ali/Documents/ChiGaNet/NewHandPDImgs/HealthySpiral/HealthySpiral\\\\sp3-H33.jpg', 'C:/Users/Liaqat Ali/Documents/ChiGaNet/NewHandPDImgs/HealthySpiral/HealthySpiral\\\\sp3-H34.jpg', 'C:/Users/Liaqat Ali/Documents/ChiGaNet/NewHandPDImgs/HealthySpiral/HealthySpiral\\\\sp3-H35.jpg', 'C:/Users/Liaqat Ali/Documents/ChiGaNet/NewHandPDImgs/HealthySpiral/HealthySpiral\\\\sp3-H36.jpg', 'C:/Users/Liaqat Ali/Documents/ChiGaNet/NewHandPDImgs/HealthySpiral/HealthySpiral\\\\sp3-H37.jpg', 'C:/Users/Liaqat Ali/Documents/ChiGaNet/NewHandPDImgs/HealthySpiral/HealthySpiral\\\\sp3-H38.jpg', 'C:/Users/Liaqat Ali/Documents/ChiGaNet/NewHandPDImgs/HealthySpiral/HealthySpiral\\\\sp3-H4.jpg', 'C:/Users/Liaqat Ali/Documents/ChiGaNet/NewHandPDImgs/HealthySpiral/HealthySpiral\\\\sp3-H5.jpg', 'C:/Users/Liaqat Ali/Documents/ChiGaNet/NewHandPDImgs/HealthySpiral/HealthySpiral\\\\sp3-H7.jpg', 'C:/Users/Liaqat Ali/Documents/ChiGaNet/NewHandPDImgs/HealthySpiral/HealthySpiral\\\\sp3-H8.jpg', 'C:/Users/Liaqat Ali/Documents/ChiGaNet/NewHandPDImgs/HealthySpiral/HealthySpiral\\\\sp3-H9.jpg', 'C:/Users/Liaqat Ali/Documents/ChiGaNet/NewHandPDImgs/HealthySpiral/HealthySpiral\\\\sp4-H1.jpg', 'C:/Users/Liaqat Ali/Documents/ChiGaNet/NewHandPDImgs/HealthySpiral/HealthySpiral\\\\sp4-H10.jpg', 'C:/Users/Liaqat Ali/Documents/ChiGaNet/NewHandPDImgs/HealthySpiral/HealthySpiral\\\\sp4-H11.jpg', 'C:/Users/Liaqat Ali/Documents/ChiGaNet/NewHandPDImgs/HealthySpiral/HealthySpiral\\\\sp4-H12.jpg', 'C:/Users/Liaqat Ali/Documents/ChiGaNet/NewHandPDImgs/HealthySpiral/HealthySpiral\\\\sp4-H13.jpg', 'C:/Users/Liaqat Ali/Documents/ChiGaNet/NewHandPDImgs/HealthySpiral/HealthySpiral\\\\sp4-H14.jpg', 'C:/Users/Liaqat Ali/Documents/ChiGaNet/NewHandPDImgs/HealthySpiral/HealthySpiral\\\\sp4-H16.jpg', 'C:/Users/Liaqat Ali/Documents/ChiGaNet/NewHandPDImgs/HealthySpiral/HealthySpiral\\\\sp4-H17.jpg', 'C:/Users/Liaqat Ali/Documents/ChiGaNet/NewHandPDImgs/HealthySpiral/HealthySpiral\\\\sp4-H18.jpg', 'C:/Users/Liaqat Ali/Documents/ChiGaNet/NewHandPDImgs/HealthySpiral/HealthySpiral\\\\sp4-H19.jpg', 'C:/Users/Liaqat Ali/Documents/ChiGaNet/NewHandPDImgs/HealthySpiral/HealthySpiral\\\\sp4-H2.jpg', 'C:/Users/Liaqat Ali/Documents/ChiGaNet/NewHandPDImgs/HealthySpiral/HealthySpiral\\\\sp4-H20.jpg', 'C:/Users/Liaqat Ali/Documents/ChiGaNet/NewHandPDImgs/HealthySpiral/HealthySpiral\\\\sp4-H21.jpg', 'C:/Users/Liaqat Ali/Documents/ChiGaNet/NewHandPDImgs/HealthySpiral/HealthySpiral\\\\sp4-H22.jpg', 'C:/Users/Liaqat Ali/Documents/ChiGaNet/NewHandPDImgs/HealthySpiral/HealthySpiral\\\\sp4-H23.jpg', 'C:/Users/Liaqat Ali/Documents/ChiGaNet/NewHandPDImgs/HealthySpiral/HealthySpiral\\\\sp4-H24.jpg', 'C:/Users/Liaqat Ali/Documents/ChiGaNet/NewHandPDImgs/HealthySpiral/HealthySpiral\\\\sp4-H26.jpg', 'C:/Users/Liaqat Ali/Documents/ChiGaNet/NewHandPDImgs/HealthySpiral/HealthySpiral\\\\sp4-H27.jpg', 'C:/Users/Liaqat Ali/Documents/ChiGaNet/NewHandPDImgs/HealthySpiral/HealthySpiral\\\\sp4-H28.jpg', 'C:/Users/Liaqat Ali/Documents/ChiGaNet/NewHandPDImgs/HealthySpiral/HealthySpiral\\\\sp4-H29.jpg', 'C:/Users/Liaqat Ali/Documents/ChiGaNet/NewHandPDImgs/HealthySpiral/HealthySpiral\\\\sp4-H3.jpg', 'C:/Users/Liaqat Ali/Documents/ChiGaNet/NewHandPDImgs/HealthySpiral/HealthySpiral\\\\sp4-H30.jpg', 'C:/Users/Liaqat Ali/Documents/ChiGaNet/NewHandPDImgs/HealthySpiral/HealthySpiral\\\\sp4-H31.jpg', 'C:/Users/Liaqat Ali/Documents/ChiGaNet/NewHandPDImgs/HealthySpiral/HealthySpiral\\\\sp4-H32.jpg', 'C:/Users/Liaqat Ali/Documents/ChiGaNet/NewHandPDImgs/HealthySpiral/HealthySpiral\\\\sp4-H33.jpg', 'C:/Users/Liaqat Ali/Documents/ChiGaNet/NewHandPDImgs/HealthySpiral/HealthySpiral\\\\sp4-H34.jpg', 'C:/Users/Liaqat Ali/Documents/ChiGaNet/NewHandPDImgs/HealthySpiral/HealthySpiral\\\\sp4-H35.jpg', 'C:/Users/Liaqat Ali/Documents/ChiGaNet/NewHandPDImgs/HealthySpiral/HealthySpiral\\\\sp4-H36.jpg', 'C:/Users/Liaqat Ali/Documents/ChiGaNet/NewHandPDImgs/HealthySpiral/HealthySpiral\\\\sp4-H37.jpg', 'C:/Users/Liaqat Ali/Documents/ChiGaNet/NewHandPDImgs/HealthySpiral/HealthySpiral\\\\sp4-H38.jpg', 'C:/Users/Liaqat Ali/Documents/ChiGaNet/NewHandPDImgs/HealthySpiral/HealthySpiral\\\\sp4-H4.jpg', 'C:/Users/Liaqat Ali/Documents/ChiGaNet/NewHandPDImgs/HealthySpiral/HealthySpiral\\\\sp4-H5.jpg', 'C:/Users/Liaqat Ali/Documents/ChiGaNet/NewHandPDImgs/HealthySpiral/HealthySpiral\\\\sp4-H7.jpg', 'C:/Users/Liaqat Ali/Documents/ChiGaNet/NewHandPDImgs/HealthySpiral/HealthySpiral\\\\sp4-H8.jpg', 'C:/Users/Liaqat Ali/Documents/ChiGaNet/NewHandPDImgs/HealthySpiral/HealthySpiral\\\\sp4-H9.jpg']\n"
     ]
    }
   ],
   "source": [
    "def custom_sort_key(path):\n",
    "    # Extract the filename from the path\n",
    "    filename = path.split('\\\\')[-1]  # Adjusted for Windows paths\n",
    "\n",
    "    # Use regex to extract the prefix and suffix numbers\n",
    "    match = re.match(r'mea(\\d+)-H(\\d+)\\.jpg$', filename)\n",
    "    \n",
    "    if match:\n",
    "        mea_number = int(match.group(1))  # Extract number after 'mea'\n",
    "        h_number = int(match.group(2))    # Extract number after 'H'\n",
    "        return (h_number, mea_number)\n",
    "    else:\n",
    "        # Return a high default value or handle non-matching cases\n",
    "        return (float('inf'), float('inf'))\n",
    "\n",
    "# Filter out non-image files if necessary\n",
    "X_H_All_filtered = [path for path in X_H_All if path.endswith('.jpg')]\n",
    "\n",
    "# Sort the list using the custom key\n",
    "X_H_All_sorted = sorted(X_H_All_filtered, key=custom_sort_key)\n",
    "\n",
    "print(X_H_All_sorted)"
   ]
  },
  {
   "cell_type": "code",
   "execution_count": 9,
   "metadata": {
    "colab": {
     "base_uri": "https://localhost:8080/"
    },
    "executionInfo": {
     "elapsed": 1922,
     "status": "ok",
     "timestamp": 1723310664576,
     "user": {
      "displayName": "Liaqat Ali",
      "userId": "05679016512873117773"
     },
     "user_tz": -300
    },
    "id": "Xd4scRLsKGOW",
    "outputId": "8a74f9b4-108d-45f1-955f-be8a2f960aa5"
   },
   "outputs": [
    {
     "name": "stdout",
     "output_type": "stream",
     "text": [
      "[INFO] loading network...\n"
     ]
    }
   ],
   "source": [
    "# load the VGG16 network\n",
    "print(\"[INFO] loading network...\")\n",
    "\n",
    "# chop the top dense layers, include_top=False\n",
    "model = VGG16(weights=\"imagenet\", include_top=False)\n",
    "#model.summary()"
   ]
  },
  {
   "cell_type": "code",
   "execution_count": 10,
   "metadata": {
    "executionInfo": {
     "elapsed": 5,
     "status": "ok",
     "timestamp": 1723310664577,
     "user": {
      "displayName": "Liaqat Ali",
      "userId": "05679016512873117773"
     },
     "user_tz": -300
    },
    "id": "t43y5qNNKI5D"
   },
   "outputs": [],
   "source": [
    "def create_features(dataset, pre_model):\n",
    "\n",
    "    x_scratch = []\n",
    "\n",
    "    # loop over the images\n",
    "    for imagePath in dataset:\n",
    "\n",
    "        # load the input image and image is resized to 224x224 pixels\n",
    "        image = load_img(imagePath, target_size=(224, 224))\n",
    "        image = img_to_array(image)\n",
    "\n",
    "        # preprocess the image by (1) expanding the dimensions and\n",
    "        # (2) subtracting the mean RGB pixel intensity from the\n",
    "        # ImageNet dataset\n",
    "        image = np.expand_dims(image, axis=0)\n",
    "        image = imagenet_utils.preprocess_input(image)\n",
    "\n",
    "        # add the image to the batch\n",
    "        x_scratch.append(image)\n",
    "\n",
    "    x = np.vstack(x_scratch)\n",
    "    features = pre_model.predict(x, batch_size=32)\n",
    "    features_flatten = features.reshape((features.shape[0], 7 * 7 * 512))\n",
    "    return x, features, features_flatten"
   ]
  },
  {
   "cell_type": "code",
   "execution_count": 11,
   "metadata": {
    "colab": {
     "base_uri": "https://localhost:8080/"
    },
    "executionInfo": {
     "elapsed": 145064,
     "status": "ok",
     "timestamp": 1723310809638,
     "user": {
      "displayName": "Liaqat Ali",
      "userId": "05679016512873117773"
     },
     "user_tz": -300
    },
    "id": "eNvzpOWiKMyO",
    "outputId": "0e807f23-1adb-487c-98e5-54030837fa23"
   },
   "outputs": [
    {
     "name": "stdout",
     "output_type": "stream",
     "text": [
      "\u001b[1m5/5\u001b[0m \u001b[32m━━━━━━━━━━━━━━━━━━━━\u001b[0m\u001b[37m\u001b[0m \u001b[1m8s\u001b[0m 2s/step\n",
      "(140, 224, 224, 3)\n",
      "(140, 7, 7, 512)\n",
      "(140, 25088)\n"
     ]
    }
   ],
   "source": [
    "H_x_all, H_features_all, H_features_flatten_all = create_features(X_H_All_sorted, model)\n",
    "print(H_x_all.shape)\n",
    "print(H_features_all.shape)\n",
    "print(H_features_flatten_all.shape)"
   ]
  },
  {
   "cell_type": "code",
   "execution_count": 12,
   "metadata": {
    "colab": {
     "base_uri": "https://localhost:8080/"
    },
    "executionInfo": {
     "elapsed": 115983,
     "status": "ok",
     "timestamp": 1723310925617,
     "user": {
      "displayName": "Liaqat Ali",
      "userId": "05679016512873117773"
     },
     "user_tz": -300
    },
    "id": "Q8kquWdSKQPS",
    "outputId": "1c6326c7-ca35-433d-c031-f15348fdcdaf"
   },
   "outputs": [
    {
     "name": "stdout",
     "output_type": "stream",
     "text": [
      "\u001b[1m4/4\u001b[0m \u001b[32m━━━━━━━━━━━━━━━━━━━━\u001b[0m\u001b[37m\u001b[0m \u001b[1m7s\u001b[0m 2s/step\n",
      "(124, 224, 224, 3)\n",
      "(124, 7, 7, 512)\n",
      "(124, 25088)\n"
     ]
    }
   ],
   "source": [
    "PD_x_all, PD_features_all, PD_features_flatten_all = create_features(X_PD_All_sorted, model)\n",
    "print(PD_x_all.shape)\n",
    "print(PD_features_all.shape)\n",
    "print(PD_features_flatten_all.shape)"
   ]
  },
  {
   "cell_type": "code",
   "execution_count": 13,
   "metadata": {
    "colab": {
     "base_uri": "https://localhost:8080/"
    },
    "executionInfo": {
     "elapsed": 14,
     "status": "ok",
     "timestamp": 1723310925618,
     "user": {
      "displayName": "Liaqat Ali",
      "userId": "05679016512873117773"
     },
     "user_tz": -300
    },
    "id": "Y8HEwlbzKTbW",
    "outputId": "27b38084-40fa-468a-d28f-397d554a5b47"
   },
   "outputs": [
    {
     "name": "stdout",
     "output_type": "stream",
     "text": [
      "(124, 25088)\n",
      "(140, 25088)\n",
      "(124,)\n",
      "(140,)\n"
     ]
    }
   ],
   "source": [
    "X_H_all = H_features_flatten_all\n",
    "X_PD_all = PD_features_flatten_all\n",
    "\n",
    "print(X_PD_all.shape)\n",
    "print(X_H_all.shape)\n",
    "\n",
    "Y_PD_all = np.ones(124)\n",
    "Y_H_all = np.zeros(140)\n",
    "print(Y_PD_all.shape)\n",
    "print(Y_H_all.shape)"
   ]
  },
  {
   "cell_type": "code",
   "execution_count": 14,
   "metadata": {
    "colab": {
     "base_uri": "https://localhost:8080/"
    },
    "executionInfo": {
     "elapsed": 10,
     "status": "ok",
     "timestamp": 1723310925618,
     "user": {
      "displayName": "Liaqat Ali",
      "userId": "05679016512873117773"
     },
     "user_tz": -300
    },
    "id": "WkaTJazqKW6t",
    "outputId": "bc63168c-b1ad-414d-b4cd-a95fa9bd12fa"
   },
   "outputs": [
    {
     "name": "stdout",
     "output_type": "stream",
     "text": [
      "(264,)\n",
      "(264, 25088)\n"
     ]
    }
   ],
   "source": [
    "Y_all = np.append(Y_PD_all, Y_H_all, axis=0)\n",
    "print(Y_all.shape)\n",
    "X_all = np.append(X_PD_all, X_H_all, axis=0)\n",
    "print(X_all.shape)"
   ]
  },
  {
   "cell_type": "code",
   "execution_count": 15,
   "metadata": {
    "colab": {
     "base_uri": "https://localhost:8080/"
    },
    "executionInfo": {
     "elapsed": 8,
     "status": "ok",
     "timestamp": 1723310925618,
     "user": {
      "displayName": "Liaqat Ali",
      "userId": "05679016512873117773"
     },
     "user_tz": -300
    },
    "id": "wnxIibhuRI1V",
    "outputId": "c2ff3d05-c861-42ff-f99f-d9773fb3d7ef"
   },
   "outputs": [
    {
     "name": "stdout",
     "output_type": "stream",
     "text": [
      "(264, 25088)\n",
      "(264,)\n"
     ]
    }
   ],
   "source": [
    "X_HandPD_New = X_all\n",
    "Y_HandPD_New = Y_all\n",
    "print(X_HandPD_New.shape)\n",
    "print(Y_HandPD_New.shape)"
   ]
  },
  {
   "cell_type": "code",
   "execution_count": 16,
   "metadata": {
    "colab": {
     "base_uri": "https://localhost:8080/"
    },
    "executionInfo": {
     "elapsed": 6,
     "status": "ok",
     "timestamp": 1723310925618,
     "user": {
      "displayName": "Liaqat Ali",
      "userId": "05679016512873117773"
     },
     "user_tz": -300
    },
    "id": "Wh4A8O8CQcmI",
    "outputId": "ce0383e7-e199-4c00-81e3-35a6d321674c"
   },
   "outputs": [
    {
     "name": "stdout",
     "output_type": "stream",
     "text": [
      "[1. 1. 1. 1. 1. 1. 1. 1. 1. 1. 1. 1. 1. 1. 1. 1. 1. 1. 1. 1. 1. 1. 1. 1.\n",
      " 1. 1. 1. 1. 1. 1. 1. 1. 1. 1. 1. 1. 1. 1. 1. 1. 1. 1. 1. 1. 1. 1. 1. 1.\n",
      " 1. 1. 1. 1. 1. 1. 1. 1. 1. 1. 1. 1. 1. 1. 1. 1. 1. 1. 1. 1. 1. 1. 1. 1.\n",
      " 1. 1. 1. 1. 1. 1. 1. 1. 1. 1. 1. 1. 1. 1. 1. 1. 1. 1. 1. 1. 1. 1. 1. 1.\n",
      " 1. 1. 1. 1. 1. 1. 1. 1. 1. 1. 1. 1. 1. 1. 1. 1. 1. 1. 1. 1. 1. 1. 1. 1.\n",
      " 1. 1. 1. 1. 0. 0. 0. 0. 0. 0. 0. 0. 0. 0. 0. 0. 0. 0. 0. 0. 0. 0. 0. 0.\n",
      " 0. 0. 0. 0. 0. 0. 0. 0. 0. 0. 0. 0. 0. 0. 0. 0. 0. 0. 0. 0. 0. 0. 0. 0.\n",
      " 0. 0. 0. 0. 0. 0. 0. 0. 0. 0. 0. 0. 0. 0. 0. 0. 0. 0. 0. 0. 0. 0. 0. 0.\n",
      " 0. 0. 0. 0. 0. 0. 0. 0. 0. 0. 0. 0. 0. 0. 0. 0. 0. 0. 0. 0. 0. 0. 0. 0.\n",
      " 0. 0. 0. 0. 0. 0. 0. 0. 0. 0. 0. 0. 0. 0. 0. 0. 0. 0. 0. 0. 0. 0. 0. 0.\n",
      " 0. 0. 0. 0. 0. 0. 0. 0. 0. 0. 0. 0. 0. 0. 0. 0. 0. 0. 0. 0. 0. 0. 0. 0.]\n"
     ]
    }
   ],
   "source": [
    "#Importaing Testing Data from HandPD\n",
    "print(Y_HandPD_New)"
   ]
  },
  {
   "cell_type": "code",
   "execution_count": 17,
   "metadata": {
    "executionInfo": {
     "elapsed": 3002,
     "status": "ok",
     "timestamp": 1723310928615,
     "user": {
      "displayName": "Liaqat Ali",
      "userId": "05679016512873117773"
     },
     "user_tz": -300
    },
    "id": "0W3EGrVhQlAL"
   },
   "outputs": [],
   "source": [
    "\n",
    "X_H_All = [os.path.join(\"C:/Users/Liaqat Ali/Documents/ChiGaNet/HandPDImgs/Spiral_HandPD/SpiralControl\",img) for img in os.listdir(\"C:/Users/Liaqat Ali/Documents/ChiGaNet/HandPDImgs/Spiral_HandPD/SpiralControl\")]\n",
    "X_PD_All = [os.path.join(\"C:/Users/Liaqat Ali/Documents/ChiGaNet/HandPDImgs/Spiral_HandPD/SpiralPatients\",img) for img in os.listdir(\"C:/Users/Liaqat Ali/Documents/ChiGaNet/HandPDImgs/Spiral_HandPD/SpiralPatients\")]"
   ]
  },
  {
   "cell_type": "code",
   "execution_count": 18,
   "metadata": {
    "colab": {
     "base_uri": "https://localhost:8080/"
    },
    "executionInfo": {
     "elapsed": 18,
     "status": "ok",
     "timestamp": 1723310928615,
     "user": {
      "displayName": "Liaqat Ali",
      "userId": "05679016512873117773"
     },
     "user_tz": -300
    },
    "id": "JPQCj4eJWlFo",
    "outputId": "99a89526-007e-47c3-9325-5fccf404b621"
   },
   "outputs": [
    {
     "name": "stdout",
     "output_type": "stream",
     "text": [
      "['C:/Users/Liaqat Ali/Documents/ChiGaNet/HandPDImgs/Spiral_HandPD/SpiralPatients\\\\0002-1.jpg', 'C:/Users/Liaqat Ali/Documents/ChiGaNet/HandPDImgs/Spiral_HandPD/SpiralPatients\\\\0002-2.jpg', 'C:/Users/Liaqat Ali/Documents/ChiGaNet/HandPDImgs/Spiral_HandPD/SpiralPatients\\\\0002-3.jpg', 'C:/Users/Liaqat Ali/Documents/ChiGaNet/HandPDImgs/Spiral_HandPD/SpiralPatients\\\\0002-4.jpg', 'C:/Users/Liaqat Ali/Documents/ChiGaNet/HandPDImgs/Spiral_HandPD/SpiralPatients\\\\0003-1.jpg', 'C:/Users/Liaqat Ali/Documents/ChiGaNet/HandPDImgs/Spiral_HandPD/SpiralPatients\\\\0003-2.jpg', 'C:/Users/Liaqat Ali/Documents/ChiGaNet/HandPDImgs/Spiral_HandPD/SpiralPatients\\\\0003-3.jpg', 'C:/Users/Liaqat Ali/Documents/ChiGaNet/HandPDImgs/Spiral_HandPD/SpiralPatients\\\\0003-4.jpg', 'C:/Users/Liaqat Ali/Documents/ChiGaNet/HandPDImgs/Spiral_HandPD/SpiralPatients\\\\0004-1.jpg', 'C:/Users/Liaqat Ali/Documents/ChiGaNet/HandPDImgs/Spiral_HandPD/SpiralPatients\\\\0004-2.jpg', 'C:/Users/Liaqat Ali/Documents/ChiGaNet/HandPDImgs/Spiral_HandPD/SpiralPatients\\\\0004-3.jpg', 'C:/Users/Liaqat Ali/Documents/ChiGaNet/HandPDImgs/Spiral_HandPD/SpiralPatients\\\\0004-4.jpg', 'C:/Users/Liaqat Ali/Documents/ChiGaNet/HandPDImgs/Spiral_HandPD/SpiralPatients\\\\0005-1.jpg', 'C:/Users/Liaqat Ali/Documents/ChiGaNet/HandPDImgs/Spiral_HandPD/SpiralPatients\\\\0005-2.jpg', 'C:/Users/Liaqat Ali/Documents/ChiGaNet/HandPDImgs/Spiral_HandPD/SpiralPatients\\\\0005-3.jpg', 'C:/Users/Liaqat Ali/Documents/ChiGaNet/HandPDImgs/Spiral_HandPD/SpiralPatients\\\\0005-4.jpg', 'C:/Users/Liaqat Ali/Documents/ChiGaNet/HandPDImgs/Spiral_HandPD/SpiralPatients\\\\0009-1.jpg', 'C:/Users/Liaqat Ali/Documents/ChiGaNet/HandPDImgs/Spiral_HandPD/SpiralPatients\\\\0009-2.jpg', 'C:/Users/Liaqat Ali/Documents/ChiGaNet/HandPDImgs/Spiral_HandPD/SpiralPatients\\\\0009-3.jpg', 'C:/Users/Liaqat Ali/Documents/ChiGaNet/HandPDImgs/Spiral_HandPD/SpiralPatients\\\\0009-4.jpg', 'C:/Users/Liaqat Ali/Documents/ChiGaNet/HandPDImgs/Spiral_HandPD/SpiralPatients\\\\0010-1.jpg', 'C:/Users/Liaqat Ali/Documents/ChiGaNet/HandPDImgs/Spiral_HandPD/SpiralPatients\\\\0010-2.jpg', 'C:/Users/Liaqat Ali/Documents/ChiGaNet/HandPDImgs/Spiral_HandPD/SpiralPatients\\\\0010-3.jpg', 'C:/Users/Liaqat Ali/Documents/ChiGaNet/HandPDImgs/Spiral_HandPD/SpiralPatients\\\\0010-4.jpg', 'C:/Users/Liaqat Ali/Documents/ChiGaNet/HandPDImgs/Spiral_HandPD/SpiralPatients\\\\0016-1.jpg', 'C:/Users/Liaqat Ali/Documents/ChiGaNet/HandPDImgs/Spiral_HandPD/SpiralPatients\\\\0016-2.jpg', 'C:/Users/Liaqat Ali/Documents/ChiGaNet/HandPDImgs/Spiral_HandPD/SpiralPatients\\\\0016-3.jpg', 'C:/Users/Liaqat Ali/Documents/ChiGaNet/HandPDImgs/Spiral_HandPD/SpiralPatients\\\\0016-4.jpg', 'C:/Users/Liaqat Ali/Documents/ChiGaNet/HandPDImgs/Spiral_HandPD/SpiralPatients\\\\0023-1.jpg', 'C:/Users/Liaqat Ali/Documents/ChiGaNet/HandPDImgs/Spiral_HandPD/SpiralPatients\\\\0023-2.jpg', 'C:/Users/Liaqat Ali/Documents/ChiGaNet/HandPDImgs/Spiral_HandPD/SpiralPatients\\\\0023-3.jpg', 'C:/Users/Liaqat Ali/Documents/ChiGaNet/HandPDImgs/Spiral_HandPD/SpiralPatients\\\\0023-4.jpg', 'C:/Users/Liaqat Ali/Documents/ChiGaNet/HandPDImgs/Spiral_HandPD/SpiralPatients\\\\0024-1.jpg', 'C:/Users/Liaqat Ali/Documents/ChiGaNet/HandPDImgs/Spiral_HandPD/SpiralPatients\\\\0024-2.jpg', 'C:/Users/Liaqat Ali/Documents/ChiGaNet/HandPDImgs/Spiral_HandPD/SpiralPatients\\\\0024-3.jpg', 'C:/Users/Liaqat Ali/Documents/ChiGaNet/HandPDImgs/Spiral_HandPD/SpiralPatients\\\\0024-4.jpg', 'C:/Users/Liaqat Ali/Documents/ChiGaNet/HandPDImgs/Spiral_HandPD/SpiralPatients\\\\0030-1.jpg', 'C:/Users/Liaqat Ali/Documents/ChiGaNet/HandPDImgs/Spiral_HandPD/SpiralPatients\\\\0030-2.jpg', 'C:/Users/Liaqat Ali/Documents/ChiGaNet/HandPDImgs/Spiral_HandPD/SpiralPatients\\\\0030-3.jpg', 'C:/Users/Liaqat Ali/Documents/ChiGaNet/HandPDImgs/Spiral_HandPD/SpiralPatients\\\\0030-4.jpg', 'C:/Users/Liaqat Ali/Documents/ChiGaNet/HandPDImgs/Spiral_HandPD/SpiralPatients\\\\0031-1.jpg', 'C:/Users/Liaqat Ali/Documents/ChiGaNet/HandPDImgs/Spiral_HandPD/SpiralPatients\\\\0031-2.jpg', 'C:/Users/Liaqat Ali/Documents/ChiGaNet/HandPDImgs/Spiral_HandPD/SpiralPatients\\\\0031-3.jpg', 'C:/Users/Liaqat Ali/Documents/ChiGaNet/HandPDImgs/Spiral_HandPD/SpiralPatients\\\\0031-4.jpg', 'C:/Users/Liaqat Ali/Documents/ChiGaNet/HandPDImgs/Spiral_HandPD/SpiralPatients\\\\0037-1.jpg', 'C:/Users/Liaqat Ali/Documents/ChiGaNet/HandPDImgs/Spiral_HandPD/SpiralPatients\\\\0037-2.jpg', 'C:/Users/Liaqat Ali/Documents/ChiGaNet/HandPDImgs/Spiral_HandPD/SpiralPatients\\\\0037-3.jpg', 'C:/Users/Liaqat Ali/Documents/ChiGaNet/HandPDImgs/Spiral_HandPD/SpiralPatients\\\\0037-4.jpg', 'C:/Users/Liaqat Ali/Documents/ChiGaNet/HandPDImgs/Spiral_HandPD/SpiralPatients\\\\0038-1.jpg', 'C:/Users/Liaqat Ali/Documents/ChiGaNet/HandPDImgs/Spiral_HandPD/SpiralPatients\\\\0038-2.jpg', 'C:/Users/Liaqat Ali/Documents/ChiGaNet/HandPDImgs/Spiral_HandPD/SpiralPatients\\\\0038-3.jpg', 'C:/Users/Liaqat Ali/Documents/ChiGaNet/HandPDImgs/Spiral_HandPD/SpiralPatients\\\\0038-4.jpg', 'C:/Users/Liaqat Ali/Documents/ChiGaNet/HandPDImgs/Spiral_HandPD/SpiralPatients\\\\0044-1.jpg', 'C:/Users/Liaqat Ali/Documents/ChiGaNet/HandPDImgs/Spiral_HandPD/SpiralPatients\\\\0044-2.jpg', 'C:/Users/Liaqat Ali/Documents/ChiGaNet/HandPDImgs/Spiral_HandPD/SpiralPatients\\\\0044-3.jpg', 'C:/Users/Liaqat Ali/Documents/ChiGaNet/HandPDImgs/Spiral_HandPD/SpiralPatients\\\\0044-4.jpg', 'C:/Users/Liaqat Ali/Documents/ChiGaNet/HandPDImgs/Spiral_HandPD/SpiralPatients\\\\0045-1.jpg', 'C:/Users/Liaqat Ali/Documents/ChiGaNet/HandPDImgs/Spiral_HandPD/SpiralPatients\\\\0045-2.jpg', 'C:/Users/Liaqat Ali/Documents/ChiGaNet/HandPDImgs/Spiral_HandPD/SpiralPatients\\\\0045-3.jpg', 'C:/Users/Liaqat Ali/Documents/ChiGaNet/HandPDImgs/Spiral_HandPD/SpiralPatients\\\\0045-4.jpg', 'C:/Users/Liaqat Ali/Documents/ChiGaNet/HandPDImgs/Spiral_HandPD/SpiralPatients\\\\0046-1.jpg', 'C:/Users/Liaqat Ali/Documents/ChiGaNet/HandPDImgs/Spiral_HandPD/SpiralPatients\\\\0046-2.jpg', 'C:/Users/Liaqat Ali/Documents/ChiGaNet/HandPDImgs/Spiral_HandPD/SpiralPatients\\\\0046-3.jpg', 'C:/Users/Liaqat Ali/Documents/ChiGaNet/HandPDImgs/Spiral_HandPD/SpiralPatients\\\\0046-4.jpg', 'C:/Users/Liaqat Ali/Documents/ChiGaNet/HandPDImgs/Spiral_HandPD/SpiralPatients\\\\0051-1.jpg', 'C:/Users/Liaqat Ali/Documents/ChiGaNet/HandPDImgs/Spiral_HandPD/SpiralPatients\\\\0051-2.jpg', 'C:/Users/Liaqat Ali/Documents/ChiGaNet/HandPDImgs/Spiral_HandPD/SpiralPatients\\\\0051-3.jpg', 'C:/Users/Liaqat Ali/Documents/ChiGaNet/HandPDImgs/Spiral_HandPD/SpiralPatients\\\\0051-4.jpg', 'C:/Users/Liaqat Ali/Documents/ChiGaNet/HandPDImgs/Spiral_HandPD/SpiralPatients\\\\0052-1.jpg', 'C:/Users/Liaqat Ali/Documents/ChiGaNet/HandPDImgs/Spiral_HandPD/SpiralPatients\\\\0052-2.jpg', 'C:/Users/Liaqat Ali/Documents/ChiGaNet/HandPDImgs/Spiral_HandPD/SpiralPatients\\\\0052-3.jpg', 'C:/Users/Liaqat Ali/Documents/ChiGaNet/HandPDImgs/Spiral_HandPD/SpiralPatients\\\\0052-4.jpg', 'C:/Users/Liaqat Ali/Documents/ChiGaNet/HandPDImgs/Spiral_HandPD/SpiralPatients\\\\0053-1.jpg', 'C:/Users/Liaqat Ali/Documents/ChiGaNet/HandPDImgs/Spiral_HandPD/SpiralPatients\\\\0053-2.jpg', 'C:/Users/Liaqat Ali/Documents/ChiGaNet/HandPDImgs/Spiral_HandPD/SpiralPatients\\\\0053-3.jpg', 'C:/Users/Liaqat Ali/Documents/ChiGaNet/HandPDImgs/Spiral_HandPD/SpiralPatients\\\\0053-4.jpg', 'C:/Users/Liaqat Ali/Documents/ChiGaNet/HandPDImgs/Spiral_HandPD/SpiralPatients\\\\0054-1.jpg', 'C:/Users/Liaqat Ali/Documents/ChiGaNet/HandPDImgs/Spiral_HandPD/SpiralPatients\\\\0054-2.jpg', 'C:/Users/Liaqat Ali/Documents/ChiGaNet/HandPDImgs/Spiral_HandPD/SpiralPatients\\\\0054-3.jpg', 'C:/Users/Liaqat Ali/Documents/ChiGaNet/HandPDImgs/Spiral_HandPD/SpiralPatients\\\\0054-4.jpg', 'C:/Users/Liaqat Ali/Documents/ChiGaNet/HandPDImgs/Spiral_HandPD/SpiralPatients\\\\0134-1.jpg', 'C:/Users/Liaqat Ali/Documents/ChiGaNet/HandPDImgs/Spiral_HandPD/SpiralPatients\\\\0134-2.jpg', 'C:/Users/Liaqat Ali/Documents/ChiGaNet/HandPDImgs/Spiral_HandPD/SpiralPatients\\\\0134-3.jpg', 'C:/Users/Liaqat Ali/Documents/ChiGaNet/HandPDImgs/Spiral_HandPD/SpiralPatients\\\\0134-4.jpg', 'C:/Users/Liaqat Ali/Documents/ChiGaNet/HandPDImgs/Spiral_HandPD/SpiralPatients\\\\0136-1.jpg', 'C:/Users/Liaqat Ali/Documents/ChiGaNet/HandPDImgs/Spiral_HandPD/SpiralPatients\\\\0136-2.jpg', 'C:/Users/Liaqat Ali/Documents/ChiGaNet/HandPDImgs/Spiral_HandPD/SpiralPatients\\\\0136-3.jpg', 'C:/Users/Liaqat Ali/Documents/ChiGaNet/HandPDImgs/Spiral_HandPD/SpiralPatients\\\\0136-4.jpg', 'C:/Users/Liaqat Ali/Documents/ChiGaNet/HandPDImgs/Spiral_HandPD/SpiralPatients\\\\0138-1.jpg', 'C:/Users/Liaqat Ali/Documents/ChiGaNet/HandPDImgs/Spiral_HandPD/SpiralPatients\\\\0138-2.jpg', 'C:/Users/Liaqat Ali/Documents/ChiGaNet/HandPDImgs/Spiral_HandPD/SpiralPatients\\\\0138-3.jpg', 'C:/Users/Liaqat Ali/Documents/ChiGaNet/HandPDImgs/Spiral_HandPD/SpiralPatients\\\\0138-4.jpg', 'C:/Users/Liaqat Ali/Documents/ChiGaNet/HandPDImgs/Spiral_HandPD/SpiralPatients\\\\0139-1.jpg', 'C:/Users/Liaqat Ali/Documents/ChiGaNet/HandPDImgs/Spiral_HandPD/SpiralPatients\\\\0139-2.jpg', 'C:/Users/Liaqat Ali/Documents/ChiGaNet/HandPDImgs/Spiral_HandPD/SpiralPatients\\\\0139-3.jpg', 'C:/Users/Liaqat Ali/Documents/ChiGaNet/HandPDImgs/Spiral_HandPD/SpiralPatients\\\\0139-4.jpg', 'C:/Users/Liaqat Ali/Documents/ChiGaNet/HandPDImgs/Spiral_HandPD/SpiralPatients\\\\0143-1.jpg', 'C:/Users/Liaqat Ali/Documents/ChiGaNet/HandPDImgs/Spiral_HandPD/SpiralPatients\\\\0143-2.jpg', 'C:/Users/Liaqat Ali/Documents/ChiGaNet/HandPDImgs/Spiral_HandPD/SpiralPatients\\\\0143-3.jpg', 'C:/Users/Liaqat Ali/Documents/ChiGaNet/HandPDImgs/Spiral_HandPD/SpiralPatients\\\\0143-4.jpg', 'C:/Users/Liaqat Ali/Documents/ChiGaNet/HandPDImgs/Spiral_HandPD/SpiralPatients\\\\0148-1.jpg', 'C:/Users/Liaqat Ali/Documents/ChiGaNet/HandPDImgs/Spiral_HandPD/SpiralPatients\\\\0148-2.jpg', 'C:/Users/Liaqat Ali/Documents/ChiGaNet/HandPDImgs/Spiral_HandPD/SpiralPatients\\\\0148-3.jpg', 'C:/Users/Liaqat Ali/Documents/ChiGaNet/HandPDImgs/Spiral_HandPD/SpiralPatients\\\\0148-4.jpg', 'C:/Users/Liaqat Ali/Documents/ChiGaNet/HandPDImgs/Spiral_HandPD/SpiralPatients\\\\0149-1.jpg', 'C:/Users/Liaqat Ali/Documents/ChiGaNet/HandPDImgs/Spiral_HandPD/SpiralPatients\\\\0149-2.jpg', 'C:/Users/Liaqat Ali/Documents/ChiGaNet/HandPDImgs/Spiral_HandPD/SpiralPatients\\\\0149-3.jpg', 'C:/Users/Liaqat Ali/Documents/ChiGaNet/HandPDImgs/Spiral_HandPD/SpiralPatients\\\\0149-4.jpg', 'C:/Users/Liaqat Ali/Documents/ChiGaNet/HandPDImgs/Spiral_HandPD/SpiralPatients\\\\0153-1.jpg', 'C:/Users/Liaqat Ali/Documents/ChiGaNet/HandPDImgs/Spiral_HandPD/SpiralPatients\\\\0153-2.jpg', 'C:/Users/Liaqat Ali/Documents/ChiGaNet/HandPDImgs/Spiral_HandPD/SpiralPatients\\\\0153-3.jpg', 'C:/Users/Liaqat Ali/Documents/ChiGaNet/HandPDImgs/Spiral_HandPD/SpiralPatients\\\\0153-4.jpg', 'C:/Users/Liaqat Ali/Documents/ChiGaNet/HandPDImgs/Spiral_HandPD/SpiralPatients\\\\0157-1.jpg', 'C:/Users/Liaqat Ali/Documents/ChiGaNet/HandPDImgs/Spiral_HandPD/SpiralPatients\\\\0157-2.jpg', 'C:/Users/Liaqat Ali/Documents/ChiGaNet/HandPDImgs/Spiral_HandPD/SpiralPatients\\\\0157-3.jpg', 'C:/Users/Liaqat Ali/Documents/ChiGaNet/HandPDImgs/Spiral_HandPD/SpiralPatients\\\\0157-4.jpg', 'C:/Users/Liaqat Ali/Documents/ChiGaNet/HandPDImgs/Spiral_HandPD/SpiralPatients\\\\0161-1.jpg', 'C:/Users/Liaqat Ali/Documents/ChiGaNet/HandPDImgs/Spiral_HandPD/SpiralPatients\\\\0161-2.jpg', 'C:/Users/Liaqat Ali/Documents/ChiGaNet/HandPDImgs/Spiral_HandPD/SpiralPatients\\\\0161-3.jpg', 'C:/Users/Liaqat Ali/Documents/ChiGaNet/HandPDImgs/Spiral_HandPD/SpiralPatients\\\\0161-4.jpg', 'C:/Users/Liaqat Ali/Documents/ChiGaNet/HandPDImgs/Spiral_HandPD/SpiralPatients\\\\0165-1.jpg', 'C:/Users/Liaqat Ali/Documents/ChiGaNet/HandPDImgs/Spiral_HandPD/SpiralPatients\\\\0165-2.jpg', 'C:/Users/Liaqat Ali/Documents/ChiGaNet/HandPDImgs/Spiral_HandPD/SpiralPatients\\\\0165-3.jpg', 'C:/Users/Liaqat Ali/Documents/ChiGaNet/HandPDImgs/Spiral_HandPD/SpiralPatients\\\\0165-4.jpg', 'C:/Users/Liaqat Ali/Documents/ChiGaNet/HandPDImgs/Spiral_HandPD/SpiralPatients\\\\0166-1.jpg', 'C:/Users/Liaqat Ali/Documents/ChiGaNet/HandPDImgs/Spiral_HandPD/SpiralPatients\\\\0166-2.jpg', 'C:/Users/Liaqat Ali/Documents/ChiGaNet/HandPDImgs/Spiral_HandPD/SpiralPatients\\\\0166-3.jpg', 'C:/Users/Liaqat Ali/Documents/ChiGaNet/HandPDImgs/Spiral_HandPD/SpiralPatients\\\\0166-4.jpg', 'C:/Users/Liaqat Ali/Documents/ChiGaNet/HandPDImgs/Spiral_HandPD/SpiralPatients\\\\0170-1.jpg', 'C:/Users/Liaqat Ali/Documents/ChiGaNet/HandPDImgs/Spiral_HandPD/SpiralPatients\\\\0170-2.jpg', 'C:/Users/Liaqat Ali/Documents/ChiGaNet/HandPDImgs/Spiral_HandPD/SpiralPatients\\\\0170-3.jpg', 'C:/Users/Liaqat Ali/Documents/ChiGaNet/HandPDImgs/Spiral_HandPD/SpiralPatients\\\\0170-4.jpg', 'C:/Users/Liaqat Ali/Documents/ChiGaNet/HandPDImgs/Spiral_HandPD/SpiralPatients\\\\0174-1.jpg', 'C:/Users/Liaqat Ali/Documents/ChiGaNet/HandPDImgs/Spiral_HandPD/SpiralPatients\\\\0174-2.jpg', 'C:/Users/Liaqat Ali/Documents/ChiGaNet/HandPDImgs/Spiral_HandPD/SpiralPatients\\\\0174-3.jpg', 'C:/Users/Liaqat Ali/Documents/ChiGaNet/HandPDImgs/Spiral_HandPD/SpiralPatients\\\\0174-4.jpg', 'C:/Users/Liaqat Ali/Documents/ChiGaNet/HandPDImgs/Spiral_HandPD/SpiralPatients\\\\0176-1.jpg', 'C:/Users/Liaqat Ali/Documents/ChiGaNet/HandPDImgs/Spiral_HandPD/SpiralPatients\\\\0176-2.jpg', 'C:/Users/Liaqat Ali/Documents/ChiGaNet/HandPDImgs/Spiral_HandPD/SpiralPatients\\\\0176-3.jpg', 'C:/Users/Liaqat Ali/Documents/ChiGaNet/HandPDImgs/Spiral_HandPD/SpiralPatients\\\\0176-4.jpg', 'C:/Users/Liaqat Ali/Documents/ChiGaNet/HandPDImgs/Spiral_HandPD/SpiralPatients\\\\0177-1.jpg', 'C:/Users/Liaqat Ali/Documents/ChiGaNet/HandPDImgs/Spiral_HandPD/SpiralPatients\\\\0177-2.jpg', 'C:/Users/Liaqat Ali/Documents/ChiGaNet/HandPDImgs/Spiral_HandPD/SpiralPatients\\\\0177-3.jpg', 'C:/Users/Liaqat Ali/Documents/ChiGaNet/HandPDImgs/Spiral_HandPD/SpiralPatients\\\\0177-4.jpg', 'C:/Users/Liaqat Ali/Documents/ChiGaNet/HandPDImgs/Spiral_HandPD/SpiralPatients\\\\0181-1.jpg', 'C:/Users/Liaqat Ali/Documents/ChiGaNet/HandPDImgs/Spiral_HandPD/SpiralPatients\\\\0181-2.jpg', 'C:/Users/Liaqat Ali/Documents/ChiGaNet/HandPDImgs/Spiral_HandPD/SpiralPatients\\\\0181-3.jpg', 'C:/Users/Liaqat Ali/Documents/ChiGaNet/HandPDImgs/Spiral_HandPD/SpiralPatients\\\\0181-4.jpg', 'C:/Users/Liaqat Ali/Documents/ChiGaNet/HandPDImgs/Spiral_HandPD/SpiralPatients\\\\0182-1.jpg', 'C:/Users/Liaqat Ali/Documents/ChiGaNet/HandPDImgs/Spiral_HandPD/SpiralPatients\\\\0182-2.jpg', 'C:/Users/Liaqat Ali/Documents/ChiGaNet/HandPDImgs/Spiral_HandPD/SpiralPatients\\\\0182-3.jpg', 'C:/Users/Liaqat Ali/Documents/ChiGaNet/HandPDImgs/Spiral_HandPD/SpiralPatients\\\\0182-4.jpg', 'C:/Users/Liaqat Ali/Documents/ChiGaNet/HandPDImgs/Spiral_HandPD/SpiralPatients\\\\0186-1.jpg', 'C:/Users/Liaqat Ali/Documents/ChiGaNet/HandPDImgs/Spiral_HandPD/SpiralPatients\\\\0186-2.jpg', 'C:/Users/Liaqat Ali/Documents/ChiGaNet/HandPDImgs/Spiral_HandPD/SpiralPatients\\\\0186-3.jpg', 'C:/Users/Liaqat Ali/Documents/ChiGaNet/HandPDImgs/Spiral_HandPD/SpiralPatients\\\\0186-4.jpg', 'C:/Users/Liaqat Ali/Documents/ChiGaNet/HandPDImgs/Spiral_HandPD/SpiralPatients\\\\0187-1.jpg', 'C:/Users/Liaqat Ali/Documents/ChiGaNet/HandPDImgs/Spiral_HandPD/SpiralPatients\\\\0187-2.jpg', 'C:/Users/Liaqat Ali/Documents/ChiGaNet/HandPDImgs/Spiral_HandPD/SpiralPatients\\\\0187-3.jpg', 'C:/Users/Liaqat Ali/Documents/ChiGaNet/HandPDImgs/Spiral_HandPD/SpiralPatients\\\\0187-4.jpg', 'C:/Users/Liaqat Ali/Documents/ChiGaNet/HandPDImgs/Spiral_HandPD/SpiralPatients\\\\0188-1.jpg', 'C:/Users/Liaqat Ali/Documents/ChiGaNet/HandPDImgs/Spiral_HandPD/SpiralPatients\\\\0188-2.jpg', 'C:/Users/Liaqat Ali/Documents/ChiGaNet/HandPDImgs/Spiral_HandPD/SpiralPatients\\\\0188-3.jpg', 'C:/Users/Liaqat Ali/Documents/ChiGaNet/HandPDImgs/Spiral_HandPD/SpiralPatients\\\\0188-4.jpg', 'C:/Users/Liaqat Ali/Documents/ChiGaNet/HandPDImgs/Spiral_HandPD/SpiralPatients\\\\0192-1.jpg', 'C:/Users/Liaqat Ali/Documents/ChiGaNet/HandPDImgs/Spiral_HandPD/SpiralPatients\\\\0192-2.jpg', 'C:/Users/Liaqat Ali/Documents/ChiGaNet/HandPDImgs/Spiral_HandPD/SpiralPatients\\\\0192-3.jpg', 'C:/Users/Liaqat Ali/Documents/ChiGaNet/HandPDImgs/Spiral_HandPD/SpiralPatients\\\\0192-4.jpg', 'C:/Users/Liaqat Ali/Documents/ChiGaNet/HandPDImgs/Spiral_HandPD/SpiralPatients\\\\0196-1.jpg', 'C:/Users/Liaqat Ali/Documents/ChiGaNet/HandPDImgs/Spiral_HandPD/SpiralPatients\\\\0196-2.jpg', 'C:/Users/Liaqat Ali/Documents/ChiGaNet/HandPDImgs/Spiral_HandPD/SpiralPatients\\\\0196-3.jpg', 'C:/Users/Liaqat Ali/Documents/ChiGaNet/HandPDImgs/Spiral_HandPD/SpiralPatients\\\\0196-4.jpg', 'C:/Users/Liaqat Ali/Documents/ChiGaNet/HandPDImgs/Spiral_HandPD/SpiralPatients\\\\0197-1.jpg', 'C:/Users/Liaqat Ali/Documents/ChiGaNet/HandPDImgs/Spiral_HandPD/SpiralPatients\\\\0197-2.jpg', 'C:/Users/Liaqat Ali/Documents/ChiGaNet/HandPDImgs/Spiral_HandPD/SpiralPatients\\\\0197-3.jpg', 'C:/Users/Liaqat Ali/Documents/ChiGaNet/HandPDImgs/Spiral_HandPD/SpiralPatients\\\\0197-4.jpg', 'C:/Users/Liaqat Ali/Documents/ChiGaNet/HandPDImgs/Spiral_HandPD/SpiralPatients\\\\0198-1.jpg', 'C:/Users/Liaqat Ali/Documents/ChiGaNet/HandPDImgs/Spiral_HandPD/SpiralPatients\\\\0198-2.jpg', 'C:/Users/Liaqat Ali/Documents/ChiGaNet/HandPDImgs/Spiral_HandPD/SpiralPatients\\\\0198-3.jpg', 'C:/Users/Liaqat Ali/Documents/ChiGaNet/HandPDImgs/Spiral_HandPD/SpiralPatients\\\\0198-4.jpg', 'C:/Users/Liaqat Ali/Documents/ChiGaNet/HandPDImgs/Spiral_HandPD/SpiralPatients\\\\0202-1.jpg', 'C:/Users/Liaqat Ali/Documents/ChiGaNet/HandPDImgs/Spiral_HandPD/SpiralPatients\\\\0202-2.jpg', 'C:/Users/Liaqat Ali/Documents/ChiGaNet/HandPDImgs/Spiral_HandPD/SpiralPatients\\\\0202-3.jpg', 'C:/Users/Liaqat Ali/Documents/ChiGaNet/HandPDImgs/Spiral_HandPD/SpiralPatients\\\\0202-4.jpg', 'C:/Users/Liaqat Ali/Documents/ChiGaNet/HandPDImgs/Spiral_HandPD/SpiralPatients\\\\0203-1.jpg', 'C:/Users/Liaqat Ali/Documents/ChiGaNet/HandPDImgs/Spiral_HandPD/SpiralPatients\\\\0203-2.jpg', 'C:/Users/Liaqat Ali/Documents/ChiGaNet/HandPDImgs/Spiral_HandPD/SpiralPatients\\\\0203-3.jpg', 'C:/Users/Liaqat Ali/Documents/ChiGaNet/HandPDImgs/Spiral_HandPD/SpiralPatients\\\\0203-4.jpg', 'C:/Users/Liaqat Ali/Documents/ChiGaNet/HandPDImgs/Spiral_HandPD/SpiralPatients\\\\0207-1.jpg', 'C:/Users/Liaqat Ali/Documents/ChiGaNet/HandPDImgs/Spiral_HandPD/SpiralPatients\\\\0207-2.jpg', 'C:/Users/Liaqat Ali/Documents/ChiGaNet/HandPDImgs/Spiral_HandPD/SpiralPatients\\\\0207-3.jpg', 'C:/Users/Liaqat Ali/Documents/ChiGaNet/HandPDImgs/Spiral_HandPD/SpiralPatients\\\\0207-4.jpg', 'C:/Users/Liaqat Ali/Documents/ChiGaNet/HandPDImgs/Spiral_HandPD/SpiralPatients\\\\0208-1.jpg', 'C:/Users/Liaqat Ali/Documents/ChiGaNet/HandPDImgs/Spiral_HandPD/SpiralPatients\\\\0208-2.jpg', 'C:/Users/Liaqat Ali/Documents/ChiGaNet/HandPDImgs/Spiral_HandPD/SpiralPatients\\\\0208-3.jpg', 'C:/Users/Liaqat Ali/Documents/ChiGaNet/HandPDImgs/Spiral_HandPD/SpiralPatients\\\\0208-4.jpg', 'C:/Users/Liaqat Ali/Documents/ChiGaNet/HandPDImgs/Spiral_HandPD/SpiralPatients\\\\0213-1.jpg', 'C:/Users/Liaqat Ali/Documents/ChiGaNet/HandPDImgs/Spiral_HandPD/SpiralPatients\\\\0213-2.jpg', 'C:/Users/Liaqat Ali/Documents/ChiGaNet/HandPDImgs/Spiral_HandPD/SpiralPatients\\\\0213-3.jpg', 'C:/Users/Liaqat Ali/Documents/ChiGaNet/HandPDImgs/Spiral_HandPD/SpiralPatients\\\\0213-4.jpg', 'C:/Users/Liaqat Ali/Documents/ChiGaNet/HandPDImgs/Spiral_HandPD/SpiralPatients\\\\0214-1.jpg', 'C:/Users/Liaqat Ali/Documents/ChiGaNet/HandPDImgs/Spiral_HandPD/SpiralPatients\\\\0214-2.jpg', 'C:/Users/Liaqat Ali/Documents/ChiGaNet/HandPDImgs/Spiral_HandPD/SpiralPatients\\\\0214-3.jpg', 'C:/Users/Liaqat Ali/Documents/ChiGaNet/HandPDImgs/Spiral_HandPD/SpiralPatients\\\\0214-4.jpg', 'C:/Users/Liaqat Ali/Documents/ChiGaNet/HandPDImgs/Spiral_HandPD/SpiralPatients\\\\0218-1.jpg', 'C:/Users/Liaqat Ali/Documents/ChiGaNet/HandPDImgs/Spiral_HandPD/SpiralPatients\\\\0218-2.jpg', 'C:/Users/Liaqat Ali/Documents/ChiGaNet/HandPDImgs/Spiral_HandPD/SpiralPatients\\\\0218-3.jpg', 'C:/Users/Liaqat Ali/Documents/ChiGaNet/HandPDImgs/Spiral_HandPD/SpiralPatients\\\\0218-4.jpg', 'C:/Users/Liaqat Ali/Documents/ChiGaNet/HandPDImgs/Spiral_HandPD/SpiralPatients\\\\0219-1.jpg', 'C:/Users/Liaqat Ali/Documents/ChiGaNet/HandPDImgs/Spiral_HandPD/SpiralPatients\\\\0219-2.jpg', 'C:/Users/Liaqat Ali/Documents/ChiGaNet/HandPDImgs/Spiral_HandPD/SpiralPatients\\\\0219-3.jpg', 'C:/Users/Liaqat Ali/Documents/ChiGaNet/HandPDImgs/Spiral_HandPD/SpiralPatients\\\\0219-4.jpg', 'C:/Users/Liaqat Ali/Documents/ChiGaNet/HandPDImgs/Spiral_HandPD/SpiralPatients\\\\0223-1.jpg', 'C:/Users/Liaqat Ali/Documents/ChiGaNet/HandPDImgs/Spiral_HandPD/SpiralPatients\\\\0223-2.jpg', 'C:/Users/Liaqat Ali/Documents/ChiGaNet/HandPDImgs/Spiral_HandPD/SpiralPatients\\\\0223-3.jpg', 'C:/Users/Liaqat Ali/Documents/ChiGaNet/HandPDImgs/Spiral_HandPD/SpiralPatients\\\\0223-4.jpg', 'C:/Users/Liaqat Ali/Documents/ChiGaNet/HandPDImgs/Spiral_HandPD/SpiralPatients\\\\0228-1.jpg', 'C:/Users/Liaqat Ali/Documents/ChiGaNet/HandPDImgs/Spiral_HandPD/SpiralPatients\\\\0228-2.jpg', 'C:/Users/Liaqat Ali/Documents/ChiGaNet/HandPDImgs/Spiral_HandPD/SpiralPatients\\\\0228-3.jpg', 'C:/Users/Liaqat Ali/Documents/ChiGaNet/HandPDImgs/Spiral_HandPD/SpiralPatients\\\\0228-4.jpg', 'C:/Users/Liaqat Ali/Documents/ChiGaNet/HandPDImgs/Spiral_HandPD/SpiralPatients\\\\0229-1.jpg', 'C:/Users/Liaqat Ali/Documents/ChiGaNet/HandPDImgs/Spiral_HandPD/SpiralPatients\\\\0229-2.jpg', 'C:/Users/Liaqat Ali/Documents/ChiGaNet/HandPDImgs/Spiral_HandPD/SpiralPatients\\\\0229-3.jpg', 'C:/Users/Liaqat Ali/Documents/ChiGaNet/HandPDImgs/Spiral_HandPD/SpiralPatients\\\\0229-4.jpg', 'C:/Users/Liaqat Ali/Documents/ChiGaNet/HandPDImgs/Spiral_HandPD/SpiralPatients\\\\0230-1.jpg', 'C:/Users/Liaqat Ali/Documents/ChiGaNet/HandPDImgs/Spiral_HandPD/SpiralPatients\\\\0230-2.jpg', 'C:/Users/Liaqat Ali/Documents/ChiGaNet/HandPDImgs/Spiral_HandPD/SpiralPatients\\\\0230-3.jpg', 'C:/Users/Liaqat Ali/Documents/ChiGaNet/HandPDImgs/Spiral_HandPD/SpiralPatients\\\\0230-4.jpg', 'C:/Users/Liaqat Ali/Documents/ChiGaNet/HandPDImgs/Spiral_HandPD/SpiralPatients\\\\0234-1.jpg', 'C:/Users/Liaqat Ali/Documents/ChiGaNet/HandPDImgs/Spiral_HandPD/SpiralPatients\\\\0234-2.jpg', 'C:/Users/Liaqat Ali/Documents/ChiGaNet/HandPDImgs/Spiral_HandPD/SpiralPatients\\\\0234-3.jpg', 'C:/Users/Liaqat Ali/Documents/ChiGaNet/HandPDImgs/Spiral_HandPD/SpiralPatients\\\\0234-4.jpg', 'C:/Users/Liaqat Ali/Documents/ChiGaNet/HandPDImgs/Spiral_HandPD/SpiralPatients\\\\0235-1.jpg', 'C:/Users/Liaqat Ali/Documents/ChiGaNet/HandPDImgs/Spiral_HandPD/SpiralPatients\\\\0235-2.jpg', 'C:/Users/Liaqat Ali/Documents/ChiGaNet/HandPDImgs/Spiral_HandPD/SpiralPatients\\\\0235-3.jpg', 'C:/Users/Liaqat Ali/Documents/ChiGaNet/HandPDImgs/Spiral_HandPD/SpiralPatients\\\\0235-4.jpg', 'C:/Users/Liaqat Ali/Documents/ChiGaNet/HandPDImgs/Spiral_HandPD/SpiralPatients\\\\0236-1.jpg', 'C:/Users/Liaqat Ali/Documents/ChiGaNet/HandPDImgs/Spiral_HandPD/SpiralPatients\\\\0236-2.jpg', 'C:/Users/Liaqat Ali/Documents/ChiGaNet/HandPDImgs/Spiral_HandPD/SpiralPatients\\\\0236-3.jpg', 'C:/Users/Liaqat Ali/Documents/ChiGaNet/HandPDImgs/Spiral_HandPD/SpiralPatients\\\\0236-4.jpg', 'C:/Users/Liaqat Ali/Documents/ChiGaNet/HandPDImgs/Spiral_HandPD/SpiralPatients\\\\0240-1.jpg', 'C:/Users/Liaqat Ali/Documents/ChiGaNet/HandPDImgs/Spiral_HandPD/SpiralPatients\\\\0240-2.jpg', 'C:/Users/Liaqat Ali/Documents/ChiGaNet/HandPDImgs/Spiral_HandPD/SpiralPatients\\\\0240-3.jpg', 'C:/Users/Liaqat Ali/Documents/ChiGaNet/HandPDImgs/Spiral_HandPD/SpiralPatients\\\\0240-4.jpg', 'C:/Users/Liaqat Ali/Documents/ChiGaNet/HandPDImgs/Spiral_HandPD/SpiralPatients\\\\0241-1.jpg', 'C:/Users/Liaqat Ali/Documents/ChiGaNet/HandPDImgs/Spiral_HandPD/SpiralPatients\\\\0241-2.jpg', 'C:/Users/Liaqat Ali/Documents/ChiGaNet/HandPDImgs/Spiral_HandPD/SpiralPatients\\\\0241-3.jpg', 'C:/Users/Liaqat Ali/Documents/ChiGaNet/HandPDImgs/Spiral_HandPD/SpiralPatients\\\\0241-4.jpg', 'C:/Users/Liaqat Ali/Documents/ChiGaNet/HandPDImgs/Spiral_HandPD/SpiralPatients\\\\0242-1.jpg', 'C:/Users/Liaqat Ali/Documents/ChiGaNet/HandPDImgs/Spiral_HandPD/SpiralPatients\\\\0242-2.jpg', 'C:/Users/Liaqat Ali/Documents/ChiGaNet/HandPDImgs/Spiral_HandPD/SpiralPatients\\\\0242-3.jpg', 'C:/Users/Liaqat Ali/Documents/ChiGaNet/HandPDImgs/Spiral_HandPD/SpiralPatients\\\\0242-4.jpg', 'C:/Users/Liaqat Ali/Documents/ChiGaNet/HandPDImgs/Spiral_HandPD/SpiralPatients\\\\0246-1.jpg', 'C:/Users/Liaqat Ali/Documents/ChiGaNet/HandPDImgs/Spiral_HandPD/SpiralPatients\\\\0246-2.jpg', 'C:/Users/Liaqat Ali/Documents/ChiGaNet/HandPDImgs/Spiral_HandPD/SpiralPatients\\\\0246-3.jpg', 'C:/Users/Liaqat Ali/Documents/ChiGaNet/HandPDImgs/Spiral_HandPD/SpiralPatients\\\\0246-4.jpg', 'C:/Users/Liaqat Ali/Documents/ChiGaNet/HandPDImgs/Spiral_HandPD/SpiralPatients\\\\0247-1.jpg', 'C:/Users/Liaqat Ali/Documents/ChiGaNet/HandPDImgs/Spiral_HandPD/SpiralPatients\\\\0247-2.jpg', 'C:/Users/Liaqat Ali/Documents/ChiGaNet/HandPDImgs/Spiral_HandPD/SpiralPatients\\\\0247-3.jpg', 'C:/Users/Liaqat Ali/Documents/ChiGaNet/HandPDImgs/Spiral_HandPD/SpiralPatients\\\\0247-4.jpg', 'C:/Users/Liaqat Ali/Documents/ChiGaNet/HandPDImgs/Spiral_HandPD/SpiralPatients\\\\0253-1.jpg', 'C:/Users/Liaqat Ali/Documents/ChiGaNet/HandPDImgs/Spiral_HandPD/SpiralPatients\\\\0253-2.jpg', 'C:/Users/Liaqat Ali/Documents/ChiGaNet/HandPDImgs/Spiral_HandPD/SpiralPatients\\\\0253-3.jpg', 'C:/Users/Liaqat Ali/Documents/ChiGaNet/HandPDImgs/Spiral_HandPD/SpiralPatients\\\\0253-4.jpg', 'C:/Users/Liaqat Ali/Documents/ChiGaNet/HandPDImgs/Spiral_HandPD/SpiralPatients\\\\0254-1.jpg', 'C:/Users/Liaqat Ali/Documents/ChiGaNet/HandPDImgs/Spiral_HandPD/SpiralPatients\\\\0254-2.jpg', 'C:/Users/Liaqat Ali/Documents/ChiGaNet/HandPDImgs/Spiral_HandPD/SpiralPatients\\\\0254-3.jpg', 'C:/Users/Liaqat Ali/Documents/ChiGaNet/HandPDImgs/Spiral_HandPD/SpiralPatients\\\\0254-4.jpg', 'C:/Users/Liaqat Ali/Documents/ChiGaNet/HandPDImgs/Spiral_HandPD/SpiralPatients\\\\0261-1.jpg', 'C:/Users/Liaqat Ali/Documents/ChiGaNet/HandPDImgs/Spiral_HandPD/SpiralPatients\\\\0261-2.jpg', 'C:/Users/Liaqat Ali/Documents/ChiGaNet/HandPDImgs/Spiral_HandPD/SpiralPatients\\\\0261-3.jpg', 'C:/Users/Liaqat Ali/Documents/ChiGaNet/HandPDImgs/Spiral_HandPD/SpiralPatients\\\\0261-4.jpg', 'C:/Users/Liaqat Ali/Documents/ChiGaNet/HandPDImgs/Spiral_HandPD/SpiralPatients\\\\0268-1.jpg', 'C:/Users/Liaqat Ali/Documents/ChiGaNet/HandPDImgs/Spiral_HandPD/SpiralPatients\\\\0268-2.jpg', 'C:/Users/Liaqat Ali/Documents/ChiGaNet/HandPDImgs/Spiral_HandPD/SpiralPatients\\\\0268-3.jpg', 'C:/Users/Liaqat Ali/Documents/ChiGaNet/HandPDImgs/Spiral_HandPD/SpiralPatients\\\\0268-4.jpg', 'C:/Users/Liaqat Ali/Documents/ChiGaNet/HandPDImgs/Spiral_HandPD/SpiralPatients\\\\0269-1.jpg', 'C:/Users/Liaqat Ali/Documents/ChiGaNet/HandPDImgs/Spiral_HandPD/SpiralPatients\\\\0269-2.jpg', 'C:/Users/Liaqat Ali/Documents/ChiGaNet/HandPDImgs/Spiral_HandPD/SpiralPatients\\\\0269-3.jpg', 'C:/Users/Liaqat Ali/Documents/ChiGaNet/HandPDImgs/Spiral_HandPD/SpiralPatients\\\\0269-4.jpg', 'C:/Users/Liaqat Ali/Documents/ChiGaNet/HandPDImgs/Spiral_HandPD/SpiralPatients\\\\0273-1.jpg', 'C:/Users/Liaqat Ali/Documents/ChiGaNet/HandPDImgs/Spiral_HandPD/SpiralPatients\\\\0273-2.jpg', 'C:/Users/Liaqat Ali/Documents/ChiGaNet/HandPDImgs/Spiral_HandPD/SpiralPatients\\\\0273-3.jpg', 'C:/Users/Liaqat Ali/Documents/ChiGaNet/HandPDImgs/Spiral_HandPD/SpiralPatients\\\\0273-4.jpg', 'C:/Users/Liaqat Ali/Documents/ChiGaNet/HandPDImgs/Spiral_HandPD/SpiralPatients\\\\0274-1.jpg', 'C:/Users/Liaqat Ali/Documents/ChiGaNet/HandPDImgs/Spiral_HandPD/SpiralPatients\\\\0274-2.jpg', 'C:/Users/Liaqat Ali/Documents/ChiGaNet/HandPDImgs/Spiral_HandPD/SpiralPatients\\\\0274-3.jpg', 'C:/Users/Liaqat Ali/Documents/ChiGaNet/HandPDImgs/Spiral_HandPD/SpiralPatients\\\\0274-4.jpg', 'C:/Users/Liaqat Ali/Documents/ChiGaNet/HandPDImgs/Spiral_HandPD/SpiralPatients\\\\0280-1.jpg', 'C:/Users/Liaqat Ali/Documents/ChiGaNet/HandPDImgs/Spiral_HandPD/SpiralPatients\\\\0280-2.jpg', 'C:/Users/Liaqat Ali/Documents/ChiGaNet/HandPDImgs/Spiral_HandPD/SpiralPatients\\\\0280-3.jpg', 'C:/Users/Liaqat Ali/Documents/ChiGaNet/HandPDImgs/Spiral_HandPD/SpiralPatients\\\\0280-4.jpg', 'C:/Users/Liaqat Ali/Documents/ChiGaNet/HandPDImgs/Spiral_HandPD/SpiralPatients\\\\0281-1.jpg', 'C:/Users/Liaqat Ali/Documents/ChiGaNet/HandPDImgs/Spiral_HandPD/SpiralPatients\\\\0281-2.jpg', 'C:/Users/Liaqat Ali/Documents/ChiGaNet/HandPDImgs/Spiral_HandPD/SpiralPatients\\\\0281-3.jpg', 'C:/Users/Liaqat Ali/Documents/ChiGaNet/HandPDImgs/Spiral_HandPD/SpiralPatients\\\\0281-4.jpg']\n"
     ]
    }
   ],
   "source": [
    "import natsort\n",
    "print(natsort.natsorted(X_PD_All,reverse=False))\n",
    "X_PD_All = natsort.natsorted(X_PD_All,reverse=False)"
   ]
  },
  {
   "cell_type": "code",
   "execution_count": 19,
   "metadata": {
    "colab": {
     "base_uri": "https://localhost:8080/"
    },
    "executionInfo": {
     "elapsed": 16,
     "status": "ok",
     "timestamp": 1723310928615,
     "user": {
      "displayName": "Liaqat Ali",
      "userId": "05679016512873117773"
     },
     "user_tz": -300
    },
    "id": "A6iICI8BWo8Y",
    "outputId": "fa03b417-6276-47a9-e583-a777071e382c"
   },
   "outputs": [
    {
     "name": "stdout",
     "output_type": "stream",
     "text": [
      "['C:/Users/Liaqat Ali/Documents/ChiGaNet/HandPDImgs/Spiral_HandPD/SpiralControl\\\\0068-1.jpg', 'C:/Users/Liaqat Ali/Documents/ChiGaNet/HandPDImgs/Spiral_HandPD/SpiralControl\\\\0068-2.jpg', 'C:/Users/Liaqat Ali/Documents/ChiGaNet/HandPDImgs/Spiral_HandPD/SpiralControl\\\\0068-3.jpg', 'C:/Users/Liaqat Ali/Documents/ChiGaNet/HandPDImgs/Spiral_HandPD/SpiralControl\\\\0068-4.jpg', 'C:/Users/Liaqat Ali/Documents/ChiGaNet/HandPDImgs/Spiral_HandPD/SpiralControl\\\\0092-1.jpg', 'C:/Users/Liaqat Ali/Documents/ChiGaNet/HandPDImgs/Spiral_HandPD/SpiralControl\\\\0092-2.jpg', 'C:/Users/Liaqat Ali/Documents/ChiGaNet/HandPDImgs/Spiral_HandPD/SpiralControl\\\\0092-3.jpg', 'C:/Users/Liaqat Ali/Documents/ChiGaNet/HandPDImgs/Spiral_HandPD/SpiralControl\\\\0092-4.jpg', 'C:/Users/Liaqat Ali/Documents/ChiGaNet/HandPDImgs/Spiral_HandPD/SpiralControl\\\\0098-1.jpg', 'C:/Users/Liaqat Ali/Documents/ChiGaNet/HandPDImgs/Spiral_HandPD/SpiralControl\\\\0098-2.jpg', 'C:/Users/Liaqat Ali/Documents/ChiGaNet/HandPDImgs/Spiral_HandPD/SpiralControl\\\\0098-3.jpg', 'C:/Users/Liaqat Ali/Documents/ChiGaNet/HandPDImgs/Spiral_HandPD/SpiralControl\\\\0098-4.jpg', 'C:/Users/Liaqat Ali/Documents/ChiGaNet/HandPDImgs/Spiral_HandPD/SpiralControl\\\\0100-1.jpg', 'C:/Users/Liaqat Ali/Documents/ChiGaNet/HandPDImgs/Spiral_HandPD/SpiralControl\\\\0100-2.jpg', 'C:/Users/Liaqat Ali/Documents/ChiGaNet/HandPDImgs/Spiral_HandPD/SpiralControl\\\\0100-3.jpg', 'C:/Users/Liaqat Ali/Documents/ChiGaNet/HandPDImgs/Spiral_HandPD/SpiralControl\\\\0100-4.jpg', 'C:/Users/Liaqat Ali/Documents/ChiGaNet/HandPDImgs/Spiral_HandPD/SpiralControl\\\\0102-1.jpg', 'C:/Users/Liaqat Ali/Documents/ChiGaNet/HandPDImgs/Spiral_HandPD/SpiralControl\\\\0102-2.jpg', 'C:/Users/Liaqat Ali/Documents/ChiGaNet/HandPDImgs/Spiral_HandPD/SpiralControl\\\\0102-3.jpg', 'C:/Users/Liaqat Ali/Documents/ChiGaNet/HandPDImgs/Spiral_HandPD/SpiralControl\\\\0102-4.jpg', 'C:/Users/Liaqat Ali/Documents/ChiGaNet/HandPDImgs/Spiral_HandPD/SpiralControl\\\\0104-1.jpg', 'C:/Users/Liaqat Ali/Documents/ChiGaNet/HandPDImgs/Spiral_HandPD/SpiralControl\\\\0104-2.jpg', 'C:/Users/Liaqat Ali/Documents/ChiGaNet/HandPDImgs/Spiral_HandPD/SpiralControl\\\\0104-3.jpg', 'C:/Users/Liaqat Ali/Documents/ChiGaNet/HandPDImgs/Spiral_HandPD/SpiralControl\\\\0104-4.jpg', 'C:/Users/Liaqat Ali/Documents/ChiGaNet/HandPDImgs/Spiral_HandPD/SpiralControl\\\\0106-1.jpg', 'C:/Users/Liaqat Ali/Documents/ChiGaNet/HandPDImgs/Spiral_HandPD/SpiralControl\\\\0106-2.jpg', 'C:/Users/Liaqat Ali/Documents/ChiGaNet/HandPDImgs/Spiral_HandPD/SpiralControl\\\\0106-3.jpg', 'C:/Users/Liaqat Ali/Documents/ChiGaNet/HandPDImgs/Spiral_HandPD/SpiralControl\\\\0106-4.jpg', 'C:/Users/Liaqat Ali/Documents/ChiGaNet/HandPDImgs/Spiral_HandPD/SpiralControl\\\\0112-1.jpg', 'C:/Users/Liaqat Ali/Documents/ChiGaNet/HandPDImgs/Spiral_HandPD/SpiralControl\\\\0112-2.jpg', 'C:/Users/Liaqat Ali/Documents/ChiGaNet/HandPDImgs/Spiral_HandPD/SpiralControl\\\\0112-3.jpg', 'C:/Users/Liaqat Ali/Documents/ChiGaNet/HandPDImgs/Spiral_HandPD/SpiralControl\\\\0112-4.jpg', 'C:/Users/Liaqat Ali/Documents/ChiGaNet/HandPDImgs/Spiral_HandPD/SpiralControl\\\\0116-1.jpg', 'C:/Users/Liaqat Ali/Documents/ChiGaNet/HandPDImgs/Spiral_HandPD/SpiralControl\\\\0116-2.jpg', 'C:/Users/Liaqat Ali/Documents/ChiGaNet/HandPDImgs/Spiral_HandPD/SpiralControl\\\\0116-3.jpg', 'C:/Users/Liaqat Ali/Documents/ChiGaNet/HandPDImgs/Spiral_HandPD/SpiralControl\\\\0116-4.jpg', 'C:/Users/Liaqat Ali/Documents/ChiGaNet/HandPDImgs/Spiral_HandPD/SpiralControl\\\\0127-1.jpg', 'C:/Users/Liaqat Ali/Documents/ChiGaNet/HandPDImgs/Spiral_HandPD/SpiralControl\\\\0127-2.jpg', 'C:/Users/Liaqat Ali/Documents/ChiGaNet/HandPDImgs/Spiral_HandPD/SpiralControl\\\\0127-3.jpg', 'C:/Users/Liaqat Ali/Documents/ChiGaNet/HandPDImgs/Spiral_HandPD/SpiralControl\\\\0127-4.jpg', 'C:/Users/Liaqat Ali/Documents/ChiGaNet/HandPDImgs/Spiral_HandPD/SpiralControl\\\\0129-1.jpg', 'C:/Users/Liaqat Ali/Documents/ChiGaNet/HandPDImgs/Spiral_HandPD/SpiralControl\\\\0129-2.jpg', 'C:/Users/Liaqat Ali/Documents/ChiGaNet/HandPDImgs/Spiral_HandPD/SpiralControl\\\\0129-3.jpg', 'C:/Users/Liaqat Ali/Documents/ChiGaNet/HandPDImgs/Spiral_HandPD/SpiralControl\\\\0129-4.jpg', 'C:/Users/Liaqat Ali/Documents/ChiGaNet/HandPDImgs/Spiral_HandPD/SpiralControl\\\\0131-1.jpg', 'C:/Users/Liaqat Ali/Documents/ChiGaNet/HandPDImgs/Spiral_HandPD/SpiralControl\\\\0131-2.jpg', 'C:/Users/Liaqat Ali/Documents/ChiGaNet/HandPDImgs/Spiral_HandPD/SpiralControl\\\\0131-3.jpg', 'C:/Users/Liaqat Ali/Documents/ChiGaNet/HandPDImgs/Spiral_HandPD/SpiralControl\\\\0131-4.jpg', 'C:/Users/Liaqat Ali/Documents/ChiGaNet/HandPDImgs/Spiral_HandPD/SpiralControl\\\\0287-1.jpg', 'C:/Users/Liaqat Ali/Documents/ChiGaNet/HandPDImgs/Spiral_HandPD/SpiralControl\\\\0287-2.jpg', 'C:/Users/Liaqat Ali/Documents/ChiGaNet/HandPDImgs/Spiral_HandPD/SpiralControl\\\\0287-3.jpg', 'C:/Users/Liaqat Ali/Documents/ChiGaNet/HandPDImgs/Spiral_HandPD/SpiralControl\\\\0287-4.jpg', 'C:/Users/Liaqat Ali/Documents/ChiGaNet/HandPDImgs/Spiral_HandPD/SpiralControl\\\\0289-1.jpg', 'C:/Users/Liaqat Ali/Documents/ChiGaNet/HandPDImgs/Spiral_HandPD/SpiralControl\\\\0289-2.jpg', 'C:/Users/Liaqat Ali/Documents/ChiGaNet/HandPDImgs/Spiral_HandPD/SpiralControl\\\\0289-3.jpg', 'C:/Users/Liaqat Ali/Documents/ChiGaNet/HandPDImgs/Spiral_HandPD/SpiralControl\\\\0289-4.jpg', 'C:/Users/Liaqat Ali/Documents/ChiGaNet/HandPDImgs/Spiral_HandPD/SpiralControl\\\\0293-1.jpg', 'C:/Users/Liaqat Ali/Documents/ChiGaNet/HandPDImgs/Spiral_HandPD/SpiralControl\\\\0293-2.jpg', 'C:/Users/Liaqat Ali/Documents/ChiGaNet/HandPDImgs/Spiral_HandPD/SpiralControl\\\\0293-3.jpg', 'C:/Users/Liaqat Ali/Documents/ChiGaNet/HandPDImgs/Spiral_HandPD/SpiralControl\\\\0293-4.jpg', 'C:/Users/Liaqat Ali/Documents/ChiGaNet/HandPDImgs/Spiral_HandPD/SpiralControl\\\\0295-1.jpg', 'C:/Users/Liaqat Ali/Documents/ChiGaNet/HandPDImgs/Spiral_HandPD/SpiralControl\\\\0295-2.jpg', 'C:/Users/Liaqat Ali/Documents/ChiGaNet/HandPDImgs/Spiral_HandPD/SpiralControl\\\\0295-3.jpg', 'C:/Users/Liaqat Ali/Documents/ChiGaNet/HandPDImgs/Spiral_HandPD/SpiralControl\\\\0295-4.jpg', 'C:/Users/Liaqat Ali/Documents/ChiGaNet/HandPDImgs/Spiral_HandPD/SpiralControl\\\\0297-1.jpg', 'C:/Users/Liaqat Ali/Documents/ChiGaNet/HandPDImgs/Spiral_HandPD/SpiralControl\\\\0297-2.jpg', 'C:/Users/Liaqat Ali/Documents/ChiGaNet/HandPDImgs/Spiral_HandPD/SpiralControl\\\\0297-3.jpg', 'C:/Users/Liaqat Ali/Documents/ChiGaNet/HandPDImgs/Spiral_HandPD/SpiralControl\\\\0297-4.jpg', 'C:/Users/Liaqat Ali/Documents/ChiGaNet/HandPDImgs/Spiral_HandPD/SpiralControl\\\\0305-1.jpg', 'C:/Users/Liaqat Ali/Documents/ChiGaNet/HandPDImgs/Spiral_HandPD/SpiralControl\\\\0305-2.jpg', 'C:/Users/Liaqat Ali/Documents/ChiGaNet/HandPDImgs/Spiral_HandPD/SpiralControl\\\\0305-3.jpg', 'C:/Users/Liaqat Ali/Documents/ChiGaNet/HandPDImgs/Spiral_HandPD/SpiralControl\\\\0305-4.jpg']\n"
     ]
    }
   ],
   "source": [
    "import natsort\n",
    "print(natsort.natsorted(X_H_All,reverse=False))\n",
    "X_H_All = natsort.natsorted(X_H_All,reverse=False)"
   ]
  },
  {
   "cell_type": "code",
   "execution_count": 20,
   "metadata": {
    "colab": {
     "base_uri": "https://localhost:8080/"
    },
    "executionInfo": {
     "elapsed": 7,
     "status": "ok",
     "timestamp": 1723310928615,
     "user": {
      "displayName": "Liaqat Ali",
      "userId": "05679016512873117773"
     },
     "user_tz": -300
    },
    "id": "vwCG2gZTWsge",
    "outputId": "d927f922-cf28-46ba-c9aa-54a85d489347"
   },
   "outputs": [
    {
     "name": "stdout",
     "output_type": "stream",
     "text": [
      "[INFO] loading network...\n"
     ]
    }
   ],
   "source": [
    "# load the VGG16 network\n",
    "print(\"[INFO] loading network...\")\n",
    "\n",
    "# chop the top dense layers, include_top=False\n",
    "model = VGG16(weights=\"imagenet\", include_top=False)\n",
    "#model.summary()"
   ]
  },
  {
   "cell_type": "code",
   "execution_count": 21,
   "metadata": {
    "colab": {
     "base_uri": "https://localhost:8080/"
    },
    "executionInfo": {
     "elapsed": 103534,
     "status": "ok",
     "timestamp": 1723311032145,
     "user": {
      "displayName": "Liaqat Ali",
      "userId": "05679016512873117773"
     },
     "user_tz": -300
    },
    "id": "aG9RBfDyWvz4",
    "outputId": "c16631a3-0c0c-4ddc-8445-2eae19cef23a"
   },
   "outputs": [
    {
     "name": "stdout",
     "output_type": "stream",
     "text": [
      "\u001b[1m3/3\u001b[0m \u001b[32m━━━━━━━━━━━━━━━━━━━━\u001b[0m\u001b[37m\u001b[0m \u001b[1m5s\u001b[0m 1s/step\n",
      "(72, 224, 224, 3)\n",
      "(72, 7, 7, 512)\n",
      "(72, 25088)\n"
     ]
    }
   ],
   "source": [
    "H_x_all, H_features_all, H_features_flatten_all = create_features(X_H_All, model)\n",
    "print(H_x_all.shape)\n",
    "print(H_features_all.shape)\n",
    "print(H_features_flatten_all.shape)"
   ]
  },
  {
   "cell_type": "code",
   "execution_count": 22,
   "metadata": {
    "colab": {
     "base_uri": "https://localhost:8080/"
    },
    "executionInfo": {
     "elapsed": 211805,
     "status": "ok",
     "timestamp": 1723311243928,
     "user": {
      "displayName": "Liaqat Ali",
      "userId": "05679016512873117773"
     },
     "user_tz": -300
    },
    "id": "xygMu56fW2aw",
    "outputId": "36544e39-b761-4948-dac0-f98ceb6fe01e"
   },
   "outputs": [
    {
     "name": "stdout",
     "output_type": "stream",
     "text": [
      "\u001b[1m10/10\u001b[0m \u001b[32m━━━━━━━━━━━━━━━━━━━━\u001b[0m\u001b[37m\u001b[0m \u001b[1m24s\u001b[0m 3s/step\n",
      "(296, 224, 224, 3)\n",
      "(296, 7, 7, 512)\n",
      "(296, 25088)\n"
     ]
    }
   ],
   "source": [
    "PD_x_all, PD_features_all, PD_features_flatten_all = create_features(X_PD_All, model)\n",
    "print(PD_x_all.shape)\n",
    "print(PD_features_all.shape)\n",
    "print(PD_features_flatten_all.shape)"
   ]
  },
  {
   "cell_type": "code",
   "execution_count": 23,
   "metadata": {
    "colab": {
     "base_uri": "https://localhost:8080/"
    },
    "executionInfo": {
     "elapsed": 7,
     "status": "ok",
     "timestamp": 1723311243928,
     "user": {
      "displayName": "Liaqat Ali",
      "userId": "05679016512873117773"
     },
     "user_tz": -300
    },
    "id": "mhQdxF6XYK9_",
    "outputId": "4c5e4da7-98b5-480c-cf25-646bfd8186a5"
   },
   "outputs": [
    {
     "name": "stdout",
     "output_type": "stream",
     "text": [
      "(296, 25088)\n",
      "(72, 25088)\n",
      "(296,)\n",
      "(72,)\n"
     ]
    }
   ],
   "source": [
    "X_H_all = H_features_flatten_all\n",
    "X_PD_all = PD_features_flatten_all\n",
    "\n",
    "print(X_PD_all.shape)\n",
    "print(X_H_all.shape)\n",
    "\n",
    "Y_PD_all = np.ones(296)\n",
    "Y_H_all = np.zeros(72)\n",
    "print(Y_PD_all.shape)\n",
    "print(Y_H_all.shape)"
   ]
  },
  {
   "cell_type": "code",
   "execution_count": 24,
   "metadata": {
    "colab": {
     "base_uri": "https://localhost:8080/"
    },
    "executionInfo": {
     "elapsed": 6,
     "status": "ok",
     "timestamp": 1723311243929,
     "user": {
      "displayName": "Liaqat Ali",
      "userId": "05679016512873117773"
     },
     "user_tz": -300
    },
    "id": "p-6JLWG5Ym9f",
    "outputId": "e0b5483f-4963-499e-f738-b49887f9b43e"
   },
   "outputs": [
    {
     "name": "stdout",
     "output_type": "stream",
     "text": [
      "(368,)\n",
      "(368, 25088)\n"
     ]
    }
   ],
   "source": [
    "Y_HandPD = np.append(Y_PD_all, Y_H_all, axis=0)\n",
    "print(Y_HandPD.shape)\n",
    "X_HandPD = np.append(X_PD_all, X_H_all, axis=0)\n",
    "print(X_HandPD.shape)"
   ]
  },
  {
   "cell_type": "code",
   "execution_count": 25,
   "metadata": {
    "colab": {
     "base_uri": "https://localhost:8080/"
    },
    "executionInfo": {
     "elapsed": 797,
     "status": "ok",
     "timestamp": 1723311244722,
     "user": {
      "displayName": "Liaqat Ali",
      "userId": "05679016512873117773"
     },
     "user_tz": -300
    },
    "id": "vSC2tIY6y1kK",
    "outputId": "5c21c49d-8a10-4f2b-d9f6-7c032f4ac5ba"
   },
   "outputs": [
    {
     "name": "stdout",
     "output_type": "stream",
     "text": [
      "(264, 130)\n",
      "(368, 130)\n"
     ]
    }
   ],
   "source": [
    ">>> from sklearn.svm import LinearSVC\n",
    ">>> from sklearn.feature_selection import SelectFromModel\n",
    "\n",
    ">>> model_FS = SelectKBest(chi2, k=130) # We tried different k i.e. 20, 30, 40, 50, ..., 150 and found out that 130 is optimal\n",
    ">>> model_FS.fit(X_HandPD_New, Y_HandPD_New)\n",
    ">>> X_FS_HandPD_New = model_FS.transform(X_HandPD_New)\n",
    ">>> X_FS_HandPD = model_FS.transform(X_HandPD)\n",
    ">>> print(X_FS_HandPD_New.shape)\n",
    ">>> print(X_FS_HandPD.shape)"
   ]
  },
  {
   "cell_type": "markdown",
   "metadata": {
    "id": "3dhFbYW4iYyf"
   },
   "source": [
    "# **Developing Model under LOSO Cross Validation on the New HandPD Data**"
   ]
  },
  {
   "cell_type": "markdown",
   "metadata": {
    "id": "n450eFc8imq_"
   },
   "source": [
    "**1. Model Development of NET Model**"
   ]
  },
  {
   "cell_type": "code",
   "execution_count": 26,
   "metadata": {},
   "outputs": [],
   "source": [
    "opt_alpha = 0\n",
    "opt_n1 = 0\n",
    "opt_n2 = 0\n",
    "    \n",
    "clf = MLPClassifier( random_state=1)\n",
    "x = range(1,31)\n",
    "#param_grid= {'gamma': Continuous(0.0001, 1000, distribution='log-uniform'),'C': Continuous(0.0001, 1000, distribution='log-uniform')}\n",
    "param_grid = {\n",
    "    \"hidden_layer_sizes\": Categorical(list(itertools.combinations(x, 2))),\n",
    "    \"alpha\": Categorical([1e-5]),\n",
    "    \"solver\": Categorical(['lbfgs'])\n",
    "}\n",
    "cv = KFold(n_splits=66)\n",
    "\n",
    "evolved_estimator = GASearchCV(estimator=clf,\n",
    "                           cv=cv,\n",
    "                           scoring='accuracy',\n",
    "                           population_size=30,\n",
    "                           generations=25,\n",
    "                           tournament_size=3,\n",
    "                           elitism=True,\n",
    "                           crossover_probability=0.8,\n",
    "                           mutation_probability=0.1,\n",
    "                           param_grid=param_grid,\n",
    "                           criteria='max',\n",
    "                           algorithm='eaMuPlusLambda',\n",
    "                           n_jobs=-1,\n",
    "                           verbose=False,\n",
    "                           keep_top_k=4)\n",
    "\n",
    "\n",
    "evolved_estimator.fit(X_FS_HandPD_New, Y_HandPD_New)  \n",
    "best_params = evolved_estimator.best_params_\n",
    "opt_n1, opt_n2 = best_params['hidden_layer_sizes']\n",
    "opt_alpha = best_params['alpha']\n",
    "#opt_gamma = opt_para[0][0] #Optimal HP is recorded, we can use it later in next stage to evaluate testing results\n",
    "#opt_c_rbf = opt_para[0][1]     #Optimal HP is recorded, we can use it later in next stage to evaluate testing results\n",
    "\n",
    "# It is important to note that if we run the GA algorithm different, times it will provide different results, however, in the results in the \n",
    "#paper are for the following optimal hyperparameters\n",
    "#opt_n1 = 24\n",
    "#opt_n2 =18\n",
    "#opt_alpha=1e-5"
   ]
  },
  {
   "cell_type": "code",
   "execution_count": 27,
   "metadata": {},
   "outputs": [
    {
     "name": "stdout",
     "output_type": "stream",
     "text": [
      "7\n",
      "19\n",
      "1e-05\n"
     ]
    }
   ],
   "source": [
    "print(opt_n1)\n",
    "print(opt_n2)\n",
    "print(opt_alpha)"
   ]
  },
  {
   "cell_type": "code",
   "execution_count": 28,
   "metadata": {
    "id": "A5bJBXFCBnH1"
   },
   "outputs": [
    {
     "name": "stdout",
     "output_type": "stream",
     "text": [
      "Done\n"
     ]
    }
   ],
   "source": [
    "print(\"Done\")"
   ]
  },
  {
   "cell_type": "code",
   "execution_count": 29,
   "metadata": {
    "id": "Yucq4q1WiEcY"
   },
   "outputs": [
    {
     "name": "stdout",
     "output_type": "stream",
     "text": [
      "Best Acc ================ 93.18181818181819\n",
      "Subjects Acc = 98.48484848484848\n",
      "Subject Acc using TP & TN = 0.9848484848484849\n",
      "Sen = 96.7741935483871\n",
      "Spec = 100.0\n",
      "MCC = 0.9699794920789632\n",
      "MOR = 93.84615384615384\n",
      "Bal Acc = 98.38709677419355\n"
     ]
    }
   ],
   "source": [
    "TP=0\n",
    "TN=0\n",
    "FP=0\n",
    "FN=0\n",
    "Best_Acc=0\n",
    "MOR=0\n",
    "cor_class=0\n",
    "MOR=0 #Measure of Reliability\n",
    "j=1\n",
    "lb=0\n",
    "ub=4\n",
    "Net_Acc=0\n",
    "#Sample_Acc=0\n",
    "while j<=66:\n",
    "\n",
    "    Y_test = Y_HandPD_New[range(lb,ub)]\n",
    "    Y_train = numpy.delete(Y_HandPD_New, range(lb,ub), 0)\n",
    "\n",
    "    X_test = X_FS_HandPD_New[range(lb,ub)]\n",
    "    X_train = numpy.delete(X_FS_HandPD_New, range(lb,ub), 0)\n",
    "\n",
    "\n",
    "\n",
    "\n",
    "    model=MLPClassifier(solver='lbfgs', alpha=opt_alpha,hidden_layer_sizes=(opt_n1, opt_n2), random_state=1)\n",
    "\n",
    "\n",
    "    model.fit(X_train, Y_train)\n",
    "    Y_pred = model.predict(X_test)\n",
    "    scores = accuracy_score(Y_test, Y_pred)\n",
    "\n",
    "    Net_Acc = Net_Acc+scores\n",
    "\n",
    "    if Y_test.sum()==0:\n",
    "        if scores>=0.5:\n",
    "            TN = TN+1\n",
    "            cor_class=cor_class+1\n",
    "            MOR=MOR+scores\n",
    "    if Y_test.sum()==4:\n",
    "        if scores>0.5:\n",
    "            TP = TP+1\n",
    "            cor_class=cor_class+1\n",
    "            MOR=MOR+scores\n",
    "\n",
    "    lb = lb+4\n",
    "    ub = ub+4\n",
    "    j=j+1\n",
    "LOSO_Acc = (Net_Acc*100)/66\n",
    "Subj_Acc = (cor_class*100)/66\n",
    "Final_MOR = (MOR*100)/cor_class\n",
    "FN = 31-TP\n",
    "FP = 35-TN\n",
    "Sen = (TP/31)*100\n",
    "Spec = (TN/35)*100\n",
    "if (LOSO_Acc>=Best_Acc ):\n",
    "    Best_Acc = LOSO_Acc\n",
    "    print(\"Best Acc ================\", Best_Acc)\n",
    "    print(\"Subjects Acc =\", Subj_Acc)\n",
    "    print(\"Subject Acc using TP & TN =\", (TP+TN)/66)\n",
    "    print(\"Sen =\", Sen)\n",
    "    print(\"Spec =\", Spec)\n",
    "    print(\"MCC =\", (TP*TN-FP*FN)/(math.sqrt((TP+FP)*(TP+FN)*(TN+FP)*(TN+FN))))\n",
    "    print(\"MOR =\", Final_MOR)\n",
    "    print(\"Bal Acc =\", (Sen+Spec)/2)\n"
   ]
  },
  {
   "cell_type": "markdown",
   "metadata": {},
   "source": [
    "# Confusion Matrix for ChiGa-Net Main Dataset Spirals"
   ]
  },
  {
   "cell_type": "code",
   "execution_count": 30,
   "metadata": {},
   "outputs": [
    {
     "name": "stdout",
     "output_type": "stream",
     "text": [
      "Best Acc ================ 93.18181818181819\n",
      "Subjects Acc = 98.48484848484848\n",
      "Subject Acc using TP & TN = 0.9848484848484849\n",
      "Sen = 96.7741935483871\n",
      "Spec = 100.0\n",
      "MCC = 0.9699794920789632\n",
      "MOR = 93.84615384615384\n",
      "Bal Acc = 98.38709677419355\n"
     ]
    },
    {
     "data": {
      "image/png": "[encoded data removed]",
      "text/plain": [
       "<Figure size 800x600 with 2 Axes>"
      ]
     },
     "metadata": {},
     "output_type": "display_data"
    }
   ],
   "source": [
    "import numpy as np\n",
    "from sklearn.neural_network import MLPClassifier\n",
    "from sklearn.metrics import confusion_matrix, accuracy_score\n",
    "import seaborn as sns\n",
    "import matplotlib.pyplot as plt\n",
    "import math\n",
    "\n",
    "# Initialize variables\n",
    "TP = 0\n",
    "TN = 0\n",
    "FP = 0\n",
    "FN = 0\n",
    "Best_Acc = 0\n",
    "MOR = 0  # Measure of Reliability\n",
    "cor_class = 0\n",
    "j = 1\n",
    "lb = 0\n",
    "ub = 4\n",
    "Net_Acc = 0\n",
    "\n",
    "# Initialize lists to store true and predicted labels for each subject\n",
    "Y_true_subjects = []\n",
    "Y_pred_subjects = []\n",
    "\n",
    "# Loop through each subject\n",
    "while j <= 66:\n",
    "    Y_test = Y_HandPD_New[range(lb, ub)]\n",
    "    Y_train = np.delete(Y_HandPD_New, range(lb, ub), 0)\n",
    "\n",
    "    X_test = X_FS_HandPD_New[range(lb, ub)]\n",
    "    X_train = np.delete(X_FS_HandPD_New, range(lb, ub), 0)\n",
    "\n",
    "    model = MLPClassifier(solver='lbfgs', alpha=opt_alpha, hidden_layer_sizes=(opt_n1, opt_n2), random_state=1)\n",
    "    model.fit(X_train, Y_train)\n",
    "    \n",
    "    Y_pred = model.predict(X_test)\n",
    "    scores = accuracy_score(Y_test, Y_pred)\n",
    "    Net_Acc += scores\n",
    "\n",
    "    # Store true and predicted labels for the subject\n",
    "    Y_true_subjects.append(Y_test[0])  # Store the actual label for the subject\n",
    "    predicted_label = 0  # Default predicted label\n",
    "    if Y_test.sum() == 0:  # True label is class 0\n",
    "        if scores >= 0.5:\n",
    "            TN += 1\n",
    "            cor_class += 1\n",
    "            MOR += scores\n",
    "            predicted_label = 0  # Correct prediction for class 0\n",
    "        else:\n",
    "            predicted_label = 1  # Incorrect prediction for class 0\n",
    "    elif Y_test.sum() == 4:  # True label is class 1\n",
    "        if scores > 0.5:\n",
    "            TP += 1\n",
    "            cor_class += 1\n",
    "            MOR += scores\n",
    "            predicted_label = 1  # Correct prediction for class 1\n",
    "        else:\n",
    "            predicted_label = 0  # Incorrect prediction for class 1\n",
    "    \n",
    "    Y_pred_subjects.append(predicted_label)  # Store the predicted label\n",
    "\n",
    "    lb += 4\n",
    "    ub += 4\n",
    "    j += 1\n",
    "\n",
    "# Calculate confusion matrix\n",
    "cm_subjects = confusion_matrix(Y_true_subjects, Y_pred_subjects)\n",
    "\n",
    "# Calculate overall metrics\n",
    "LOSO_Acc = (Net_Acc * 100) / 66\n",
    "Subj_Acc = (cor_class * 100) / 66\n",
    "Final_MOR = (MOR * 100) / cor_class if cor_class > 0 else 0\n",
    "FN = 31 - TP\n",
    "FP = 35 - TN\n",
    "Sen = (TP / 31) * 100 if TP > 0 else 0\n",
    "Spec = (TN / 35) * 100 if TN > 0 else 0\n",
    "\n",
    "# Check for best accuracy and print metrics\n",
    "if LOSO_Acc >= Best_Acc:\n",
    "    Best_Acc = LOSO_Acc\n",
    "    print(\"Best Acc ================\", Best_Acc)\n",
    "    print(\"Subjects Acc =\", Subj_Acc)\n",
    "    print(\"Subject Acc using TP & TN =\", (TP + TN) / 66)\n",
    "    print(\"Sen =\", Sen)\n",
    "    print(\"Spec =\", Spec)\n",
    "    print(\"MCC =\", (TP * TN - FP * FN) / (math.sqrt((TP + FP) * (TP + FN) * (TN + FP) * (TN + FN))) if (TP + FP) * (TP + FN) * (TN + FP) * (TN + FN) > 0 else 1)\n",
    "    print(\"MOR =\", Final_MOR)\n",
    "    print(\"Bal Acc =\", (Sen + Spec) / 2)\n",
    "\n",
    "# Plot the confusion matrix using Seaborn\n",
    "plt.figure(figsize=(8, 6))\n",
    "sns.heatmap(cm_subjects, annot=True, fmt='g', cmap='Pastel1', cbar=True, \n",
    "            xticklabels=['Predicted Class 0', 'Predicted Class 1'], \n",
    "            yticklabels=['Actual Class 0', 'Actual Class 1'], \n",
    "            linewidths=0.5, linecolor='black', annot_kws={\"size\": 26, \"color\": \"blue\"})\n",
    "\n",
    "# Customize labels and title\n",
    "#plt.title('Subject-wise Confusion Matrix', fontsize=16)\n",
    "plt.ylabel('Actual Label', fontsize=14)\n",
    "plt.xlabel('Predicted Label', fontsize=14)\n",
    "\n",
    "# Save the figure as .eps file with proper bounding box\n",
    "plt.savefig('cm_chiganet_maindata_spirals.eps', format='eps', dpi=300, bbox_inches='tight')\n",
    "\n",
    "# Save the figure as .jpg file\n",
    "plt.savefig('cm_chiganet_maindata_spirals.jpg', format='jpg', dpi=300, bbox_inches='tight')\n",
    "\n",
    "# Show the plot\n",
    "plt.tight_layout(pad=1.5)\n",
    "plt.show()\n"
   ]
  },
  {
   "cell_type": "markdown",
   "metadata": {
    "id": "rG2RlUXFjbF3"
   },
   "source": [
    "# **External Validation of the Developed Models on New Data**"
   ]
  },
  {
   "cell_type": "code",
   "execution_count": 31,
   "metadata": {
    "id": "3_w8cJXc5Mf6"
   },
   "outputs": [],
   "source": [
    "# Testing the Developed or Construced Model as Indepdendent Testing or Blind Test or Secondary level testing\n",
    "# for measureing the Generlaization Capabilities of the developed model.\n",
    "# From, paper point of view, use the same L1SVM-ANN for the Hand Crafted Features and compare their performance\n",
    "# and generlization capabilites"
   ]
  },
  {
   "cell_type": "code",
   "execution_count": 32,
   "metadata": {
    "id": "prqoJS8WBbSx"
   },
   "outputs": [
    {
     "name": "stdout",
     "output_type": "stream",
     "text": [
      "(264,)\n",
      "(264, 1)\n"
     ]
    }
   ],
   "source": [
    "################# The Below Three Statements are much important bcoz if we do not use, Y or Y_test size is (4,) i.e.\n",
    "# it is a column vector having no dimenstion. So we cannot use it with numpy.vstack(), as the above Y_test_total emptyp\n",
    "#array might have some predefined dimension.\n",
    "print(Y_HandPD_New.shape)\n",
    "Y_NewHandPD=Y_HandPD_New[:, numpy.newaxis] # It should be run once. We need to restart kernel. Boz if we rerun it, the shape will bcom (4, 1, 1)\n",
    "print(Y_NewHandPD.shape)\n",
    "##################################"
   ]
  },
  {
   "cell_type": "markdown",
   "metadata": {
    "id": "8sC7-TEyjqIk"
   },
   "source": [
    "**1. External Validation of the Optimally Developed NET Model**"
   ]
  },
  {
   "cell_type": "code",
   "execution_count": 33,
   "metadata": {
    "id": "T-wKj1-Rla24"
   },
   "outputs": [
    {
     "name": "stdout",
     "output_type": "stream",
     "text": [
      "Best Acc ================ 93.18181818181819\n",
      "Subjects Acc = 95.45454545454545\n"
     ]
    }
   ],
   "source": [
    "# Regenerating Best Results using developed model over New_HandPD Dataset using LOSO CV\n",
    "# The Below are to create empty arrays for ROC Chart\n",
    "y_probas_total = numpy.empty((0,2), float)\n",
    "Y_test_total = numpy.empty((0,1), int)\n",
    "\n",
    "Best_Acc=0\n",
    "cor_class=0\n",
    "j=1\n",
    "lb=0\n",
    "ub=4\n",
    "Net_Acc=0\n",
    "#Sample_Acc=0\n",
    "while j<=66:\n",
    "\n",
    "    Y_test = Y_NewHandPD[range(lb,ub)]\n",
    "    Y_train = numpy.delete(Y_NewHandPD, range(lb,ub), 0)\n",
    "\n",
    "    X_test = X_FS_HandPD_New[range(lb,ub)]\n",
    "    X_train = numpy.delete(X_FS_HandPD_New, range(lb,ub), 0)\n",
    "\n",
    "    model=MLPClassifier(solver='lbfgs', alpha=opt_alpha,hidden_layer_sizes=(opt_n1, opt_n2), random_state=1)\n",
    "\n",
    "    model.fit(X_train, Y_train)\n",
    "    Y_pred = model.predict(X_test)\n",
    "    scores = accuracy_score(Y_test, Y_pred)\n",
    "\n",
    "    Net_Acc = Net_Acc+scores\n",
    "\n",
    "    ####################The Below Three Statements are about ROC Chart###################\n",
    "    y_probas = model.predict_proba(X_test)\n",
    "    y_probas_total =  numpy.vstack((y_probas_total, y_probas))\n",
    "    Y_test_total =  numpy.vstack((Y_test_total, Y_test))\n",
    "    ####################################################################################\n",
    "\n",
    "    if scores>0.5:\n",
    "      cor_class=cor_class+1\n",
    "\n",
    "    lb = lb+4\n",
    "    ub = ub+4\n",
    "    j=j+1\n",
    "LOSO_Acc = (Net_Acc*100)/66\n",
    "Subj_Acc = (cor_class*100)/66\n",
    "if (LOSO_Acc>=80 ):\n",
    "    Best_Acc = LOSO_Acc\n",
    "    print(\"Best Acc ================\", Best_Acc)\n",
    "    print(\"Subjects Acc =\", Subj_Acc)"
   ]
  },
  {
   "cell_type": "code",
   "execution_count": 34,
   "metadata": {
    "id": "ubfqzvb-BLE9"
   },
   "outputs": [
    {
     "data": {
      "image/png": "[encoded data removed]",
      "text/plain": [
       "<Figure size 640x480 with 1 Axes>"
      ]
     },
     "metadata": {},
     "output_type": "display_data"
    }
   ],
   "source": [
    "##############ROC############################3333\n",
    "from sklearn import metrics\n",
    "import matplotlib.pyplot as plt\n",
    "\n",
    "\n",
    "####################Below Piece of Code for ROC using Sklearn###########################3\n",
    "fpr, tpr, _ = metrics.roc_curve(Y_test_total,  y_probas_total[::,1])\n",
    "auc = metrics.roc_auc_score(Y_test_total, y_probas_total[::,1])\n",
    "plt.plot(fpr,tpr,color='r',label=\"ROC Curve, AUC=\"+str(auc))\n",
    "#plt.title('ROC Curve under LOSO CV on NewHandPD Database')\n",
    "plt.xlabel('False Positive Rate')\n",
    "plt.ylabel('True Positive Rate')\n",
    "plt.legend(loc=4)\n",
    "plt.show()"
   ]
  },
  {
   "cell_type": "code",
   "execution_count": null,
   "metadata": {
    "id": "ranC7sK7IEil"
   },
   "outputs": [],
   "source": []
  },
  {
   "cell_type": "code",
   "execution_count": 35,
   "metadata": {
    "id": "As3NrGFY8PT-"
   },
   "outputs": [
    {
     "name": "stderr",
     "output_type": "stream",
     "text": [
      "The PostScript backend does not support transparency; partially transparent artists will be rendered opaque.\n"
     ]
    },
    {
     "data": {
      "image/png": "[encoded data removed]",
      "text/plain": [
       "<Figure size 640x480 with 1 Axes>"
      ]
     },
     "metadata": {},
     "output_type": "display_data"
    }
   ],
   "source": [
    "#from sklearn.svm import SVC\n",
    "from sklearn.metrics import roc_curve,roc_auc_score\n",
    "#from sklearn.datasets import make_blobs\n",
    "from sklearn. model_selection import train_test_split\n",
    "import matplotlib.pyplot as plt\n",
    "\n",
    "\n",
    "\n",
    "auc = roc_auc_score(Y_test_total,  y_probas_total[::,1])\n",
    "fpr,tpr, thresholds = roc_curve(Y_test_total, y_probas_total[::,1])\n",
    "plt.plot(fpr,tpr,color='navy',label=\"ROC Curve, AUC=\"+str(auc))\n",
    "plt.plot([0, 1], [0, 1], color='navy', lw=2, linestyle='--')\n",
    "plt.fill_between(fpr,tpr,facecolor = 'lightpink', alpha = 0.5)\n",
    "plt.xlim([0.0, 1.0])\n",
    "plt.ylim([0.0, 1.05])\n",
    "plt.xlabel('FPR')\n",
    "plt.ylabel('TPR')\n",
    "#plt.title('Receiver Operating Characteristic Curve')\n",
    "plt.legend(loc=\"lower right\")\n",
    "#plt.savefig('main_ROC.eps',format='eps')\n",
    "images_dir = 'C:/Users/Liaqat Ali/Documents/ChiGaNet'\n",
    "plt.savefig(f\"{images_dir}/ChiGaNet_ROC_LOSOMain_HandPD_Spirals.eps\", format='eps')\n",
    "plt.show()"
   ]
  },
  {
   "cell_type": "code",
   "execution_count": 36,
   "metadata": {
    "id": "TlLT_1krDd_O"
   },
   "outputs": [
    {
     "name": "stdout",
     "output_type": "stream",
     "text": [
      "(368,)\n",
      "(368, 1)\n"
     ]
    }
   ],
   "source": [
    "################# The Below Three Statements are much important bcoz if we do not use, Y or Y_test size is (4,) i.e.\n",
    "# it is a column vector having no dimenstion. So we cannot use it with numpy.vstack(), as the above Y_test_total emptyp\n",
    "#array might have some predefined dimension.\n",
    "print(Y_HandPD.shape)\n",
    "YHandPD=Y_HandPD[:, numpy.newaxis] # It should be run once. We need to restart kernel. Boz if we rerun it, the shape will bcom (4, 1, 1)\n",
    "print(YHandPD.shape)\n",
    "##################################"
   ]
  },
  {
   "cell_type": "code",
   "execution_count": 37,
   "metadata": {
    "id": "VRrPvlKGDYac"
   },
   "outputs": [
    {
     "name": "stdout",
     "output_type": "stream",
     "text": [
      "Best Acc ================ 87.22826086956522\n",
      "Subjects Acc = 84.78260869565217\n"
     ]
    }
   ],
   "source": [
    "# (48, 47) 90.71% Acc on testing and 100% under LOSO CV\n",
    "\n",
    "\n",
    "import numpy\n",
    "# The Below are to create empty arrays for ROC Chart\n",
    "y_probas_total = numpy.empty((0,2), float)\n",
    "Y_test_total = numpy.empty((0,1), int)\n",
    "\n",
    "Best_Acc=0\n",
    "MOR=0\n",
    "cor_class=0\n",
    "j=1\n",
    "lb=0\n",
    "ub=4\n",
    "Net_Acc=0\n",
    "#Sample_Acc=0\n",
    "while j<=92:\n",
    "\n",
    "    Y_test_sub = YHandPD[range(lb,ub)]\n",
    "    #Y_train = numpy.delete(Y_Test, range(lb,ub), 0)\n",
    "\n",
    "    X_test_sub = X_FS_HandPD[range(lb,ub)]\n",
    "    #X_train = numpy.delete(X_new, range(lb,ub), 0)\n",
    "\n",
    "    model=MLPClassifier(solver='lbfgs', alpha=opt_alpha,hidden_layer_sizes=(opt_n1, opt_n2), random_state=1)\n",
    "\n",
    "    model.fit(X_FS_HandPD_New, Y_HandPD_New)\n",
    "    Y_pred = model.predict(X_test_sub)\n",
    "    scores = accuracy_score(Y_test_sub, Y_pred)\n",
    "\n",
    "    Net_Acc = Net_Acc+scores\n",
    "\n",
    "    ####################The Below Three Statements are about ROC Chart###################\n",
    "    y_probas = model.predict_proba(X_test_sub)\n",
    "    y_probas_total =  numpy.vstack((y_probas_total, y_probas))\n",
    "    Y_test_total =  numpy.vstack((Y_test_total, Y_test_sub))\n",
    "    ####################################################################################\n",
    "\n",
    "    if scores>0.5:\n",
    "      cor_class=cor_class+1\n",
    "      MOR=MOR+scores\n",
    "\n",
    "    lb = lb+4\n",
    "    ub = ub+4\n",
    "    j=j+1\n",
    "LOSO_Acc = (Net_Acc*100)/92\n",
    "Subj_Acc = (cor_class*100)/92\n",
    "if (LOSO_Acc>=Best_Acc):\n",
    "    Best_Acc = LOSO_Acc\n",
    "    print(\"Best Acc ================\", Best_Acc)\n",
    "    print(\"Subjects Acc =\", Subj_Acc)"
   ]
  },
  {
   "cell_type": "code",
   "execution_count": 38,
   "metadata": {
    "id": "I3wrezPoDZeg"
   },
   "outputs": [
    {
     "data": {
      "image/png": "[encoded data removed]",
      "text/plain": [
       "<Figure size 640x480 with 1 Axes>"
      ]
     },
     "metadata": {},
     "output_type": "display_data"
    }
   ],
   "source": [
    "##############ROC############################3333\n",
    "from sklearn import metrics\n",
    "\n",
    "import matplotlib.pyplot as plt\n",
    "\n",
    "\n",
    "####################Below Piece of Code for ROC using Sklearn###########################3\n",
    "fpr, tpr, _ = metrics.roc_curve(Y_test_total,  y_probas_total[::,1])\n",
    "auc = metrics.roc_auc_score(Y_test_total, y_probas_total[::,1])\n",
    "plt.plot(fpr,tpr,color='r',label=\"ROC Curve, AUC=\"+str(auc))\n",
    "#plt.title('ROC Curve for Independent Testing')\n",
    "plt.xlabel('False Positive Rate')\n",
    "plt.ylabel('True Positive Rate')\n",
    "plt.legend(loc=4)\n",
    "plt.show()"
   ]
  },
  {
   "cell_type": "code",
   "execution_count": 39,
   "metadata": {
    "id": "VXqdJvVNIXsN"
   },
   "outputs": [
    {
     "name": "stderr",
     "output_type": "stream",
     "text": [
      "The PostScript backend does not support transparency; partially transparent artists will be rendered opaque.\n"
     ]
    },
    {
     "data": {
      "image/png": "[encoded data removed]",
      "text/plain": [
       "<Figure size 640x480 with 1 Axes>"
      ]
     },
     "metadata": {},
     "output_type": "display_data"
    }
   ],
   "source": [
    "#from sklearn.svm import SVC\n",
    "from sklearn.metrics import roc_curve,roc_auc_score\n",
    "#from sklearn.datasets import make_blobs\n",
    "from sklearn. model_selection import train_test_split\n",
    "import matplotlib.pyplot as plt\n",
    "\n",
    "\n",
    "\n",
    "auc = roc_auc_score(Y_test_total,  y_probas_total[::,1])\n",
    "fpr,tpr, thresholds = roc_curve(Y_test_total, y_probas_total[::,1])\n",
    "plt.plot(fpr,tpr,color='navy',label=\"ROC Curve, AUC=\"+str(auc))\n",
    "plt.plot([0, 1], [0, 1], color='navy', lw=2, linestyle='--')\n",
    "plt.fill_between(fpr,tpr,facecolor = 'lightpink', alpha = 0.5)\n",
    "plt.xlim([0.0, 1.0])\n",
    "plt.ylim([0.0, 1.05])\n",
    "plt.xlabel('FPR')\n",
    "plt.ylabel('TPR')\n",
    "#plt.title('Receiver Operating Characteristic Curve')\n",
    "plt.legend(loc=\"lower right\")\n",
    "#plt.savefig('main_ROC.eps',format='eps')\n",
    "images_dir = 'C:/Users/Liaqat Ali/Documents/ChiGaNet'\n",
    "plt.savefig(f\"{images_dir}/ChiGaNet_ROC_IndTesting_HandPD_Spirals.eps\", format='eps')\n",
    "plt.show()"
   ]
  },
  {
   "cell_type": "markdown",
   "metadata": {},
   "source": [
    "# Confusion Matrix for the NewDataset"
   ]
  },
  {
   "cell_type": "code",
   "execution_count": 40,
   "metadata": {},
   "outputs": [
    {
     "name": "stdout",
     "output_type": "stream",
     "text": [
      "Samples Acc ================ 87.22826086956522\n",
      "Subjects Accuracy using TP and TN 0.8478260869565217\n",
      "Subjects Acc = 84.78260869565217\n",
      "Sen = 82.43243243243244\n",
      "Spec = 94.44444444444444\n",
      "Bal Acc = 88.43843843843844\n"
     ]
    }
   ],
   "source": [
    "# (48, 47) 90.71% Acc on testing and 100% under LOSO CV\n",
    "\n",
    "\n",
    "import numpy\n",
    "# The Below are to create empty arrays for ROC Chart\n",
    "y_probas_total = numpy.empty((0,2), float)\n",
    "Y_test_total = numpy.empty((0,1), int)\n",
    "\n",
    "Best_Acc=0\n",
    "MOR=0\n",
    "TP=0\n",
    "TN=0\n",
    "FP=0\n",
    "FN=0\n",
    "cor_class=0\n",
    "j=1\n",
    "lb=0\n",
    "ub=4\n",
    "Net_Acc=0\n",
    "#Sample_Acc=0\n",
    "while j<=92:\n",
    "\n",
    "    Y_test_sub = YHandPD[range(lb,ub)]\n",
    "    #Y_train = numpy.delete(Y_Test, range(lb,ub), 0)\n",
    "\n",
    "    X_test_sub = X_FS_HandPD[range(lb,ub)]\n",
    "    #X_train = numpy.delete(X_new, range(lb,ub), 0)\n",
    "\n",
    "    model=MLPClassifier(solver='lbfgs', alpha=opt_alpha,hidden_layer_sizes=(opt_n1, opt_n2), random_state=1)\n",
    "\n",
    "    model.fit(X_FS_HandPD_New, Y_HandPD_New)\n",
    "    Y_pred = model.predict(X_test_sub)\n",
    "    scores = accuracy_score(Y_test_sub, Y_pred)\n",
    "\n",
    "    Net_Acc = Net_Acc+scores\n",
    "\n",
    "    ####################The Below Three Statements are about ROC Chart###################\n",
    "    y_probas = model.predict_proba(X_test_sub)\n",
    "    y_probas_total =  numpy.vstack((y_probas_total, y_probas))\n",
    "    Y_test_total =  numpy.vstack((Y_test_total, Y_test_sub))\n",
    "    ####################################################################################\n",
    "\n",
    "    if Y_test_sub.sum() == 0:  # True label is class 0\n",
    "        if scores >= 0.5:\n",
    "            TN += 1\n",
    "            cor_class += 1\n",
    "            MOR += scores\n",
    "            \n",
    "    elif Y_test_sub.sum() == 4:  # True label is class 1\n",
    "        if scores > 0.5:\n",
    "            TP += 1\n",
    "            cor_class += 1\n",
    "            MOR += scores   \n",
    "\n",
    "    lb = lb+4\n",
    "    ub = ub+4\n",
    "    j=j+1\n",
    "LOSO_Acc = (Net_Acc*100)/92\n",
    "Subj_Acc = (cor_class*100)/92\n",
    "FN = 74 - TP\n",
    "FP = 18 - TN\n",
    "Sen = (TP / 74) * 100 if TP > 0 else 0\n",
    "Spec = (TN / 18) * 100 if TN > 0 else 0\n",
    "if (LOSO_Acc>=Best_Acc):\n",
    "    Best_Acc = LOSO_Acc\n",
    "    print(\"Samples Acc ================\", Best_Acc)\n",
    "    print(\"Subjects Accuracy using TP and TN\", (TP+TN)/92)\n",
    "    print(\"Subjects Acc =\", Subj_Acc)\n",
    "    print(\"Sen =\", Sen)\n",
    "    print(\"Spec =\", Spec)\n",
    "    print(\"Bal Acc =\", (Sen+Spec)/2)"
   ]
  },
  {
   "cell_type": "code",
   "execution_count": 41,
   "metadata": {},
   "outputs": [
    {
     "name": "stdout",
     "output_type": "stream",
     "text": [
      "Samples Acc ================ 87.22826086956522\n",
      "Subjects Accuracy using TP and TN = 0.8478260869565217\n",
      "Subjects Acc = 84.78260869565217\n",
      "Sen = 82.43243243243244\n",
      "Spec = 94.44444444444444\n"
     ]
    },
    {
     "data": {
      "image/png": "[encoded data removed]",
      "text/plain": [
       "<Figure size 800x600 with 2 Axes>"
      ]
     },
     "metadata": {},
     "output_type": "display_data"
    }
   ],
   "source": [
    "import numpy as np\n",
    "from sklearn.neural_network import MLPClassifier\n",
    "from sklearn.metrics import confusion_matrix, accuracy_score\n",
    "import seaborn as sns\n",
    "import matplotlib.pyplot as plt\n",
    "import math\n",
    "\n",
    "# Initialize variables\n",
    "Best_Acc = 0\n",
    "MOR = 0\n",
    "TP = 0\n",
    "TN = 0\n",
    "FP = 0\n",
    "FN = 0\n",
    "cor_class = 0\n",
    "Net_Acc = 0\n",
    "\n",
    "# Initialize lists to store true and predicted labels for confusion matrix\n",
    "Y_true_total = []\n",
    "Y_pred_total = []\n",
    "\n",
    "# Loop through each subject\n",
    "for j in range(0, 92):\n",
    "    lb = j * 4\n",
    "    ub = lb + 4\n",
    "\n",
    "    Y_test_sub = YHandPD[range(lb, ub)]\n",
    "    X_test_sub = X_FS_HandPD[range(lb, ub)]\n",
    "\n",
    "    # Fit the model with the original data\n",
    "    model = MLPClassifier(solver='lbfgs', alpha=opt_alpha, hidden_layer_sizes=(opt_n1, opt_n2), random_state=1)\n",
    "    model.fit(X_FS_HandPD_New, Y_HandPD_New)\n",
    "    Y_pred = model.predict(X_test_sub)\n",
    "    scores = accuracy_score(Y_test_sub, Y_pred)\n",
    "\n",
    "    Net_Acc += scores\n",
    "\n",
    "    # Update confusion metrics\n",
    "    if Y_test_sub.sum() == 0:  # True label is class 0\n",
    "        if scores >= 0.5:\n",
    "            TN += 1\n",
    "            cor_class += 1\n",
    "            MOR += scores\n",
    "            Y_true_total.append(0)  # Append actual label\n",
    "            Y_pred_total.append(0)  # Correct prediction\n",
    "        else:\n",
    "            Y_true_total.append(0)  # Actual label\n",
    "            Y_pred_total.append(1)  # Incorrect prediction\n",
    "    elif Y_test_sub.sum() == 4:  # True label is class 1\n",
    "        if scores > 0.5:\n",
    "            TP += 1\n",
    "            cor_class += 1\n",
    "            MOR += scores\n",
    "            Y_true_total.append(1)  # Append actual label\n",
    "            Y_pred_total.append(1)  # Correct prediction\n",
    "        else:\n",
    "            Y_true_total.append(1)  # Actual label\n",
    "            Y_pred_total.append(0)  # Incorrect prediction\n",
    "\n",
    "# Calculate overall accuracy and other metrics\n",
    "LOSO_Acc = (Net_Acc * 100) / 92\n",
    "Subj_Acc = (cor_class * 100) / 92\n",
    "FN = 74 - TP  # Adjust according to the number of true positives\n",
    "FP = 18 - TN  # Adjust according to the number of true negatives\n",
    "Sen = (TP / 74) * 100 if TP > 0 else 0\n",
    "Spec = (TN / 18) * 100 if TN > 0 else 0\n",
    "\n",
    "if LOSO_Acc >= Best_Acc:\n",
    "    Best_Acc = LOSO_Acc\n",
    "    print(\"Samples Acc ================\", Best_Acc)\n",
    "    print(\"Subjects Accuracy using TP and TN =\", (TP + TN) / 92)\n",
    "    print(\"Subjects Acc =\", Subj_Acc)\n",
    "    print(\"Sen =\", Sen)\n",
    "    print(\"Spec =\", Spec)\n",
    "\n",
    "# Step to plot and save the confusion matrix\n",
    "cm = confusion_matrix(Y_true_total, Y_pred_total)\n",
    "\n",
    "# Plot the confusion matrix using Seaborn\n",
    "plt.figure(figsize=(8, 6))\n",
    "sns.heatmap(cm, annot=True, fmt='g', cmap='Pastel1', cbar=True, \n",
    "            xticklabels=['Predicted Class 0', 'Predicted Class 1'], \n",
    "            yticklabels=['Actual Class 0', 'Actual Class 1'], \n",
    "            linewidths=0.5, linecolor='black', annot_kws={\"size\": 26, \"color\": \"blue\"})\n",
    "\n",
    "# Customize labels and title\n",
    "#plt.title('Confusion Matrix', fontsize=16)\n",
    "plt.ylabel('Actual Label', fontsize=14)\n",
    "plt.xlabel('Predicted Label', fontsize=14)\n",
    "\n",
    "# Save the figure as .eps file with proper bounding box\n",
    "plt.savefig('cm_chiganet_newdata_spirals.eps', format='eps', dpi=300, bbox_inches='tight')\n",
    "\n",
    "# Save the figure as .jpg file\n",
    "plt.savefig('cm_chiganet_newdata_spirals.jpg', format='jpg', dpi=300, bbox_inches='tight')\n",
    "\n",
    "# Show the plot\n",
    "plt.tight_layout(pad=1.5)\n",
    "plt.show()\n"
   ]
  },
  {
   "cell_type": "code",
   "execution_count": null,
   "metadata": {},
   "outputs": [],
   "source": []
  }
 ],
 "metadata": {
  "colab": {
   "authorship_tag": "ABX9TyMiEbilEWWA+rkimYeb/cNB",
   "provenance": []
  },
  "kernelspec": {
   "display_name": "Python 3 (ipykernel)",
   "language": "python",
   "name": "python3"
  },
  "language_info": {
   "codemirror_mode": {
    "name": "ipython",
    "version": 3
   },
   "file_extension": ".py",
   "mimetype": "text/x-python",
   "name": "python",
   "nbconvert_exporter": "python",
   "pygments_lexer": "ipython3",
   "version": "3.12.3"
  }
 },
 "nbformat": 4,
 "nbformat_minor": 4
}
