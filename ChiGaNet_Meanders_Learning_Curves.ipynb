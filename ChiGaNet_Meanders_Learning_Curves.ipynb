{
 "cells": [
  {
   "cell_type": "code",
   "execution_count": 1,
   "metadata": {
    "executionInfo": {
     "elapsed": 15702,
     "status": "ok",
     "timestamp": 1723310605595,
     "user": {
      "displayName": "Liaqat Ali",
      "userId": "05679016512873117773"
     },
     "user_tz": -300
    },
    "id": "M5v0L30-JUXh"
   },
   "outputs": [],
   "source": [
    "import os\n",
    "import numpy as np\n",
    "import pandas as pd\n",
    "import matplotlib.pyplot as plt;\n",
    "from sklearn.feature_selection import SelectKBest\n",
    "from sklearn.feature_selection import chi2\n",
    "# Importing sklearn libraries\n",
    "from sklearn.model_selection import GridSearchCV\n",
    "from sklearn.linear_model import LogisticRegression\n",
    "from sklearn.metrics import confusion_matrix, accuracy_score\n",
    "from sklearn.neighbors import NearestCentroid\n",
    "from sklearn.metrics import log_loss  # For calculating validation loss\n",
    "\n",
    "\n",
    "# Importing Keras libraries\n",
    "#from keras.utils import np_utils              It was older statement. Gave error. Changed by below. In below code need to change np_utils by utils\n",
    "from keras import utils\n",
    "from keras.models import Sequential\n",
    "from keras.applications import VGG16\n",
    "from keras.applications import imagenet_utils\n",
    "from keras.callbacks import ModelCheckpoint\n",
    "#from keras.preprocessing.image import load_img\n",
    "from tensorflow.keras.utils import load_img\n",
    "#from keras.preprocessing.image import img_to_array\n",
    "from tensorflow.keras.utils import img_to_array\n",
    "from keras.layers import Dense, Conv2D, MaxPooling2D\n",
    "from keras.layers import Dropout, Flatten, GlobalAveragePooling2D\n",
    "\n",
    "import warnings\n",
    "warnings.filterwarnings('ignore')"
   ]
  },
  {
   "cell_type": "code",
   "execution_count": 2,
   "metadata": {
    "executionInfo": {
     "elapsed": 23,
     "status": "ok",
     "timestamp": 1723310605596,
     "user": {
      "displayName": "Liaqat Ali",
      "userId": "05679016512873117773"
     },
     "user_tz": -300
    },
    "id": "nZp664twJf8_"
   },
   "outputs": [],
   "source": [
    "from sklearn.model_selection import KFold\n",
    "import numpy\n",
    "\n",
    "import matplotlib.pyplot as plt\n",
    "\n",
    "from scipy.stats import zscore\n",
    "from sklearn import metrics\n",
    "from sklearn.model_selection import KFold\n",
    "\n",
    "from sklearn.metrics import accuracy_score\n",
    "\n",
    "import math\n",
    "\n",
    "from sklearn.linear_model import LogisticRegression\n",
    "from sklearn.tree import DecisionTreeClassifier\n",
    "from sklearn.neighbors import KNeighborsClassifier\n",
    "from sklearn.discriminant_analysis import LinearDiscriminantAnalysis\n",
    "from sklearn.naive_bayes import GaussianNB\n",
    "from sklearn.svm import SVC\n",
    "from sklearn.ensemble import RandomForestClassifier\n",
    "from sklearn.svm import LinearSVC\n",
    "from sklearn.neural_network import MLPClassifier\n",
    "from sklearn.ensemble import AdaBoostClassifier\n",
    "\n",
    "\n",
    "from sklearn.feature_selection import SelectKBest\n",
    "from sklearn.feature_selection import f_classif\n",
    "from sklearn.model_selection import KFold\n",
    "from sklearn.neural_network import MLPClassifier\n",
    "from sklearn.svm import LinearSVC"
   ]
  },
  {
   "cell_type": "code",
   "execution_count": 3,
   "metadata": {
    "executionInfo": {
     "elapsed": 2152,
     "status": "ok",
     "timestamp": 1723310662657,
     "user": {
      "displayName": "Liaqat Ali",
      "userId": "05679016512873117773"
     },
     "user_tz": -300
    },
    "id": "0f_dkr7JJnJ7"
   },
   "outputs": [],
   "source": [
    "#Loading Data of Main Database\n",
    "\n",
    "X_H_All = [os.path.join(\"C:/Users/Liaqat Ali/Documents/ChiGaNet/NewHandPDImgs/HealthyMeander/HealthyMeander\",img) for img in os.listdir(\"C:/Users/Liaqat Ali/Documents/ChiGaNet/NewHandPDImgs/HealthyMeander/HealthyMeander\")]\n",
    "X_PD_All = [os.path.join(\"C:/Users/Liaqat Ali/Documents/ChiGaNet/NewHandPDImgs/PatientMeander/PatientMeander\",img) for img in os.listdir(\"C:/Users/Liaqat Ali/Documents/ChiGaNet/NewHandPDImgs/PatientMeander/PatientMeander\")]"
   ]
  },
  {
   "cell_type": "code",
   "execution_count": 4,
   "metadata": {},
   "outputs": [
    {
     "name": "stdout",
     "output_type": "stream",
     "text": [
      "['C:/Users/Liaqat Ali/Documents/ChiGaNet/NewHandPDImgs/HealthyMeander/HealthyMeander\\\\mea1-H1.jpg', 'C:/Users/Liaqat Ali/Documents/ChiGaNet/NewHandPDImgs/HealthyMeander/HealthyMeander\\\\mea1-H10.jpg', 'C:/Users/Liaqat Ali/Documents/ChiGaNet/NewHandPDImgs/HealthyMeander/HealthyMeander\\\\mea1-H11.jpg', 'C:/Users/Liaqat Ali/Documents/ChiGaNet/NewHandPDImgs/HealthyMeander/HealthyMeander\\\\mea1-H12.jpg', 'C:/Users/Liaqat Ali/Documents/ChiGaNet/NewHandPDImgs/HealthyMeander/HealthyMeander\\\\mea1-H13.jpg', 'C:/Users/Liaqat Ali/Documents/ChiGaNet/NewHandPDImgs/HealthyMeander/HealthyMeander\\\\mea1-H14.jpg', 'C:/Users/Liaqat Ali/Documents/ChiGaNet/NewHandPDImgs/HealthyMeander/HealthyMeander\\\\mea1-H16.jpg', 'C:/Users/Liaqat Ali/Documents/ChiGaNet/NewHandPDImgs/HealthyMeander/HealthyMeander\\\\mea1-H17.jpg', 'C:/Users/Liaqat Ali/Documents/ChiGaNet/NewHandPDImgs/HealthyMeander/HealthyMeander\\\\mea1-H18.jpg', 'C:/Users/Liaqat Ali/Documents/ChiGaNet/NewHandPDImgs/HealthyMeander/HealthyMeander\\\\mea1-H19.jpg', 'C:/Users/Liaqat Ali/Documents/ChiGaNet/NewHandPDImgs/HealthyMeander/HealthyMeander\\\\mea1-H2.jpg', 'C:/Users/Liaqat Ali/Documents/ChiGaNet/NewHandPDImgs/HealthyMeander/HealthyMeander\\\\mea1-H20.jpg', 'C:/Users/Liaqat Ali/Documents/ChiGaNet/NewHandPDImgs/HealthyMeander/HealthyMeander\\\\mea1-H21.jpg', 'C:/Users/Liaqat Ali/Documents/ChiGaNet/NewHandPDImgs/HealthyMeander/HealthyMeander\\\\mea1-H22.jpg', 'C:/Users/Liaqat Ali/Documents/ChiGaNet/NewHandPDImgs/HealthyMeander/HealthyMeander\\\\mea1-H23.jpg', 'C:/Users/Liaqat Ali/Documents/ChiGaNet/NewHandPDImgs/HealthyMeander/HealthyMeander\\\\mea1-H24.jpg', 'C:/Users/Liaqat Ali/Documents/ChiGaNet/NewHandPDImgs/HealthyMeander/HealthyMeander\\\\mea1-H26.jpg', 'C:/Users/Liaqat Ali/Documents/ChiGaNet/NewHandPDImgs/HealthyMeander/HealthyMeander\\\\mea1-H27.jpg', 'C:/Users/Liaqat Ali/Documents/ChiGaNet/NewHandPDImgs/HealthyMeander/HealthyMeander\\\\mea1-H28.jpg', 'C:/Users/Liaqat Ali/Documents/ChiGaNet/NewHandPDImgs/HealthyMeander/HealthyMeander\\\\mea1-H29.jpg', 'C:/Users/Liaqat Ali/Documents/ChiGaNet/NewHandPDImgs/HealthyMeander/HealthyMeander\\\\mea1-H3.jpg', 'C:/Users/Liaqat Ali/Documents/ChiGaNet/NewHandPDImgs/HealthyMeander/HealthyMeander\\\\mea1-H30.jpg', 'C:/Users/Liaqat Ali/Documents/ChiGaNet/NewHandPDImgs/HealthyMeander/HealthyMeander\\\\mea1-H31.jpg', 'C:/Users/Liaqat Ali/Documents/ChiGaNet/NewHandPDImgs/HealthyMeander/HealthyMeander\\\\mea1-H32.jpg', 'C:/Users/Liaqat Ali/Documents/ChiGaNet/NewHandPDImgs/HealthyMeander/HealthyMeander\\\\mea1-H33.jpg', 'C:/Users/Liaqat Ali/Documents/ChiGaNet/NewHandPDImgs/HealthyMeander/HealthyMeander\\\\mea1-H34.jpg', 'C:/Users/Liaqat Ali/Documents/ChiGaNet/NewHandPDImgs/HealthyMeander/HealthyMeander\\\\mea1-H35.jpg', 'C:/Users/Liaqat Ali/Documents/ChiGaNet/NewHandPDImgs/HealthyMeander/HealthyMeander\\\\mea1-H36.jpg', 'C:/Users/Liaqat Ali/Documents/ChiGaNet/NewHandPDImgs/HealthyMeander/HealthyMeander\\\\mea1-H37.jpg', 'C:/Users/Liaqat Ali/Documents/ChiGaNet/NewHandPDImgs/HealthyMeander/HealthyMeander\\\\mea1-H38.jpg', 'C:/Users/Liaqat Ali/Documents/ChiGaNet/NewHandPDImgs/HealthyMeander/HealthyMeander\\\\mea1-H4.jpg', 'C:/Users/Liaqat Ali/Documents/ChiGaNet/NewHandPDImgs/HealthyMeander/HealthyMeander\\\\mea1-H5.jpg', 'C:/Users/Liaqat Ali/Documents/ChiGaNet/NewHandPDImgs/HealthyMeander/HealthyMeander\\\\mea1-H7.jpg', 'C:/Users/Liaqat Ali/Documents/ChiGaNet/NewHandPDImgs/HealthyMeander/HealthyMeander\\\\mea1-H8.jpg', 'C:/Users/Liaqat Ali/Documents/ChiGaNet/NewHandPDImgs/HealthyMeander/HealthyMeander\\\\mea1-H9.jpg', 'C:/Users/Liaqat Ali/Documents/ChiGaNet/NewHandPDImgs/HealthyMeander/HealthyMeander\\\\mea2-H1.jpg', 'C:/Users/Liaqat Ali/Documents/ChiGaNet/NewHandPDImgs/HealthyMeander/HealthyMeander\\\\mea2-H10.jpg', 'C:/Users/Liaqat Ali/Documents/ChiGaNet/NewHandPDImgs/HealthyMeander/HealthyMeander\\\\mea2-H11.jpg', 'C:/Users/Liaqat Ali/Documents/ChiGaNet/NewHandPDImgs/HealthyMeander/HealthyMeander\\\\mea2-H12.jpg', 'C:/Users/Liaqat Ali/Documents/ChiGaNet/NewHandPDImgs/HealthyMeander/HealthyMeander\\\\mea2-H13.jpg', 'C:/Users/Liaqat Ali/Documents/ChiGaNet/NewHandPDImgs/HealthyMeander/HealthyMeander\\\\mea2-H14.jpg', 'C:/Users/Liaqat Ali/Documents/ChiGaNet/NewHandPDImgs/HealthyMeander/HealthyMeander\\\\mea2-H16.jpg', 'C:/Users/Liaqat Ali/Documents/ChiGaNet/NewHandPDImgs/HealthyMeander/HealthyMeander\\\\mea2-H17.jpg', 'C:/Users/Liaqat Ali/Documents/ChiGaNet/NewHandPDImgs/HealthyMeander/HealthyMeander\\\\mea2-H18.jpg', 'C:/Users/Liaqat Ali/Documents/ChiGaNet/NewHandPDImgs/HealthyMeander/HealthyMeander\\\\mea2-H19.jpg', 'C:/Users/Liaqat Ali/Documents/ChiGaNet/NewHandPDImgs/HealthyMeander/HealthyMeander\\\\mea2-H2.jpg', 'C:/Users/Liaqat Ali/Documents/ChiGaNet/NewHandPDImgs/HealthyMeander/HealthyMeander\\\\mea2-H20.jpg', 'C:/Users/Liaqat Ali/Documents/ChiGaNet/NewHandPDImgs/HealthyMeander/HealthyMeander\\\\mea2-H21.jpg', 'C:/Users/Liaqat Ali/Documents/ChiGaNet/NewHandPDImgs/HealthyMeander/HealthyMeander\\\\mea2-H22.jpg', 'C:/Users/Liaqat Ali/Documents/ChiGaNet/NewHandPDImgs/HealthyMeander/HealthyMeander\\\\mea2-H23.jpg', 'C:/Users/Liaqat Ali/Documents/ChiGaNet/NewHandPDImgs/HealthyMeander/HealthyMeander\\\\mea2-H24.jpg', 'C:/Users/Liaqat Ali/Documents/ChiGaNet/NewHandPDImgs/HealthyMeander/HealthyMeander\\\\mea2-H26.jpg', 'C:/Users/Liaqat Ali/Documents/ChiGaNet/NewHandPDImgs/HealthyMeander/HealthyMeander\\\\mea2-H27.jpg', 'C:/Users/Liaqat Ali/Documents/ChiGaNet/NewHandPDImgs/HealthyMeander/HealthyMeander\\\\mea2-H28.jpg', 'C:/Users/Liaqat Ali/Documents/ChiGaNet/NewHandPDImgs/HealthyMeander/HealthyMeander\\\\mea2-H29.jpg', 'C:/Users/Liaqat Ali/Documents/ChiGaNet/NewHandPDImgs/HealthyMeander/HealthyMeander\\\\mea2-H3.jpg', 'C:/Users/Liaqat Ali/Documents/ChiGaNet/NewHandPDImgs/HealthyMeander/HealthyMeander\\\\mea2-H30.jpg', 'C:/Users/Liaqat Ali/Documents/ChiGaNet/NewHandPDImgs/HealthyMeander/HealthyMeander\\\\mea2-H31.jpg', 'C:/Users/Liaqat Ali/Documents/ChiGaNet/NewHandPDImgs/HealthyMeander/HealthyMeander\\\\mea2-H32.jpg', 'C:/Users/Liaqat Ali/Documents/ChiGaNet/NewHandPDImgs/HealthyMeander/HealthyMeander\\\\mea2-H33.jpg', 'C:/Users/Liaqat Ali/Documents/ChiGaNet/NewHandPDImgs/HealthyMeander/HealthyMeander\\\\mea2-H34.jpg', 'C:/Users/Liaqat Ali/Documents/ChiGaNet/NewHandPDImgs/HealthyMeander/HealthyMeander\\\\mea2-H35.jpg', 'C:/Users/Liaqat Ali/Documents/ChiGaNet/NewHandPDImgs/HealthyMeander/HealthyMeander\\\\mea2-H36.jpg', 'C:/Users/Liaqat Ali/Documents/ChiGaNet/NewHandPDImgs/HealthyMeander/HealthyMeander\\\\mea2-H37.jpg', 'C:/Users/Liaqat Ali/Documents/ChiGaNet/NewHandPDImgs/HealthyMeander/HealthyMeander\\\\mea2-H38.jpg', 'C:/Users/Liaqat Ali/Documents/ChiGaNet/NewHandPDImgs/HealthyMeander/HealthyMeander\\\\mea2-H4.jpg', 'C:/Users/Liaqat Ali/Documents/ChiGaNet/NewHandPDImgs/HealthyMeander/HealthyMeander\\\\mea2-H5.jpg', 'C:/Users/Liaqat Ali/Documents/ChiGaNet/NewHandPDImgs/HealthyMeander/HealthyMeander\\\\mea2-H7.jpg', 'C:/Users/Liaqat Ali/Documents/ChiGaNet/NewHandPDImgs/HealthyMeander/HealthyMeander\\\\mea2-H8.jpg', 'C:/Users/Liaqat Ali/Documents/ChiGaNet/NewHandPDImgs/HealthyMeander/HealthyMeander\\\\mea2-H9.jpg', 'C:/Users/Liaqat Ali/Documents/ChiGaNet/NewHandPDImgs/HealthyMeander/HealthyMeander\\\\mea3-H1.jpg', 'C:/Users/Liaqat Ali/Documents/ChiGaNet/NewHandPDImgs/HealthyMeander/HealthyMeander\\\\mea3-H10.jpg', 'C:/Users/Liaqat Ali/Documents/ChiGaNet/NewHandPDImgs/HealthyMeander/HealthyMeander\\\\mea3-H11.jpg', 'C:/Users/Liaqat Ali/Documents/ChiGaNet/NewHandPDImgs/HealthyMeander/HealthyMeander\\\\mea3-H12.jpg', 'C:/Users/Liaqat Ali/Documents/ChiGaNet/NewHandPDImgs/HealthyMeander/HealthyMeander\\\\mea3-H13.jpg', 'C:/Users/Liaqat Ali/Documents/ChiGaNet/NewHandPDImgs/HealthyMeander/HealthyMeander\\\\mea3-H14.jpg', 'C:/Users/Liaqat Ali/Documents/ChiGaNet/NewHandPDImgs/HealthyMeander/HealthyMeander\\\\mea3-H16.jpg', 'C:/Users/Liaqat Ali/Documents/ChiGaNet/NewHandPDImgs/HealthyMeander/HealthyMeander\\\\mea3-H17.jpg', 'C:/Users/Liaqat Ali/Documents/ChiGaNet/NewHandPDImgs/HealthyMeander/HealthyMeander\\\\mea3-H18.jpg', 'C:/Users/Liaqat Ali/Documents/ChiGaNet/NewHandPDImgs/HealthyMeander/HealthyMeander\\\\mea3-H19.jpg', 'C:/Users/Liaqat Ali/Documents/ChiGaNet/NewHandPDImgs/HealthyMeander/HealthyMeander\\\\mea3-H2.jpg', 'C:/Users/Liaqat Ali/Documents/ChiGaNet/NewHandPDImgs/HealthyMeander/HealthyMeander\\\\mea3-H20.jpg', 'C:/Users/Liaqat Ali/Documents/ChiGaNet/NewHandPDImgs/HealthyMeander/HealthyMeander\\\\mea3-H21.jpg', 'C:/Users/Liaqat Ali/Documents/ChiGaNet/NewHandPDImgs/HealthyMeander/HealthyMeander\\\\mea3-H22.jpg', 'C:/Users/Liaqat Ali/Documents/ChiGaNet/NewHandPDImgs/HealthyMeander/HealthyMeander\\\\mea3-H23.jpg', 'C:/Users/Liaqat Ali/Documents/ChiGaNet/NewHandPDImgs/HealthyMeander/HealthyMeander\\\\mea3-H24.jpg', 'C:/Users/Liaqat Ali/Documents/ChiGaNet/NewHandPDImgs/HealthyMeander/HealthyMeander\\\\mea3-H26.jpg', 'C:/Users/Liaqat Ali/Documents/ChiGaNet/NewHandPDImgs/HealthyMeander/HealthyMeander\\\\mea3-H27.jpg', 'C:/Users/Liaqat Ali/Documents/ChiGaNet/NewHandPDImgs/HealthyMeander/HealthyMeander\\\\mea3-H28.jpg', 'C:/Users/Liaqat Ali/Documents/ChiGaNet/NewHandPDImgs/HealthyMeander/HealthyMeander\\\\mea3-H29.jpg', 'C:/Users/Liaqat Ali/Documents/ChiGaNet/NewHandPDImgs/HealthyMeander/HealthyMeander\\\\mea3-H3.jpg', 'C:/Users/Liaqat Ali/Documents/ChiGaNet/NewHandPDImgs/HealthyMeander/HealthyMeander\\\\mea3-H30.jpg', 'C:/Users/Liaqat Ali/Documents/ChiGaNet/NewHandPDImgs/HealthyMeander/HealthyMeander\\\\mea3-H31.jpg', 'C:/Users/Liaqat Ali/Documents/ChiGaNet/NewHandPDImgs/HealthyMeander/HealthyMeander\\\\mea3-H32.jpg', 'C:/Users/Liaqat Ali/Documents/ChiGaNet/NewHandPDImgs/HealthyMeander/HealthyMeander\\\\mea3-H33.jpg', 'C:/Users/Liaqat Ali/Documents/ChiGaNet/NewHandPDImgs/HealthyMeander/HealthyMeander\\\\mea3-H34.jpg', 'C:/Users/Liaqat Ali/Documents/ChiGaNet/NewHandPDImgs/HealthyMeander/HealthyMeander\\\\mea3-H35.jpg', 'C:/Users/Liaqat Ali/Documents/ChiGaNet/NewHandPDImgs/HealthyMeander/HealthyMeander\\\\mea3-H36.jpg', 'C:/Users/Liaqat Ali/Documents/ChiGaNet/NewHandPDImgs/HealthyMeander/HealthyMeander\\\\mea3-H37.jpg', 'C:/Users/Liaqat Ali/Documents/ChiGaNet/NewHandPDImgs/HealthyMeander/HealthyMeander\\\\mea3-H38.jpg', 'C:/Users/Liaqat Ali/Documents/ChiGaNet/NewHandPDImgs/HealthyMeander/HealthyMeander\\\\mea3-H4.jpg', 'C:/Users/Liaqat Ali/Documents/ChiGaNet/NewHandPDImgs/HealthyMeander/HealthyMeander\\\\mea3-H5.jpg', 'C:/Users/Liaqat Ali/Documents/ChiGaNet/NewHandPDImgs/HealthyMeander/HealthyMeander\\\\mea3-H7.jpg', 'C:/Users/Liaqat Ali/Documents/ChiGaNet/NewHandPDImgs/HealthyMeander/HealthyMeander\\\\mea3-H8.jpg', 'C:/Users/Liaqat Ali/Documents/ChiGaNet/NewHandPDImgs/HealthyMeander/HealthyMeander\\\\mea3-H9.jpg', 'C:/Users/Liaqat Ali/Documents/ChiGaNet/NewHandPDImgs/HealthyMeander/HealthyMeander\\\\mea4-H1.jpg', 'C:/Users/Liaqat Ali/Documents/ChiGaNet/NewHandPDImgs/HealthyMeander/HealthyMeander\\\\mea4-H10.jpg', 'C:/Users/Liaqat Ali/Documents/ChiGaNet/NewHandPDImgs/HealthyMeander/HealthyMeander\\\\mea4-H11.jpg', 'C:/Users/Liaqat Ali/Documents/ChiGaNet/NewHandPDImgs/HealthyMeander/HealthyMeander\\\\mea4-H12.jpg', 'C:/Users/Liaqat Ali/Documents/ChiGaNet/NewHandPDImgs/HealthyMeander/HealthyMeander\\\\mea4-H13.jpg', 'C:/Users/Liaqat Ali/Documents/ChiGaNet/NewHandPDImgs/HealthyMeander/HealthyMeander\\\\mea4-H14.jpg', 'C:/Users/Liaqat Ali/Documents/ChiGaNet/NewHandPDImgs/HealthyMeander/HealthyMeander\\\\mea4-H16.jpg', 'C:/Users/Liaqat Ali/Documents/ChiGaNet/NewHandPDImgs/HealthyMeander/HealthyMeander\\\\mea4-H17.jpg', 'C:/Users/Liaqat Ali/Documents/ChiGaNet/NewHandPDImgs/HealthyMeander/HealthyMeander\\\\mea4-H18.jpg', 'C:/Users/Liaqat Ali/Documents/ChiGaNet/NewHandPDImgs/HealthyMeander/HealthyMeander\\\\mea4-H19.jpg', 'C:/Users/Liaqat Ali/Documents/ChiGaNet/NewHandPDImgs/HealthyMeander/HealthyMeander\\\\mea4-H2.jpg', 'C:/Users/Liaqat Ali/Documents/ChiGaNet/NewHandPDImgs/HealthyMeander/HealthyMeander\\\\mea4-H20.jpg', 'C:/Users/Liaqat Ali/Documents/ChiGaNet/NewHandPDImgs/HealthyMeander/HealthyMeander\\\\mea4-H21.jpg', 'C:/Users/Liaqat Ali/Documents/ChiGaNet/NewHandPDImgs/HealthyMeander/HealthyMeander\\\\mea4-H22.jpg', 'C:/Users/Liaqat Ali/Documents/ChiGaNet/NewHandPDImgs/HealthyMeander/HealthyMeander\\\\mea4-H23.jpg', 'C:/Users/Liaqat Ali/Documents/ChiGaNet/NewHandPDImgs/HealthyMeander/HealthyMeander\\\\mea4-H24.jpg', 'C:/Users/Liaqat Ali/Documents/ChiGaNet/NewHandPDImgs/HealthyMeander/HealthyMeander\\\\mea4-H26.jpg', 'C:/Users/Liaqat Ali/Documents/ChiGaNet/NewHandPDImgs/HealthyMeander/HealthyMeander\\\\mea4-H27.jpg', 'C:/Users/Liaqat Ali/Documents/ChiGaNet/NewHandPDImgs/HealthyMeander/HealthyMeander\\\\mea4-H28.jpg', 'C:/Users/Liaqat Ali/Documents/ChiGaNet/NewHandPDImgs/HealthyMeander/HealthyMeander\\\\mea4-H29.jpg', 'C:/Users/Liaqat Ali/Documents/ChiGaNet/NewHandPDImgs/HealthyMeander/HealthyMeander\\\\mea4-H3.jpg', 'C:/Users/Liaqat Ali/Documents/ChiGaNet/NewHandPDImgs/HealthyMeander/HealthyMeander\\\\mea4-H30.jpg', 'C:/Users/Liaqat Ali/Documents/ChiGaNet/NewHandPDImgs/HealthyMeander/HealthyMeander\\\\mea4-H31.jpg', 'C:/Users/Liaqat Ali/Documents/ChiGaNet/NewHandPDImgs/HealthyMeander/HealthyMeander\\\\mea4-H32.jpg', 'C:/Users/Liaqat Ali/Documents/ChiGaNet/NewHandPDImgs/HealthyMeander/HealthyMeander\\\\mea4-H33.jpg', 'C:/Users/Liaqat Ali/Documents/ChiGaNet/NewHandPDImgs/HealthyMeander/HealthyMeander\\\\mea4-H34.jpg', 'C:/Users/Liaqat Ali/Documents/ChiGaNet/NewHandPDImgs/HealthyMeander/HealthyMeander\\\\mea4-H35.jpg', 'C:/Users/Liaqat Ali/Documents/ChiGaNet/NewHandPDImgs/HealthyMeander/HealthyMeander\\\\mea4-H36.jpg', 'C:/Users/Liaqat Ali/Documents/ChiGaNet/NewHandPDImgs/HealthyMeander/HealthyMeander\\\\mea4-H37.jpg', 'C:/Users/Liaqat Ali/Documents/ChiGaNet/NewHandPDImgs/HealthyMeander/HealthyMeander\\\\mea4-H38.jpg', 'C:/Users/Liaqat Ali/Documents/ChiGaNet/NewHandPDImgs/HealthyMeander/HealthyMeander\\\\mea4-H4.jpg', 'C:/Users/Liaqat Ali/Documents/ChiGaNet/NewHandPDImgs/HealthyMeander/HealthyMeander\\\\mea4-H5.jpg', 'C:/Users/Liaqat Ali/Documents/ChiGaNet/NewHandPDImgs/HealthyMeander/HealthyMeander\\\\mea4-H7.jpg', 'C:/Users/Liaqat Ali/Documents/ChiGaNet/NewHandPDImgs/HealthyMeander/HealthyMeander\\\\mea4-H8.jpg', 'C:/Users/Liaqat Ali/Documents/ChiGaNet/NewHandPDImgs/HealthyMeander/HealthyMeander\\\\mea4-H9.jpg']\n"
     ]
    }
   ],
   "source": [
    "import natsort\n",
    "#print(natsort.natsorted(X_PD_All,reverse=False))\n",
    "#X_PD_All = natsort.natsorted(X_PD_All,reverse=False)\n",
    "print(X_H_All)"
   ]
  },
  {
   "cell_type": "code",
   "execution_count": 5,
   "metadata": {
    "colab": {
     "base_uri": "https://localhost:8080/"
    },
    "executionInfo": {
     "elapsed": 22,
     "status": "ok",
     "timestamp": 1723310662658,
     "user": {
      "displayName": "Liaqat Ali",
      "userId": "05679016512873117773"
     },
     "user_tz": -300
    },
    "id": "5KPRmTopJ--m",
    "outputId": "c0c2b968-68ed-43f6-eb95-99312924f329"
   },
   "outputs": [
    {
     "name": "stdout",
     "output_type": "stream",
     "text": [
      "['C:/Users/Liaqat Ali/Documents/ChiGaNet/NewHandPDImgs/PatientMeander/PatientMeander\\\\mea1-P1.jpg', 'C:/Users/Liaqat Ali/Documents/ChiGaNet/NewHandPDImgs/PatientMeander/PatientMeander\\\\mea1-P10.jpg', 'C:/Users/Liaqat Ali/Documents/ChiGaNet/NewHandPDImgs/PatientMeander/PatientMeander\\\\mea1-P11.jpg', 'C:/Users/Liaqat Ali/Documents/ChiGaNet/NewHandPDImgs/PatientMeander/PatientMeander\\\\mea1-P12.jpg', 'C:/Users/Liaqat Ali/Documents/ChiGaNet/NewHandPDImgs/PatientMeander/PatientMeander\\\\mea1-P13.jpg', 'C:/Users/Liaqat Ali/Documents/ChiGaNet/NewHandPDImgs/PatientMeander/PatientMeander\\\\mea1-P14.jpg', 'C:/Users/Liaqat Ali/Documents/ChiGaNet/NewHandPDImgs/PatientMeander/PatientMeander\\\\mea1-P15.jpg', 'C:/Users/Liaqat Ali/Documents/ChiGaNet/NewHandPDImgs/PatientMeander/PatientMeander\\\\mea1-P16.jpg', 'C:/Users/Liaqat Ali/Documents/ChiGaNet/NewHandPDImgs/PatientMeander/PatientMeander\\\\mea1-P17.jpg', 'C:/Users/Liaqat Ali/Documents/ChiGaNet/NewHandPDImgs/PatientMeander/PatientMeander\\\\mea1-P18.jpg', 'C:/Users/Liaqat Ali/Documents/ChiGaNet/NewHandPDImgs/PatientMeander/PatientMeander\\\\mea1-P19.jpg', 'C:/Users/Liaqat Ali/Documents/ChiGaNet/NewHandPDImgs/PatientMeander/PatientMeander\\\\mea1-P2.jpg', 'C:/Users/Liaqat Ali/Documents/ChiGaNet/NewHandPDImgs/PatientMeander/PatientMeander\\\\mea1-P20.jpg', 'C:/Users/Liaqat Ali/Documents/ChiGaNet/NewHandPDImgs/PatientMeander/PatientMeander\\\\mea1-P21.jpg', 'C:/Users/Liaqat Ali/Documents/ChiGaNet/NewHandPDImgs/PatientMeander/PatientMeander\\\\mea1-P22.jpg', 'C:/Users/Liaqat Ali/Documents/ChiGaNet/NewHandPDImgs/PatientMeander/PatientMeander\\\\mea1-P23.jpg', 'C:/Users/Liaqat Ali/Documents/ChiGaNet/NewHandPDImgs/PatientMeander/PatientMeander\\\\mea1-P24.jpg', 'C:/Users/Liaqat Ali/Documents/ChiGaNet/NewHandPDImgs/PatientMeander/PatientMeander\\\\mea1-P25.jpg', 'C:/Users/Liaqat Ali/Documents/ChiGaNet/NewHandPDImgs/PatientMeander/PatientMeander\\\\mea1-P26.jpg', 'C:/Users/Liaqat Ali/Documents/ChiGaNet/NewHandPDImgs/PatientMeander/PatientMeander\\\\mea1-P27.jpg', 'C:/Users/Liaqat Ali/Documents/ChiGaNet/NewHandPDImgs/PatientMeander/PatientMeander\\\\mea1-P28.jpg', 'C:/Users/Liaqat Ali/Documents/ChiGaNet/NewHandPDImgs/PatientMeander/PatientMeander\\\\mea1-P29.jpg', 'C:/Users/Liaqat Ali/Documents/ChiGaNet/NewHandPDImgs/PatientMeander/PatientMeander\\\\mea1-P3.jpg', 'C:/Users/Liaqat Ali/Documents/ChiGaNet/NewHandPDImgs/PatientMeander/PatientMeander\\\\mea1-P30.jpg', 'C:/Users/Liaqat Ali/Documents/ChiGaNet/NewHandPDImgs/PatientMeander/PatientMeander\\\\mea1-P31.jpg', 'C:/Users/Liaqat Ali/Documents/ChiGaNet/NewHandPDImgs/PatientMeander/PatientMeander\\\\mea1-P32.jpg', 'C:/Users/Liaqat Ali/Documents/ChiGaNet/NewHandPDImgs/PatientMeander/PatientMeander\\\\mea1-P4.jpg', 'C:/Users/Liaqat Ali/Documents/ChiGaNet/NewHandPDImgs/PatientMeander/PatientMeander\\\\mea1-P6.jpg', 'C:/Users/Liaqat Ali/Documents/ChiGaNet/NewHandPDImgs/PatientMeander/PatientMeander\\\\mea1-P7.jpg', 'C:/Users/Liaqat Ali/Documents/ChiGaNet/NewHandPDImgs/PatientMeander/PatientMeander\\\\mea1-P8.jpg', 'C:/Users/Liaqat Ali/Documents/ChiGaNet/NewHandPDImgs/PatientMeander/PatientMeander\\\\mea1-P9.jpg', 'C:/Users/Liaqat Ali/Documents/ChiGaNet/NewHandPDImgs/PatientMeander/PatientMeander\\\\mea2-P1.jpg', 'C:/Users/Liaqat Ali/Documents/ChiGaNet/NewHandPDImgs/PatientMeander/PatientMeander\\\\mea2-P10.jpg', 'C:/Users/Liaqat Ali/Documents/ChiGaNet/NewHandPDImgs/PatientMeander/PatientMeander\\\\mea2-P11.jpg', 'C:/Users/Liaqat Ali/Documents/ChiGaNet/NewHandPDImgs/PatientMeander/PatientMeander\\\\mea2-P12.jpg', 'C:/Users/Liaqat Ali/Documents/ChiGaNet/NewHandPDImgs/PatientMeander/PatientMeander\\\\mea2-P13.jpg', 'C:/Users/Liaqat Ali/Documents/ChiGaNet/NewHandPDImgs/PatientMeander/PatientMeander\\\\mea2-P14.jpg', 'C:/Users/Liaqat Ali/Documents/ChiGaNet/NewHandPDImgs/PatientMeander/PatientMeander\\\\mea2-P15.jpg', 'C:/Users/Liaqat Ali/Documents/ChiGaNet/NewHandPDImgs/PatientMeander/PatientMeander\\\\mea2-P16.jpg', 'C:/Users/Liaqat Ali/Documents/ChiGaNet/NewHandPDImgs/PatientMeander/PatientMeander\\\\mea2-P17.jpg', 'C:/Users/Liaqat Ali/Documents/ChiGaNet/NewHandPDImgs/PatientMeander/PatientMeander\\\\mea2-P18.jpg', 'C:/Users/Liaqat Ali/Documents/ChiGaNet/NewHandPDImgs/PatientMeander/PatientMeander\\\\mea2-P19.jpg', 'C:/Users/Liaqat Ali/Documents/ChiGaNet/NewHandPDImgs/PatientMeander/PatientMeander\\\\mea2-P2.jpg', 'C:/Users/Liaqat Ali/Documents/ChiGaNet/NewHandPDImgs/PatientMeander/PatientMeander\\\\mea2-P20.jpg', 'C:/Users/Liaqat Ali/Documents/ChiGaNet/NewHandPDImgs/PatientMeander/PatientMeander\\\\mea2-P21.jpg', 'C:/Users/Liaqat Ali/Documents/ChiGaNet/NewHandPDImgs/PatientMeander/PatientMeander\\\\mea2-P22.jpg', 'C:/Users/Liaqat Ali/Documents/ChiGaNet/NewHandPDImgs/PatientMeander/PatientMeander\\\\mea2-P23.jpg', 'C:/Users/Liaqat Ali/Documents/ChiGaNet/NewHandPDImgs/PatientMeander/PatientMeander\\\\mea2-P24.jpg', 'C:/Users/Liaqat Ali/Documents/ChiGaNet/NewHandPDImgs/PatientMeander/PatientMeander\\\\mea2-P25.jpg', 'C:/Users/Liaqat Ali/Documents/ChiGaNet/NewHandPDImgs/PatientMeander/PatientMeander\\\\mea2-P26.jpg', 'C:/Users/Liaqat Ali/Documents/ChiGaNet/NewHandPDImgs/PatientMeander/PatientMeander\\\\mea2-P27.jpg', 'C:/Users/Liaqat Ali/Documents/ChiGaNet/NewHandPDImgs/PatientMeander/PatientMeander\\\\mea2-P28.jpg', 'C:/Users/Liaqat Ali/Documents/ChiGaNet/NewHandPDImgs/PatientMeander/PatientMeander\\\\mea2-P29.jpg', 'C:/Users/Liaqat Ali/Documents/ChiGaNet/NewHandPDImgs/PatientMeander/PatientMeander\\\\mea2-P3.jpg', 'C:/Users/Liaqat Ali/Documents/ChiGaNet/NewHandPDImgs/PatientMeander/PatientMeander\\\\mea2-P30.jpg', 'C:/Users/Liaqat Ali/Documents/ChiGaNet/NewHandPDImgs/PatientMeander/PatientMeander\\\\mea2-P31.jpg', 'C:/Users/Liaqat Ali/Documents/ChiGaNet/NewHandPDImgs/PatientMeander/PatientMeander\\\\mea2-P32.jpg', 'C:/Users/Liaqat Ali/Documents/ChiGaNet/NewHandPDImgs/PatientMeander/PatientMeander\\\\mea2-P4.jpg', 'C:/Users/Liaqat Ali/Documents/ChiGaNet/NewHandPDImgs/PatientMeander/PatientMeander\\\\mea2-P6.jpg', 'C:/Users/Liaqat Ali/Documents/ChiGaNet/NewHandPDImgs/PatientMeander/PatientMeander\\\\mea2-P7.jpg', 'C:/Users/Liaqat Ali/Documents/ChiGaNet/NewHandPDImgs/PatientMeander/PatientMeander\\\\mea2-P8.jpg', 'C:/Users/Liaqat Ali/Documents/ChiGaNet/NewHandPDImgs/PatientMeander/PatientMeander\\\\mea2-P9.jpg', 'C:/Users/Liaqat Ali/Documents/ChiGaNet/NewHandPDImgs/PatientMeander/PatientMeander\\\\mea3-P1.jpg', 'C:/Users/Liaqat Ali/Documents/ChiGaNet/NewHandPDImgs/PatientMeander/PatientMeander\\\\mea3-P10.jpg', 'C:/Users/Liaqat Ali/Documents/ChiGaNet/NewHandPDImgs/PatientMeander/PatientMeander\\\\mea3-P11.jpg', 'C:/Users/Liaqat Ali/Documents/ChiGaNet/NewHandPDImgs/PatientMeander/PatientMeander\\\\mea3-P12.jpg', 'C:/Users/Liaqat Ali/Documents/ChiGaNet/NewHandPDImgs/PatientMeander/PatientMeander\\\\mea3-P13.jpg', 'C:/Users/Liaqat Ali/Documents/ChiGaNet/NewHandPDImgs/PatientMeander/PatientMeander\\\\mea3-P14.jpg', 'C:/Users/Liaqat Ali/Documents/ChiGaNet/NewHandPDImgs/PatientMeander/PatientMeander\\\\mea3-P15.jpg', 'C:/Users/Liaqat Ali/Documents/ChiGaNet/NewHandPDImgs/PatientMeander/PatientMeander\\\\mea3-P16.jpg', 'C:/Users/Liaqat Ali/Documents/ChiGaNet/NewHandPDImgs/PatientMeander/PatientMeander\\\\mea3-P17.jpg', 'C:/Users/Liaqat Ali/Documents/ChiGaNet/NewHandPDImgs/PatientMeander/PatientMeander\\\\mea3-P18.jpg', 'C:/Users/Liaqat Ali/Documents/ChiGaNet/NewHandPDImgs/PatientMeander/PatientMeander\\\\mea3-P19.jpg', 'C:/Users/Liaqat Ali/Documents/ChiGaNet/NewHandPDImgs/PatientMeander/PatientMeander\\\\mea3-P2.jpg', 'C:/Users/Liaqat Ali/Documents/ChiGaNet/NewHandPDImgs/PatientMeander/PatientMeander\\\\mea3-P20.jpg', 'C:/Users/Liaqat Ali/Documents/ChiGaNet/NewHandPDImgs/PatientMeander/PatientMeander\\\\mea3-P21.jpg', 'C:/Users/Liaqat Ali/Documents/ChiGaNet/NewHandPDImgs/PatientMeander/PatientMeander\\\\mea3-P22.jpg', 'C:/Users/Liaqat Ali/Documents/ChiGaNet/NewHandPDImgs/PatientMeander/PatientMeander\\\\mea3-P23.jpg', 'C:/Users/Liaqat Ali/Documents/ChiGaNet/NewHandPDImgs/PatientMeander/PatientMeander\\\\mea3-P24.jpg', 'C:/Users/Liaqat Ali/Documents/ChiGaNet/NewHandPDImgs/PatientMeander/PatientMeander\\\\mea3-P25.jpg', 'C:/Users/Liaqat Ali/Documents/ChiGaNet/NewHandPDImgs/PatientMeander/PatientMeander\\\\mea3-P26.jpg', 'C:/Users/Liaqat Ali/Documents/ChiGaNet/NewHandPDImgs/PatientMeander/PatientMeander\\\\mea3-P27.jpg', 'C:/Users/Liaqat Ali/Documents/ChiGaNet/NewHandPDImgs/PatientMeander/PatientMeander\\\\mea3-P28.jpg', 'C:/Users/Liaqat Ali/Documents/ChiGaNet/NewHandPDImgs/PatientMeander/PatientMeander\\\\mea3-P29.jpg', 'C:/Users/Liaqat Ali/Documents/ChiGaNet/NewHandPDImgs/PatientMeander/PatientMeander\\\\mea3-P3.jpg', 'C:/Users/Liaqat Ali/Documents/ChiGaNet/NewHandPDImgs/PatientMeander/PatientMeander\\\\mea3-P30.jpg', 'C:/Users/Liaqat Ali/Documents/ChiGaNet/NewHandPDImgs/PatientMeander/PatientMeander\\\\mea3-P31.jpg', 'C:/Users/Liaqat Ali/Documents/ChiGaNet/NewHandPDImgs/PatientMeander/PatientMeander\\\\mea3-P32.jpg', 'C:/Users/Liaqat Ali/Documents/ChiGaNet/NewHandPDImgs/PatientMeander/PatientMeander\\\\mea3-P4.jpg', 'C:/Users/Liaqat Ali/Documents/ChiGaNet/NewHandPDImgs/PatientMeander/PatientMeander\\\\mea3-P6.jpg', 'C:/Users/Liaqat Ali/Documents/ChiGaNet/NewHandPDImgs/PatientMeander/PatientMeander\\\\mea3-P7.jpg', 'C:/Users/Liaqat Ali/Documents/ChiGaNet/NewHandPDImgs/PatientMeander/PatientMeander\\\\mea3-P8.jpg', 'C:/Users/Liaqat Ali/Documents/ChiGaNet/NewHandPDImgs/PatientMeander/PatientMeander\\\\mea3-P9.jpg', 'C:/Users/Liaqat Ali/Documents/ChiGaNet/NewHandPDImgs/PatientMeander/PatientMeander\\\\mea4-P1.jpg', 'C:/Users/Liaqat Ali/Documents/ChiGaNet/NewHandPDImgs/PatientMeander/PatientMeander\\\\mea4-P10.jpg', 'C:/Users/Liaqat Ali/Documents/ChiGaNet/NewHandPDImgs/PatientMeander/PatientMeander\\\\mea4-P11.jpg', 'C:/Users/Liaqat Ali/Documents/ChiGaNet/NewHandPDImgs/PatientMeander/PatientMeander\\\\mea4-P12.jpg', 'C:/Users/Liaqat Ali/Documents/ChiGaNet/NewHandPDImgs/PatientMeander/PatientMeander\\\\mea4-P13.jpg', 'C:/Users/Liaqat Ali/Documents/ChiGaNet/NewHandPDImgs/PatientMeander/PatientMeander\\\\mea4-P14.jpg', 'C:/Users/Liaqat Ali/Documents/ChiGaNet/NewHandPDImgs/PatientMeander/PatientMeander\\\\mea4-P15.jpg', 'C:/Users/Liaqat Ali/Documents/ChiGaNet/NewHandPDImgs/PatientMeander/PatientMeander\\\\mea4-P16.jpg', 'C:/Users/Liaqat Ali/Documents/ChiGaNet/NewHandPDImgs/PatientMeander/PatientMeander\\\\mea4-P17.jpg', 'C:/Users/Liaqat Ali/Documents/ChiGaNet/NewHandPDImgs/PatientMeander/PatientMeander\\\\mea4-P18.jpg', 'C:/Users/Liaqat Ali/Documents/ChiGaNet/NewHandPDImgs/PatientMeander/PatientMeander\\\\mea4-P19.jpg', 'C:/Users/Liaqat Ali/Documents/ChiGaNet/NewHandPDImgs/PatientMeander/PatientMeander\\\\mea4-P2.jpg', 'C:/Users/Liaqat Ali/Documents/ChiGaNet/NewHandPDImgs/PatientMeander/PatientMeander\\\\mea4-P20.jpg', 'C:/Users/Liaqat Ali/Documents/ChiGaNet/NewHandPDImgs/PatientMeander/PatientMeander\\\\mea4-P21.jpg', 'C:/Users/Liaqat Ali/Documents/ChiGaNet/NewHandPDImgs/PatientMeander/PatientMeander\\\\mea4-P22.jpg', 'C:/Users/Liaqat Ali/Documents/ChiGaNet/NewHandPDImgs/PatientMeander/PatientMeander\\\\mea4-P23.jpg', 'C:/Users/Liaqat Ali/Documents/ChiGaNet/NewHandPDImgs/PatientMeander/PatientMeander\\\\mea4-P24.jpg', 'C:/Users/Liaqat Ali/Documents/ChiGaNet/NewHandPDImgs/PatientMeander/PatientMeander\\\\mea4-P25.jpg', 'C:/Users/Liaqat Ali/Documents/ChiGaNet/NewHandPDImgs/PatientMeander/PatientMeander\\\\mea4-P26.jpg', 'C:/Users/Liaqat Ali/Documents/ChiGaNet/NewHandPDImgs/PatientMeander/PatientMeander\\\\mea4-P27.jpg', 'C:/Users/Liaqat Ali/Documents/ChiGaNet/NewHandPDImgs/PatientMeander/PatientMeander\\\\mea4-P28.jpg', 'C:/Users/Liaqat Ali/Documents/ChiGaNet/NewHandPDImgs/PatientMeander/PatientMeander\\\\mea4-P29.jpg', 'C:/Users/Liaqat Ali/Documents/ChiGaNet/NewHandPDImgs/PatientMeander/PatientMeander\\\\mea4-P3.jpg', 'C:/Users/Liaqat Ali/Documents/ChiGaNet/NewHandPDImgs/PatientMeander/PatientMeander\\\\mea4-P30.jpg', 'C:/Users/Liaqat Ali/Documents/ChiGaNet/NewHandPDImgs/PatientMeander/PatientMeander\\\\mea4-P31.jpg', 'C:/Users/Liaqat Ali/Documents/ChiGaNet/NewHandPDImgs/PatientMeander/PatientMeander\\\\mea4-P32.jpg', 'C:/Users/Liaqat Ali/Documents/ChiGaNet/NewHandPDImgs/PatientMeander/PatientMeander\\\\mea4-P4.jpg', 'C:/Users/Liaqat Ali/Documents/ChiGaNet/NewHandPDImgs/PatientMeander/PatientMeander\\\\mea4-P6.jpg', 'C:/Users/Liaqat Ali/Documents/ChiGaNet/NewHandPDImgs/PatientMeander/PatientMeander\\\\mea4-P7.jpg', 'C:/Users/Liaqat Ali/Documents/ChiGaNet/NewHandPDImgs/PatientMeander/PatientMeander\\\\mea4-P9.jpg', 'C:/Users/Liaqat Ali/Documents/ChiGaNet/NewHandPDImgs/PatientMeander/PatientMeander\\\\mea5-P8.jpg']\n"
     ]
    }
   ],
   "source": [
    "print(X_PD_All)"
   ]
  },
  {
   "cell_type": "code",
   "execution_count": 6,
   "metadata": {},
   "outputs": [
    {
     "name": "stdout",
     "output_type": "stream",
     "text": [
      "['C:/Users/Liaqat Ali/Documents/ChiGaNet/NewHandPDImgs/PatientMeander/PatientMeander\\\\mea1-P1.jpg', 'C:/Users/Liaqat Ali/Documents/ChiGaNet/NewHandPDImgs/PatientMeander/PatientMeander\\\\mea2-P1.jpg', 'C:/Users/Liaqat Ali/Documents/ChiGaNet/NewHandPDImgs/PatientMeander/PatientMeander\\\\mea3-P1.jpg', 'C:/Users/Liaqat Ali/Documents/ChiGaNet/NewHandPDImgs/PatientMeander/PatientMeander\\\\mea4-P1.jpg', 'C:/Users/Liaqat Ali/Documents/ChiGaNet/NewHandPDImgs/PatientMeander/PatientMeander\\\\mea1-P2.jpg', 'C:/Users/Liaqat Ali/Documents/ChiGaNet/NewHandPDImgs/PatientMeander/PatientMeander\\\\mea2-P2.jpg', 'C:/Users/Liaqat Ali/Documents/ChiGaNet/NewHandPDImgs/PatientMeander/PatientMeander\\\\mea3-P2.jpg', 'C:/Users/Liaqat Ali/Documents/ChiGaNet/NewHandPDImgs/PatientMeander/PatientMeander\\\\mea4-P2.jpg', 'C:/Users/Liaqat Ali/Documents/ChiGaNet/NewHandPDImgs/PatientMeander/PatientMeander\\\\mea1-P3.jpg', 'C:/Users/Liaqat Ali/Documents/ChiGaNet/NewHandPDImgs/PatientMeander/PatientMeander\\\\mea2-P3.jpg', 'C:/Users/Liaqat Ali/Documents/ChiGaNet/NewHandPDImgs/PatientMeander/PatientMeander\\\\mea3-P3.jpg', 'C:/Users/Liaqat Ali/Documents/ChiGaNet/NewHandPDImgs/PatientMeander/PatientMeander\\\\mea4-P3.jpg', 'C:/Users/Liaqat Ali/Documents/ChiGaNet/NewHandPDImgs/PatientMeander/PatientMeander\\\\mea1-P4.jpg', 'C:/Users/Liaqat Ali/Documents/ChiGaNet/NewHandPDImgs/PatientMeander/PatientMeander\\\\mea2-P4.jpg', 'C:/Users/Liaqat Ali/Documents/ChiGaNet/NewHandPDImgs/PatientMeander/PatientMeander\\\\mea3-P4.jpg', 'C:/Users/Liaqat Ali/Documents/ChiGaNet/NewHandPDImgs/PatientMeander/PatientMeander\\\\mea4-P4.jpg', 'C:/Users/Liaqat Ali/Documents/ChiGaNet/NewHandPDImgs/PatientMeander/PatientMeander\\\\mea1-P6.jpg', 'C:/Users/Liaqat Ali/Documents/ChiGaNet/NewHandPDImgs/PatientMeander/PatientMeander\\\\mea2-P6.jpg', 'C:/Users/Liaqat Ali/Documents/ChiGaNet/NewHandPDImgs/PatientMeander/PatientMeander\\\\mea3-P6.jpg', 'C:/Users/Liaqat Ali/Documents/ChiGaNet/NewHandPDImgs/PatientMeander/PatientMeander\\\\mea4-P6.jpg', 'C:/Users/Liaqat Ali/Documents/ChiGaNet/NewHandPDImgs/PatientMeander/PatientMeander\\\\mea1-P7.jpg', 'C:/Users/Liaqat Ali/Documents/ChiGaNet/NewHandPDImgs/PatientMeander/PatientMeander\\\\mea2-P7.jpg', 'C:/Users/Liaqat Ali/Documents/ChiGaNet/NewHandPDImgs/PatientMeander/PatientMeander\\\\mea3-P7.jpg', 'C:/Users/Liaqat Ali/Documents/ChiGaNet/NewHandPDImgs/PatientMeander/PatientMeander\\\\mea4-P7.jpg', 'C:/Users/Liaqat Ali/Documents/ChiGaNet/NewHandPDImgs/PatientMeander/PatientMeander\\\\mea1-P8.jpg', 'C:/Users/Liaqat Ali/Documents/ChiGaNet/NewHandPDImgs/PatientMeander/PatientMeander\\\\mea2-P8.jpg', 'C:/Users/Liaqat Ali/Documents/ChiGaNet/NewHandPDImgs/PatientMeander/PatientMeander\\\\mea3-P8.jpg', 'C:/Users/Liaqat Ali/Documents/ChiGaNet/NewHandPDImgs/PatientMeander/PatientMeander\\\\mea5-P8.jpg', 'C:/Users/Liaqat Ali/Documents/ChiGaNet/NewHandPDImgs/PatientMeander/PatientMeander\\\\mea1-P9.jpg', 'C:/Users/Liaqat Ali/Documents/ChiGaNet/NewHandPDImgs/PatientMeander/PatientMeander\\\\mea2-P9.jpg', 'C:/Users/Liaqat Ali/Documents/ChiGaNet/NewHandPDImgs/PatientMeander/PatientMeander\\\\mea3-P9.jpg', 'C:/Users/Liaqat Ali/Documents/ChiGaNet/NewHandPDImgs/PatientMeander/PatientMeander\\\\mea4-P9.jpg', 'C:/Users/Liaqat Ali/Documents/ChiGaNet/NewHandPDImgs/PatientMeander/PatientMeander\\\\mea1-P10.jpg', 'C:/Users/Liaqat Ali/Documents/ChiGaNet/NewHandPDImgs/PatientMeander/PatientMeander\\\\mea2-P10.jpg', 'C:/Users/Liaqat Ali/Documents/ChiGaNet/NewHandPDImgs/PatientMeander/PatientMeander\\\\mea3-P10.jpg', 'C:/Users/Liaqat Ali/Documents/ChiGaNet/NewHandPDImgs/PatientMeander/PatientMeander\\\\mea4-P10.jpg', 'C:/Users/Liaqat Ali/Documents/ChiGaNet/NewHandPDImgs/PatientMeander/PatientMeander\\\\mea1-P11.jpg', 'C:/Users/Liaqat Ali/Documents/ChiGaNet/NewHandPDImgs/PatientMeander/PatientMeander\\\\mea2-P11.jpg', 'C:/Users/Liaqat Ali/Documents/ChiGaNet/NewHandPDImgs/PatientMeander/PatientMeander\\\\mea3-P11.jpg', 'C:/Users/Liaqat Ali/Documents/ChiGaNet/NewHandPDImgs/PatientMeander/PatientMeander\\\\mea4-P11.jpg', 'C:/Users/Liaqat Ali/Documents/ChiGaNet/NewHandPDImgs/PatientMeander/PatientMeander\\\\mea1-P12.jpg', 'C:/Users/Liaqat Ali/Documents/ChiGaNet/NewHandPDImgs/PatientMeander/PatientMeander\\\\mea2-P12.jpg', 'C:/Users/Liaqat Ali/Documents/ChiGaNet/NewHandPDImgs/PatientMeander/PatientMeander\\\\mea3-P12.jpg', 'C:/Users/Liaqat Ali/Documents/ChiGaNet/NewHandPDImgs/PatientMeander/PatientMeander\\\\mea4-P12.jpg', 'C:/Users/Liaqat Ali/Documents/ChiGaNet/NewHandPDImgs/PatientMeander/PatientMeander\\\\mea1-P13.jpg', 'C:/Users/Liaqat Ali/Documents/ChiGaNet/NewHandPDImgs/PatientMeander/PatientMeander\\\\mea2-P13.jpg', 'C:/Users/Liaqat Ali/Documents/ChiGaNet/NewHandPDImgs/PatientMeander/PatientMeander\\\\mea3-P13.jpg', 'C:/Users/Liaqat Ali/Documents/ChiGaNet/NewHandPDImgs/PatientMeander/PatientMeander\\\\mea4-P13.jpg', 'C:/Users/Liaqat Ali/Documents/ChiGaNet/NewHandPDImgs/PatientMeander/PatientMeander\\\\mea1-P14.jpg', 'C:/Users/Liaqat Ali/Documents/ChiGaNet/NewHandPDImgs/PatientMeander/PatientMeander\\\\mea2-P14.jpg', 'C:/Users/Liaqat Ali/Documents/ChiGaNet/NewHandPDImgs/PatientMeander/PatientMeander\\\\mea3-P14.jpg', 'C:/Users/Liaqat Ali/Documents/ChiGaNet/NewHandPDImgs/PatientMeander/PatientMeander\\\\mea4-P14.jpg', 'C:/Users/Liaqat Ali/Documents/ChiGaNet/NewHandPDImgs/PatientMeander/PatientMeander\\\\mea1-P15.jpg', 'C:/Users/Liaqat Ali/Documents/ChiGaNet/NewHandPDImgs/PatientMeander/PatientMeander\\\\mea2-P15.jpg', 'C:/Users/Liaqat Ali/Documents/ChiGaNet/NewHandPDImgs/PatientMeander/PatientMeander\\\\mea3-P15.jpg', 'C:/Users/Liaqat Ali/Documents/ChiGaNet/NewHandPDImgs/PatientMeander/PatientMeander\\\\mea4-P15.jpg', 'C:/Users/Liaqat Ali/Documents/ChiGaNet/NewHandPDImgs/PatientMeander/PatientMeander\\\\mea1-P16.jpg', 'C:/Users/Liaqat Ali/Documents/ChiGaNet/NewHandPDImgs/PatientMeander/PatientMeander\\\\mea2-P16.jpg', 'C:/Users/Liaqat Ali/Documents/ChiGaNet/NewHandPDImgs/PatientMeander/PatientMeander\\\\mea3-P16.jpg', 'C:/Users/Liaqat Ali/Documents/ChiGaNet/NewHandPDImgs/PatientMeander/PatientMeander\\\\mea4-P16.jpg', 'C:/Users/Liaqat Ali/Documents/ChiGaNet/NewHandPDImgs/PatientMeander/PatientMeander\\\\mea1-P17.jpg', 'C:/Users/Liaqat Ali/Documents/ChiGaNet/NewHandPDImgs/PatientMeander/PatientMeander\\\\mea2-P17.jpg', 'C:/Users/Liaqat Ali/Documents/ChiGaNet/NewHandPDImgs/PatientMeander/PatientMeander\\\\mea3-P17.jpg', 'C:/Users/Liaqat Ali/Documents/ChiGaNet/NewHandPDImgs/PatientMeander/PatientMeander\\\\mea4-P17.jpg', 'C:/Users/Liaqat Ali/Documents/ChiGaNet/NewHandPDImgs/PatientMeander/PatientMeander\\\\mea1-P18.jpg', 'C:/Users/Liaqat Ali/Documents/ChiGaNet/NewHandPDImgs/PatientMeander/PatientMeander\\\\mea2-P18.jpg', 'C:/Users/Liaqat Ali/Documents/ChiGaNet/NewHandPDImgs/PatientMeander/PatientMeander\\\\mea3-P18.jpg', 'C:/Users/Liaqat Ali/Documents/ChiGaNet/NewHandPDImgs/PatientMeander/PatientMeander\\\\mea4-P18.jpg', 'C:/Users/Liaqat Ali/Documents/ChiGaNet/NewHandPDImgs/PatientMeander/PatientMeander\\\\mea1-P19.jpg', 'C:/Users/Liaqat Ali/Documents/ChiGaNet/NewHandPDImgs/PatientMeander/PatientMeander\\\\mea2-P19.jpg', 'C:/Users/Liaqat Ali/Documents/ChiGaNet/NewHandPDImgs/PatientMeander/PatientMeander\\\\mea3-P19.jpg', 'C:/Users/Liaqat Ali/Documents/ChiGaNet/NewHandPDImgs/PatientMeander/PatientMeander\\\\mea4-P19.jpg', 'C:/Users/Liaqat Ali/Documents/ChiGaNet/NewHandPDImgs/PatientMeander/PatientMeander\\\\mea1-P20.jpg', 'C:/Users/Liaqat Ali/Documents/ChiGaNet/NewHandPDImgs/PatientMeander/PatientMeander\\\\mea2-P20.jpg', 'C:/Users/Liaqat Ali/Documents/ChiGaNet/NewHandPDImgs/PatientMeander/PatientMeander\\\\mea3-P20.jpg', 'C:/Users/Liaqat Ali/Documents/ChiGaNet/NewHandPDImgs/PatientMeander/PatientMeander\\\\mea4-P20.jpg', 'C:/Users/Liaqat Ali/Documents/ChiGaNet/NewHandPDImgs/PatientMeander/PatientMeander\\\\mea1-P21.jpg', 'C:/Users/Liaqat Ali/Documents/ChiGaNet/NewHandPDImgs/PatientMeander/PatientMeander\\\\mea2-P21.jpg', 'C:/Users/Liaqat Ali/Documents/ChiGaNet/NewHandPDImgs/PatientMeander/PatientMeander\\\\mea3-P21.jpg', 'C:/Users/Liaqat Ali/Documents/ChiGaNet/NewHandPDImgs/PatientMeander/PatientMeander\\\\mea4-P21.jpg', 'C:/Users/Liaqat Ali/Documents/ChiGaNet/NewHandPDImgs/PatientMeander/PatientMeander\\\\mea1-P22.jpg', 'C:/Users/Liaqat Ali/Documents/ChiGaNet/NewHandPDImgs/PatientMeander/PatientMeander\\\\mea2-P22.jpg', 'C:/Users/Liaqat Ali/Documents/ChiGaNet/NewHandPDImgs/PatientMeander/PatientMeander\\\\mea3-P22.jpg', 'C:/Users/Liaqat Ali/Documents/ChiGaNet/NewHandPDImgs/PatientMeander/PatientMeander\\\\mea4-P22.jpg', 'C:/Users/Liaqat Ali/Documents/ChiGaNet/NewHandPDImgs/PatientMeander/PatientMeander\\\\mea1-P23.jpg', 'C:/Users/Liaqat Ali/Documents/ChiGaNet/NewHandPDImgs/PatientMeander/PatientMeander\\\\mea2-P23.jpg', 'C:/Users/Liaqat Ali/Documents/ChiGaNet/NewHandPDImgs/PatientMeander/PatientMeander\\\\mea3-P23.jpg', 'C:/Users/Liaqat Ali/Documents/ChiGaNet/NewHandPDImgs/PatientMeander/PatientMeander\\\\mea4-P23.jpg', 'C:/Users/Liaqat Ali/Documents/ChiGaNet/NewHandPDImgs/PatientMeander/PatientMeander\\\\mea1-P24.jpg', 'C:/Users/Liaqat Ali/Documents/ChiGaNet/NewHandPDImgs/PatientMeander/PatientMeander\\\\mea2-P24.jpg', 'C:/Users/Liaqat Ali/Documents/ChiGaNet/NewHandPDImgs/PatientMeander/PatientMeander\\\\mea3-P24.jpg', 'C:/Users/Liaqat Ali/Documents/ChiGaNet/NewHandPDImgs/PatientMeander/PatientMeander\\\\mea4-P24.jpg', 'C:/Users/Liaqat Ali/Documents/ChiGaNet/NewHandPDImgs/PatientMeander/PatientMeander\\\\mea1-P25.jpg', 'C:/Users/Liaqat Ali/Documents/ChiGaNet/NewHandPDImgs/PatientMeander/PatientMeander\\\\mea2-P25.jpg', 'C:/Users/Liaqat Ali/Documents/ChiGaNet/NewHandPDImgs/PatientMeander/PatientMeander\\\\mea3-P25.jpg', 'C:/Users/Liaqat Ali/Documents/ChiGaNet/NewHandPDImgs/PatientMeander/PatientMeander\\\\mea4-P25.jpg', 'C:/Users/Liaqat Ali/Documents/ChiGaNet/NewHandPDImgs/PatientMeander/PatientMeander\\\\mea1-P26.jpg', 'C:/Users/Liaqat Ali/Documents/ChiGaNet/NewHandPDImgs/PatientMeander/PatientMeander\\\\mea2-P26.jpg', 'C:/Users/Liaqat Ali/Documents/ChiGaNet/NewHandPDImgs/PatientMeander/PatientMeander\\\\mea3-P26.jpg', 'C:/Users/Liaqat Ali/Documents/ChiGaNet/NewHandPDImgs/PatientMeander/PatientMeander\\\\mea4-P26.jpg', 'C:/Users/Liaqat Ali/Documents/ChiGaNet/NewHandPDImgs/PatientMeander/PatientMeander\\\\mea1-P27.jpg', 'C:/Users/Liaqat Ali/Documents/ChiGaNet/NewHandPDImgs/PatientMeander/PatientMeander\\\\mea2-P27.jpg', 'C:/Users/Liaqat Ali/Documents/ChiGaNet/NewHandPDImgs/PatientMeander/PatientMeander\\\\mea3-P27.jpg', 'C:/Users/Liaqat Ali/Documents/ChiGaNet/NewHandPDImgs/PatientMeander/PatientMeander\\\\mea4-P27.jpg', 'C:/Users/Liaqat Ali/Documents/ChiGaNet/NewHandPDImgs/PatientMeander/PatientMeander\\\\mea1-P28.jpg', 'C:/Users/Liaqat Ali/Documents/ChiGaNet/NewHandPDImgs/PatientMeander/PatientMeander\\\\mea2-P28.jpg', 'C:/Users/Liaqat Ali/Documents/ChiGaNet/NewHandPDImgs/PatientMeander/PatientMeander\\\\mea3-P28.jpg', 'C:/Users/Liaqat Ali/Documents/ChiGaNet/NewHandPDImgs/PatientMeander/PatientMeander\\\\mea4-P28.jpg', 'C:/Users/Liaqat Ali/Documents/ChiGaNet/NewHandPDImgs/PatientMeander/PatientMeander\\\\mea1-P29.jpg', 'C:/Users/Liaqat Ali/Documents/ChiGaNet/NewHandPDImgs/PatientMeander/PatientMeander\\\\mea2-P29.jpg', 'C:/Users/Liaqat Ali/Documents/ChiGaNet/NewHandPDImgs/PatientMeander/PatientMeander\\\\mea3-P29.jpg', 'C:/Users/Liaqat Ali/Documents/ChiGaNet/NewHandPDImgs/PatientMeander/PatientMeander\\\\mea4-P29.jpg', 'C:/Users/Liaqat Ali/Documents/ChiGaNet/NewHandPDImgs/PatientMeander/PatientMeander\\\\mea1-P30.jpg', 'C:/Users/Liaqat Ali/Documents/ChiGaNet/NewHandPDImgs/PatientMeander/PatientMeander\\\\mea2-P30.jpg', 'C:/Users/Liaqat Ali/Documents/ChiGaNet/NewHandPDImgs/PatientMeander/PatientMeander\\\\mea3-P30.jpg', 'C:/Users/Liaqat Ali/Documents/ChiGaNet/NewHandPDImgs/PatientMeander/PatientMeander\\\\mea4-P30.jpg', 'C:/Users/Liaqat Ali/Documents/ChiGaNet/NewHandPDImgs/PatientMeander/PatientMeander\\\\mea1-P31.jpg', 'C:/Users/Liaqat Ali/Documents/ChiGaNet/NewHandPDImgs/PatientMeander/PatientMeander\\\\mea2-P31.jpg', 'C:/Users/Liaqat Ali/Documents/ChiGaNet/NewHandPDImgs/PatientMeander/PatientMeander\\\\mea3-P31.jpg', 'C:/Users/Liaqat Ali/Documents/ChiGaNet/NewHandPDImgs/PatientMeander/PatientMeander\\\\mea4-P31.jpg', 'C:/Users/Liaqat Ali/Documents/ChiGaNet/NewHandPDImgs/PatientMeander/PatientMeander\\\\mea1-P32.jpg', 'C:/Users/Liaqat Ali/Documents/ChiGaNet/NewHandPDImgs/PatientMeander/PatientMeander\\\\mea2-P32.jpg', 'C:/Users/Liaqat Ali/Documents/ChiGaNet/NewHandPDImgs/PatientMeander/PatientMeander\\\\mea3-P32.jpg', 'C:/Users/Liaqat Ali/Documents/ChiGaNet/NewHandPDImgs/PatientMeander/PatientMeander\\\\mea4-P32.jpg']\n"
     ]
    }
   ],
   "source": [
    "import re\n",
    "\n",
    "def custom_sort_key(path):\n",
    "    # Extract the filename from the path\n",
    "    filename = path.split('\\\\')[-1]  # Use '\\\\' for Windows paths\n",
    "\n",
    "    # Use regex to extract the prefix and suffix numbers\n",
    "    match = re.match(r'mea(\\d+)-P(\\d+)\\.jpg$', filename)\n",
    "    \n",
    "    if match:\n",
    "        mea_number = int(match.group(1))  # Extract number after 'mea'\n",
    "        p_number = int(match.group(2))    # Extract number after 'P'\n",
    "        return (p_number, mea_number)\n",
    "    else:\n",
    "        # Return a high default value or handle non-matching cases\n",
    "        return (float('inf'), float('inf'))\n",
    "\n",
    "# Filter out non-image files if necessary\n",
    "X_PD_All_filtered = [path for path in X_PD_All if path.endswith('.jpg')]\n",
    "\n",
    "# Sort the list using the custom key\n",
    "X_PD_All_sorted = sorted(X_PD_All_filtered, key=custom_sort_key)\n",
    "\n",
    "print(X_PD_All_sorted)\n"
   ]
  },
  {
   "cell_type": "code",
   "execution_count": 7,
   "metadata": {},
   "outputs": [
    {
     "name": "stdout",
     "output_type": "stream",
     "text": [
      "C:/Users/Liaqat Ali/Documents/ChiGaNet/NewHandPDImgs/PatientMeander/PatientMeander\\mea1-P1.jpg\n",
      "C:/Users/Liaqat Ali/Documents/ChiGaNet/NewHandPDImgs/PatientMeander/PatientMeander\\mea2-P1.jpg\n",
      "C:/Users/Liaqat Ali/Documents/ChiGaNet/NewHandPDImgs/PatientMeander/PatientMeander\\mea3-P1.jpg\n",
      "C:/Users/Liaqat Ali/Documents/ChiGaNet/NewHandPDImgs/PatientMeander/PatientMeander\\mea4-P1.jpg\n",
      "C:/Users/Liaqat Ali/Documents/ChiGaNet/NewHandPDImgs/PatientMeander/PatientMeander\\mea1-P2.jpg\n",
      "C:/Users/Liaqat Ali/Documents/ChiGaNet/NewHandPDImgs/PatientMeander/PatientMeander\\mea2-P2.jpg\n",
      "C:/Users/Liaqat Ali/Documents/ChiGaNet/NewHandPDImgs/PatientMeander/PatientMeander\\mea3-P2.jpg\n",
      "C:/Users/Liaqat Ali/Documents/ChiGaNet/NewHandPDImgs/PatientMeander/PatientMeander\\mea4-P2.jpg\n",
      "C:/Users/Liaqat Ali/Documents/ChiGaNet/NewHandPDImgs/PatientMeander/PatientMeander\\mea1-P3.jpg\n",
      "C:/Users/Liaqat Ali/Documents/ChiGaNet/NewHandPDImgs/PatientMeander/PatientMeander\\mea2-P3.jpg\n",
      "C:/Users/Liaqat Ali/Documents/ChiGaNet/NewHandPDImgs/PatientMeander/PatientMeander\\mea3-P3.jpg\n",
      "C:/Users/Liaqat Ali/Documents/ChiGaNet/NewHandPDImgs/PatientMeander/PatientMeander\\mea4-P3.jpg\n",
      "C:/Users/Liaqat Ali/Documents/ChiGaNet/NewHandPDImgs/PatientMeander/PatientMeander\\mea1-P4.jpg\n",
      "C:/Users/Liaqat Ali/Documents/ChiGaNet/NewHandPDImgs/PatientMeander/PatientMeander\\mea2-P4.jpg\n",
      "C:/Users/Liaqat Ali/Documents/ChiGaNet/NewHandPDImgs/PatientMeander/PatientMeander\\mea3-P4.jpg\n",
      "C:/Users/Liaqat Ali/Documents/ChiGaNet/NewHandPDImgs/PatientMeander/PatientMeander\\mea4-P4.jpg\n",
      "C:/Users/Liaqat Ali/Documents/ChiGaNet/NewHandPDImgs/PatientMeander/PatientMeander\\mea1-P6.jpg\n",
      "C:/Users/Liaqat Ali/Documents/ChiGaNet/NewHandPDImgs/PatientMeander/PatientMeander\\mea2-P6.jpg\n",
      "C:/Users/Liaqat Ali/Documents/ChiGaNet/NewHandPDImgs/PatientMeander/PatientMeander\\mea3-P6.jpg\n",
      "C:/Users/Liaqat Ali/Documents/ChiGaNet/NewHandPDImgs/PatientMeander/PatientMeander\\mea4-P6.jpg\n",
      "C:/Users/Liaqat Ali/Documents/ChiGaNet/NewHandPDImgs/PatientMeander/PatientMeander\\mea1-P7.jpg\n",
      "C:/Users/Liaqat Ali/Documents/ChiGaNet/NewHandPDImgs/PatientMeander/PatientMeander\\mea2-P7.jpg\n",
      "C:/Users/Liaqat Ali/Documents/ChiGaNet/NewHandPDImgs/PatientMeander/PatientMeander\\mea3-P7.jpg\n",
      "C:/Users/Liaqat Ali/Documents/ChiGaNet/NewHandPDImgs/PatientMeander/PatientMeander\\mea4-P7.jpg\n",
      "C:/Users/Liaqat Ali/Documents/ChiGaNet/NewHandPDImgs/PatientMeander/PatientMeander\\mea1-P8.jpg\n",
      "C:/Users/Liaqat Ali/Documents/ChiGaNet/NewHandPDImgs/PatientMeander/PatientMeander\\mea2-P8.jpg\n",
      "C:/Users/Liaqat Ali/Documents/ChiGaNet/NewHandPDImgs/PatientMeander/PatientMeander\\mea3-P8.jpg\n",
      "C:/Users/Liaqat Ali/Documents/ChiGaNet/NewHandPDImgs/PatientMeander/PatientMeander\\mea5-P8.jpg\n",
      "C:/Users/Liaqat Ali/Documents/ChiGaNet/NewHandPDImgs/PatientMeander/PatientMeander\\mea1-P9.jpg\n",
      "C:/Users/Liaqat Ali/Documents/ChiGaNet/NewHandPDImgs/PatientMeander/PatientMeander\\mea2-P9.jpg\n",
      "C:/Users/Liaqat Ali/Documents/ChiGaNet/NewHandPDImgs/PatientMeander/PatientMeander\\mea3-P9.jpg\n",
      "C:/Users/Liaqat Ali/Documents/ChiGaNet/NewHandPDImgs/PatientMeander/PatientMeander\\mea4-P9.jpg\n",
      "C:/Users/Liaqat Ali/Documents/ChiGaNet/NewHandPDImgs/PatientMeander/PatientMeander\\mea1-P10.jpg\n",
      "C:/Users/Liaqat Ali/Documents/ChiGaNet/NewHandPDImgs/PatientMeander/PatientMeander\\mea2-P10.jpg\n",
      "C:/Users/Liaqat Ali/Documents/ChiGaNet/NewHandPDImgs/PatientMeander/PatientMeander\\mea3-P10.jpg\n",
      "C:/Users/Liaqat Ali/Documents/ChiGaNet/NewHandPDImgs/PatientMeander/PatientMeander\\mea4-P10.jpg\n",
      "C:/Users/Liaqat Ali/Documents/ChiGaNet/NewHandPDImgs/PatientMeander/PatientMeander\\mea1-P11.jpg\n",
      "C:/Users/Liaqat Ali/Documents/ChiGaNet/NewHandPDImgs/PatientMeander/PatientMeander\\mea2-P11.jpg\n",
      "C:/Users/Liaqat Ali/Documents/ChiGaNet/NewHandPDImgs/PatientMeander/PatientMeander\\mea3-P11.jpg\n",
      "C:/Users/Liaqat Ali/Documents/ChiGaNet/NewHandPDImgs/PatientMeander/PatientMeander\\mea4-P11.jpg\n",
      "C:/Users/Liaqat Ali/Documents/ChiGaNet/NewHandPDImgs/PatientMeander/PatientMeander\\mea1-P12.jpg\n",
      "C:/Users/Liaqat Ali/Documents/ChiGaNet/NewHandPDImgs/PatientMeander/PatientMeander\\mea2-P12.jpg\n",
      "C:/Users/Liaqat Ali/Documents/ChiGaNet/NewHandPDImgs/PatientMeander/PatientMeander\\mea3-P12.jpg\n",
      "C:/Users/Liaqat Ali/Documents/ChiGaNet/NewHandPDImgs/PatientMeander/PatientMeander\\mea4-P12.jpg\n",
      "C:/Users/Liaqat Ali/Documents/ChiGaNet/NewHandPDImgs/PatientMeander/PatientMeander\\mea1-P13.jpg\n",
      "C:/Users/Liaqat Ali/Documents/ChiGaNet/NewHandPDImgs/PatientMeander/PatientMeander\\mea2-P13.jpg\n",
      "C:/Users/Liaqat Ali/Documents/ChiGaNet/NewHandPDImgs/PatientMeander/PatientMeander\\mea3-P13.jpg\n",
      "C:/Users/Liaqat Ali/Documents/ChiGaNet/NewHandPDImgs/PatientMeander/PatientMeander\\mea4-P13.jpg\n",
      "C:/Users/Liaqat Ali/Documents/ChiGaNet/NewHandPDImgs/PatientMeander/PatientMeander\\mea1-P14.jpg\n",
      "C:/Users/Liaqat Ali/Documents/ChiGaNet/NewHandPDImgs/PatientMeander/PatientMeander\\mea2-P14.jpg\n",
      "C:/Users/Liaqat Ali/Documents/ChiGaNet/NewHandPDImgs/PatientMeander/PatientMeander\\mea3-P14.jpg\n",
      "C:/Users/Liaqat Ali/Documents/ChiGaNet/NewHandPDImgs/PatientMeander/PatientMeander\\mea4-P14.jpg\n",
      "C:/Users/Liaqat Ali/Documents/ChiGaNet/NewHandPDImgs/PatientMeander/PatientMeander\\mea1-P15.jpg\n",
      "C:/Users/Liaqat Ali/Documents/ChiGaNet/NewHandPDImgs/PatientMeander/PatientMeander\\mea2-P15.jpg\n",
      "C:/Users/Liaqat Ali/Documents/ChiGaNet/NewHandPDImgs/PatientMeander/PatientMeander\\mea3-P15.jpg\n",
      "C:/Users/Liaqat Ali/Documents/ChiGaNet/NewHandPDImgs/PatientMeander/PatientMeander\\mea4-P15.jpg\n",
      "C:/Users/Liaqat Ali/Documents/ChiGaNet/NewHandPDImgs/PatientMeander/PatientMeander\\mea1-P16.jpg\n",
      "C:/Users/Liaqat Ali/Documents/ChiGaNet/NewHandPDImgs/PatientMeander/PatientMeander\\mea2-P16.jpg\n",
      "C:/Users/Liaqat Ali/Documents/ChiGaNet/NewHandPDImgs/PatientMeander/PatientMeander\\mea3-P16.jpg\n",
      "C:/Users/Liaqat Ali/Documents/ChiGaNet/NewHandPDImgs/PatientMeander/PatientMeander\\mea4-P16.jpg\n",
      "C:/Users/Liaqat Ali/Documents/ChiGaNet/NewHandPDImgs/PatientMeander/PatientMeander\\mea1-P17.jpg\n",
      "C:/Users/Liaqat Ali/Documents/ChiGaNet/NewHandPDImgs/PatientMeander/PatientMeander\\mea2-P17.jpg\n",
      "C:/Users/Liaqat Ali/Documents/ChiGaNet/NewHandPDImgs/PatientMeander/PatientMeander\\mea3-P17.jpg\n",
      "C:/Users/Liaqat Ali/Documents/ChiGaNet/NewHandPDImgs/PatientMeander/PatientMeander\\mea4-P17.jpg\n",
      "C:/Users/Liaqat Ali/Documents/ChiGaNet/NewHandPDImgs/PatientMeander/PatientMeander\\mea1-P18.jpg\n",
      "C:/Users/Liaqat Ali/Documents/ChiGaNet/NewHandPDImgs/PatientMeander/PatientMeander\\mea2-P18.jpg\n",
      "C:/Users/Liaqat Ali/Documents/ChiGaNet/NewHandPDImgs/PatientMeander/PatientMeander\\mea3-P18.jpg\n",
      "C:/Users/Liaqat Ali/Documents/ChiGaNet/NewHandPDImgs/PatientMeander/PatientMeander\\mea4-P18.jpg\n",
      "C:/Users/Liaqat Ali/Documents/ChiGaNet/NewHandPDImgs/PatientMeander/PatientMeander\\mea1-P19.jpg\n",
      "C:/Users/Liaqat Ali/Documents/ChiGaNet/NewHandPDImgs/PatientMeander/PatientMeander\\mea2-P19.jpg\n",
      "C:/Users/Liaqat Ali/Documents/ChiGaNet/NewHandPDImgs/PatientMeander/PatientMeander\\mea3-P19.jpg\n",
      "C:/Users/Liaqat Ali/Documents/ChiGaNet/NewHandPDImgs/PatientMeander/PatientMeander\\mea4-P19.jpg\n",
      "C:/Users/Liaqat Ali/Documents/ChiGaNet/NewHandPDImgs/PatientMeander/PatientMeander\\mea1-P20.jpg\n",
      "C:/Users/Liaqat Ali/Documents/ChiGaNet/NewHandPDImgs/PatientMeander/PatientMeander\\mea2-P20.jpg\n",
      "C:/Users/Liaqat Ali/Documents/ChiGaNet/NewHandPDImgs/PatientMeander/PatientMeander\\mea3-P20.jpg\n",
      "C:/Users/Liaqat Ali/Documents/ChiGaNet/NewHandPDImgs/PatientMeander/PatientMeander\\mea4-P20.jpg\n",
      "C:/Users/Liaqat Ali/Documents/ChiGaNet/NewHandPDImgs/PatientMeander/PatientMeander\\mea1-P21.jpg\n",
      "C:/Users/Liaqat Ali/Documents/ChiGaNet/NewHandPDImgs/PatientMeander/PatientMeander\\mea2-P21.jpg\n",
      "C:/Users/Liaqat Ali/Documents/ChiGaNet/NewHandPDImgs/PatientMeander/PatientMeander\\mea3-P21.jpg\n",
      "C:/Users/Liaqat Ali/Documents/ChiGaNet/NewHandPDImgs/PatientMeander/PatientMeander\\mea4-P21.jpg\n",
      "C:/Users/Liaqat Ali/Documents/ChiGaNet/NewHandPDImgs/PatientMeander/PatientMeander\\mea1-P22.jpg\n",
      "C:/Users/Liaqat Ali/Documents/ChiGaNet/NewHandPDImgs/PatientMeander/PatientMeander\\mea2-P22.jpg\n",
      "C:/Users/Liaqat Ali/Documents/ChiGaNet/NewHandPDImgs/PatientMeander/PatientMeander\\mea3-P22.jpg\n",
      "C:/Users/Liaqat Ali/Documents/ChiGaNet/NewHandPDImgs/PatientMeander/PatientMeander\\mea4-P22.jpg\n",
      "C:/Users/Liaqat Ali/Documents/ChiGaNet/NewHandPDImgs/PatientMeander/PatientMeander\\mea1-P23.jpg\n",
      "C:/Users/Liaqat Ali/Documents/ChiGaNet/NewHandPDImgs/PatientMeander/PatientMeander\\mea2-P23.jpg\n",
      "C:/Users/Liaqat Ali/Documents/ChiGaNet/NewHandPDImgs/PatientMeander/PatientMeander\\mea3-P23.jpg\n",
      "C:/Users/Liaqat Ali/Documents/ChiGaNet/NewHandPDImgs/PatientMeander/PatientMeander\\mea4-P23.jpg\n",
      "C:/Users/Liaqat Ali/Documents/ChiGaNet/NewHandPDImgs/PatientMeander/PatientMeander\\mea1-P24.jpg\n",
      "C:/Users/Liaqat Ali/Documents/ChiGaNet/NewHandPDImgs/PatientMeander/PatientMeander\\mea2-P24.jpg\n",
      "C:/Users/Liaqat Ali/Documents/ChiGaNet/NewHandPDImgs/PatientMeander/PatientMeander\\mea3-P24.jpg\n",
      "C:/Users/Liaqat Ali/Documents/ChiGaNet/NewHandPDImgs/PatientMeander/PatientMeander\\mea4-P24.jpg\n",
      "C:/Users/Liaqat Ali/Documents/ChiGaNet/NewHandPDImgs/PatientMeander/PatientMeander\\mea1-P25.jpg\n",
      "C:/Users/Liaqat Ali/Documents/ChiGaNet/NewHandPDImgs/PatientMeander/PatientMeander\\mea2-P25.jpg\n",
      "C:/Users/Liaqat Ali/Documents/ChiGaNet/NewHandPDImgs/PatientMeander/PatientMeander\\mea3-P25.jpg\n",
      "C:/Users/Liaqat Ali/Documents/ChiGaNet/NewHandPDImgs/PatientMeander/PatientMeander\\mea4-P25.jpg\n",
      "C:/Users/Liaqat Ali/Documents/ChiGaNet/NewHandPDImgs/PatientMeander/PatientMeander\\mea1-P26.jpg\n",
      "C:/Users/Liaqat Ali/Documents/ChiGaNet/NewHandPDImgs/PatientMeander/PatientMeander\\mea2-P26.jpg\n",
      "C:/Users/Liaqat Ali/Documents/ChiGaNet/NewHandPDImgs/PatientMeander/PatientMeander\\mea3-P26.jpg\n",
      "C:/Users/Liaqat Ali/Documents/ChiGaNet/NewHandPDImgs/PatientMeander/PatientMeander\\mea4-P26.jpg\n",
      "C:/Users/Liaqat Ali/Documents/ChiGaNet/NewHandPDImgs/PatientMeander/PatientMeander\\mea1-P27.jpg\n",
      "C:/Users/Liaqat Ali/Documents/ChiGaNet/NewHandPDImgs/PatientMeander/PatientMeander\\mea2-P27.jpg\n",
      "C:/Users/Liaqat Ali/Documents/ChiGaNet/NewHandPDImgs/PatientMeander/PatientMeander\\mea3-P27.jpg\n",
      "C:/Users/Liaqat Ali/Documents/ChiGaNet/NewHandPDImgs/PatientMeander/PatientMeander\\mea4-P27.jpg\n",
      "C:/Users/Liaqat Ali/Documents/ChiGaNet/NewHandPDImgs/PatientMeander/PatientMeander\\mea1-P28.jpg\n",
      "C:/Users/Liaqat Ali/Documents/ChiGaNet/NewHandPDImgs/PatientMeander/PatientMeander\\mea2-P28.jpg\n",
      "C:/Users/Liaqat Ali/Documents/ChiGaNet/NewHandPDImgs/PatientMeander/PatientMeander\\mea3-P28.jpg\n",
      "C:/Users/Liaqat Ali/Documents/ChiGaNet/NewHandPDImgs/PatientMeander/PatientMeander\\mea4-P28.jpg\n",
      "C:/Users/Liaqat Ali/Documents/ChiGaNet/NewHandPDImgs/PatientMeander/PatientMeander\\mea1-P29.jpg\n",
      "C:/Users/Liaqat Ali/Documents/ChiGaNet/NewHandPDImgs/PatientMeander/PatientMeander\\mea2-P29.jpg\n",
      "C:/Users/Liaqat Ali/Documents/ChiGaNet/NewHandPDImgs/PatientMeander/PatientMeander\\mea3-P29.jpg\n",
      "C:/Users/Liaqat Ali/Documents/ChiGaNet/NewHandPDImgs/PatientMeander/PatientMeander\\mea4-P29.jpg\n",
      "C:/Users/Liaqat Ali/Documents/ChiGaNet/NewHandPDImgs/PatientMeander/PatientMeander\\mea1-P30.jpg\n",
      "C:/Users/Liaqat Ali/Documents/ChiGaNet/NewHandPDImgs/PatientMeander/PatientMeander\\mea2-P30.jpg\n",
      "C:/Users/Liaqat Ali/Documents/ChiGaNet/NewHandPDImgs/PatientMeander/PatientMeander\\mea3-P30.jpg\n",
      "C:/Users/Liaqat Ali/Documents/ChiGaNet/NewHandPDImgs/PatientMeander/PatientMeander\\mea4-P30.jpg\n",
      "C:/Users/Liaqat Ali/Documents/ChiGaNet/NewHandPDImgs/PatientMeander/PatientMeander\\mea1-P31.jpg\n",
      "C:/Users/Liaqat Ali/Documents/ChiGaNet/NewHandPDImgs/PatientMeander/PatientMeander\\mea2-P31.jpg\n",
      "C:/Users/Liaqat Ali/Documents/ChiGaNet/NewHandPDImgs/PatientMeander/PatientMeander\\mea3-P31.jpg\n",
      "C:/Users/Liaqat Ali/Documents/ChiGaNet/NewHandPDImgs/PatientMeander/PatientMeander\\mea4-P31.jpg\n",
      "C:/Users/Liaqat Ali/Documents/ChiGaNet/NewHandPDImgs/PatientMeander/PatientMeander\\mea1-P32.jpg\n",
      "C:/Users/Liaqat Ali/Documents/ChiGaNet/NewHandPDImgs/PatientMeander/PatientMeander\\mea2-P32.jpg\n",
      "C:/Users/Liaqat Ali/Documents/ChiGaNet/NewHandPDImgs/PatientMeander/PatientMeander\\mea3-P32.jpg\n",
      "C:/Users/Liaqat Ali/Documents/ChiGaNet/NewHandPDImgs/PatientMeander/PatientMeander\\mea4-P32.jpg\n"
     ]
    }
   ],
   "source": [
    "# Print sorted paths\n",
    "for path in X_PD_All_sorted:\n",
    "    print(path)"
   ]
  },
  {
   "cell_type": "code",
   "execution_count": 8,
   "metadata": {
    "colab": {
     "base_uri": "https://localhost:8080/"
    },
    "executionInfo": {
     "elapsed": 14,
     "status": "ok",
     "timestamp": 1723310662658,
     "user": {
      "displayName": "Liaqat Ali",
      "userId": "05679016512873117773"
     },
     "user_tz": -300
    },
    "id": "jQQ40a4-KCyj",
    "outputId": "b0c8d3f9-1912-44b6-8c8a-d1737db62e02"
   },
   "outputs": [
    {
     "name": "stdout",
     "output_type": "stream",
     "text": [
      "['C:/Users/Liaqat Ali/Documents/ChiGaNet/NewHandPDImgs/HealthyMeander/HealthyMeander\\\\mea1-H1.jpg', 'C:/Users/Liaqat Ali/Documents/ChiGaNet/NewHandPDImgs/HealthyMeander/HealthyMeander\\\\mea2-H1.jpg', 'C:/Users/Liaqat Ali/Documents/ChiGaNet/NewHandPDImgs/HealthyMeander/HealthyMeander\\\\mea3-H1.jpg', 'C:/Users/Liaqat Ali/Documents/ChiGaNet/NewHandPDImgs/HealthyMeander/HealthyMeander\\\\mea4-H1.jpg', 'C:/Users/Liaqat Ali/Documents/ChiGaNet/NewHandPDImgs/HealthyMeander/HealthyMeander\\\\mea1-H2.jpg', 'C:/Users/Liaqat Ali/Documents/ChiGaNet/NewHandPDImgs/HealthyMeander/HealthyMeander\\\\mea2-H2.jpg', 'C:/Users/Liaqat Ali/Documents/ChiGaNet/NewHandPDImgs/HealthyMeander/HealthyMeander\\\\mea3-H2.jpg', 'C:/Users/Liaqat Ali/Documents/ChiGaNet/NewHandPDImgs/HealthyMeander/HealthyMeander\\\\mea4-H2.jpg', 'C:/Users/Liaqat Ali/Documents/ChiGaNet/NewHandPDImgs/HealthyMeander/HealthyMeander\\\\mea1-H3.jpg', 'C:/Users/Liaqat Ali/Documents/ChiGaNet/NewHandPDImgs/HealthyMeander/HealthyMeander\\\\mea2-H3.jpg', 'C:/Users/Liaqat Ali/Documents/ChiGaNet/NewHandPDImgs/HealthyMeander/HealthyMeander\\\\mea3-H3.jpg', 'C:/Users/Liaqat Ali/Documents/ChiGaNet/NewHandPDImgs/HealthyMeander/HealthyMeander\\\\mea4-H3.jpg', 'C:/Users/Liaqat Ali/Documents/ChiGaNet/NewHandPDImgs/HealthyMeander/HealthyMeander\\\\mea1-H4.jpg', 'C:/Users/Liaqat Ali/Documents/ChiGaNet/NewHandPDImgs/HealthyMeander/HealthyMeander\\\\mea2-H4.jpg', 'C:/Users/Liaqat Ali/Documents/ChiGaNet/NewHandPDImgs/HealthyMeander/HealthyMeander\\\\mea3-H4.jpg', 'C:/Users/Liaqat Ali/Documents/ChiGaNet/NewHandPDImgs/HealthyMeander/HealthyMeander\\\\mea4-H4.jpg', 'C:/Users/Liaqat Ali/Documents/ChiGaNet/NewHandPDImgs/HealthyMeander/HealthyMeander\\\\mea1-H5.jpg', 'C:/Users/Liaqat Ali/Documents/ChiGaNet/NewHandPDImgs/HealthyMeander/HealthyMeander\\\\mea2-H5.jpg', 'C:/Users/Liaqat Ali/Documents/ChiGaNet/NewHandPDImgs/HealthyMeander/HealthyMeander\\\\mea3-H5.jpg', 'C:/Users/Liaqat Ali/Documents/ChiGaNet/NewHandPDImgs/HealthyMeander/HealthyMeander\\\\mea4-H5.jpg', 'C:/Users/Liaqat Ali/Documents/ChiGaNet/NewHandPDImgs/HealthyMeander/HealthyMeander\\\\mea1-H7.jpg', 'C:/Users/Liaqat Ali/Documents/ChiGaNet/NewHandPDImgs/HealthyMeander/HealthyMeander\\\\mea2-H7.jpg', 'C:/Users/Liaqat Ali/Documents/ChiGaNet/NewHandPDImgs/HealthyMeander/HealthyMeander\\\\mea3-H7.jpg', 'C:/Users/Liaqat Ali/Documents/ChiGaNet/NewHandPDImgs/HealthyMeander/HealthyMeander\\\\mea4-H7.jpg', 'C:/Users/Liaqat Ali/Documents/ChiGaNet/NewHandPDImgs/HealthyMeander/HealthyMeander\\\\mea1-H8.jpg', 'C:/Users/Liaqat Ali/Documents/ChiGaNet/NewHandPDImgs/HealthyMeander/HealthyMeander\\\\mea2-H8.jpg', 'C:/Users/Liaqat Ali/Documents/ChiGaNet/NewHandPDImgs/HealthyMeander/HealthyMeander\\\\mea3-H8.jpg', 'C:/Users/Liaqat Ali/Documents/ChiGaNet/NewHandPDImgs/HealthyMeander/HealthyMeander\\\\mea4-H8.jpg', 'C:/Users/Liaqat Ali/Documents/ChiGaNet/NewHandPDImgs/HealthyMeander/HealthyMeander\\\\mea1-H9.jpg', 'C:/Users/Liaqat Ali/Documents/ChiGaNet/NewHandPDImgs/HealthyMeander/HealthyMeander\\\\mea2-H9.jpg', 'C:/Users/Liaqat Ali/Documents/ChiGaNet/NewHandPDImgs/HealthyMeander/HealthyMeander\\\\mea3-H9.jpg', 'C:/Users/Liaqat Ali/Documents/ChiGaNet/NewHandPDImgs/HealthyMeander/HealthyMeander\\\\mea4-H9.jpg', 'C:/Users/Liaqat Ali/Documents/ChiGaNet/NewHandPDImgs/HealthyMeander/HealthyMeander\\\\mea1-H10.jpg', 'C:/Users/Liaqat Ali/Documents/ChiGaNet/NewHandPDImgs/HealthyMeander/HealthyMeander\\\\mea2-H10.jpg', 'C:/Users/Liaqat Ali/Documents/ChiGaNet/NewHandPDImgs/HealthyMeander/HealthyMeander\\\\mea3-H10.jpg', 'C:/Users/Liaqat Ali/Documents/ChiGaNet/NewHandPDImgs/HealthyMeander/HealthyMeander\\\\mea4-H10.jpg', 'C:/Users/Liaqat Ali/Documents/ChiGaNet/NewHandPDImgs/HealthyMeander/HealthyMeander\\\\mea1-H11.jpg', 'C:/Users/Liaqat Ali/Documents/ChiGaNet/NewHandPDImgs/HealthyMeander/HealthyMeander\\\\mea2-H11.jpg', 'C:/Users/Liaqat Ali/Documents/ChiGaNet/NewHandPDImgs/HealthyMeander/HealthyMeander\\\\mea3-H11.jpg', 'C:/Users/Liaqat Ali/Documents/ChiGaNet/NewHandPDImgs/HealthyMeander/HealthyMeander\\\\mea4-H11.jpg', 'C:/Users/Liaqat Ali/Documents/ChiGaNet/NewHandPDImgs/HealthyMeander/HealthyMeander\\\\mea1-H12.jpg', 'C:/Users/Liaqat Ali/Documents/ChiGaNet/NewHandPDImgs/HealthyMeander/HealthyMeander\\\\mea2-H12.jpg', 'C:/Users/Liaqat Ali/Documents/ChiGaNet/NewHandPDImgs/HealthyMeander/HealthyMeander\\\\mea3-H12.jpg', 'C:/Users/Liaqat Ali/Documents/ChiGaNet/NewHandPDImgs/HealthyMeander/HealthyMeander\\\\mea4-H12.jpg', 'C:/Users/Liaqat Ali/Documents/ChiGaNet/NewHandPDImgs/HealthyMeander/HealthyMeander\\\\mea1-H13.jpg', 'C:/Users/Liaqat Ali/Documents/ChiGaNet/NewHandPDImgs/HealthyMeander/HealthyMeander\\\\mea2-H13.jpg', 'C:/Users/Liaqat Ali/Documents/ChiGaNet/NewHandPDImgs/HealthyMeander/HealthyMeander\\\\mea3-H13.jpg', 'C:/Users/Liaqat Ali/Documents/ChiGaNet/NewHandPDImgs/HealthyMeander/HealthyMeander\\\\mea4-H13.jpg', 'C:/Users/Liaqat Ali/Documents/ChiGaNet/NewHandPDImgs/HealthyMeander/HealthyMeander\\\\mea1-H14.jpg', 'C:/Users/Liaqat Ali/Documents/ChiGaNet/NewHandPDImgs/HealthyMeander/HealthyMeander\\\\mea2-H14.jpg', 'C:/Users/Liaqat Ali/Documents/ChiGaNet/NewHandPDImgs/HealthyMeander/HealthyMeander\\\\mea3-H14.jpg', 'C:/Users/Liaqat Ali/Documents/ChiGaNet/NewHandPDImgs/HealthyMeander/HealthyMeander\\\\mea4-H14.jpg', 'C:/Users/Liaqat Ali/Documents/ChiGaNet/NewHandPDImgs/HealthyMeander/HealthyMeander\\\\mea1-H16.jpg', 'C:/Users/Liaqat Ali/Documents/ChiGaNet/NewHandPDImgs/HealthyMeander/HealthyMeander\\\\mea2-H16.jpg', 'C:/Users/Liaqat Ali/Documents/ChiGaNet/NewHandPDImgs/HealthyMeander/HealthyMeander\\\\mea3-H16.jpg', 'C:/Users/Liaqat Ali/Documents/ChiGaNet/NewHandPDImgs/HealthyMeander/HealthyMeander\\\\mea4-H16.jpg', 'C:/Users/Liaqat Ali/Documents/ChiGaNet/NewHandPDImgs/HealthyMeander/HealthyMeander\\\\mea1-H17.jpg', 'C:/Users/Liaqat Ali/Documents/ChiGaNet/NewHandPDImgs/HealthyMeander/HealthyMeander\\\\mea2-H17.jpg', 'C:/Users/Liaqat Ali/Documents/ChiGaNet/NewHandPDImgs/HealthyMeander/HealthyMeander\\\\mea3-H17.jpg', 'C:/Users/Liaqat Ali/Documents/ChiGaNet/NewHandPDImgs/HealthyMeander/HealthyMeander\\\\mea4-H17.jpg', 'C:/Users/Liaqat Ali/Documents/ChiGaNet/NewHandPDImgs/HealthyMeander/HealthyMeander\\\\mea1-H18.jpg', 'C:/Users/Liaqat Ali/Documents/ChiGaNet/NewHandPDImgs/HealthyMeander/HealthyMeander\\\\mea2-H18.jpg', 'C:/Users/Liaqat Ali/Documents/ChiGaNet/NewHandPDImgs/HealthyMeander/HealthyMeander\\\\mea3-H18.jpg', 'C:/Users/Liaqat Ali/Documents/ChiGaNet/NewHandPDImgs/HealthyMeander/HealthyMeander\\\\mea4-H18.jpg', 'C:/Users/Liaqat Ali/Documents/ChiGaNet/NewHandPDImgs/HealthyMeander/HealthyMeander\\\\mea1-H19.jpg', 'C:/Users/Liaqat Ali/Documents/ChiGaNet/NewHandPDImgs/HealthyMeander/HealthyMeander\\\\mea2-H19.jpg', 'C:/Users/Liaqat Ali/Documents/ChiGaNet/NewHandPDImgs/HealthyMeander/HealthyMeander\\\\mea3-H19.jpg', 'C:/Users/Liaqat Ali/Documents/ChiGaNet/NewHandPDImgs/HealthyMeander/HealthyMeander\\\\mea4-H19.jpg', 'C:/Users/Liaqat Ali/Documents/ChiGaNet/NewHandPDImgs/HealthyMeander/HealthyMeander\\\\mea1-H20.jpg', 'C:/Users/Liaqat Ali/Documents/ChiGaNet/NewHandPDImgs/HealthyMeander/HealthyMeander\\\\mea2-H20.jpg', 'C:/Users/Liaqat Ali/Documents/ChiGaNet/NewHandPDImgs/HealthyMeander/HealthyMeander\\\\mea3-H20.jpg', 'C:/Users/Liaqat Ali/Documents/ChiGaNet/NewHandPDImgs/HealthyMeander/HealthyMeander\\\\mea4-H20.jpg', 'C:/Users/Liaqat Ali/Documents/ChiGaNet/NewHandPDImgs/HealthyMeander/HealthyMeander\\\\mea1-H21.jpg', 'C:/Users/Liaqat Ali/Documents/ChiGaNet/NewHandPDImgs/HealthyMeander/HealthyMeander\\\\mea2-H21.jpg', 'C:/Users/Liaqat Ali/Documents/ChiGaNet/NewHandPDImgs/HealthyMeander/HealthyMeander\\\\mea3-H21.jpg', 'C:/Users/Liaqat Ali/Documents/ChiGaNet/NewHandPDImgs/HealthyMeander/HealthyMeander\\\\mea4-H21.jpg', 'C:/Users/Liaqat Ali/Documents/ChiGaNet/NewHandPDImgs/HealthyMeander/HealthyMeander\\\\mea1-H22.jpg', 'C:/Users/Liaqat Ali/Documents/ChiGaNet/NewHandPDImgs/HealthyMeander/HealthyMeander\\\\mea2-H22.jpg', 'C:/Users/Liaqat Ali/Documents/ChiGaNet/NewHandPDImgs/HealthyMeander/HealthyMeander\\\\mea3-H22.jpg', 'C:/Users/Liaqat Ali/Documents/ChiGaNet/NewHandPDImgs/HealthyMeander/HealthyMeander\\\\mea4-H22.jpg', 'C:/Users/Liaqat Ali/Documents/ChiGaNet/NewHandPDImgs/HealthyMeander/HealthyMeander\\\\mea1-H23.jpg', 'C:/Users/Liaqat Ali/Documents/ChiGaNet/NewHandPDImgs/HealthyMeander/HealthyMeander\\\\mea2-H23.jpg', 'C:/Users/Liaqat Ali/Documents/ChiGaNet/NewHandPDImgs/HealthyMeander/HealthyMeander\\\\mea3-H23.jpg', 'C:/Users/Liaqat Ali/Documents/ChiGaNet/NewHandPDImgs/HealthyMeander/HealthyMeander\\\\mea4-H23.jpg', 'C:/Users/Liaqat Ali/Documents/ChiGaNet/NewHandPDImgs/HealthyMeander/HealthyMeander\\\\mea1-H24.jpg', 'C:/Users/Liaqat Ali/Documents/ChiGaNet/NewHandPDImgs/HealthyMeander/HealthyMeander\\\\mea2-H24.jpg', 'C:/Users/Liaqat Ali/Documents/ChiGaNet/NewHandPDImgs/HealthyMeander/HealthyMeander\\\\mea3-H24.jpg', 'C:/Users/Liaqat Ali/Documents/ChiGaNet/NewHandPDImgs/HealthyMeander/HealthyMeander\\\\mea4-H24.jpg', 'C:/Users/Liaqat Ali/Documents/ChiGaNet/NewHandPDImgs/HealthyMeander/HealthyMeander\\\\mea1-H26.jpg', 'C:/Users/Liaqat Ali/Documents/ChiGaNet/NewHandPDImgs/HealthyMeander/HealthyMeander\\\\mea2-H26.jpg', 'C:/Users/Liaqat Ali/Documents/ChiGaNet/NewHandPDImgs/HealthyMeander/HealthyMeander\\\\mea3-H26.jpg', 'C:/Users/Liaqat Ali/Documents/ChiGaNet/NewHandPDImgs/HealthyMeander/HealthyMeander\\\\mea4-H26.jpg', 'C:/Users/Liaqat Ali/Documents/ChiGaNet/NewHandPDImgs/HealthyMeander/HealthyMeander\\\\mea1-H27.jpg', 'C:/Users/Liaqat Ali/Documents/ChiGaNet/NewHandPDImgs/HealthyMeander/HealthyMeander\\\\mea2-H27.jpg', 'C:/Users/Liaqat Ali/Documents/ChiGaNet/NewHandPDImgs/HealthyMeander/HealthyMeander\\\\mea3-H27.jpg', 'C:/Users/Liaqat Ali/Documents/ChiGaNet/NewHandPDImgs/HealthyMeander/HealthyMeander\\\\mea4-H27.jpg', 'C:/Users/Liaqat Ali/Documents/ChiGaNet/NewHandPDImgs/HealthyMeander/HealthyMeander\\\\mea1-H28.jpg', 'C:/Users/Liaqat Ali/Documents/ChiGaNet/NewHandPDImgs/HealthyMeander/HealthyMeander\\\\mea2-H28.jpg', 'C:/Users/Liaqat Ali/Documents/ChiGaNet/NewHandPDImgs/HealthyMeander/HealthyMeander\\\\mea3-H28.jpg', 'C:/Users/Liaqat Ali/Documents/ChiGaNet/NewHandPDImgs/HealthyMeander/HealthyMeander\\\\mea4-H28.jpg', 'C:/Users/Liaqat Ali/Documents/ChiGaNet/NewHandPDImgs/HealthyMeander/HealthyMeander\\\\mea1-H29.jpg', 'C:/Users/Liaqat Ali/Documents/ChiGaNet/NewHandPDImgs/HealthyMeander/HealthyMeander\\\\mea2-H29.jpg', 'C:/Users/Liaqat Ali/Documents/ChiGaNet/NewHandPDImgs/HealthyMeander/HealthyMeander\\\\mea3-H29.jpg', 'C:/Users/Liaqat Ali/Documents/ChiGaNet/NewHandPDImgs/HealthyMeander/HealthyMeander\\\\mea4-H29.jpg', 'C:/Users/Liaqat Ali/Documents/ChiGaNet/NewHandPDImgs/HealthyMeander/HealthyMeander\\\\mea1-H30.jpg', 'C:/Users/Liaqat Ali/Documents/ChiGaNet/NewHandPDImgs/HealthyMeander/HealthyMeander\\\\mea2-H30.jpg', 'C:/Users/Liaqat Ali/Documents/ChiGaNet/NewHandPDImgs/HealthyMeander/HealthyMeander\\\\mea3-H30.jpg', 'C:/Users/Liaqat Ali/Documents/ChiGaNet/NewHandPDImgs/HealthyMeander/HealthyMeander\\\\mea4-H30.jpg', 'C:/Users/Liaqat Ali/Documents/ChiGaNet/NewHandPDImgs/HealthyMeander/HealthyMeander\\\\mea1-H31.jpg', 'C:/Users/Liaqat Ali/Documents/ChiGaNet/NewHandPDImgs/HealthyMeander/HealthyMeander\\\\mea2-H31.jpg', 'C:/Users/Liaqat Ali/Documents/ChiGaNet/NewHandPDImgs/HealthyMeander/HealthyMeander\\\\mea3-H31.jpg', 'C:/Users/Liaqat Ali/Documents/ChiGaNet/NewHandPDImgs/HealthyMeander/HealthyMeander\\\\mea4-H31.jpg', 'C:/Users/Liaqat Ali/Documents/ChiGaNet/NewHandPDImgs/HealthyMeander/HealthyMeander\\\\mea1-H32.jpg', 'C:/Users/Liaqat Ali/Documents/ChiGaNet/NewHandPDImgs/HealthyMeander/HealthyMeander\\\\mea2-H32.jpg', 'C:/Users/Liaqat Ali/Documents/ChiGaNet/NewHandPDImgs/HealthyMeander/HealthyMeander\\\\mea3-H32.jpg', 'C:/Users/Liaqat Ali/Documents/ChiGaNet/NewHandPDImgs/HealthyMeander/HealthyMeander\\\\mea4-H32.jpg', 'C:/Users/Liaqat Ali/Documents/ChiGaNet/NewHandPDImgs/HealthyMeander/HealthyMeander\\\\mea1-H33.jpg', 'C:/Users/Liaqat Ali/Documents/ChiGaNet/NewHandPDImgs/HealthyMeander/HealthyMeander\\\\mea2-H33.jpg', 'C:/Users/Liaqat Ali/Documents/ChiGaNet/NewHandPDImgs/HealthyMeander/HealthyMeander\\\\mea3-H33.jpg', 'C:/Users/Liaqat Ali/Documents/ChiGaNet/NewHandPDImgs/HealthyMeander/HealthyMeander\\\\mea4-H33.jpg', 'C:/Users/Liaqat Ali/Documents/ChiGaNet/NewHandPDImgs/HealthyMeander/HealthyMeander\\\\mea1-H34.jpg', 'C:/Users/Liaqat Ali/Documents/ChiGaNet/NewHandPDImgs/HealthyMeander/HealthyMeander\\\\mea2-H34.jpg', 'C:/Users/Liaqat Ali/Documents/ChiGaNet/NewHandPDImgs/HealthyMeander/HealthyMeander\\\\mea3-H34.jpg', 'C:/Users/Liaqat Ali/Documents/ChiGaNet/NewHandPDImgs/HealthyMeander/HealthyMeander\\\\mea4-H34.jpg', 'C:/Users/Liaqat Ali/Documents/ChiGaNet/NewHandPDImgs/HealthyMeander/HealthyMeander\\\\mea1-H35.jpg', 'C:/Users/Liaqat Ali/Documents/ChiGaNet/NewHandPDImgs/HealthyMeander/HealthyMeander\\\\mea2-H35.jpg', 'C:/Users/Liaqat Ali/Documents/ChiGaNet/NewHandPDImgs/HealthyMeander/HealthyMeander\\\\mea3-H35.jpg', 'C:/Users/Liaqat Ali/Documents/ChiGaNet/NewHandPDImgs/HealthyMeander/HealthyMeander\\\\mea4-H35.jpg', 'C:/Users/Liaqat Ali/Documents/ChiGaNet/NewHandPDImgs/HealthyMeander/HealthyMeander\\\\mea1-H36.jpg', 'C:/Users/Liaqat Ali/Documents/ChiGaNet/NewHandPDImgs/HealthyMeander/HealthyMeander\\\\mea2-H36.jpg', 'C:/Users/Liaqat Ali/Documents/ChiGaNet/NewHandPDImgs/HealthyMeander/HealthyMeander\\\\mea3-H36.jpg', 'C:/Users/Liaqat Ali/Documents/ChiGaNet/NewHandPDImgs/HealthyMeander/HealthyMeander\\\\mea4-H36.jpg', 'C:/Users/Liaqat Ali/Documents/ChiGaNet/NewHandPDImgs/HealthyMeander/HealthyMeander\\\\mea1-H37.jpg', 'C:/Users/Liaqat Ali/Documents/ChiGaNet/NewHandPDImgs/HealthyMeander/HealthyMeander\\\\mea2-H37.jpg', 'C:/Users/Liaqat Ali/Documents/ChiGaNet/NewHandPDImgs/HealthyMeander/HealthyMeander\\\\mea3-H37.jpg', 'C:/Users/Liaqat Ali/Documents/ChiGaNet/NewHandPDImgs/HealthyMeander/HealthyMeander\\\\mea4-H37.jpg', 'C:/Users/Liaqat Ali/Documents/ChiGaNet/NewHandPDImgs/HealthyMeander/HealthyMeander\\\\mea1-H38.jpg', 'C:/Users/Liaqat Ali/Documents/ChiGaNet/NewHandPDImgs/HealthyMeander/HealthyMeander\\\\mea2-H38.jpg', 'C:/Users/Liaqat Ali/Documents/ChiGaNet/NewHandPDImgs/HealthyMeander/HealthyMeander\\\\mea3-H38.jpg', 'C:/Users/Liaqat Ali/Documents/ChiGaNet/NewHandPDImgs/HealthyMeander/HealthyMeander\\\\mea4-H38.jpg']\n"
     ]
    }
   ],
   "source": [
    "def custom_sort_key(path):\n",
    "    # Extract the filename from the path\n",
    "    filename = path.split('\\\\')[-1]  # Adjusted for Windows paths\n",
    "\n",
    "    # Use regex to extract the prefix and suffix numbers\n",
    "    match = re.match(r'mea(\\d+)-H(\\d+)\\.jpg$', filename)\n",
    "    \n",
    "    if match:\n",
    "        mea_number = int(match.group(1))  # Extract number after 'mea'\n",
    "        h_number = int(match.group(2))    # Extract number after 'H'\n",
    "        return (h_number, mea_number)\n",
    "    else:\n",
    "        # Return a high default value or handle non-matching cases\n",
    "        return (float('inf'), float('inf'))\n",
    "\n",
    "# Filter out non-image files if necessary\n",
    "X_H_All_filtered = [path for path in X_H_All if path.endswith('.jpg')]\n",
    "\n",
    "# Sort the list using the custom key\n",
    "X_H_All_sorted = sorted(X_H_All_filtered, key=custom_sort_key)\n",
    "\n",
    "print(X_H_All_sorted)"
   ]
  },
  {
   "cell_type": "code",
   "execution_count": 9,
   "metadata": {
    "colab": {
     "base_uri": "https://localhost:8080/"
    },
    "executionInfo": {
     "elapsed": 1922,
     "status": "ok",
     "timestamp": 1723310664576,
     "user": {
      "displayName": "Liaqat Ali",
      "userId": "05679016512873117773"
     },
     "user_tz": -300
    },
    "id": "Xd4scRLsKGOW",
    "outputId": "8a74f9b4-108d-45f1-955f-be8a2f960aa5"
   },
   "outputs": [
    {
     "name": "stdout",
     "output_type": "stream",
     "text": [
      "[INFO] loading network...\n"
     ]
    }
   ],
   "source": [
    "# load the VGG16 network\n",
    "print(\"[INFO] loading network...\")\n",
    "\n",
    "# chop the top dense layers, include_top=False\n",
    "model = VGG16(weights=\"imagenet\", include_top=False)\n",
    "#model.summary()"
   ]
  },
  {
   "cell_type": "code",
   "execution_count": 10,
   "metadata": {
    "executionInfo": {
     "elapsed": 5,
     "status": "ok",
     "timestamp": 1723310664577,
     "user": {
      "displayName": "Liaqat Ali",
      "userId": "05679016512873117773"
     },
     "user_tz": -300
    },
    "id": "t43y5qNNKI5D"
   },
   "outputs": [],
   "source": [
    "def create_features(dataset, pre_model):\n",
    "\n",
    "    x_scratch = []\n",
    "\n",
    "    # loop over the images\n",
    "    for imagePath in dataset:\n",
    "\n",
    "        # load the input image and image is resized to 224x224 pixels\n",
    "        image = load_img(imagePath, target_size=(224, 224))\n",
    "        image = img_to_array(image)\n",
    "\n",
    "        # preprocess the image by (1) expanding the dimensions and\n",
    "        # (2) subtracting the mean RGB pixel intensity from the\n",
    "        # ImageNet dataset\n",
    "        image = np.expand_dims(image, axis=0)\n",
    "        image = imagenet_utils.preprocess_input(image)\n",
    "\n",
    "        # add the image to the batch\n",
    "        x_scratch.append(image)\n",
    "\n",
    "    x = np.vstack(x_scratch)\n",
    "    features = pre_model.predict(x, batch_size=32)\n",
    "    features_flatten = features.reshape((features.shape[0], 7 * 7 * 512))\n",
    "    return x, features, features_flatten"
   ]
  },
  {
   "cell_type": "code",
   "execution_count": 11,
   "metadata": {
    "colab": {
     "base_uri": "https://localhost:8080/"
    },
    "executionInfo": {
     "elapsed": 145064,
     "status": "ok",
     "timestamp": 1723310809638,
     "user": {
      "displayName": "Liaqat Ali",
      "userId": "05679016512873117773"
     },
     "user_tz": -300
    },
    "id": "eNvzpOWiKMyO",
    "outputId": "0e807f23-1adb-487c-98e5-54030837fa23"
   },
   "outputs": [
    {
     "name": "stdout",
     "output_type": "stream",
     "text": [
      "\u001b[1m5/5\u001b[0m \u001b[32m━━━━━━━━━━━━━━━━━━━━\u001b[0m\u001b[37m\u001b[0m \u001b[1m28s\u001b[0m 5s/step\n",
      "(140, 224, 224, 3)\n",
      "(140, 7, 7, 512)\n",
      "(140, 25088)\n"
     ]
    }
   ],
   "source": [
    "H_x_all, H_features_all, H_features_flatten_all = create_features(X_H_All_sorted, model)\n",
    "print(H_x_all.shape)\n",
    "print(H_features_all.shape)\n",
    "print(H_features_flatten_all.shape)"
   ]
  },
  {
   "cell_type": "code",
   "execution_count": 12,
   "metadata": {
    "colab": {
     "base_uri": "https://localhost:8080/"
    },
    "executionInfo": {
     "elapsed": 115983,
     "status": "ok",
     "timestamp": 1723310925617,
     "user": {
      "displayName": "Liaqat Ali",
      "userId": "05679016512873117773"
     },
     "user_tz": -300
    },
    "id": "Q8kquWdSKQPS",
    "outputId": "1c6326c7-ca35-433d-c031-f15348fdcdaf"
   },
   "outputs": [
    {
     "name": "stdout",
     "output_type": "stream",
     "text": [
      "\u001b[1m4/4\u001b[0m \u001b[32m━━━━━━━━━━━━━━━━━━━━\u001b[0m\u001b[37m\u001b[0m \u001b[1m24s\u001b[0m 6s/step\n",
      "(124, 224, 224, 3)\n",
      "(124, 7, 7, 512)\n",
      "(124, 25088)\n"
     ]
    }
   ],
   "source": [
    "PD_x_all, PD_features_all, PD_features_flatten_all = create_features(X_PD_All_sorted, model)\n",
    "print(PD_x_all.shape)\n",
    "print(PD_features_all.shape)\n",
    "print(PD_features_flatten_all.shape)"
   ]
  },
  {
   "cell_type": "code",
   "execution_count": 13,
   "metadata": {
    "colab": {
     "base_uri": "https://localhost:8080/"
    },
    "executionInfo": {
     "elapsed": 14,
     "status": "ok",
     "timestamp": 1723310925618,
     "user": {
      "displayName": "Liaqat Ali",
      "userId": "05679016512873117773"
     },
     "user_tz": -300
    },
    "id": "Y8HEwlbzKTbW",
    "outputId": "27b38084-40fa-468a-d28f-397d554a5b47"
   },
   "outputs": [
    {
     "name": "stdout",
     "output_type": "stream",
     "text": [
      "(124, 25088)\n",
      "(140, 25088)\n",
      "(124,)\n",
      "(140,)\n"
     ]
    }
   ],
   "source": [
    "X_H_all = H_features_flatten_all\n",
    "X_PD_all = PD_features_flatten_all\n",
    "\n",
    "print(X_PD_all.shape)\n",
    "print(X_H_all.shape)\n",
    "\n",
    "Y_PD_all = np.ones(124)\n",
    "Y_H_all = np.zeros(140)\n",
    "print(Y_PD_all.shape)\n",
    "print(Y_H_all.shape)"
   ]
  },
  {
   "cell_type": "code",
   "execution_count": 14,
   "metadata": {
    "colab": {
     "base_uri": "https://localhost:8080/"
    },
    "executionInfo": {
     "elapsed": 10,
     "status": "ok",
     "timestamp": 1723310925618,
     "user": {
      "displayName": "Liaqat Ali",
      "userId": "05679016512873117773"
     },
     "user_tz": -300
    },
    "id": "WkaTJazqKW6t",
    "outputId": "bc63168c-b1ad-414d-b4cd-a95fa9bd12fa"
   },
   "outputs": [
    {
     "name": "stdout",
     "output_type": "stream",
     "text": [
      "(264,)\n",
      "(264, 25088)\n"
     ]
    }
   ],
   "source": [
    "Y_all = np.append(Y_PD_all, Y_H_all, axis=0)\n",
    "print(Y_all.shape)\n",
    "X_all = np.append(X_PD_all, X_H_all, axis=0)\n",
    "print(X_all.shape)"
   ]
  },
  {
   "cell_type": "code",
   "execution_count": 15,
   "metadata": {
    "colab": {
     "base_uri": "https://localhost:8080/"
    },
    "executionInfo": {
     "elapsed": 8,
     "status": "ok",
     "timestamp": 1723310925618,
     "user": {
      "displayName": "Liaqat Ali",
      "userId": "05679016512873117773"
     },
     "user_tz": -300
    },
    "id": "wnxIibhuRI1V",
    "outputId": "c2ff3d05-c861-42ff-f99f-d9773fb3d7ef"
   },
   "outputs": [
    {
     "name": "stdout",
     "output_type": "stream",
     "text": [
      "(264, 25088)\n",
      "(264,)\n"
     ]
    }
   ],
   "source": [
    "X_HandPD_New = X_all\n",
    "Y_HandPD_New = Y_all\n",
    "print(X_HandPD_New.shape)\n",
    "print(Y_HandPD_New.shape)"
   ]
  },
  {
   "cell_type": "code",
   "execution_count": 16,
   "metadata": {
    "colab": {
     "base_uri": "https://localhost:8080/"
    },
    "executionInfo": {
     "elapsed": 6,
     "status": "ok",
     "timestamp": 1723310925618,
     "user": {
      "displayName": "Liaqat Ali",
      "userId": "05679016512873117773"
     },
     "user_tz": -300
    },
    "id": "Wh4A8O8CQcmI",
    "outputId": "ce0383e7-e199-4c00-81e3-35a6d321674c"
   },
   "outputs": [
    {
     "name": "stdout",
     "output_type": "stream",
     "text": [
      "[1. 1. 1. 1. 1. 1. 1. 1. 1. 1. 1. 1. 1. 1. 1. 1. 1. 1. 1. 1. 1. 1. 1. 1.\n",
      " 1. 1. 1. 1. 1. 1. 1. 1. 1. 1. 1. 1. 1. 1. 1. 1. 1. 1. 1. 1. 1. 1. 1. 1.\n",
      " 1. 1. 1. 1. 1. 1. 1. 1. 1. 1. 1. 1. 1. 1. 1. 1. 1. 1. 1. 1. 1. 1. 1. 1.\n",
      " 1. 1. 1. 1. 1. 1. 1. 1. 1. 1. 1. 1. 1. 1. 1. 1. 1. 1. 1. 1. 1. 1. 1. 1.\n",
      " 1. 1. 1. 1. 1. 1. 1. 1. 1. 1. 1. 1. 1. 1. 1. 1. 1. 1. 1. 1. 1. 1. 1. 1.\n",
      " 1. 1. 1. 1. 0. 0. 0. 0. 0. 0. 0. 0. 0. 0. 0. 0. 0. 0. 0. 0. 0. 0. 0. 0.\n",
      " 0. 0. 0. 0. 0. 0. 0. 0. 0. 0. 0. 0. 0. 0. 0. 0. 0. 0. 0. 0. 0. 0. 0. 0.\n",
      " 0. 0. 0. 0. 0. 0. 0. 0. 0. 0. 0. 0. 0. 0. 0. 0. 0. 0. 0. 0. 0. 0. 0. 0.\n",
      " 0. 0. 0. 0. 0. 0. 0. 0. 0. 0. 0. 0. 0. 0. 0. 0. 0. 0. 0. 0. 0. 0. 0. 0.\n",
      " 0. 0. 0. 0. 0. 0. 0. 0. 0. 0. 0. 0. 0. 0. 0. 0. 0. 0. 0. 0. 0. 0. 0. 0.\n",
      " 0. 0. 0. 0. 0. 0. 0. 0. 0. 0. 0. 0. 0. 0. 0. 0. 0. 0. 0. 0. 0. 0. 0. 0.]\n"
     ]
    }
   ],
   "source": [
    "#Importaing Testing Data from HandPD\n",
    "print(Y_HandPD_New)"
   ]
  },
  {
   "cell_type": "code",
   "execution_count": 17,
   "metadata": {
    "executionInfo": {
     "elapsed": 3002,
     "status": "ok",
     "timestamp": 1723310928615,
     "user": {
      "displayName": "Liaqat Ali",
      "userId": "05679016512873117773"
     },
     "user_tz": -300
    },
    "id": "0W3EGrVhQlAL"
   },
   "outputs": [],
   "source": [
    "\n",
    "X_H_All = [os.path.join(\"C:/Users/Liaqat Ali/Documents/ChiGaNet/HandPDImgs/Meander_HandPD/MeanderControl\",img) for img in os.listdir(\"C:/Users/Liaqat Ali/Documents/ChiGaNet/HandPDImgs/Meander_HandPD/MeanderControl\")]\n",
    "X_PD_All = [os.path.join(\"C:/Users/Liaqat Ali/Documents/ChiGaNet/HandPDImgs/Meander_HandPD/MeanderPatients\",img) for img in os.listdir(\"C:/Users/Liaqat Ali/Documents/ChiGaNet/HandPDImgs/Meander_HandPD/MeanderPatients\")]"
   ]
  },
  {
   "cell_type": "code",
   "execution_count": 18,
   "metadata": {
    "colab": {
     "base_uri": "https://localhost:8080/"
    },
    "executionInfo": {
     "elapsed": 18,
     "status": "ok",
     "timestamp": 1723310928615,
     "user": {
      "displayName": "Liaqat Ali",
      "userId": "05679016512873117773"
     },
     "user_tz": -300
    },
    "id": "JPQCj4eJWlFo",
    "outputId": "99a89526-007e-47c3-9325-5fccf404b621"
   },
   "outputs": [
    {
     "name": "stdout",
     "output_type": "stream",
     "text": [
      "['C:/Users/Liaqat Ali/Documents/ChiGaNet/HandPDImgs/Meander_HandPD/MeanderPatients\\\\0002-5.jpg', 'C:/Users/Liaqat Ali/Documents/ChiGaNet/HandPDImgs/Meander_HandPD/MeanderPatients\\\\0002-6.jpg', 'C:/Users/Liaqat Ali/Documents/ChiGaNet/HandPDImgs/Meander_HandPD/MeanderPatients\\\\0002-7.jpg', 'C:/Users/Liaqat Ali/Documents/ChiGaNet/HandPDImgs/Meander_HandPD/MeanderPatients\\\\0002-8.jpg', 'C:/Users/Liaqat Ali/Documents/ChiGaNet/HandPDImgs/Meander_HandPD/MeanderPatients\\\\0003-5.jpg', 'C:/Users/Liaqat Ali/Documents/ChiGaNet/HandPDImgs/Meander_HandPD/MeanderPatients\\\\0003-6.jpg', 'C:/Users/Liaqat Ali/Documents/ChiGaNet/HandPDImgs/Meander_HandPD/MeanderPatients\\\\0003-7.jpg', 'C:/Users/Liaqat Ali/Documents/ChiGaNet/HandPDImgs/Meander_HandPD/MeanderPatients\\\\0003-8.jpg', 'C:/Users/Liaqat Ali/Documents/ChiGaNet/HandPDImgs/Meander_HandPD/MeanderPatients\\\\0004-5.jpg', 'C:/Users/Liaqat Ali/Documents/ChiGaNet/HandPDImgs/Meander_HandPD/MeanderPatients\\\\0004-6.jpg', 'C:/Users/Liaqat Ali/Documents/ChiGaNet/HandPDImgs/Meander_HandPD/MeanderPatients\\\\0004-7.jpg', 'C:/Users/Liaqat Ali/Documents/ChiGaNet/HandPDImgs/Meander_HandPD/MeanderPatients\\\\0004-8.jpg', 'C:/Users/Liaqat Ali/Documents/ChiGaNet/HandPDImgs/Meander_HandPD/MeanderPatients\\\\0005-5.jpg', 'C:/Users/Liaqat Ali/Documents/ChiGaNet/HandPDImgs/Meander_HandPD/MeanderPatients\\\\0005-6.jpg', 'C:/Users/Liaqat Ali/Documents/ChiGaNet/HandPDImgs/Meander_HandPD/MeanderPatients\\\\0005-7.jpg', 'C:/Users/Liaqat Ali/Documents/ChiGaNet/HandPDImgs/Meander_HandPD/MeanderPatients\\\\0005-8.jpg', 'C:/Users/Liaqat Ali/Documents/ChiGaNet/HandPDImgs/Meander_HandPD/MeanderPatients\\\\0009-5.jpg', 'C:/Users/Liaqat Ali/Documents/ChiGaNet/HandPDImgs/Meander_HandPD/MeanderPatients\\\\0009-6.jpg', 'C:/Users/Liaqat Ali/Documents/ChiGaNet/HandPDImgs/Meander_HandPD/MeanderPatients\\\\0009-7.jpg', 'C:/Users/Liaqat Ali/Documents/ChiGaNet/HandPDImgs/Meander_HandPD/MeanderPatients\\\\0009-8.jpg', 'C:/Users/Liaqat Ali/Documents/ChiGaNet/HandPDImgs/Meander_HandPD/MeanderPatients\\\\0010-5.jpg', 'C:/Users/Liaqat Ali/Documents/ChiGaNet/HandPDImgs/Meander_HandPD/MeanderPatients\\\\0010-6.jpg', 'C:/Users/Liaqat Ali/Documents/ChiGaNet/HandPDImgs/Meander_HandPD/MeanderPatients\\\\0010-7.jpg', 'C:/Users/Liaqat Ali/Documents/ChiGaNet/HandPDImgs/Meander_HandPD/MeanderPatients\\\\0010-8.jpg', 'C:/Users/Liaqat Ali/Documents/ChiGaNet/HandPDImgs/Meander_HandPD/MeanderPatients\\\\0016-5.jpg', 'C:/Users/Liaqat Ali/Documents/ChiGaNet/HandPDImgs/Meander_HandPD/MeanderPatients\\\\0016-6.jpg', 'C:/Users/Liaqat Ali/Documents/ChiGaNet/HandPDImgs/Meander_HandPD/MeanderPatients\\\\0016-7.jpg', 'C:/Users/Liaqat Ali/Documents/ChiGaNet/HandPDImgs/Meander_HandPD/MeanderPatients\\\\0016-8.jpg', 'C:/Users/Liaqat Ali/Documents/ChiGaNet/HandPDImgs/Meander_HandPD/MeanderPatients\\\\0023-5.jpg', 'C:/Users/Liaqat Ali/Documents/ChiGaNet/HandPDImgs/Meander_HandPD/MeanderPatients\\\\0023-6.jpg', 'C:/Users/Liaqat Ali/Documents/ChiGaNet/HandPDImgs/Meander_HandPD/MeanderPatients\\\\0023-7.jpg', 'C:/Users/Liaqat Ali/Documents/ChiGaNet/HandPDImgs/Meander_HandPD/MeanderPatients\\\\0023-8.jpg', 'C:/Users/Liaqat Ali/Documents/ChiGaNet/HandPDImgs/Meander_HandPD/MeanderPatients\\\\0024-5.jpg', 'C:/Users/Liaqat Ali/Documents/ChiGaNet/HandPDImgs/Meander_HandPD/MeanderPatients\\\\0024-6.jpg', 'C:/Users/Liaqat Ali/Documents/ChiGaNet/HandPDImgs/Meander_HandPD/MeanderPatients\\\\0024-7.jpg', 'C:/Users/Liaqat Ali/Documents/ChiGaNet/HandPDImgs/Meander_HandPD/MeanderPatients\\\\0024-8.jpg', 'C:/Users/Liaqat Ali/Documents/ChiGaNet/HandPDImgs/Meander_HandPD/MeanderPatients\\\\0030-5.jpg', 'C:/Users/Liaqat Ali/Documents/ChiGaNet/HandPDImgs/Meander_HandPD/MeanderPatients\\\\0030-6.jpg', 'C:/Users/Liaqat Ali/Documents/ChiGaNet/HandPDImgs/Meander_HandPD/MeanderPatients\\\\0030-7.jpg', 'C:/Users/Liaqat Ali/Documents/ChiGaNet/HandPDImgs/Meander_HandPD/MeanderPatients\\\\0030-8.jpg', 'C:/Users/Liaqat Ali/Documents/ChiGaNet/HandPDImgs/Meander_HandPD/MeanderPatients\\\\0031-5.jpg', 'C:/Users/Liaqat Ali/Documents/ChiGaNet/HandPDImgs/Meander_HandPD/MeanderPatients\\\\0031-6.jpg', 'C:/Users/Liaqat Ali/Documents/ChiGaNet/HandPDImgs/Meander_HandPD/MeanderPatients\\\\0031-7.jpg', 'C:/Users/Liaqat Ali/Documents/ChiGaNet/HandPDImgs/Meander_HandPD/MeanderPatients\\\\0031-8.jpg', 'C:/Users/Liaqat Ali/Documents/ChiGaNet/HandPDImgs/Meander_HandPD/MeanderPatients\\\\0037-5.jpg', 'C:/Users/Liaqat Ali/Documents/ChiGaNet/HandPDImgs/Meander_HandPD/MeanderPatients\\\\0037-6.jpg', 'C:/Users/Liaqat Ali/Documents/ChiGaNet/HandPDImgs/Meander_HandPD/MeanderPatients\\\\0037-7.jpg', 'C:/Users/Liaqat Ali/Documents/ChiGaNet/HandPDImgs/Meander_HandPD/MeanderPatients\\\\0037-8.jpg', 'C:/Users/Liaqat Ali/Documents/ChiGaNet/HandPDImgs/Meander_HandPD/MeanderPatients\\\\0038-5.jpg', 'C:/Users/Liaqat Ali/Documents/ChiGaNet/HandPDImgs/Meander_HandPD/MeanderPatients\\\\0038-6.jpg', 'C:/Users/Liaqat Ali/Documents/ChiGaNet/HandPDImgs/Meander_HandPD/MeanderPatients\\\\0038-7.jpg', 'C:/Users/Liaqat Ali/Documents/ChiGaNet/HandPDImgs/Meander_HandPD/MeanderPatients\\\\0038-8.jpg', 'C:/Users/Liaqat Ali/Documents/ChiGaNet/HandPDImgs/Meander_HandPD/MeanderPatients\\\\0044-5.jpg', 'C:/Users/Liaqat Ali/Documents/ChiGaNet/HandPDImgs/Meander_HandPD/MeanderPatients\\\\0044-6.jpg', 'C:/Users/Liaqat Ali/Documents/ChiGaNet/HandPDImgs/Meander_HandPD/MeanderPatients\\\\0044-7.jpg', 'C:/Users/Liaqat Ali/Documents/ChiGaNet/HandPDImgs/Meander_HandPD/MeanderPatients\\\\0044-8.jpg', 'C:/Users/Liaqat Ali/Documents/ChiGaNet/HandPDImgs/Meander_HandPD/MeanderPatients\\\\0045-5.jpg', 'C:/Users/Liaqat Ali/Documents/ChiGaNet/HandPDImgs/Meander_HandPD/MeanderPatients\\\\0045-6.jpg', 'C:/Users/Liaqat Ali/Documents/ChiGaNet/HandPDImgs/Meander_HandPD/MeanderPatients\\\\0045-7.jpg', 'C:/Users/Liaqat Ali/Documents/ChiGaNet/HandPDImgs/Meander_HandPD/MeanderPatients\\\\0045-8.jpg', 'C:/Users/Liaqat Ali/Documents/ChiGaNet/HandPDImgs/Meander_HandPD/MeanderPatients\\\\0046-5.jpg', 'C:/Users/Liaqat Ali/Documents/ChiGaNet/HandPDImgs/Meander_HandPD/MeanderPatients\\\\0046-6.jpg', 'C:/Users/Liaqat Ali/Documents/ChiGaNet/HandPDImgs/Meander_HandPD/MeanderPatients\\\\0046-7.jpg', 'C:/Users/Liaqat Ali/Documents/ChiGaNet/HandPDImgs/Meander_HandPD/MeanderPatients\\\\0046-8.jpg', 'C:/Users/Liaqat Ali/Documents/ChiGaNet/HandPDImgs/Meander_HandPD/MeanderPatients\\\\0051-5.jpg', 'C:/Users/Liaqat Ali/Documents/ChiGaNet/HandPDImgs/Meander_HandPD/MeanderPatients\\\\0051-6.jpg', 'C:/Users/Liaqat Ali/Documents/ChiGaNet/HandPDImgs/Meander_HandPD/MeanderPatients\\\\0051-7.jpg', 'C:/Users/Liaqat Ali/Documents/ChiGaNet/HandPDImgs/Meander_HandPD/MeanderPatients\\\\0051-8.jpg', 'C:/Users/Liaqat Ali/Documents/ChiGaNet/HandPDImgs/Meander_HandPD/MeanderPatients\\\\0052-5.jpg', 'C:/Users/Liaqat Ali/Documents/ChiGaNet/HandPDImgs/Meander_HandPD/MeanderPatients\\\\0052-6.jpg', 'C:/Users/Liaqat Ali/Documents/ChiGaNet/HandPDImgs/Meander_HandPD/MeanderPatients\\\\0052-7.jpg', 'C:/Users/Liaqat Ali/Documents/ChiGaNet/HandPDImgs/Meander_HandPD/MeanderPatients\\\\0052-8.jpg', 'C:/Users/Liaqat Ali/Documents/ChiGaNet/HandPDImgs/Meander_HandPD/MeanderPatients\\\\0053-5.jpg', 'C:/Users/Liaqat Ali/Documents/ChiGaNet/HandPDImgs/Meander_HandPD/MeanderPatients\\\\0053-6.jpg', 'C:/Users/Liaqat Ali/Documents/ChiGaNet/HandPDImgs/Meander_HandPD/MeanderPatients\\\\0053-7.jpg', 'C:/Users/Liaqat Ali/Documents/ChiGaNet/HandPDImgs/Meander_HandPD/MeanderPatients\\\\0053-8.jpg', 'C:/Users/Liaqat Ali/Documents/ChiGaNet/HandPDImgs/Meander_HandPD/MeanderPatients\\\\0054-5.jpg', 'C:/Users/Liaqat Ali/Documents/ChiGaNet/HandPDImgs/Meander_HandPD/MeanderPatients\\\\0054-6.jpg', 'C:/Users/Liaqat Ali/Documents/ChiGaNet/HandPDImgs/Meander_HandPD/MeanderPatients\\\\0054-7.jpg', 'C:/Users/Liaqat Ali/Documents/ChiGaNet/HandPDImgs/Meander_HandPD/MeanderPatients\\\\0054-8.jpg', 'C:/Users/Liaqat Ali/Documents/ChiGaNet/HandPDImgs/Meander_HandPD/MeanderPatients\\\\0134-5.jpg', 'C:/Users/Liaqat Ali/Documents/ChiGaNet/HandPDImgs/Meander_HandPD/MeanderPatients\\\\0134-6.jpg', 'C:/Users/Liaqat Ali/Documents/ChiGaNet/HandPDImgs/Meander_HandPD/MeanderPatients\\\\0134-7.jpg', 'C:/Users/Liaqat Ali/Documents/ChiGaNet/HandPDImgs/Meander_HandPD/MeanderPatients\\\\0134-8.jpg', 'C:/Users/Liaqat Ali/Documents/ChiGaNet/HandPDImgs/Meander_HandPD/MeanderPatients\\\\0136-5.jpg', 'C:/Users/Liaqat Ali/Documents/ChiGaNet/HandPDImgs/Meander_HandPD/MeanderPatients\\\\0136-6.jpg', 'C:/Users/Liaqat Ali/Documents/ChiGaNet/HandPDImgs/Meander_HandPD/MeanderPatients\\\\0136-7.jpg', 'C:/Users/Liaqat Ali/Documents/ChiGaNet/HandPDImgs/Meander_HandPD/MeanderPatients\\\\0136-8.jpg', 'C:/Users/Liaqat Ali/Documents/ChiGaNet/HandPDImgs/Meander_HandPD/MeanderPatients\\\\0138-5.jpg', 'C:/Users/Liaqat Ali/Documents/ChiGaNet/HandPDImgs/Meander_HandPD/MeanderPatients\\\\0138-6.jpg', 'C:/Users/Liaqat Ali/Documents/ChiGaNet/HandPDImgs/Meander_HandPD/MeanderPatients\\\\0138-7.jpg', 'C:/Users/Liaqat Ali/Documents/ChiGaNet/HandPDImgs/Meander_HandPD/MeanderPatients\\\\0138-8.jpg', 'C:/Users/Liaqat Ali/Documents/ChiGaNet/HandPDImgs/Meander_HandPD/MeanderPatients\\\\0139-5.jpg', 'C:/Users/Liaqat Ali/Documents/ChiGaNet/HandPDImgs/Meander_HandPD/MeanderPatients\\\\0139-6.jpg', 'C:/Users/Liaqat Ali/Documents/ChiGaNet/HandPDImgs/Meander_HandPD/MeanderPatients\\\\0139-7.jpg', 'C:/Users/Liaqat Ali/Documents/ChiGaNet/HandPDImgs/Meander_HandPD/MeanderPatients\\\\0139-8.jpg', 'C:/Users/Liaqat Ali/Documents/ChiGaNet/HandPDImgs/Meander_HandPD/MeanderPatients\\\\0143-5.jpg', 'C:/Users/Liaqat Ali/Documents/ChiGaNet/HandPDImgs/Meander_HandPD/MeanderPatients\\\\0143-6.jpg', 'C:/Users/Liaqat Ali/Documents/ChiGaNet/HandPDImgs/Meander_HandPD/MeanderPatients\\\\0143-7.jpg', 'C:/Users/Liaqat Ali/Documents/ChiGaNet/HandPDImgs/Meander_HandPD/MeanderPatients\\\\0143-8.jpg', 'C:/Users/Liaqat Ali/Documents/ChiGaNet/HandPDImgs/Meander_HandPD/MeanderPatients\\\\0148-5.jpg', 'C:/Users/Liaqat Ali/Documents/ChiGaNet/HandPDImgs/Meander_HandPD/MeanderPatients\\\\0148-6.jpg', 'C:/Users/Liaqat Ali/Documents/ChiGaNet/HandPDImgs/Meander_HandPD/MeanderPatients\\\\0148-7.jpg', 'C:/Users/Liaqat Ali/Documents/ChiGaNet/HandPDImgs/Meander_HandPD/MeanderPatients\\\\0148-8.jpg', 'C:/Users/Liaqat Ali/Documents/ChiGaNet/HandPDImgs/Meander_HandPD/MeanderPatients\\\\0149-5.jpg', 'C:/Users/Liaqat Ali/Documents/ChiGaNet/HandPDImgs/Meander_HandPD/MeanderPatients\\\\0149-6.jpg', 'C:/Users/Liaqat Ali/Documents/ChiGaNet/HandPDImgs/Meander_HandPD/MeanderPatients\\\\0149-7.jpg', 'C:/Users/Liaqat Ali/Documents/ChiGaNet/HandPDImgs/Meander_HandPD/MeanderPatients\\\\0149-8.jpg', 'C:/Users/Liaqat Ali/Documents/ChiGaNet/HandPDImgs/Meander_HandPD/MeanderPatients\\\\0153-5.jpg', 'C:/Users/Liaqat Ali/Documents/ChiGaNet/HandPDImgs/Meander_HandPD/MeanderPatients\\\\0153-6.jpg', 'C:/Users/Liaqat Ali/Documents/ChiGaNet/HandPDImgs/Meander_HandPD/MeanderPatients\\\\0153-7.jpg', 'C:/Users/Liaqat Ali/Documents/ChiGaNet/HandPDImgs/Meander_HandPD/MeanderPatients\\\\0153-8.jpg', 'C:/Users/Liaqat Ali/Documents/ChiGaNet/HandPDImgs/Meander_HandPD/MeanderPatients\\\\0157-5.jpg', 'C:/Users/Liaqat Ali/Documents/ChiGaNet/HandPDImgs/Meander_HandPD/MeanderPatients\\\\0157-6.jpg', 'C:/Users/Liaqat Ali/Documents/ChiGaNet/HandPDImgs/Meander_HandPD/MeanderPatients\\\\0157-7.jpg', 'C:/Users/Liaqat Ali/Documents/ChiGaNet/HandPDImgs/Meander_HandPD/MeanderPatients\\\\0157-8.jpg', 'C:/Users/Liaqat Ali/Documents/ChiGaNet/HandPDImgs/Meander_HandPD/MeanderPatients\\\\0161-5.jpg', 'C:/Users/Liaqat Ali/Documents/ChiGaNet/HandPDImgs/Meander_HandPD/MeanderPatients\\\\0161-6.jpg', 'C:/Users/Liaqat Ali/Documents/ChiGaNet/HandPDImgs/Meander_HandPD/MeanderPatients\\\\0161-7.jpg', 'C:/Users/Liaqat Ali/Documents/ChiGaNet/HandPDImgs/Meander_HandPD/MeanderPatients\\\\0161-8.jpg', 'C:/Users/Liaqat Ali/Documents/ChiGaNet/HandPDImgs/Meander_HandPD/MeanderPatients\\\\0165-5.jpg', 'C:/Users/Liaqat Ali/Documents/ChiGaNet/HandPDImgs/Meander_HandPD/MeanderPatients\\\\0165-6.jpg', 'C:/Users/Liaqat Ali/Documents/ChiGaNet/HandPDImgs/Meander_HandPD/MeanderPatients\\\\0165-7.jpg', 'C:/Users/Liaqat Ali/Documents/ChiGaNet/HandPDImgs/Meander_HandPD/MeanderPatients\\\\0165-8.jpg', 'C:/Users/Liaqat Ali/Documents/ChiGaNet/HandPDImgs/Meander_HandPD/MeanderPatients\\\\0166-5.jpg', 'C:/Users/Liaqat Ali/Documents/ChiGaNet/HandPDImgs/Meander_HandPD/MeanderPatients\\\\0166-6.jpg', 'C:/Users/Liaqat Ali/Documents/ChiGaNet/HandPDImgs/Meander_HandPD/MeanderPatients\\\\0166-7.jpg', 'C:/Users/Liaqat Ali/Documents/ChiGaNet/HandPDImgs/Meander_HandPD/MeanderPatients\\\\0166-8.jpg', 'C:/Users/Liaqat Ali/Documents/ChiGaNet/HandPDImgs/Meander_HandPD/MeanderPatients\\\\0170-5.jpg', 'C:/Users/Liaqat Ali/Documents/ChiGaNet/HandPDImgs/Meander_HandPD/MeanderPatients\\\\0170-6.jpg', 'C:/Users/Liaqat Ali/Documents/ChiGaNet/HandPDImgs/Meander_HandPD/MeanderPatients\\\\0170-7.jpg', 'C:/Users/Liaqat Ali/Documents/ChiGaNet/HandPDImgs/Meander_HandPD/MeanderPatients\\\\0170-8.jpg', 'C:/Users/Liaqat Ali/Documents/ChiGaNet/HandPDImgs/Meander_HandPD/MeanderPatients\\\\0174-5.jpg', 'C:/Users/Liaqat Ali/Documents/ChiGaNet/HandPDImgs/Meander_HandPD/MeanderPatients\\\\0174-6.jpg', 'C:/Users/Liaqat Ali/Documents/ChiGaNet/HandPDImgs/Meander_HandPD/MeanderPatients\\\\0174-7.jpg', 'C:/Users/Liaqat Ali/Documents/ChiGaNet/HandPDImgs/Meander_HandPD/MeanderPatients\\\\0174-8.jpg', 'C:/Users/Liaqat Ali/Documents/ChiGaNet/HandPDImgs/Meander_HandPD/MeanderPatients\\\\0176-5.jpg', 'C:/Users/Liaqat Ali/Documents/ChiGaNet/HandPDImgs/Meander_HandPD/MeanderPatients\\\\0176-6.jpg', 'C:/Users/Liaqat Ali/Documents/ChiGaNet/HandPDImgs/Meander_HandPD/MeanderPatients\\\\0176-7.jpg', 'C:/Users/Liaqat Ali/Documents/ChiGaNet/HandPDImgs/Meander_HandPD/MeanderPatients\\\\0176-8.jpg', 'C:/Users/Liaqat Ali/Documents/ChiGaNet/HandPDImgs/Meander_HandPD/MeanderPatients\\\\0177-5.jpg', 'C:/Users/Liaqat Ali/Documents/ChiGaNet/HandPDImgs/Meander_HandPD/MeanderPatients\\\\0177-6.jpg', 'C:/Users/Liaqat Ali/Documents/ChiGaNet/HandPDImgs/Meander_HandPD/MeanderPatients\\\\0177-7.jpg', 'C:/Users/Liaqat Ali/Documents/ChiGaNet/HandPDImgs/Meander_HandPD/MeanderPatients\\\\0177-8.jpg', 'C:/Users/Liaqat Ali/Documents/ChiGaNet/HandPDImgs/Meander_HandPD/MeanderPatients\\\\0181-5.jpg', 'C:/Users/Liaqat Ali/Documents/ChiGaNet/HandPDImgs/Meander_HandPD/MeanderPatients\\\\0181-6.jpg', 'C:/Users/Liaqat Ali/Documents/ChiGaNet/HandPDImgs/Meander_HandPD/MeanderPatients\\\\0181-7.jpg', 'C:/Users/Liaqat Ali/Documents/ChiGaNet/HandPDImgs/Meander_HandPD/MeanderPatients\\\\0181-8.jpg', 'C:/Users/Liaqat Ali/Documents/ChiGaNet/HandPDImgs/Meander_HandPD/MeanderPatients\\\\0182-5.jpg', 'C:/Users/Liaqat Ali/Documents/ChiGaNet/HandPDImgs/Meander_HandPD/MeanderPatients\\\\0182-6.jpg', 'C:/Users/Liaqat Ali/Documents/ChiGaNet/HandPDImgs/Meander_HandPD/MeanderPatients\\\\0182-7.jpg', 'C:/Users/Liaqat Ali/Documents/ChiGaNet/HandPDImgs/Meander_HandPD/MeanderPatients\\\\0182-8.jpg', 'C:/Users/Liaqat Ali/Documents/ChiGaNet/HandPDImgs/Meander_HandPD/MeanderPatients\\\\0186-5.jpg', 'C:/Users/Liaqat Ali/Documents/ChiGaNet/HandPDImgs/Meander_HandPD/MeanderPatients\\\\0186-6.jpg', 'C:/Users/Liaqat Ali/Documents/ChiGaNet/HandPDImgs/Meander_HandPD/MeanderPatients\\\\0186-7.jpg', 'C:/Users/Liaqat Ali/Documents/ChiGaNet/HandPDImgs/Meander_HandPD/MeanderPatients\\\\0186-8.jpg', 'C:/Users/Liaqat Ali/Documents/ChiGaNet/HandPDImgs/Meander_HandPD/MeanderPatients\\\\0187-5.jpg', 'C:/Users/Liaqat Ali/Documents/ChiGaNet/HandPDImgs/Meander_HandPD/MeanderPatients\\\\0187-6.jpg', 'C:/Users/Liaqat Ali/Documents/ChiGaNet/HandPDImgs/Meander_HandPD/MeanderPatients\\\\0187-7.jpg', 'C:/Users/Liaqat Ali/Documents/ChiGaNet/HandPDImgs/Meander_HandPD/MeanderPatients\\\\0187-8.jpg', 'C:/Users/Liaqat Ali/Documents/ChiGaNet/HandPDImgs/Meander_HandPD/MeanderPatients\\\\0188-5.jpg', 'C:/Users/Liaqat Ali/Documents/ChiGaNet/HandPDImgs/Meander_HandPD/MeanderPatients\\\\0188-6.jpg', 'C:/Users/Liaqat Ali/Documents/ChiGaNet/HandPDImgs/Meander_HandPD/MeanderPatients\\\\0188-7.jpg', 'C:/Users/Liaqat Ali/Documents/ChiGaNet/HandPDImgs/Meander_HandPD/MeanderPatients\\\\0188-8.jpg', 'C:/Users/Liaqat Ali/Documents/ChiGaNet/HandPDImgs/Meander_HandPD/MeanderPatients\\\\0192-5.jpg', 'C:/Users/Liaqat Ali/Documents/ChiGaNet/HandPDImgs/Meander_HandPD/MeanderPatients\\\\0192-6.jpg', 'C:/Users/Liaqat Ali/Documents/ChiGaNet/HandPDImgs/Meander_HandPD/MeanderPatients\\\\0192-7.jpg', 'C:/Users/Liaqat Ali/Documents/ChiGaNet/HandPDImgs/Meander_HandPD/MeanderPatients\\\\0192-8.jpg', 'C:/Users/Liaqat Ali/Documents/ChiGaNet/HandPDImgs/Meander_HandPD/MeanderPatients\\\\0196-5.jpg', 'C:/Users/Liaqat Ali/Documents/ChiGaNet/HandPDImgs/Meander_HandPD/MeanderPatients\\\\0196-6.jpg', 'C:/Users/Liaqat Ali/Documents/ChiGaNet/HandPDImgs/Meander_HandPD/MeanderPatients\\\\0196-7.jpg', 'C:/Users/Liaqat Ali/Documents/ChiGaNet/HandPDImgs/Meander_HandPD/MeanderPatients\\\\0196-8.jpg', 'C:/Users/Liaqat Ali/Documents/ChiGaNet/HandPDImgs/Meander_HandPD/MeanderPatients\\\\0197-5.jpg', 'C:/Users/Liaqat Ali/Documents/ChiGaNet/HandPDImgs/Meander_HandPD/MeanderPatients\\\\0197-6.jpg', 'C:/Users/Liaqat Ali/Documents/ChiGaNet/HandPDImgs/Meander_HandPD/MeanderPatients\\\\0197-7.jpg', 'C:/Users/Liaqat Ali/Documents/ChiGaNet/HandPDImgs/Meander_HandPD/MeanderPatients\\\\0197-8.jpg', 'C:/Users/Liaqat Ali/Documents/ChiGaNet/HandPDImgs/Meander_HandPD/MeanderPatients\\\\0198-5.jpg', 'C:/Users/Liaqat Ali/Documents/ChiGaNet/HandPDImgs/Meander_HandPD/MeanderPatients\\\\0198-6.jpg', 'C:/Users/Liaqat Ali/Documents/ChiGaNet/HandPDImgs/Meander_HandPD/MeanderPatients\\\\0198-7.jpg', 'C:/Users/Liaqat Ali/Documents/ChiGaNet/HandPDImgs/Meander_HandPD/MeanderPatients\\\\0198-8.jpg', 'C:/Users/Liaqat Ali/Documents/ChiGaNet/HandPDImgs/Meander_HandPD/MeanderPatients\\\\0202-5.jpg', 'C:/Users/Liaqat Ali/Documents/ChiGaNet/HandPDImgs/Meander_HandPD/MeanderPatients\\\\0202-6.jpg', 'C:/Users/Liaqat Ali/Documents/ChiGaNet/HandPDImgs/Meander_HandPD/MeanderPatients\\\\0202-7.jpg', 'C:/Users/Liaqat Ali/Documents/ChiGaNet/HandPDImgs/Meander_HandPD/MeanderPatients\\\\0202-8.jpg', 'C:/Users/Liaqat Ali/Documents/ChiGaNet/HandPDImgs/Meander_HandPD/MeanderPatients\\\\0203-5.jpg', 'C:/Users/Liaqat Ali/Documents/ChiGaNet/HandPDImgs/Meander_HandPD/MeanderPatients\\\\0203-6.jpg', 'C:/Users/Liaqat Ali/Documents/ChiGaNet/HandPDImgs/Meander_HandPD/MeanderPatients\\\\0203-7.jpg', 'C:/Users/Liaqat Ali/Documents/ChiGaNet/HandPDImgs/Meander_HandPD/MeanderPatients\\\\0203-8.jpg', 'C:/Users/Liaqat Ali/Documents/ChiGaNet/HandPDImgs/Meander_HandPD/MeanderPatients\\\\0207-5.jpg', 'C:/Users/Liaqat Ali/Documents/ChiGaNet/HandPDImgs/Meander_HandPD/MeanderPatients\\\\0207-6.jpg', 'C:/Users/Liaqat Ali/Documents/ChiGaNet/HandPDImgs/Meander_HandPD/MeanderPatients\\\\0207-7.jpg', 'C:/Users/Liaqat Ali/Documents/ChiGaNet/HandPDImgs/Meander_HandPD/MeanderPatients\\\\0207-8.jpg', 'C:/Users/Liaqat Ali/Documents/ChiGaNet/HandPDImgs/Meander_HandPD/MeanderPatients\\\\0208-5.jpg', 'C:/Users/Liaqat Ali/Documents/ChiGaNet/HandPDImgs/Meander_HandPD/MeanderPatients\\\\0208-6.jpg', 'C:/Users/Liaqat Ali/Documents/ChiGaNet/HandPDImgs/Meander_HandPD/MeanderPatients\\\\0208-7.jpg', 'C:/Users/Liaqat Ali/Documents/ChiGaNet/HandPDImgs/Meander_HandPD/MeanderPatients\\\\0208-8.jpg', 'C:/Users/Liaqat Ali/Documents/ChiGaNet/HandPDImgs/Meander_HandPD/MeanderPatients\\\\0213-5.jpg', 'C:/Users/Liaqat Ali/Documents/ChiGaNet/HandPDImgs/Meander_HandPD/MeanderPatients\\\\0213-6.jpg', 'C:/Users/Liaqat Ali/Documents/ChiGaNet/HandPDImgs/Meander_HandPD/MeanderPatients\\\\0213-7.jpg', 'C:/Users/Liaqat Ali/Documents/ChiGaNet/HandPDImgs/Meander_HandPD/MeanderPatients\\\\0213-8.jpg', 'C:/Users/Liaqat Ali/Documents/ChiGaNet/HandPDImgs/Meander_HandPD/MeanderPatients\\\\0214-5.jpg', 'C:/Users/Liaqat Ali/Documents/ChiGaNet/HandPDImgs/Meander_HandPD/MeanderPatients\\\\0214-6.jpg', 'C:/Users/Liaqat Ali/Documents/ChiGaNet/HandPDImgs/Meander_HandPD/MeanderPatients\\\\0214-7.jpg', 'C:/Users/Liaqat Ali/Documents/ChiGaNet/HandPDImgs/Meander_HandPD/MeanderPatients\\\\0214-8.jpg', 'C:/Users/Liaqat Ali/Documents/ChiGaNet/HandPDImgs/Meander_HandPD/MeanderPatients\\\\0218-5.jpg', 'C:/Users/Liaqat Ali/Documents/ChiGaNet/HandPDImgs/Meander_HandPD/MeanderPatients\\\\0218-6.jpg', 'C:/Users/Liaqat Ali/Documents/ChiGaNet/HandPDImgs/Meander_HandPD/MeanderPatients\\\\0218-7.jpg', 'C:/Users/Liaqat Ali/Documents/ChiGaNet/HandPDImgs/Meander_HandPD/MeanderPatients\\\\0218-8.jpg', 'C:/Users/Liaqat Ali/Documents/ChiGaNet/HandPDImgs/Meander_HandPD/MeanderPatients\\\\0219-5.jpg', 'C:/Users/Liaqat Ali/Documents/ChiGaNet/HandPDImgs/Meander_HandPD/MeanderPatients\\\\0219-6.jpg', 'C:/Users/Liaqat Ali/Documents/ChiGaNet/HandPDImgs/Meander_HandPD/MeanderPatients\\\\0219-7.jpg', 'C:/Users/Liaqat Ali/Documents/ChiGaNet/HandPDImgs/Meander_HandPD/MeanderPatients\\\\0219-8.jpg', 'C:/Users/Liaqat Ali/Documents/ChiGaNet/HandPDImgs/Meander_HandPD/MeanderPatients\\\\0223-5.jpg', 'C:/Users/Liaqat Ali/Documents/ChiGaNet/HandPDImgs/Meander_HandPD/MeanderPatients\\\\0223-6.jpg', 'C:/Users/Liaqat Ali/Documents/ChiGaNet/HandPDImgs/Meander_HandPD/MeanderPatients\\\\0223-7.jpg', 'C:/Users/Liaqat Ali/Documents/ChiGaNet/HandPDImgs/Meander_HandPD/MeanderPatients\\\\0223-8.jpg', 'C:/Users/Liaqat Ali/Documents/ChiGaNet/HandPDImgs/Meander_HandPD/MeanderPatients\\\\0228-5.jpg', 'C:/Users/Liaqat Ali/Documents/ChiGaNet/HandPDImgs/Meander_HandPD/MeanderPatients\\\\0228-6.jpg', 'C:/Users/Liaqat Ali/Documents/ChiGaNet/HandPDImgs/Meander_HandPD/MeanderPatients\\\\0228-7.jpg', 'C:/Users/Liaqat Ali/Documents/ChiGaNet/HandPDImgs/Meander_HandPD/MeanderPatients\\\\0228-8.jpg', 'C:/Users/Liaqat Ali/Documents/ChiGaNet/HandPDImgs/Meander_HandPD/MeanderPatients\\\\0229-5.jpg', 'C:/Users/Liaqat Ali/Documents/ChiGaNet/HandPDImgs/Meander_HandPD/MeanderPatients\\\\0229-6.jpg', 'C:/Users/Liaqat Ali/Documents/ChiGaNet/HandPDImgs/Meander_HandPD/MeanderPatients\\\\0229-7.jpg', 'C:/Users/Liaqat Ali/Documents/ChiGaNet/HandPDImgs/Meander_HandPD/MeanderPatients\\\\0229-8.jpg', 'C:/Users/Liaqat Ali/Documents/ChiGaNet/HandPDImgs/Meander_HandPD/MeanderPatients\\\\0230-5.jpg', 'C:/Users/Liaqat Ali/Documents/ChiGaNet/HandPDImgs/Meander_HandPD/MeanderPatients\\\\0230-6.jpg', 'C:/Users/Liaqat Ali/Documents/ChiGaNet/HandPDImgs/Meander_HandPD/MeanderPatients\\\\0230-7.jpg', 'C:/Users/Liaqat Ali/Documents/ChiGaNet/HandPDImgs/Meander_HandPD/MeanderPatients\\\\0230-8.jpg', 'C:/Users/Liaqat Ali/Documents/ChiGaNet/HandPDImgs/Meander_HandPD/MeanderPatients\\\\0234-5.jpg', 'C:/Users/Liaqat Ali/Documents/ChiGaNet/HandPDImgs/Meander_HandPD/MeanderPatients\\\\0234-6.jpg', 'C:/Users/Liaqat Ali/Documents/ChiGaNet/HandPDImgs/Meander_HandPD/MeanderPatients\\\\0234-7.jpg', 'C:/Users/Liaqat Ali/Documents/ChiGaNet/HandPDImgs/Meander_HandPD/MeanderPatients\\\\0234-8.jpg', 'C:/Users/Liaqat Ali/Documents/ChiGaNet/HandPDImgs/Meander_HandPD/MeanderPatients\\\\0235-5.jpg', 'C:/Users/Liaqat Ali/Documents/ChiGaNet/HandPDImgs/Meander_HandPD/MeanderPatients\\\\0235-6.jpg', 'C:/Users/Liaqat Ali/Documents/ChiGaNet/HandPDImgs/Meander_HandPD/MeanderPatients\\\\0235-7.jpg', 'C:/Users/Liaqat Ali/Documents/ChiGaNet/HandPDImgs/Meander_HandPD/MeanderPatients\\\\0235-8.jpg', 'C:/Users/Liaqat Ali/Documents/ChiGaNet/HandPDImgs/Meander_HandPD/MeanderPatients\\\\0236-5.jpg', 'C:/Users/Liaqat Ali/Documents/ChiGaNet/HandPDImgs/Meander_HandPD/MeanderPatients\\\\0236-6.jpg', 'C:/Users/Liaqat Ali/Documents/ChiGaNet/HandPDImgs/Meander_HandPD/MeanderPatients\\\\0236-7.jpg', 'C:/Users/Liaqat Ali/Documents/ChiGaNet/HandPDImgs/Meander_HandPD/MeanderPatients\\\\0236-8.jpg', 'C:/Users/Liaqat Ali/Documents/ChiGaNet/HandPDImgs/Meander_HandPD/MeanderPatients\\\\0240-5.jpg', 'C:/Users/Liaqat Ali/Documents/ChiGaNet/HandPDImgs/Meander_HandPD/MeanderPatients\\\\0240-6.jpg', 'C:/Users/Liaqat Ali/Documents/ChiGaNet/HandPDImgs/Meander_HandPD/MeanderPatients\\\\0240-7.jpg', 'C:/Users/Liaqat Ali/Documents/ChiGaNet/HandPDImgs/Meander_HandPD/MeanderPatients\\\\0240-8.jpg', 'C:/Users/Liaqat Ali/Documents/ChiGaNet/HandPDImgs/Meander_HandPD/MeanderPatients\\\\0241-5.jpg', 'C:/Users/Liaqat Ali/Documents/ChiGaNet/HandPDImgs/Meander_HandPD/MeanderPatients\\\\0241-6.jpg', 'C:/Users/Liaqat Ali/Documents/ChiGaNet/HandPDImgs/Meander_HandPD/MeanderPatients\\\\0241-7.jpg', 'C:/Users/Liaqat Ali/Documents/ChiGaNet/HandPDImgs/Meander_HandPD/MeanderPatients\\\\0241-8.jpg', 'C:/Users/Liaqat Ali/Documents/ChiGaNet/HandPDImgs/Meander_HandPD/MeanderPatients\\\\0242-5.jpg', 'C:/Users/Liaqat Ali/Documents/ChiGaNet/HandPDImgs/Meander_HandPD/MeanderPatients\\\\0242-6.jpg', 'C:/Users/Liaqat Ali/Documents/ChiGaNet/HandPDImgs/Meander_HandPD/MeanderPatients\\\\0242-7.jpg', 'C:/Users/Liaqat Ali/Documents/ChiGaNet/HandPDImgs/Meander_HandPD/MeanderPatients\\\\0242-8.jpg', 'C:/Users/Liaqat Ali/Documents/ChiGaNet/HandPDImgs/Meander_HandPD/MeanderPatients\\\\0246-5.jpg', 'C:/Users/Liaqat Ali/Documents/ChiGaNet/HandPDImgs/Meander_HandPD/MeanderPatients\\\\0246-6.jpg', 'C:/Users/Liaqat Ali/Documents/ChiGaNet/HandPDImgs/Meander_HandPD/MeanderPatients\\\\0246-7.jpg', 'C:/Users/Liaqat Ali/Documents/ChiGaNet/HandPDImgs/Meander_HandPD/MeanderPatients\\\\0246-8.jpg', 'C:/Users/Liaqat Ali/Documents/ChiGaNet/HandPDImgs/Meander_HandPD/MeanderPatients\\\\0247-5.jpg', 'C:/Users/Liaqat Ali/Documents/ChiGaNet/HandPDImgs/Meander_HandPD/MeanderPatients\\\\0247-6.jpg', 'C:/Users/Liaqat Ali/Documents/ChiGaNet/HandPDImgs/Meander_HandPD/MeanderPatients\\\\0247-7.jpg', 'C:/Users/Liaqat Ali/Documents/ChiGaNet/HandPDImgs/Meander_HandPD/MeanderPatients\\\\0247-8.jpg', 'C:/Users/Liaqat Ali/Documents/ChiGaNet/HandPDImgs/Meander_HandPD/MeanderPatients\\\\0253-5.jpg', 'C:/Users/Liaqat Ali/Documents/ChiGaNet/HandPDImgs/Meander_HandPD/MeanderPatients\\\\0253-6.jpg', 'C:/Users/Liaqat Ali/Documents/ChiGaNet/HandPDImgs/Meander_HandPD/MeanderPatients\\\\0253-7.jpg', 'C:/Users/Liaqat Ali/Documents/ChiGaNet/HandPDImgs/Meander_HandPD/MeanderPatients\\\\0253-8.jpg', 'C:/Users/Liaqat Ali/Documents/ChiGaNet/HandPDImgs/Meander_HandPD/MeanderPatients\\\\0254-5.jpg', 'C:/Users/Liaqat Ali/Documents/ChiGaNet/HandPDImgs/Meander_HandPD/MeanderPatients\\\\0254-6.jpg', 'C:/Users/Liaqat Ali/Documents/ChiGaNet/HandPDImgs/Meander_HandPD/MeanderPatients\\\\0254-7.jpg', 'C:/Users/Liaqat Ali/Documents/ChiGaNet/HandPDImgs/Meander_HandPD/MeanderPatients\\\\0254-8.jpg', 'C:/Users/Liaqat Ali/Documents/ChiGaNet/HandPDImgs/Meander_HandPD/MeanderPatients\\\\0261-5.jpg', 'C:/Users/Liaqat Ali/Documents/ChiGaNet/HandPDImgs/Meander_HandPD/MeanderPatients\\\\0261-6.jpg', 'C:/Users/Liaqat Ali/Documents/ChiGaNet/HandPDImgs/Meander_HandPD/MeanderPatients\\\\0261-7.jpg', 'C:/Users/Liaqat Ali/Documents/ChiGaNet/HandPDImgs/Meander_HandPD/MeanderPatients\\\\0261-8.jpg', 'C:/Users/Liaqat Ali/Documents/ChiGaNet/HandPDImgs/Meander_HandPD/MeanderPatients\\\\0268-5.jpg', 'C:/Users/Liaqat Ali/Documents/ChiGaNet/HandPDImgs/Meander_HandPD/MeanderPatients\\\\0268-6.jpg', 'C:/Users/Liaqat Ali/Documents/ChiGaNet/HandPDImgs/Meander_HandPD/MeanderPatients\\\\0268-7.jpg', 'C:/Users/Liaqat Ali/Documents/ChiGaNet/HandPDImgs/Meander_HandPD/MeanderPatients\\\\0268-8.jpg', 'C:/Users/Liaqat Ali/Documents/ChiGaNet/HandPDImgs/Meander_HandPD/MeanderPatients\\\\0269-5.jpg', 'C:/Users/Liaqat Ali/Documents/ChiGaNet/HandPDImgs/Meander_HandPD/MeanderPatients\\\\0269-6.jpg', 'C:/Users/Liaqat Ali/Documents/ChiGaNet/HandPDImgs/Meander_HandPD/MeanderPatients\\\\0269-7.jpg', 'C:/Users/Liaqat Ali/Documents/ChiGaNet/HandPDImgs/Meander_HandPD/MeanderPatients\\\\0269-8.jpg', 'C:/Users/Liaqat Ali/Documents/ChiGaNet/HandPDImgs/Meander_HandPD/MeanderPatients\\\\0273-5.jpg', 'C:/Users/Liaqat Ali/Documents/ChiGaNet/HandPDImgs/Meander_HandPD/MeanderPatients\\\\0273-6.jpg', 'C:/Users/Liaqat Ali/Documents/ChiGaNet/HandPDImgs/Meander_HandPD/MeanderPatients\\\\0273-7.jpg', 'C:/Users/Liaqat Ali/Documents/ChiGaNet/HandPDImgs/Meander_HandPD/MeanderPatients\\\\0273-8.jpg', 'C:/Users/Liaqat Ali/Documents/ChiGaNet/HandPDImgs/Meander_HandPD/MeanderPatients\\\\0274-5.jpg', 'C:/Users/Liaqat Ali/Documents/ChiGaNet/HandPDImgs/Meander_HandPD/MeanderPatients\\\\0274-6.jpg', 'C:/Users/Liaqat Ali/Documents/ChiGaNet/HandPDImgs/Meander_HandPD/MeanderPatients\\\\0274-7.jpg', 'C:/Users/Liaqat Ali/Documents/ChiGaNet/HandPDImgs/Meander_HandPD/MeanderPatients\\\\0274-8.jpg', 'C:/Users/Liaqat Ali/Documents/ChiGaNet/HandPDImgs/Meander_HandPD/MeanderPatients\\\\0280-5.jpg', 'C:/Users/Liaqat Ali/Documents/ChiGaNet/HandPDImgs/Meander_HandPD/MeanderPatients\\\\0280-6.jpg', 'C:/Users/Liaqat Ali/Documents/ChiGaNet/HandPDImgs/Meander_HandPD/MeanderPatients\\\\0280-7.jpg', 'C:/Users/Liaqat Ali/Documents/ChiGaNet/HandPDImgs/Meander_HandPD/MeanderPatients\\\\0280-8.jpg', 'C:/Users/Liaqat Ali/Documents/ChiGaNet/HandPDImgs/Meander_HandPD/MeanderPatients\\\\0281-5.jpg', 'C:/Users/Liaqat Ali/Documents/ChiGaNet/HandPDImgs/Meander_HandPD/MeanderPatients\\\\0281-6.jpg', 'C:/Users/Liaqat Ali/Documents/ChiGaNet/HandPDImgs/Meander_HandPD/MeanderPatients\\\\0281-7.jpg', 'C:/Users/Liaqat Ali/Documents/ChiGaNet/HandPDImgs/Meander_HandPD/MeanderPatients\\\\0281-8.jpg']\n"
     ]
    }
   ],
   "source": [
    "import natsort\n",
    "print(natsort.natsorted(X_PD_All,reverse=False))\n",
    "X_PD_All = natsort.natsorted(X_PD_All,reverse=False)"
   ]
  },
  {
   "cell_type": "code",
   "execution_count": 19,
   "metadata": {
    "colab": {
     "base_uri": "https://localhost:8080/"
    },
    "executionInfo": {
     "elapsed": 16,
     "status": "ok",
     "timestamp": 1723310928615,
     "user": {
      "displayName": "Liaqat Ali",
      "userId": "05679016512873117773"
     },
     "user_tz": -300
    },
    "id": "A6iICI8BWo8Y",
    "outputId": "fa03b417-6276-47a9-e583-a777071e382c"
   },
   "outputs": [
    {
     "name": "stdout",
     "output_type": "stream",
     "text": [
      "['C:/Users/Liaqat Ali/Documents/ChiGaNet/HandPDImgs/Meander_HandPD/MeanderControl\\\\0068-5.jpg', 'C:/Users/Liaqat Ali/Documents/ChiGaNet/HandPDImgs/Meander_HandPD/MeanderControl\\\\0068-6.jpg', 'C:/Users/Liaqat Ali/Documents/ChiGaNet/HandPDImgs/Meander_HandPD/MeanderControl\\\\0068-7.jpg', 'C:/Users/Liaqat Ali/Documents/ChiGaNet/HandPDImgs/Meander_HandPD/MeanderControl\\\\0068-8.jpg', 'C:/Users/Liaqat Ali/Documents/ChiGaNet/HandPDImgs/Meander_HandPD/MeanderControl\\\\0092-5.jpg', 'C:/Users/Liaqat Ali/Documents/ChiGaNet/HandPDImgs/Meander_HandPD/MeanderControl\\\\0092-6.jpg', 'C:/Users/Liaqat Ali/Documents/ChiGaNet/HandPDImgs/Meander_HandPD/MeanderControl\\\\0092-7.jpg', 'C:/Users/Liaqat Ali/Documents/ChiGaNet/HandPDImgs/Meander_HandPD/MeanderControl\\\\0092-8.jpg', 'C:/Users/Liaqat Ali/Documents/ChiGaNet/HandPDImgs/Meander_HandPD/MeanderControl\\\\0098-5.jpg', 'C:/Users/Liaqat Ali/Documents/ChiGaNet/HandPDImgs/Meander_HandPD/MeanderControl\\\\0098-6.jpg', 'C:/Users/Liaqat Ali/Documents/ChiGaNet/HandPDImgs/Meander_HandPD/MeanderControl\\\\0098-7.jpg', 'C:/Users/Liaqat Ali/Documents/ChiGaNet/HandPDImgs/Meander_HandPD/MeanderControl\\\\0098-8.jpg', 'C:/Users/Liaqat Ali/Documents/ChiGaNet/HandPDImgs/Meander_HandPD/MeanderControl\\\\0100-5.jpg', 'C:/Users/Liaqat Ali/Documents/ChiGaNet/HandPDImgs/Meander_HandPD/MeanderControl\\\\0100-6.jpg', 'C:/Users/Liaqat Ali/Documents/ChiGaNet/HandPDImgs/Meander_HandPD/MeanderControl\\\\0100-7.jpg', 'C:/Users/Liaqat Ali/Documents/ChiGaNet/HandPDImgs/Meander_HandPD/MeanderControl\\\\0100-8.jpg', 'C:/Users/Liaqat Ali/Documents/ChiGaNet/HandPDImgs/Meander_HandPD/MeanderControl\\\\0102-5.jpg', 'C:/Users/Liaqat Ali/Documents/ChiGaNet/HandPDImgs/Meander_HandPD/MeanderControl\\\\0102-6.jpg', 'C:/Users/Liaqat Ali/Documents/ChiGaNet/HandPDImgs/Meander_HandPD/MeanderControl\\\\0102-7.jpg', 'C:/Users/Liaqat Ali/Documents/ChiGaNet/HandPDImgs/Meander_HandPD/MeanderControl\\\\0102-8.jpg', 'C:/Users/Liaqat Ali/Documents/ChiGaNet/HandPDImgs/Meander_HandPD/MeanderControl\\\\0104-5.jpg', 'C:/Users/Liaqat Ali/Documents/ChiGaNet/HandPDImgs/Meander_HandPD/MeanderControl\\\\0104-6.jpg', 'C:/Users/Liaqat Ali/Documents/ChiGaNet/HandPDImgs/Meander_HandPD/MeanderControl\\\\0104-7.jpg', 'C:/Users/Liaqat Ali/Documents/ChiGaNet/HandPDImgs/Meander_HandPD/MeanderControl\\\\0104-8.jpg', 'C:/Users/Liaqat Ali/Documents/ChiGaNet/HandPDImgs/Meander_HandPD/MeanderControl\\\\0106-5.jpg', 'C:/Users/Liaqat Ali/Documents/ChiGaNet/HandPDImgs/Meander_HandPD/MeanderControl\\\\0106-6.jpg', 'C:/Users/Liaqat Ali/Documents/ChiGaNet/HandPDImgs/Meander_HandPD/MeanderControl\\\\0106-7.jpg', 'C:/Users/Liaqat Ali/Documents/ChiGaNet/HandPDImgs/Meander_HandPD/MeanderControl\\\\0106-8.jpg', 'C:/Users/Liaqat Ali/Documents/ChiGaNet/HandPDImgs/Meander_HandPD/MeanderControl\\\\0112-5.jpg', 'C:/Users/Liaqat Ali/Documents/ChiGaNet/HandPDImgs/Meander_HandPD/MeanderControl\\\\0112-6.jpg', 'C:/Users/Liaqat Ali/Documents/ChiGaNet/HandPDImgs/Meander_HandPD/MeanderControl\\\\0112-7.jpg', 'C:/Users/Liaqat Ali/Documents/ChiGaNet/HandPDImgs/Meander_HandPD/MeanderControl\\\\0112-8.jpg', 'C:/Users/Liaqat Ali/Documents/ChiGaNet/HandPDImgs/Meander_HandPD/MeanderControl\\\\0116-5.jpg', 'C:/Users/Liaqat Ali/Documents/ChiGaNet/HandPDImgs/Meander_HandPD/MeanderControl\\\\0116-6.jpg', 'C:/Users/Liaqat Ali/Documents/ChiGaNet/HandPDImgs/Meander_HandPD/MeanderControl\\\\0116-7.jpg', 'C:/Users/Liaqat Ali/Documents/ChiGaNet/HandPDImgs/Meander_HandPD/MeanderControl\\\\0116-8.jpg', 'C:/Users/Liaqat Ali/Documents/ChiGaNet/HandPDImgs/Meander_HandPD/MeanderControl\\\\0127-5.jpg', 'C:/Users/Liaqat Ali/Documents/ChiGaNet/HandPDImgs/Meander_HandPD/MeanderControl\\\\0127-6.jpg', 'C:/Users/Liaqat Ali/Documents/ChiGaNet/HandPDImgs/Meander_HandPD/MeanderControl\\\\0127-7.jpg', 'C:/Users/Liaqat Ali/Documents/ChiGaNet/HandPDImgs/Meander_HandPD/MeanderControl\\\\0127-8.jpg', 'C:/Users/Liaqat Ali/Documents/ChiGaNet/HandPDImgs/Meander_HandPD/MeanderControl\\\\0129-5.jpg', 'C:/Users/Liaqat Ali/Documents/ChiGaNet/HandPDImgs/Meander_HandPD/MeanderControl\\\\0129-6.jpg', 'C:/Users/Liaqat Ali/Documents/ChiGaNet/HandPDImgs/Meander_HandPD/MeanderControl\\\\0129-7.jpg', 'C:/Users/Liaqat Ali/Documents/ChiGaNet/HandPDImgs/Meander_HandPD/MeanderControl\\\\0129-8.jpg', 'C:/Users/Liaqat Ali/Documents/ChiGaNet/HandPDImgs/Meander_HandPD/MeanderControl\\\\0131-5.jpg', 'C:/Users/Liaqat Ali/Documents/ChiGaNet/HandPDImgs/Meander_HandPD/MeanderControl\\\\0131-6.jpg', 'C:/Users/Liaqat Ali/Documents/ChiGaNet/HandPDImgs/Meander_HandPD/MeanderControl\\\\0131-7.jpg', 'C:/Users/Liaqat Ali/Documents/ChiGaNet/HandPDImgs/Meander_HandPD/MeanderControl\\\\0131-8.jpg', 'C:/Users/Liaqat Ali/Documents/ChiGaNet/HandPDImgs/Meander_HandPD/MeanderControl\\\\0287-5.jpg', 'C:/Users/Liaqat Ali/Documents/ChiGaNet/HandPDImgs/Meander_HandPD/MeanderControl\\\\0287-6.jpg', 'C:/Users/Liaqat Ali/Documents/ChiGaNet/HandPDImgs/Meander_HandPD/MeanderControl\\\\0287-7.jpg', 'C:/Users/Liaqat Ali/Documents/ChiGaNet/HandPDImgs/Meander_HandPD/MeanderControl\\\\0287-8.jpg', 'C:/Users/Liaqat Ali/Documents/ChiGaNet/HandPDImgs/Meander_HandPD/MeanderControl\\\\0289-5.jpg', 'C:/Users/Liaqat Ali/Documents/ChiGaNet/HandPDImgs/Meander_HandPD/MeanderControl\\\\0289-6.jpg', 'C:/Users/Liaqat Ali/Documents/ChiGaNet/HandPDImgs/Meander_HandPD/MeanderControl\\\\0289-7.jpg', 'C:/Users/Liaqat Ali/Documents/ChiGaNet/HandPDImgs/Meander_HandPD/MeanderControl\\\\0289-8.jpg', 'C:/Users/Liaqat Ali/Documents/ChiGaNet/HandPDImgs/Meander_HandPD/MeanderControl\\\\0293-5.jpg', 'C:/Users/Liaqat Ali/Documents/ChiGaNet/HandPDImgs/Meander_HandPD/MeanderControl\\\\0293-6.jpg', 'C:/Users/Liaqat Ali/Documents/ChiGaNet/HandPDImgs/Meander_HandPD/MeanderControl\\\\0293-7.jpg', 'C:/Users/Liaqat Ali/Documents/ChiGaNet/HandPDImgs/Meander_HandPD/MeanderControl\\\\0293-8.jpg', 'C:/Users/Liaqat Ali/Documents/ChiGaNet/HandPDImgs/Meander_HandPD/MeanderControl\\\\0295-5.jpg', 'C:/Users/Liaqat Ali/Documents/ChiGaNet/HandPDImgs/Meander_HandPD/MeanderControl\\\\0295-6.jpg', 'C:/Users/Liaqat Ali/Documents/ChiGaNet/HandPDImgs/Meander_HandPD/MeanderControl\\\\0295-7.jpg', 'C:/Users/Liaqat Ali/Documents/ChiGaNet/HandPDImgs/Meander_HandPD/MeanderControl\\\\0295-8.jpg', 'C:/Users/Liaqat Ali/Documents/ChiGaNet/HandPDImgs/Meander_HandPD/MeanderControl\\\\0297-5.jpg', 'C:/Users/Liaqat Ali/Documents/ChiGaNet/HandPDImgs/Meander_HandPD/MeanderControl\\\\0297-6.jpg', 'C:/Users/Liaqat Ali/Documents/ChiGaNet/HandPDImgs/Meander_HandPD/MeanderControl\\\\0297-7.jpg', 'C:/Users/Liaqat Ali/Documents/ChiGaNet/HandPDImgs/Meander_HandPD/MeanderControl\\\\0297-8.jpg', 'C:/Users/Liaqat Ali/Documents/ChiGaNet/HandPDImgs/Meander_HandPD/MeanderControl\\\\0305-5.jpg', 'C:/Users/Liaqat Ali/Documents/ChiGaNet/HandPDImgs/Meander_HandPD/MeanderControl\\\\0305-6.jpg', 'C:/Users/Liaqat Ali/Documents/ChiGaNet/HandPDImgs/Meander_HandPD/MeanderControl\\\\0305-7.jpg', 'C:/Users/Liaqat Ali/Documents/ChiGaNet/HandPDImgs/Meander_HandPD/MeanderControl\\\\0305-8.jpg']\n"
     ]
    }
   ],
   "source": [
    "import natsort\n",
    "print(natsort.natsorted(X_H_All,reverse=False))\n",
    "X_H_All = natsort.natsorted(X_H_All,reverse=False)"
   ]
  },
  {
   "cell_type": "code",
   "execution_count": 20,
   "metadata": {
    "colab": {
     "base_uri": "https://localhost:8080/"
    },
    "executionInfo": {
     "elapsed": 7,
     "status": "ok",
     "timestamp": 1723310928615,
     "user": {
      "displayName": "Liaqat Ali",
      "userId": "05679016512873117773"
     },
     "user_tz": -300
    },
    "id": "vwCG2gZTWsge",
    "outputId": "d927f922-cf28-46ba-c9aa-54a85d489347"
   },
   "outputs": [
    {
     "name": "stdout",
     "output_type": "stream",
     "text": [
      "[INFO] loading network...\n"
     ]
    }
   ],
   "source": [
    "# load the VGG16 network\n",
    "print(\"[INFO] loading network...\")\n",
    "\n",
    "# chop the top dense layers, include_top=False\n",
    "model = VGG16(weights=\"imagenet\", include_top=False)\n",
    "#model.summary()"
   ]
  },
  {
   "cell_type": "code",
   "execution_count": 21,
   "metadata": {
    "colab": {
     "base_uri": "https://localhost:8080/"
    },
    "executionInfo": {
     "elapsed": 103534,
     "status": "ok",
     "timestamp": 1723311032145,
     "user": {
      "displayName": "Liaqat Ali",
      "userId": "05679016512873117773"
     },
     "user_tz": -300
    },
    "id": "aG9RBfDyWvz4",
    "outputId": "c16631a3-0c0c-4ddc-8445-2eae19cef23a"
   },
   "outputs": [
    {
     "name": "stdout",
     "output_type": "stream",
     "text": [
      "\u001b[1m3/3\u001b[0m \u001b[32m━━━━━━━━━━━━━━━━━━━━\u001b[0m\u001b[37m\u001b[0m \u001b[1m15s\u001b[0m 4s/step\n",
      "(72, 224, 224, 3)\n",
      "(72, 7, 7, 512)\n",
      "(72, 25088)\n"
     ]
    }
   ],
   "source": [
    "H_x_all, H_features_all, H_features_flatten_all = create_features(X_H_All, model)\n",
    "print(H_x_all.shape)\n",
    "print(H_features_all.shape)\n",
    "print(H_features_flatten_all.shape)"
   ]
  },
  {
   "cell_type": "code",
   "execution_count": 22,
   "metadata": {
    "colab": {
     "base_uri": "https://localhost:8080/"
    },
    "executionInfo": {
     "elapsed": 211805,
     "status": "ok",
     "timestamp": 1723311243928,
     "user": {
      "displayName": "Liaqat Ali",
      "userId": "05679016512873117773"
     },
     "user_tz": -300
    },
    "id": "xygMu56fW2aw",
    "outputId": "36544e39-b761-4948-dac0-f98ceb6fe01e"
   },
   "outputs": [
    {
     "name": "stdout",
     "output_type": "stream",
     "text": [
      "\u001b[1m10/10\u001b[0m \u001b[32m━━━━━━━━━━━━━━━━━━━━\u001b[0m\u001b[37m\u001b[0m \u001b[1m57s\u001b[0m 6s/step\n",
      "(296, 224, 224, 3)\n",
      "(296, 7, 7, 512)\n",
      "(296, 25088)\n"
     ]
    }
   ],
   "source": [
    "PD_x_all, PD_features_all, PD_features_flatten_all = create_features(X_PD_All, model)\n",
    "print(PD_x_all.shape)\n",
    "print(PD_features_all.shape)\n",
    "print(PD_features_flatten_all.shape)"
   ]
  },
  {
   "cell_type": "code",
   "execution_count": 23,
   "metadata": {
    "colab": {
     "base_uri": "https://localhost:8080/"
    },
    "executionInfo": {
     "elapsed": 7,
     "status": "ok",
     "timestamp": 1723311243928,
     "user": {
      "displayName": "Liaqat Ali",
      "userId": "05679016512873117773"
     },
     "user_tz": -300
    },
    "id": "mhQdxF6XYK9_",
    "outputId": "4c5e4da7-98b5-480c-cf25-646bfd8186a5"
   },
   "outputs": [
    {
     "name": "stdout",
     "output_type": "stream",
     "text": [
      "(296, 25088)\n",
      "(72, 25088)\n",
      "(296,)\n",
      "(72,)\n"
     ]
    }
   ],
   "source": [
    "X_H_all = H_features_flatten_all\n",
    "X_PD_all = PD_features_flatten_all\n",
    "\n",
    "print(X_PD_all.shape)\n",
    "print(X_H_all.shape)\n",
    "\n",
    "Y_PD_all = np.ones(296)\n",
    "Y_H_all = np.zeros(72)\n",
    "print(Y_PD_all.shape)\n",
    "print(Y_H_all.shape)"
   ]
  },
  {
   "cell_type": "code",
   "execution_count": 24,
   "metadata": {
    "colab": {
     "base_uri": "https://localhost:8080/"
    },
    "executionInfo": {
     "elapsed": 6,
     "status": "ok",
     "timestamp": 1723311243929,
     "user": {
      "displayName": "Liaqat Ali",
      "userId": "05679016512873117773"
     },
     "user_tz": -300
    },
    "id": "p-6JLWG5Ym9f",
    "outputId": "e0b5483f-4963-499e-f738-b49887f9b43e"
   },
   "outputs": [
    {
     "name": "stdout",
     "output_type": "stream",
     "text": [
      "(368,)\n",
      "(368, 25088)\n"
     ]
    }
   ],
   "source": [
    "Y_HandPD = np.append(Y_PD_all, Y_H_all, axis=0)\n",
    "print(Y_HandPD.shape)\n",
    "X_HandPD = np.append(X_PD_all, X_H_all, axis=0)\n",
    "print(X_HandPD.shape)"
   ]
  },
  {
   "cell_type": "code",
   "execution_count": 25,
   "metadata": {
    "colab": {
     "base_uri": "https://localhost:8080/"
    },
    "executionInfo": {
     "elapsed": 797,
     "status": "ok",
     "timestamp": 1723311244722,
     "user": {
      "displayName": "Liaqat Ali",
      "userId": "05679016512873117773"
     },
     "user_tz": -300
    },
    "id": "vSC2tIY6y1kK",
    "outputId": "5c21c49d-8a10-4f2b-d9f6-7c032f4ac5ba"
   },
   "outputs": [
    {
     "name": "stdout",
     "output_type": "stream",
     "text": [
      "(264, 100)\n",
      "(368, 100)\n"
     ]
    }
   ],
   "source": [
    ">>> from sklearn.svm import LinearSVC\n",
    ">>> from sklearn.feature_selection import SelectFromModel\n",
    "\n",
    ">>> model_FS = SelectKBest(chi2, k=100)\n",
    ">>> model_FS.fit(X_HandPD_New, Y_HandPD_New)\n",
    ">>> X_FS_HandPD_New = model_FS.transform(X_HandPD_New)\n",
    ">>> X_FS_HandPD = model_FS.transform(X_HandPD)\n",
    ">>> print(X_FS_HandPD_New.shape)\n",
    ">>> print(X_FS_HandPD.shape)"
   ]
  },
  {
   "cell_type": "markdown",
   "metadata": {
    "id": "3dhFbYW4iYyf"
   },
   "source": [
    "# **Developing Model under LOSO Cross Validation on the New HandPD Data**"
   ]
  },
  {
   "cell_type": "markdown",
   "metadata": {
    "id": "n450eFc8imq_"
   },
   "source": [
    "**1. Model Development of NET Model**"
   ]
  },
  {
   "cell_type": "code",
   "execution_count": 26,
   "metadata": {},
   "outputs": [
    {
     "name": "stdout",
     "output_type": "stream",
     "text": [
      "Best Acc ================ 88.25757575757575\n",
      "Subjects Acc = 92.42424242424242\n",
      "Subject Acc using TP & TN = 0.9242424242424242\n",
      "Sen = 90.32258064516128\n",
      "Spec = 94.28571428571428\n",
      "MCC = 0.8480392130747506\n",
      "MOR = 93.85245901639344\n",
      "Bal Acc = 92.30414746543778\n"
     ]
    }
   ],
   "source": [
    "TP=0\n",
    "TN=0\n",
    "FP=0\n",
    "FN=0\n",
    "Best_Acc=0\n",
    "MOR=0\n",
    "cor_class=0\n",
    "MOR=0 #Measure of Reliability\n",
    "j=1\n",
    "lb=0\n",
    "ub=4\n",
    "Net_Acc=0\n",
    "#Sample_Acc=0\n",
    "while j<=66:\n",
    "\n",
    "    Y_test = Y_HandPD_New[range(lb,ub)]\n",
    "    Y_train = numpy.delete(Y_HandPD_New, range(lb,ub), 0)\n",
    "\n",
    "    X_test = X_FS_HandPD_New[range(lb,ub)]\n",
    "    X_train = numpy.delete(X_FS_HandPD_New, range(lb,ub), 0)\n",
    "\n",
    "\n",
    "\n",
    "\n",
    "    model=MLPClassifier(solver='lbfgs', alpha=1e-5,hidden_layer_sizes=(28, 22), random_state=1)\n",
    "\n",
    "\n",
    "    model.fit(X_train, Y_train)\n",
    "    Y_pred = model.predict(X_test)\n",
    "    scores = accuracy_score(Y_test, Y_pred)\n",
    "\n",
    "    Net_Acc = Net_Acc+scores\n",
    "\n",
    "    if Y_test.sum()==0:\n",
    "        if scores>=0.5:\n",
    "            TN = TN+1\n",
    "            cor_class=cor_class+1\n",
    "            MOR=MOR+scores\n",
    "    if Y_test.sum()==4:\n",
    "        if scores>0.5:\n",
    "            TP = TP+1\n",
    "            cor_class=cor_class+1\n",
    "            MOR=MOR+scores\n",
    "\n",
    "    lb = lb+4\n",
    "    ub = ub+4\n",
    "    j=j+1\n",
    "LOSO_Acc = (Net_Acc*100)/66\n",
    "Subj_Acc = (cor_class*100)/66\n",
    "Final_MOR = (MOR*100)/cor_class\n",
    "FN = 31-TP\n",
    "FP = 35-TN\n",
    "Sen = (TP/31)*100\n",
    "Spec = (TN/35)*100\n",
    "if (LOSO_Acc>=Best_Acc ):\n",
    "    Best_Acc = LOSO_Acc\n",
    "    print(\"Best Acc ================\", Best_Acc)\n",
    "    print(\"Subjects Acc =\", Subj_Acc)\n",
    "    print(\"Subject Acc using TP & TN =\", (TP+TN)/66)\n",
    "    print(\"Sen =\", Sen)\n",
    "    print(\"Spec =\", Spec)\n",
    "    print(\"MCC =\", (TP*TN-FP*FN)/(math.sqrt((TP+FP)*(TP+FN)*(TN+FP)*(TN+FN))))\n",
    "    print(\"MOR =\", Final_MOR)\n",
    "    print(\"Bal Acc =\", (Sen+Spec)/2)\n"
   ]
  },
  {
   "cell_type": "markdown",
   "metadata": {},
   "source": [
    "# Avg Training and Validation Accuracies"
   ]
  },
  {
   "cell_type": "code",
   "execution_count": 27,
   "metadata": {},
   "outputs": [
    {
     "name": "stdout",
     "output_type": "stream",
     "text": [
      "Best Acc ================ 88.25757575757575\n",
      "Subjects Acc = 92.42424242424242\n",
      "Subject Acc using TP & TN = 0.9242424242424242\n",
      "Sen = 90.32258064516128\n",
      "Spec = 94.28571428571428\n",
      "MCC = 0.8480392130747506\n",
      "MOR = 93.85245901639344\n",
      "Bal Acc = 92.30414746543778\n",
      "Average Training Accuracy ================ 100.0\n",
      "Average Validation Accuracy ================ 88.25757575757575\n"
     ]
    }
   ],
   "source": [
    "import numpy as np\n",
    "import math\n",
    "from sklearn.metrics import accuracy_score\n",
    "from sklearn.neural_network import MLPClassifier\n",
    "\n",
    "# Initialize metrics variables\n",
    "TP = 0\n",
    "TN = 0\n",
    "FP = 0\n",
    "FN = 0\n",
    "Best_Acc = 0\n",
    "MOR = 0\n",
    "cor_class = 0\n",
    "Net_Acc = 0\n",
    "train_acc_total = 0  # Variable to accumulate training accuracy\n",
    "val_acc_total = 0  # Variable to accumulate validation accuracy\n",
    "j = 1\n",
    "lb = 0\n",
    "ub = 4\n",
    "\n",
    "# Start loop for Leave-One-Subject-Out (LOSO) cross-validation\n",
    "while j <= 66:\n",
    "\n",
    "    Y_test = Y_HandPD_New[range(lb, ub)]\n",
    "    Y_train = np.delete(Y_HandPD_New, range(lb, ub), 0)\n",
    "\n",
    "    X_test = X_FS_HandPD_New[range(lb, ub)]\n",
    "    X_train = np.delete(X_FS_HandPD_New, range(lb, ub), 0)\n",
    "\n",
    "    # Initialize and train the model\n",
    "    model = MLPClassifier(solver='lbfgs', alpha=1e-5, hidden_layer_sizes=(28, 22), random_state=1)\n",
    "    model.fit(X_train, Y_train)\n",
    "    \n",
    "    # Calculate and accumulate training accuracy\n",
    "    train_acc = model.score(X_train, Y_train)\n",
    "    train_acc_total += train_acc\n",
    "\n",
    "    # Make predictions and calculate validation accuracy\n",
    "    Y_pred = model.predict(X_test)\n",
    "    scores = accuracy_score(Y_test, Y_pred)\n",
    "    val_acc_total += scores\n",
    "\n",
    "    # Update net accuracy\n",
    "    Net_Acc += scores\n",
    "\n",
    "    # Update confusion matrix and other metrics based on the test set (Y_test and Y_pred)\n",
    "    if Y_test.sum() == 0:  # Negative class\n",
    "        if scores >= 0.5:\n",
    "            TN += 1\n",
    "            cor_class += 1\n",
    "            MOR += scores\n",
    "    if Y_test.sum() == 4:  # Positive class\n",
    "        if scores > 0.5:\n",
    "            TP += 1\n",
    "            cor_class += 1\n",
    "            MOR += scores\n",
    "\n",
    "    # Update the bounds for the next fold\n",
    "    lb += 4\n",
    "    ub += 4\n",
    "    j += 1\n",
    "\n",
    "# Final calculations after loop ends\n",
    "LOSO_Acc = (Net_Acc * 100) / 66\n",
    "Subj_Acc = (cor_class * 100) / 66\n",
    "Final_MOR = (MOR * 100) / cor_class if cor_class > 0 else 0  # To avoid division by zero\n",
    "FN = 31 - TP\n",
    "FP = 35 - TN\n",
    "Sen = (TP / 31) * 100  # Sensitivity (Recall)\n",
    "Spec = (TN / 35) * 100  # Specificity\n",
    "Balanced_Acc = (Sen + Spec) / 2  # Balanced Accuracy\n",
    "\n",
    "# Calculate MCC (Matthews Correlation Coefficient)\n",
    "MCC = (TP * TN - FP * FN) / math.sqrt((TP + FP) * (TP + FN) * (TN + FP) * (TN + FN))\n",
    "\n",
    "# Calculate average training and validation accuracy\n",
    "avg_train_acc = (train_acc_total * 100) / 66\n",
    "avg_val_acc = (val_acc_total * 100) / 66\n",
    "\n",
    "# If the current LOSO Accuracy is greater than the best accuracy found so far, update and print\n",
    "if LOSO_Acc >= Best_Acc:\n",
    "    Best_Acc = LOSO_Acc\n",
    "    print(\"Best Acc ================\", Best_Acc)\n",
    "    print(\"Subjects Acc =\", Subj_Acc)\n",
    "    print(\"Subject Acc using TP & TN =\", (TP + TN) / 66)\n",
    "    print(\"Sen =\", Sen)\n",
    "    print(\"Spec =\", Spec)\n",
    "    print(\"MCC =\", MCC)\n",
    "    print(\"MOR =\", Final_MOR)\n",
    "    print(\"Bal Acc =\", Balanced_Acc)\n",
    "\n",
    "# Print the average training and validation accuracies\n",
    "print(\"Average Training Accuracy ================\", avg_train_acc)\n",
    "print(\"Average Validation Accuracy ================\", avg_val_acc)\n"
   ]
  },
  {
   "cell_type": "markdown",
   "metadata": {
    "id": "rG2RlUXFjbF3"
   },
   "source": [
    "# **External Validation of the Developed Models on New Data**"
   ]
  },
  {
   "cell_type": "code",
   "execution_count": 28,
   "metadata": {
    "id": "3_w8cJXc5Mf6"
   },
   "outputs": [],
   "source": [
    "# Testing the Developed or Construced Model as Indepdendent Testing or Blind Test or Secondary level testing\n",
    "# for measureing the Generlaization Capabilities of the developed model.\n",
    "# From, paper point of view, use the same L1SVM-ANN for the Hand Crafted Features and compare their performance\n",
    "# and generlization capabilites"
   ]
  },
  {
   "cell_type": "code",
   "execution_count": 29,
   "metadata": {},
   "outputs": [
    {
     "name": "stdout",
     "output_type": "stream",
     "text": [
      "(368,)\n",
      "(368, 1)\n"
     ]
    }
   ],
   "source": [
    "################# The Below Three Statements are much important bcoz if we do not use, Y or Y_test size is (4,) i.e.\n",
    "# it is a column vector having no dimenstion. So we cannot use it with numpy.vstack(), as the above Y_test_total emptyp\n",
    "#array might have some predefined dimension.\n",
    "print(Y_HandPD.shape)\n",
    "YHandPD=Y_HandPD[:, numpy.newaxis] # It should be run once. We need to restart kernel. Boz if we rerun it, the shape will bcom (4, 1, 1)\n",
    "print(YHandPD.shape)\n",
    "##################################"
   ]
  },
  {
   "cell_type": "code",
   "execution_count": 30,
   "metadata": {
    "id": "prqoJS8WBbSx"
   },
   "outputs": [
    {
     "name": "stdout",
     "output_type": "stream",
     "text": [
      "(264,)\n",
      "(264, 1)\n"
     ]
    }
   ],
   "source": [
    "################# The Below Three Statements are much important bcoz if we do not use, Y or Y_test size is (4,) i.e.\n",
    "# it is a column vector having no dimenstion. So we cannot use it with numpy.vstack(), as the above Y_test_total emptyp\n",
    "#array might have some predefined dimension.\n",
    "print(Y_HandPD_New.shape)\n",
    "Y_NewHandPD=Y_HandPD_New[:, numpy.newaxis] # It should be run once. We need to restart kernel. Boz if we rerun it, the shape will bcom (4, 1, 1)\n",
    "print(Y_NewHandPD.shape)\n",
    "##################################"
   ]
  },
  {
   "cell_type": "markdown",
   "metadata": {
    "id": "8sC7-TEyjqIk"
   },
   "source": [
    "**1. External Validation of the Optimally Developed NET Model**"
   ]
  },
  {
   "cell_type": "code",
   "execution_count": 31,
   "metadata": {
    "id": "T-wKj1-Rla24"
   },
   "outputs": [
    {
     "name": "stdout",
     "output_type": "stream",
     "text": [
      "Best Acc ================ 88.25757575757575\n",
      "Subjects Acc = 89.39393939393939\n"
     ]
    }
   ],
   "source": [
    "# Regenerating Best Results using developed model over New_HandPD Dataset using LOSO CV\n",
    "# The Below are to create empty arrays for ROC Chart\n",
    "y_probas_total = numpy.empty((0,2), float)\n",
    "Y_test_total = numpy.empty((0,1), int)\n",
    "\n",
    "Best_Acc=0\n",
    "cor_class=0\n",
    "j=1\n",
    "lb=0\n",
    "ub=4\n",
    "Net_Acc=0\n",
    "#Sample_Acc=0\n",
    "while j<=66:\n",
    "\n",
    "    Y_test = Y_NewHandPD[range(lb,ub)]\n",
    "    Y_train = numpy.delete(Y_NewHandPD, range(lb,ub), 0)\n",
    "\n",
    "    X_test = X_FS_HandPD_New[range(lb,ub)]\n",
    "    X_train = numpy.delete(X_FS_HandPD_New, range(lb,ub), 0)\n",
    "\n",
    "    model=MLPClassifier(solver='lbfgs', alpha=1e-5,hidden_layer_sizes=(28, 22), random_state=1)\n",
    "\n",
    "    model.fit(X_train, Y_train)\n",
    "    Y_pred = model.predict(X_test)\n",
    "    scores = accuracy_score(Y_test, Y_pred)\n",
    "\n",
    "    Net_Acc = Net_Acc+scores\n",
    "\n",
    "    ####################The Below Three Statements are about ROC Chart###################\n",
    "    y_probas = model.predict_proba(X_test)\n",
    "    y_probas_total =  numpy.vstack((y_probas_total, y_probas))\n",
    "    Y_test_total =  numpy.vstack((Y_test_total, Y_test))\n",
    "    ####################################################################################\n",
    "\n",
    "    if scores>0.5:\n",
    "      cor_class=cor_class+1\n",
    "\n",
    "    lb = lb+4\n",
    "    ub = ub+4\n",
    "    j=j+1\n",
    "LOSO_Acc = (Net_Acc*100)/66\n",
    "Subj_Acc = (cor_class*100)/66\n",
    "if (LOSO_Acc>=80 ):\n",
    "    Best_Acc = LOSO_Acc\n",
    "    print(\"Best Acc ================\", Best_Acc)\n",
    "    print(\"Subjects Acc =\", Subj_Acc)"
   ]
  },
  {
   "cell_type": "markdown",
   "metadata": {},
   "source": [
    "# Learning Curves"
   ]
  },
  {
   "cell_type": "code",
   "execution_count": 32,
   "metadata": {
    "id": "ubfqzvb-BLE9"
   },
   "outputs": [
    {
     "name": "stderr",
     "output_type": "stream",
     "text": [
      "The PostScript backend does not support transparency; partially transparent artists will be rendered opaque.\n"
     ]
    },
    {
     "data": {
      "image/png": "[encoded data removed]",
      "text/plain": [
       "<Figure size 1000x600 with 1 Axes>"
      ]
     },
     "metadata": {},
     "output_type": "display_data"
    }
   ],
   "source": [
    "# Initialize lists to store loss values\n",
    "train_losses = []\n",
    "val_losses = []\n",
    "\n",
    "# Initialize the MLPClassifier model with 'lbfgs' solver and 'alpha=1e-5' for regularization\n",
    "model = MLPClassifier(solver='lbfgs', alpha=1e-5, hidden_layer_sizes=(28, 22), random_state=1, max_iter=1, warm_start=True)\n",
    "\n",
    "# Train the model for multiple epochs\n",
    "for epoch in range(1, 201):  # Train for 100 epochs\n",
    "    model.fit(X_FS_HandPD_New, Y_HandPD_New)  # Train the model for one epoch\n",
    "\n",
    "    # Store the training loss (from the model's loss_curve_ attribute)\n",
    "    train_losses.append(model.loss_)\n",
    "\n",
    "    # Predict on the test set and calculate test loss (log loss)\n",
    "    Y_pred_proba = model.predict_proba(X_FS_HandPD)  # Get probabilities for the test set\n",
    "    val_loss = log_loss(YHandPD, Y_pred_proba)  # Calculate log loss on test set\n",
    "    val_losses.append(val_loss)\n",
    "\n",
    "# Plot the learning curves for training and validation loss\n",
    "plt.figure(figsize=(10, 6))\n",
    "\n",
    "# Plot training loss curve\n",
    "plt.plot(range(1, 201), train_losses, label='Training Loss on NewHandPD Dataset', color='blue', marker='o')\n",
    "\n",
    "# Plot validation loss curve\n",
    "plt.plot(range(1, 201), val_losses, label='Testing Loss on HandPD Dataset', color='red', marker='x')\n",
    "\n",
    "# Add labels and title\n",
    "plt.xlabel('Epochs')\n",
    "plt.ylabel('Loss')\n",
    "#plt.title('Learning Curves Meanders: Training Loss on NewHandPD Dataset vs Testing Loss on HandPD Dataset')\n",
    "plt.legend()\n",
    "\n",
    "# Save the plot in JPG format\n",
    "plt.savefig('Loss_learning_curve_meanders.jpg', format='jpg', dpi=300)  # Save as JPG with 300 dpi\n",
    "\n",
    "# Save the plot in EPS format\n",
    "plt.savefig('Loss_learning_curve_meanders.eps', format='eps')  # Save as EPS\n",
    "\n",
    "# Show the plot\n",
    "plt.show()"
   ]
  },
  {
   "cell_type": "code",
   "execution_count": 33,
   "metadata": {
    "id": "ranC7sK7IEil"
   },
   "outputs": [
    {
     "name": "stderr",
     "output_type": "stream",
     "text": [
      "The PostScript backend does not support transparency; partially transparent artists will be rendered opaque.\n"
     ]
    },
    {
     "data": {
      "image/png": "[encoded data removed]",
      "text/plain": [
       "<Figure size 1000x600 with 1 Axes>"
      ]
     },
     "metadata": {},
     "output_type": "display_data"
    }
   ],
   "source": [
    "# Initialize lists to store loss values\n",
    "# Initialize lists to store accuracy values\n",
    "train_accuracies = []\n",
    "val_accuracies = []\n",
    "\n",
    "# Initialize the MLPClassifier model with 'lbfgs' solver and 'alpha=1e-5' for regularization\n",
    "model = MLPClassifier(solver='lbfgs', alpha=1e-5, hidden_layer_sizes=(28, 22), random_state=1, max_iter=1, warm_start=True)\n",
    "\n",
    "# Train the model for multiple epochs\n",
    "for epoch in range(1, 201):  # Train for 100 epochs\n",
    "    model.fit(X_FS_HandPD_New, Y_HandPD_New)  # Train the model for one epoch\n",
    "\n",
    "    # Predict on training and testing data\n",
    "    Y_train_pred = model.predict(X_FS_HandPD_New)\n",
    "    Y_test_pred = model.predict(X_FS_HandPD)\n",
    "\n",
    "    # Calculate and store accuracy scores\n",
    "    train_accuracy = accuracy_score(Y_HandPD_New, Y_train_pred)\n",
    "    val_accuracy = accuracy_score(Y_HandPD, Y_test_pred)\n",
    "    train_accuracies.append(train_accuracy)\n",
    "    val_accuracies.append(val_accuracy)\n",
    "\n",
    "# Plot the accuracy curves for training and validation\n",
    "plt.figure(figsize=(10, 6))\n",
    "\n",
    "# Plot training accuracy curve\n",
    "plt.plot(range(1, 201), train_accuracies, label='Training Accuracy on NewHandPD Dataset', color='blue', marker='o')\n",
    "\n",
    "# Plot validation accuracy curve\n",
    "plt.plot(range(1, 201), val_accuracies, label='Testing Accuracy on HandPD Dataset', color='red', marker='x')\n",
    "\n",
    "# Add labels and title\n",
    "plt.xlabel('Epochs')\n",
    "plt.ylabel('Accuracy')\n",
    "#plt.title('Learning Curves Spirals: Training Accuracy on NewHandPD Dataset vs Testing Accuracy on HandPD Dataset')\n",
    "\n",
    "# Set x-axis and y-axis limits\n",
    "#plt.xlim(0, 100)  # X-axis range: 0 to 100 epochs\n",
    "plt.ylim(0, 1)    # Y-axis range: 0 to 1 (accuracy)\n",
    "\n",
    "plt.legend()\n",
    "\n",
    "# Save the plot as JPG and EPS\n",
    "plt.savefig('accuracy_curve_meanders.jpg', format='jpg', dpi=300)\n",
    "plt.savefig('accuracy_curve_meanders.eps', format='eps')\n",
    "\n",
    "# Show the plot\n",
    "plt.show()"
   ]
  },
  {
   "cell_type": "code",
   "execution_count": null,
   "metadata": {
    "id": "Wpe18fxnL-1v"
   },
   "outputs": [],
   "source": []
  }
 ],
 "metadata": {
  "colab": {
   "authorship_tag": "ABX9TyMiEbilEWWA+rkimYeb/cNB",
   "provenance": []
  },
  "kernelspec": {
   "display_name": "Python 3 (ipykernel)",
   "language": "python",
   "name": "python3"
  },
  "language_info": {
   "codemirror_mode": {
    "name": "ipython",
    "version": 3
   },
   "file_extension": ".py",
   "mimetype": "text/x-python",
   "name": "python",
   "nbconvert_exporter": "python",
   "pygments_lexer": "ipython3",
   "version": "3.12.3"
  }
 },
 "nbformat": 4,
 "nbformat_minor": 4
}
